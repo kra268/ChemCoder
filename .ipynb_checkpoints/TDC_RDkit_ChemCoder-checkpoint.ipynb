{
 "cells": [
  {
   "cell_type": "markdown",
   "metadata": {
    "colab_type": "text",
    "id": "view-in-github"
   },
   "source": [
    "<a href=\"https://colab.research.google.com/github/kra268/ChemCoder/blob/main/TDC_RDkit_ChemCoder.ipynb\" target=\"_parent\"><img src=\"https://colab.research.google.com/assets/colab-badge.svg\" alt=\"Open In Colab\"/></a>"
   ]
  },
  {
   "cell_type": "code",
   "execution_count": 1,
   "metadata": {
    "colab": {
     "base_uri": "https://localhost:8080/"
    },
    "id": "yP2Hnz0itmHE",
    "outputId": "235b78f8-5baf-481c-9fa7-11f74b474c71"
   },
   "outputs": [
    {
     "name": "stdout",
     "output_type": "stream",
     "text": [
      "Looking in indexes: https://pypi.org/simple, https://us-python.pkg.dev/colab-wheels/public/simple/\n",
      "Requirement already satisfied: PyTDC in /usr/local/lib/python3.10/dist-packages (0.4.0)\n",
      "Requirement already satisfied: rdkit-pypi in /usr/local/lib/python3.10/dist-packages (from PyTDC) (2022.9.5)\n",
      "Requirement already satisfied: fuzzywuzzy in /usr/local/lib/python3.10/dist-packages (from PyTDC) (0.18.0)\n",
      "Requirement already satisfied: numpy in /usr/local/lib/python3.10/dist-packages (from PyTDC) (1.22.4)\n",
      "Requirement already satisfied: pandas in /usr/local/lib/python3.10/dist-packages (from PyTDC) (1.5.3)\n",
      "Requirement already satisfied: tqdm in /usr/local/lib/python3.10/dist-packages (from PyTDC) (4.65.0)\n",
      "Requirement already satisfied: scikit-learn in /usr/local/lib/python3.10/dist-packages (from PyTDC) (1.2.2)\n",
      "Requirement already satisfied: seaborn in /usr/local/lib/python3.10/dist-packages (from PyTDC) (0.12.2)\n",
      "Requirement already satisfied: requests in /usr/local/lib/python3.10/dist-packages (from PyTDC) (2.27.1)\n",
      "Requirement already satisfied: huggingface-hub in /usr/local/lib/python3.10/dist-packages (from PyTDC) (0.14.1)\n",
      "Requirement already satisfied: dataclasses in /usr/local/lib/python3.10/dist-packages (from PyTDC) (0.6)\n",
      "Requirement already satisfied: filelock in /usr/local/lib/python3.10/dist-packages (from huggingface-hub->PyTDC) (3.12.0)\n",
      "Requirement already satisfied: fsspec in /usr/local/lib/python3.10/dist-packages (from huggingface-hub->PyTDC) (2023.4.0)\n",
      "Requirement already satisfied: pyyaml>=5.1 in /usr/local/lib/python3.10/dist-packages (from huggingface-hub->PyTDC) (6.0)\n",
      "Requirement already satisfied: typing-extensions>=3.7.4.3 in /usr/local/lib/python3.10/dist-packages (from huggingface-hub->PyTDC) (4.5.0)\n",
      "Requirement already satisfied: packaging>=20.9 in /usr/local/lib/python3.10/dist-packages (from huggingface-hub->PyTDC) (23.1)\n",
      "Requirement already satisfied: python-dateutil>=2.8.1 in /usr/local/lib/python3.10/dist-packages (from pandas->PyTDC) (2.8.2)\n",
      "Requirement already satisfied: pytz>=2020.1 in /usr/local/lib/python3.10/dist-packages (from pandas->PyTDC) (2022.7.1)\n",
      "Requirement already satisfied: Pillow in /usr/local/lib/python3.10/dist-packages (from rdkit-pypi->PyTDC) (8.4.0)\n",
      "Requirement already satisfied: urllib3<1.27,>=1.21.1 in /usr/local/lib/python3.10/dist-packages (from requests->PyTDC) (1.26.15)\n",
      "Requirement already satisfied: certifi>=2017.4.17 in /usr/local/lib/python3.10/dist-packages (from requests->PyTDC) (2022.12.7)\n",
      "Requirement already satisfied: charset-normalizer~=2.0.0 in /usr/local/lib/python3.10/dist-packages (from requests->PyTDC) (2.0.12)\n",
      "Requirement already satisfied: idna<4,>=2.5 in /usr/local/lib/python3.10/dist-packages (from requests->PyTDC) (3.4)\n",
      "Requirement already satisfied: scipy>=1.3.2 in /usr/local/lib/python3.10/dist-packages (from scikit-learn->PyTDC) (1.10.1)\n",
      "Requirement already satisfied: joblib>=1.1.1 in /usr/local/lib/python3.10/dist-packages (from scikit-learn->PyTDC) (1.2.0)\n",
      "Requirement already satisfied: threadpoolctl>=2.0.0 in /usr/local/lib/python3.10/dist-packages (from scikit-learn->PyTDC) (3.1.0)\n",
      "Requirement already satisfied: matplotlib!=3.6.1,>=3.1 in /usr/local/lib/python3.10/dist-packages (from seaborn->PyTDC) (3.7.1)\n",
      "Requirement already satisfied: contourpy>=1.0.1 in /usr/local/lib/python3.10/dist-packages (from matplotlib!=3.6.1,>=3.1->seaborn->PyTDC) (1.0.7)\n",
      "Requirement already satisfied: cycler>=0.10 in /usr/local/lib/python3.10/dist-packages (from matplotlib!=3.6.1,>=3.1->seaborn->PyTDC) (0.11.0)\n",
      "Requirement already satisfied: fonttools>=4.22.0 in /usr/local/lib/python3.10/dist-packages (from matplotlib!=3.6.1,>=3.1->seaborn->PyTDC) (4.39.3)\n",
      "Requirement already satisfied: kiwisolver>=1.0.1 in /usr/local/lib/python3.10/dist-packages (from matplotlib!=3.6.1,>=3.1->seaborn->PyTDC) (1.4.4)\n",
      "Requirement already satisfied: pyparsing>=2.3.1 in /usr/local/lib/python3.10/dist-packages (from matplotlib!=3.6.1,>=3.1->seaborn->PyTDC) (3.0.9)\n",
      "Requirement already satisfied: six>=1.5 in /usr/local/lib/python3.10/dist-packages (from python-dateutil>=2.8.1->pandas->PyTDC) (1.16.0)\n"
     ]
    }
   ],
   "source": [
    "!pip install PyTDC"
   ]
  },
  {
   "cell_type": "code",
   "execution_count": 2,
   "metadata": {
    "colab": {
     "base_uri": "https://localhost:8080/",
     "height": 166
    },
    "id": "YPVauX9TxTBW",
    "outputId": "2c2eeaf4-d7f5-4327-e3cd-2c5dc150ceae"
   },
   "outputs": [
    {
     "name": "stderr",
     "output_type": "stream",
     "text": [
      "Found local copy...\n",
      "Loading...\n",
      "Done!\n"
     ]
    },
    {
     "data": {
      "text/html": [
       "\n",
       "  <div id=\"df-ce5cf75f-a90f-43cd-af33-0bb6ef581918\">\n",
       "    <div class=\"colab-df-container\">\n",
       "      <div>\n",
       "<style scoped>\n",
       "    .dataframe tbody tr th:only-of-type {\n",
       "        vertical-align: middle;\n",
       "    }\n",
       "\n",
       "    .dataframe tbody tr th {\n",
       "        vertical-align: top;\n",
       "    }\n",
       "\n",
       "    .dataframe thead th {\n",
       "        text-align: right;\n",
       "    }\n",
       "</style>\n",
       "<table border=\"1\" class=\"dataframe\">\n",
       "  <thead>\n",
       "    <tr style=\"text-align: right;\">\n",
       "      <th></th>\n",
       "      <th>Drug_ID</th>\n",
       "      <th>Drug</th>\n",
       "      <th>Y</th>\n",
       "    </tr>\n",
       "  </thead>\n",
       "  <tbody>\n",
       "    <tr>\n",
       "      <th>0</th>\n",
       "      <td>(-)-epicatechin</td>\n",
       "      <td>Oc1cc(O)c2c(c1)OC(c1ccc(O)c(O)c1)C(O)C2</td>\n",
       "      <td>-6.22</td>\n",
       "    </tr>\n",
       "    <tr>\n",
       "      <th>1</th>\n",
       "      <td>(2E,4Z,8Z)-N-isobutyldodeca-2,4,10-triene-8 -y...</td>\n",
       "      <td>C/C=C\\C#CCC/C=C\\C=C\\C(=O)NCC(C)C</td>\n",
       "      <td>-3.86</td>\n",
       "    </tr>\n",
       "  </tbody>\n",
       "</table>\n",
       "</div>\n",
       "      <button class=\"colab-df-convert\" onclick=\"convertToInteractive('df-ce5cf75f-a90f-43cd-af33-0bb6ef581918')\"\n",
       "              title=\"Convert this dataframe to an interactive table.\"\n",
       "              style=\"display:none;\">\n",
       "        \n",
       "  <svg xmlns=\"http://www.w3.org/2000/svg\" height=\"24px\"viewBox=\"0 0 24 24\"\n",
       "       width=\"24px\">\n",
       "    <path d=\"M0 0h24v24H0V0z\" fill=\"none\"/>\n",
       "    <path d=\"M18.56 5.44l.94 2.06.94-2.06 2.06-.94-2.06-.94-.94-2.06-.94 2.06-2.06.94zm-11 1L8.5 8.5l.94-2.06 2.06-.94-2.06-.94L8.5 2.5l-.94 2.06-2.06.94zm10 10l.94 2.06.94-2.06 2.06-.94-2.06-.94-.94-2.06-.94 2.06-2.06.94z\"/><path d=\"M17.41 7.96l-1.37-1.37c-.4-.4-.92-.59-1.43-.59-.52 0-1.04.2-1.43.59L10.3 9.45l-7.72 7.72c-.78.78-.78 2.05 0 2.83L4 21.41c.39.39.9.59 1.41.59.51 0 1.02-.2 1.41-.59l7.78-7.78 2.81-2.81c.8-.78.8-2.07 0-2.86zM5.41 20L4 18.59l7.72-7.72 1.47 1.35L5.41 20z\"/>\n",
       "  </svg>\n",
       "      </button>\n",
       "      \n",
       "  <style>\n",
       "    .colab-df-container {\n",
       "      display:flex;\n",
       "      flex-wrap:wrap;\n",
       "      gap: 12px;\n",
       "    }\n",
       "\n",
       "    .colab-df-convert {\n",
       "      background-color: #E8F0FE;\n",
       "      border: none;\n",
       "      border-radius: 50%;\n",
       "      cursor: pointer;\n",
       "      display: none;\n",
       "      fill: #1967D2;\n",
       "      height: 32px;\n",
       "      padding: 0 0 0 0;\n",
       "      width: 32px;\n",
       "    }\n",
       "\n",
       "    .colab-df-convert:hover {\n",
       "      background-color: #E2EBFA;\n",
       "      box-shadow: 0px 1px 2px rgba(60, 64, 67, 0.3), 0px 1px 3px 1px rgba(60, 64, 67, 0.15);\n",
       "      fill: #174EA6;\n",
       "    }\n",
       "\n",
       "    [theme=dark] .colab-df-convert {\n",
       "      background-color: #3B4455;\n",
       "      fill: #D2E3FC;\n",
       "    }\n",
       "\n",
       "    [theme=dark] .colab-df-convert:hover {\n",
       "      background-color: #434B5C;\n",
       "      box-shadow: 0px 1px 3px 1px rgba(0, 0, 0, 0.15);\n",
       "      filter: drop-shadow(0px 1px 2px rgba(0, 0, 0, 0.3));\n",
       "      fill: #FFFFFF;\n",
       "    }\n",
       "  </style>\n",
       "\n",
       "      <script>\n",
       "        const buttonEl =\n",
       "          document.querySelector('#df-ce5cf75f-a90f-43cd-af33-0bb6ef581918 button.colab-df-convert');\n",
       "        buttonEl.style.display =\n",
       "          google.colab.kernel.accessAllowed ? 'block' : 'none';\n",
       "\n",
       "        async function convertToInteractive(key) {\n",
       "          const element = document.querySelector('#df-ce5cf75f-a90f-43cd-af33-0bb6ef581918');\n",
       "          const dataTable =\n",
       "            await google.colab.kernel.invokeFunction('convertToInteractive',\n",
       "                                                     [key], {});\n",
       "          if (!dataTable) return;\n",
       "\n",
       "          const docLinkHtml = 'Like what you see? Visit the ' +\n",
       "            '<a target=\"_blank\" href=https://colab.research.google.com/notebooks/data_table.ipynb>data table notebook</a>'\n",
       "            + ' to learn more about interactive tables.';\n",
       "          element.innerHTML = '';\n",
       "          dataTable['output_type'] = 'display_data';\n",
       "          await google.colab.output.renderOutput(dataTable, element);\n",
       "          const docLink = document.createElement('div');\n",
       "          docLink.innerHTML = docLinkHtml;\n",
       "          element.appendChild(docLink);\n",
       "        }\n",
       "      </script>\n",
       "    </div>\n",
       "  </div>\n",
       "  "
      ],
      "text/plain": [
       "                                             Drug_ID  \\\n",
       "0                                    (-)-epicatechin   \n",
       "1  (2E,4Z,8Z)-N-isobutyldodeca-2,4,10-triene-8 -y...   \n",
       "\n",
       "                                      Drug     Y  \n",
       "0  Oc1cc(O)c2c(c1)OC(c1ccc(O)c(O)c1)C(O)C2 -6.22  \n",
       "1         C/C=C\\C#CCC/C=C\\C=C\\C(=O)NCC(C)C -3.86  "
      ]
     },
     "execution_count": 2,
     "metadata": {},
     "output_type": "execute_result"
    }
   ],
   "source": [
    "from tdc.single_pred import ADME\n",
    "data = ADME(name = 'Caco2_Wang')\n",
    "data.get_data().head(2)"
   ]
  },
  {
   "cell_type": "code",
   "execution_count": 3,
   "metadata": {
    "colab": {
     "base_uri": "https://localhost:8080/",
     "height": 130
    },
    "id": "nyWiCBrHyFuu",
    "outputId": "4f086183-1da7-4997-c00a-59e175c6fc32"
   },
   "outputs": [
    {
     "name": "stderr",
     "output_type": "stream",
     "text": [
      "100%|██████████| 910/910 [00:01<00:00, 783.27it/s]\n"
     ]
    },
    {
     "data": {
      "text/html": [
       "\n",
       "  <div id=\"df-b44185cc-9038-4c52-a360-4e976a19deea\">\n",
       "    <div class=\"colab-df-container\">\n",
       "      <div>\n",
       "<style scoped>\n",
       "    .dataframe tbody tr th:only-of-type {\n",
       "        vertical-align: middle;\n",
       "    }\n",
       "\n",
       "    .dataframe tbody tr th {\n",
       "        vertical-align: top;\n",
       "    }\n",
       "\n",
       "    .dataframe thead th {\n",
       "        text-align: right;\n",
       "    }\n",
       "</style>\n",
       "<table border=\"1\" class=\"dataframe\">\n",
       "  <thead>\n",
       "    <tr style=\"text-align: right;\">\n",
       "      <th></th>\n",
       "      <th>Drug_ID</th>\n",
       "      <th>Drug</th>\n",
       "      <th>Y</th>\n",
       "    </tr>\n",
       "  </thead>\n",
       "  <tbody>\n",
       "    <tr>\n",
       "      <th>0</th>\n",
       "      <td>I-II</td>\n",
       "      <td>O=C(O)C[C@@H](c1cnc2ccccc2c1)N1CC[C@@H](CCCc2c...</td>\n",
       "      <td>-5.69</td>\n",
       "    </tr>\n",
       "    <tr>\n",
       "      <th>1</th>\n",
       "      <td>aceclofenac</td>\n",
       "      <td>O=C(O)COC(=O)Cc1ccccc1Nc1c(Cl)cccc1Cl</td>\n",
       "      <td>-4.41</td>\n",
       "    </tr>\n",
       "  </tbody>\n",
       "</table>\n",
       "</div>\n",
       "      <button class=\"colab-df-convert\" onclick=\"convertToInteractive('df-b44185cc-9038-4c52-a360-4e976a19deea')\"\n",
       "              title=\"Convert this dataframe to an interactive table.\"\n",
       "              style=\"display:none;\">\n",
       "        \n",
       "  <svg xmlns=\"http://www.w3.org/2000/svg\" height=\"24px\"viewBox=\"0 0 24 24\"\n",
       "       width=\"24px\">\n",
       "    <path d=\"M0 0h24v24H0V0z\" fill=\"none\"/>\n",
       "    <path d=\"M18.56 5.44l.94 2.06.94-2.06 2.06-.94-2.06-.94-.94-2.06-.94 2.06-2.06.94zm-11 1L8.5 8.5l.94-2.06 2.06-.94-2.06-.94L8.5 2.5l-.94 2.06-2.06.94zm10 10l.94 2.06.94-2.06 2.06-.94-2.06-.94-.94-2.06-.94 2.06-2.06.94z\"/><path d=\"M17.41 7.96l-1.37-1.37c-.4-.4-.92-.59-1.43-.59-.52 0-1.04.2-1.43.59L10.3 9.45l-7.72 7.72c-.78.78-.78 2.05 0 2.83L4 21.41c.39.39.9.59 1.41.59.51 0 1.02-.2 1.41-.59l7.78-7.78 2.81-2.81c.8-.78.8-2.07 0-2.86zM5.41 20L4 18.59l7.72-7.72 1.47 1.35L5.41 20z\"/>\n",
       "  </svg>\n",
       "      </button>\n",
       "      \n",
       "  <style>\n",
       "    .colab-df-container {\n",
       "      display:flex;\n",
       "      flex-wrap:wrap;\n",
       "      gap: 12px;\n",
       "    }\n",
       "\n",
       "    .colab-df-convert {\n",
       "      background-color: #E8F0FE;\n",
       "      border: none;\n",
       "      border-radius: 50%;\n",
       "      cursor: pointer;\n",
       "      display: none;\n",
       "      fill: #1967D2;\n",
       "      height: 32px;\n",
       "      padding: 0 0 0 0;\n",
       "      width: 32px;\n",
       "    }\n",
       "\n",
       "    .colab-df-convert:hover {\n",
       "      background-color: #E2EBFA;\n",
       "      box-shadow: 0px 1px 2px rgba(60, 64, 67, 0.3), 0px 1px 3px 1px rgba(60, 64, 67, 0.15);\n",
       "      fill: #174EA6;\n",
       "    }\n",
       "\n",
       "    [theme=dark] .colab-df-convert {\n",
       "      background-color: #3B4455;\n",
       "      fill: #D2E3FC;\n",
       "    }\n",
       "\n",
       "    [theme=dark] .colab-df-convert:hover {\n",
       "      background-color: #434B5C;\n",
       "      box-shadow: 0px 1px 3px 1px rgba(0, 0, 0, 0.15);\n",
       "      filter: drop-shadow(0px 1px 2px rgba(0, 0, 0, 0.3));\n",
       "      fill: #FFFFFF;\n",
       "    }\n",
       "  </style>\n",
       "\n",
       "      <script>\n",
       "        const buttonEl =\n",
       "          document.querySelector('#df-b44185cc-9038-4c52-a360-4e976a19deea button.colab-df-convert');\n",
       "        buttonEl.style.display =\n",
       "          google.colab.kernel.accessAllowed ? 'block' : 'none';\n",
       "\n",
       "        async function convertToInteractive(key) {\n",
       "          const element = document.querySelector('#df-b44185cc-9038-4c52-a360-4e976a19deea');\n",
       "          const dataTable =\n",
       "            await google.colab.kernel.invokeFunction('convertToInteractive',\n",
       "                                                     [key], {});\n",
       "          if (!dataTable) return;\n",
       "\n",
       "          const docLinkHtml = 'Like what you see? Visit the ' +\n",
       "            '<a target=\"_blank\" href=https://colab.research.google.com/notebooks/data_table.ipynb>data table notebook</a>'\n",
       "            + ' to learn more about interactive tables.';\n",
       "          element.innerHTML = '';\n",
       "          dataTable['output_type'] = 'display_data';\n",
       "          await google.colab.output.renderOutput(dataTable, element);\n",
       "          const docLink = document.createElement('div');\n",
       "          docLink.innerHTML = docLinkHtml;\n",
       "          element.appendChild(docLink);\n",
       "        }\n",
       "      </script>\n",
       "    </div>\n",
       "  </div>\n",
       "  "
      ],
      "text/plain": [
       "       Drug_ID                                               Drug     Y\n",
       "0         I-II  O=C(O)C[C@@H](c1cnc2ccccc2c1)N1CC[C@@H](CCCc2c... -5.69\n",
       "1  aceclofenac              O=C(O)COC(=O)Cc1ccccc1Nc1c(Cl)cccc1Cl -4.41"
      ]
     },
     "execution_count": 3,
     "metadata": {},
     "output_type": "execute_result"
    }
   ],
   "source": [
    "split = data.get_split(method='scaffold')\n",
    "split['test'].head(2)"
   ]
  },
  {
   "cell_type": "code",
   "execution_count": 4,
   "metadata": {
    "colab": {
     "base_uri": "https://localhost:8080/",
     "height": 472
    },
    "id": "fY5PRT34yel4",
    "outputId": "1e8e33b1-587c-46da-d52b-090a92d32c2d"
   },
   "outputs": [
    {
     "data": {
      "image/png": "[encoded data removed]",
      "text/plain": [
       "<Figure size 640x480 with 2 Axes>"
      ]
     },
     "metadata": {},
     "output_type": "display_data"
    }
   ],
   "source": [
    "data.label_distribution()"
   ]
  },
  {
   "cell_type": "code",
   "execution_count": 5,
   "metadata": {
    "colab": {
     "base_uri": "https://localhost:8080/",
     "height": 490
    },
    "id": "eSCPg-Z6zn0V",
    "outputId": "eec22a25-748e-46c4-f09e-86d885692f33"
   },
   "outputs": [
    {
     "name": "stderr",
     "output_type": "stream",
     "text": [
      "Binariztion using threshold -4.7, default, we assume the smaller values are 1 and larger ones is 0, you can change the order by 'binarize(order = 'ascending')'\n"
     ]
    },
    {
     "data": {
      "image/png": "[encoded data removed]",
      "text/plain": [
       "<Figure size 640x480 with 2 Axes>"
      ]
     },
     "metadata": {},
     "output_type": "display_data"
    }
   ],
   "source": [
    "data.binarize(threshold = -4.7, order = 'ascending')\n",
    "data.label_distribution()"
   ]
  },
  {
   "cell_type": "code",
   "execution_count": 6,
   "metadata": {
    "colab": {
     "base_uri": "https://localhost:8080/"
    },
    "id": "t8ljEb9vz2dz",
    "outputId": "fb4b0909-c944-444a-a3d0-848df699d7ab"
   },
   "outputs": [
    {
     "name": "stdout",
     "output_type": "stream",
     "text": [
      "Looking in indexes: https://pypi.org/simple, https://us-python.pkg.dev/colab-wheels/public/simple/\n",
      "Requirement already satisfied: rdkit==2023.03.1 in /usr/local/lib/python3.10/dist-packages (2023.3.1)\n",
      "Requirement already satisfied: numpy in /usr/local/lib/python3.10/dist-packages (from rdkit==2023.03.1) (1.22.4)\n",
      "Requirement already satisfied: Pillow in /usr/local/lib/python3.10/dist-packages (from rdkit==2023.03.1) (8.4.0)\n"
     ]
    }
   ],
   "source": [
    "!pip install rdkit==2023.03.1"
   ]
  },
  {
   "cell_type": "code",
   "execution_count": 7,
   "metadata": {
    "colab": {
     "base_uri": "https://localhost:8080/",
     "height": 35
    },
    "id": "k3-RhfSrmsfT",
    "outputId": "72987e03-6bad-4378-ffc0-0dde6490afa2"
   },
   "outputs": [
    {
     "data": {
      "application/vnd.google.colaboratory.intrinsic+json": {
       "type": "string"
      },
      "text/plain": [
       "'2023.03.1'"
      ]
     },
     "execution_count": 7,
     "metadata": {},
     "output_type": "execute_result"
    }
   ],
   "source": [
    "import rdkit\n",
    "rdkit.__version__"
   ]
  },
  {
   "cell_type": "code",
   "execution_count": 8,
   "metadata": {
    "id": "NWuUxeuZ3LYz"
   },
   "outputs": [],
   "source": [
    "from rdkit import Chem\n",
    "from rdkit.Chem import rdFingerprintGenerator, MACCSkeys"
   ]
  },
  {
   "cell_type": "code",
   "execution_count": 9,
   "metadata": {
    "colab": {
     "base_uri": "https://localhost:8080/",
     "height": 206
    },
    "id": "_Z1Rr_Sm4FFn",
    "outputId": "f45cf09a-329c-42e5-ead3-d188aa19647e"
   },
   "outputs": [
    {
     "data": {
      "text/html": [
       "\n",
       "  <div id=\"df-fdd10b8b-f6db-49fc-a0ac-142d2cbd4e5d\">\n",
       "    <div class=\"colab-df-container\">\n",
       "      <div>\n",
       "<style scoped>\n",
       "    .dataframe tbody tr th:only-of-type {\n",
       "        vertical-align: middle;\n",
       "    }\n",
       "\n",
       "    .dataframe tbody tr th {\n",
       "        vertical-align: top;\n",
       "    }\n",
       "\n",
       "    .dataframe thead th {\n",
       "        text-align: right;\n",
       "    }\n",
       "</style>\n",
       "<table border=\"1\" class=\"dataframe\">\n",
       "  <thead>\n",
       "    <tr style=\"text-align: right;\">\n",
       "      <th></th>\n",
       "      <th>Drug_ID</th>\n",
       "      <th>Drug</th>\n",
       "      <th>Y</th>\n",
       "    </tr>\n",
       "  </thead>\n",
       "  <tbody>\n",
       "    <tr>\n",
       "      <th>0</th>\n",
       "      <td>H 95/71</td>\n",
       "      <td>CC(C)NCC(O)COc1ccc(NC=O)cc1</td>\n",
       "      <td>-5.427984</td>\n",
       "    </tr>\n",
       "    <tr>\n",
       "      <th>1</th>\n",
       "      <td>H 244/45</td>\n",
       "      <td>CCC(=O)Nc1ccc(OCC(O)CNC(C)C)cc1</td>\n",
       "      <td>-5.219842</td>\n",
       "    </tr>\n",
       "    <tr>\n",
       "      <th>2</th>\n",
       "      <td>D-Phe-D-Ala-D-Ser-OH</td>\n",
       "      <td>C[C@H](NC(=O)[C@H](N)Cc1ccccc1)C(=O)N[C@H](CO)...</td>\n",
       "      <td>-6.281999</td>\n",
       "    </tr>\n",
       "    <tr>\n",
       "      <th>3</th>\n",
       "      <td>Dexloxiglumide</td>\n",
       "      <td>CCCCCN(CCCOC)C(=O)[C@@H](CCC(=O)O)NC(=O)c1ccc(...</td>\n",
       "      <td>-5.140131</td>\n",
       "    </tr>\n",
       "    <tr>\n",
       "      <th>4</th>\n",
       "      <td>Ac-D-phe-NH2</td>\n",
       "      <td>CC(=O)N[C@@H](Cc1ccccc1)C(N)=O</td>\n",
       "      <td>-5.100090</td>\n",
       "    </tr>\n",
       "  </tbody>\n",
       "</table>\n",
       "</div>\n",
       "      <button class=\"colab-df-convert\" onclick=\"convertToInteractive('df-fdd10b8b-f6db-49fc-a0ac-142d2cbd4e5d')\"\n",
       "              title=\"Convert this dataframe to an interactive table.\"\n",
       "              style=\"display:none;\">\n",
       "        \n",
       "  <svg xmlns=\"http://www.w3.org/2000/svg\" height=\"24px\"viewBox=\"0 0 24 24\"\n",
       "       width=\"24px\">\n",
       "    <path d=\"M0 0h24v24H0V0z\" fill=\"none\"/>\n",
       "    <path d=\"M18.56 5.44l.94 2.06.94-2.06 2.06-.94-2.06-.94-.94-2.06-.94 2.06-2.06.94zm-11 1L8.5 8.5l.94-2.06 2.06-.94-2.06-.94L8.5 2.5l-.94 2.06-2.06.94zm10 10l.94 2.06.94-2.06 2.06-.94-2.06-.94-.94-2.06-.94 2.06-2.06.94z\"/><path d=\"M17.41 7.96l-1.37-1.37c-.4-.4-.92-.59-1.43-.59-.52 0-1.04.2-1.43.59L10.3 9.45l-7.72 7.72c-.78.78-.78 2.05 0 2.83L4 21.41c.39.39.9.59 1.41.59.51 0 1.02-.2 1.41-.59l7.78-7.78 2.81-2.81c.8-.78.8-2.07 0-2.86zM5.41 20L4 18.59l7.72-7.72 1.47 1.35L5.41 20z\"/>\n",
       "  </svg>\n",
       "      </button>\n",
       "      \n",
       "  <style>\n",
       "    .colab-df-container {\n",
       "      display:flex;\n",
       "      flex-wrap:wrap;\n",
       "      gap: 12px;\n",
       "    }\n",
       "\n",
       "    .colab-df-convert {\n",
       "      background-color: #E8F0FE;\n",
       "      border: none;\n",
       "      border-radius: 50%;\n",
       "      cursor: pointer;\n",
       "      display: none;\n",
       "      fill: #1967D2;\n",
       "      height: 32px;\n",
       "      padding: 0 0 0 0;\n",
       "      width: 32px;\n",
       "    }\n",
       "\n",
       "    .colab-df-convert:hover {\n",
       "      background-color: #E2EBFA;\n",
       "      box-shadow: 0px 1px 2px rgba(60, 64, 67, 0.3), 0px 1px 3px 1px rgba(60, 64, 67, 0.15);\n",
       "      fill: #174EA6;\n",
       "    }\n",
       "\n",
       "    [theme=dark] .colab-df-convert {\n",
       "      background-color: #3B4455;\n",
       "      fill: #D2E3FC;\n",
       "    }\n",
       "\n",
       "    [theme=dark] .colab-df-convert:hover {\n",
       "      background-color: #434B5C;\n",
       "      box-shadow: 0px 1px 3px 1px rgba(0, 0, 0, 0.15);\n",
       "      filter: drop-shadow(0px 1px 2px rgba(0, 0, 0, 0.3));\n",
       "      fill: #FFFFFF;\n",
       "    }\n",
       "  </style>\n",
       "\n",
       "      <script>\n",
       "        const buttonEl =\n",
       "          document.querySelector('#df-fdd10b8b-f6db-49fc-a0ac-142d2cbd4e5d button.colab-df-convert');\n",
       "        buttonEl.style.display =\n",
       "          google.colab.kernel.accessAllowed ? 'block' : 'none';\n",
       "\n",
       "        async function convertToInteractive(key) {\n",
       "          const element = document.querySelector('#df-fdd10b8b-f6db-49fc-a0ac-142d2cbd4e5d');\n",
       "          const dataTable =\n",
       "            await google.colab.kernel.invokeFunction('convertToInteractive',\n",
       "                                                     [key], {});\n",
       "          if (!dataTable) return;\n",
       "\n",
       "          const docLinkHtml = 'Like what you see? Visit the ' +\n",
       "            '<a target=\"_blank\" href=https://colab.research.google.com/notebooks/data_table.ipynb>data table notebook</a>'\n",
       "            + ' to learn more about interactive tables.';\n",
       "          element.innerHTML = '';\n",
       "          dataTable['output_type'] = 'display_data';\n",
       "          await google.colab.output.renderOutput(dataTable, element);\n",
       "          const docLink = document.createElement('div');\n",
       "          docLink.innerHTML = docLinkHtml;\n",
       "          element.appendChild(docLink);\n",
       "        }\n",
       "      </script>\n",
       "    </div>\n",
       "  </div>\n",
       "  "
      ],
      "text/plain": [
       "                Drug_ID                                               Drug  \\\n",
       "0               H 95/71                        CC(C)NCC(O)COc1ccc(NC=O)cc1   \n",
       "1              H 244/45                    CCC(=O)Nc1ccc(OCC(O)CNC(C)C)cc1   \n",
       "2  D-Phe-D-Ala-D-Ser-OH  C[C@H](NC(=O)[C@H](N)Cc1ccccc1)C(=O)N[C@H](CO)...   \n",
       "3        Dexloxiglumide  CCCCCN(CCCOC)C(=O)[C@@H](CCC(=O)O)NC(=O)c1ccc(...   \n",
       "4          Ac-D-phe-NH2                     CC(=O)N[C@@H](Cc1ccccc1)C(N)=O   \n",
       "\n",
       "          Y  \n",
       "0 -5.427984  \n",
       "1 -5.219842  \n",
       "2 -6.281999  \n",
       "3 -5.140131  \n",
       "4 -5.100090  "
      ]
     },
     "execution_count": 9,
     "metadata": {},
     "output_type": "execute_result"
    }
   ],
   "source": [
    "split['train'].head()"
   ]
  },
  {
   "cell_type": "code",
   "execution_count": 10,
   "metadata": {
    "colab": {
     "base_uri": "https://localhost:8080/"
    },
    "id": "JAHhFRT44rJx",
    "outputId": "371414fd-1a31-4e0a-94f1-a4f79e07c1af"
   },
   "outputs": [
    {
     "data": {
      "text/plain": [
       "dict"
      ]
     },
     "execution_count": 10,
     "metadata": {},
     "output_type": "execute_result"
    }
   ],
   "source": [
    "type(split)"
   ]
  },
  {
   "cell_type": "code",
   "execution_count": 11,
   "metadata": {
    "id": "09zi66Cq48ia"
   },
   "outputs": [],
   "source": [
    "import pandas as pd"
   ]
  },
  {
   "cell_type": "code",
   "execution_count": 12,
   "metadata": {
    "colab": {
     "base_uri": "https://localhost:8080/"
    },
    "id": "VYRuqkdL6pC4",
    "outputId": "a480c733-2893-41a2-b47d-dde8c8da131a"
   },
   "outputs": [
    {
     "data": {
      "text/plain": [
       "dict_keys(['train', 'valid', 'test'])"
      ]
     },
     "execution_count": 12,
     "metadata": {},
     "output_type": "execute_result"
    }
   ],
   "source": [
    "split.keys()"
   ]
  },
  {
   "cell_type": "code",
   "execution_count": 13,
   "metadata": {
    "colab": {
     "base_uri": "https://localhost:8080/",
     "height": 424
    },
    "id": "BxBaIPVd6TZv",
    "outputId": "d967202b-5ee2-4f79-8ba6-ff2458153f64"
   },
   "outputs": [
    {
     "data": {
      "text/html": [
       "\n",
       "  <div id=\"df-e80e171f-b298-4c78-8f16-c422ce192752\">\n",
       "    <div class=\"colab-df-container\">\n",
       "      <div>\n",
       "<style scoped>\n",
       "    .dataframe tbody tr th:only-of-type {\n",
       "        vertical-align: middle;\n",
       "    }\n",
       "\n",
       "    .dataframe tbody tr th {\n",
       "        vertical-align: top;\n",
       "    }\n",
       "\n",
       "    .dataframe thead th {\n",
       "        text-align: right;\n",
       "    }\n",
       "</style>\n",
       "<table border=\"1\" class=\"dataframe\">\n",
       "  <thead>\n",
       "    <tr style=\"text-align: right;\">\n",
       "      <th></th>\n",
       "      <th>Drug_ID</th>\n",
       "      <th>Drug</th>\n",
       "      <th>Y</th>\n",
       "    </tr>\n",
       "  </thead>\n",
       "  <tbody>\n",
       "    <tr>\n",
       "      <th>0</th>\n",
       "      <td>H 95/71</td>\n",
       "      <td>CC(C)NCC(O)COc1ccc(NC=O)cc1</td>\n",
       "      <td>-5.427984</td>\n",
       "    </tr>\n",
       "    <tr>\n",
       "      <th>1</th>\n",
       "      <td>H 244/45</td>\n",
       "      <td>CCC(=O)Nc1ccc(OCC(O)CNC(C)C)cc1</td>\n",
       "      <td>-5.219842</td>\n",
       "    </tr>\n",
       "    <tr>\n",
       "      <th>2</th>\n",
       "      <td>D-Phe-D-Ala-D-Ser-OH</td>\n",
       "      <td>C[C@H](NC(=O)[C@H](N)Cc1ccccc1)C(=O)N[C@H](CO)...</td>\n",
       "      <td>-6.281999</td>\n",
       "    </tr>\n",
       "    <tr>\n",
       "      <th>3</th>\n",
       "      <td>Dexloxiglumide</td>\n",
       "      <td>CCCCCN(CCCOC)C(=O)[C@@H](CCC(=O)O)NC(=O)c1ccc(...</td>\n",
       "      <td>-5.140131</td>\n",
       "    </tr>\n",
       "    <tr>\n",
       "      <th>4</th>\n",
       "      <td>Ac-D-phe-NH2</td>\n",
       "      <td>CC(=O)N[C@@H](Cc1ccccc1)C(N)=O</td>\n",
       "      <td>-5.100090</td>\n",
       "    </tr>\n",
       "    <tr>\n",
       "      <th>...</th>\n",
       "      <td>...</td>\n",
       "      <td>...</td>\n",
       "      <td>...</td>\n",
       "    </tr>\n",
       "    <tr>\n",
       "      <th>632</th>\n",
       "      <td>theophylline</td>\n",
       "      <td>Cn1c(=O)c2[nH]cnc2n(C)c1=O</td>\n",
       "      <td>-4.350000</td>\n",
       "    </tr>\n",
       "    <tr>\n",
       "      <th>633</th>\n",
       "      <td>Pentoxifylline</td>\n",
       "      <td>CC(=O)CCCCn1c(=O)c2c(ncn2C)n(C)c1=O</td>\n",
       "      <td>-4.180000</td>\n",
       "    </tr>\n",
       "    <tr>\n",
       "      <th>634</th>\n",
       "      <td>caffeine</td>\n",
       "      <td>Cn1c(=O)c2c(ncn2C)n(C)c1=O</td>\n",
       "      <td>-4.340000</td>\n",
       "    </tr>\n",
       "    <tr>\n",
       "      <th>635</th>\n",
       "      <td>Org 13011</td>\n",
       "      <td>O=C1CCCN1CCCCN1CCN(c2cc(C(F)(F)F)ccn2)CC1</td>\n",
       "      <td>-4.740000</td>\n",
       "    </tr>\n",
       "    <tr>\n",
       "      <th>636</th>\n",
       "      <td>daidzin</td>\n",
       "      <td>O=c1c(-c2ccc(O)cc2)coc2cc(OC3OC(CO)C(O)C(O)C3O...</td>\n",
       "      <td>-6.360000</td>\n",
       "    </tr>\n",
       "  </tbody>\n",
       "</table>\n",
       "<p>637 rows × 3 columns</p>\n",
       "</div>\n",
       "      <button class=\"colab-df-convert\" onclick=\"convertToInteractive('df-e80e171f-b298-4c78-8f16-c422ce192752')\"\n",
       "              title=\"Convert this dataframe to an interactive table.\"\n",
       "              style=\"display:none;\">\n",
       "        \n",
       "  <svg xmlns=\"http://www.w3.org/2000/svg\" height=\"24px\"viewBox=\"0 0 24 24\"\n",
       "       width=\"24px\">\n",
       "    <path d=\"M0 0h24v24H0V0z\" fill=\"none\"/>\n",
       "    <path d=\"M18.56 5.44l.94 2.06.94-2.06 2.06-.94-2.06-.94-.94-2.06-.94 2.06-2.06.94zm-11 1L8.5 8.5l.94-2.06 2.06-.94-2.06-.94L8.5 2.5l-.94 2.06-2.06.94zm10 10l.94 2.06.94-2.06 2.06-.94-2.06-.94-.94-2.06-.94 2.06-2.06.94z\"/><path d=\"M17.41 7.96l-1.37-1.37c-.4-.4-.92-.59-1.43-.59-.52 0-1.04.2-1.43.59L10.3 9.45l-7.72 7.72c-.78.78-.78 2.05 0 2.83L4 21.41c.39.39.9.59 1.41.59.51 0 1.02-.2 1.41-.59l7.78-7.78 2.81-2.81c.8-.78.8-2.07 0-2.86zM5.41 20L4 18.59l7.72-7.72 1.47 1.35L5.41 20z\"/>\n",
       "  </svg>\n",
       "      </button>\n",
       "      \n",
       "  <style>\n",
       "    .colab-df-container {\n",
       "      display:flex;\n",
       "      flex-wrap:wrap;\n",
       "      gap: 12px;\n",
       "    }\n",
       "\n",
       "    .colab-df-convert {\n",
       "      background-color: #E8F0FE;\n",
       "      border: none;\n",
       "      border-radius: 50%;\n",
       "      cursor: pointer;\n",
       "      display: none;\n",
       "      fill: #1967D2;\n",
       "      height: 32px;\n",
       "      padding: 0 0 0 0;\n",
       "      width: 32px;\n",
       "    }\n",
       "\n",
       "    .colab-df-convert:hover {\n",
       "      background-color: #E2EBFA;\n",
       "      box-shadow: 0px 1px 2px rgba(60, 64, 67, 0.3), 0px 1px 3px 1px rgba(60, 64, 67, 0.15);\n",
       "      fill: #174EA6;\n",
       "    }\n",
       "\n",
       "    [theme=dark] .colab-df-convert {\n",
       "      background-color: #3B4455;\n",
       "      fill: #D2E3FC;\n",
       "    }\n",
       "\n",
       "    [theme=dark] .colab-df-convert:hover {\n",
       "      background-color: #434B5C;\n",
       "      box-shadow: 0px 1px 3px 1px rgba(0, 0, 0, 0.15);\n",
       "      filter: drop-shadow(0px 1px 2px rgba(0, 0, 0, 0.3));\n",
       "      fill: #FFFFFF;\n",
       "    }\n",
       "  </style>\n",
       "\n",
       "      <script>\n",
       "        const buttonEl =\n",
       "          document.querySelector('#df-e80e171f-b298-4c78-8f16-c422ce192752 button.colab-df-convert');\n",
       "        buttonEl.style.display =\n",
       "          google.colab.kernel.accessAllowed ? 'block' : 'none';\n",
       "\n",
       "        async function convertToInteractive(key) {\n",
       "          const element = document.querySelector('#df-e80e171f-b298-4c78-8f16-c422ce192752');\n",
       "          const dataTable =\n",
       "            await google.colab.kernel.invokeFunction('convertToInteractive',\n",
       "                                                     [key], {});\n",
       "          if (!dataTable) return;\n",
       "\n",
       "          const docLinkHtml = 'Like what you see? Visit the ' +\n",
       "            '<a target=\"_blank\" href=https://colab.research.google.com/notebooks/data_table.ipynb>data table notebook</a>'\n",
       "            + ' to learn more about interactive tables.';\n",
       "          element.innerHTML = '';\n",
       "          dataTable['output_type'] = 'display_data';\n",
       "          await google.colab.output.renderOutput(dataTable, element);\n",
       "          const docLink = document.createElement('div');\n",
       "          docLink.innerHTML = docLinkHtml;\n",
       "          element.appendChild(docLink);\n",
       "        }\n",
       "      </script>\n",
       "    </div>\n",
       "  </div>\n",
       "  "
      ],
      "text/plain": [
       "                  Drug_ID                                               Drug  \\\n",
       "0                 H 95/71                        CC(C)NCC(O)COc1ccc(NC=O)cc1   \n",
       "1                H 244/45                    CCC(=O)Nc1ccc(OCC(O)CNC(C)C)cc1   \n",
       "2    D-Phe-D-Ala-D-Ser-OH  C[C@H](NC(=O)[C@H](N)Cc1ccccc1)C(=O)N[C@H](CO)...   \n",
       "3          Dexloxiglumide  CCCCCN(CCCOC)C(=O)[C@@H](CCC(=O)O)NC(=O)c1ccc(...   \n",
       "4            Ac-D-phe-NH2                     CC(=O)N[C@@H](Cc1ccccc1)C(N)=O   \n",
       "..                    ...                                                ...   \n",
       "632          theophylline                         Cn1c(=O)c2[nH]cnc2n(C)c1=O   \n",
       "633        Pentoxifylline                CC(=O)CCCCn1c(=O)c2c(ncn2C)n(C)c1=O   \n",
       "634              caffeine                         Cn1c(=O)c2c(ncn2C)n(C)c1=O   \n",
       "635             Org 13011          O=C1CCCN1CCCCN1CCN(c2cc(C(F)(F)F)ccn2)CC1   \n",
       "636              daidzin   O=c1c(-c2ccc(O)cc2)coc2cc(OC3OC(CO)C(O)C(O)C3O...   \n",
       "\n",
       "            Y  \n",
       "0   -5.427984  \n",
       "1   -5.219842  \n",
       "2   -6.281999  \n",
       "3   -5.140131  \n",
       "4   -5.100090  \n",
       "..        ...  \n",
       "632 -4.350000  \n",
       "633 -4.180000  \n",
       "634 -4.340000  \n",
       "635 -4.740000  \n",
       "636 -6.360000  \n",
       "\n",
       "[637 rows x 3 columns]"
      ]
     },
     "execution_count": 13,
     "metadata": {},
     "output_type": "execute_result"
    }
   ],
   "source": [
    "train = split['train']\n",
    "train"
   ]
  },
  {
   "cell_type": "code",
   "execution_count": 14,
   "metadata": {
    "colab": {
     "base_uri": "https://localhost:8080/"
    },
    "id": "MJTOM5GQ65rI",
    "outputId": "e064da3b-fc83-4f76-b03f-82f11bd0ca56"
   },
   "outputs": [
    {
     "data": {
      "text/plain": [
       "pandas.core.frame.DataFrame"
      ]
     },
     "execution_count": 14,
     "metadata": {},
     "output_type": "execute_result"
    }
   ],
   "source": [
    "type(train)"
   ]
  },
  {
   "cell_type": "code",
   "execution_count": 15,
   "metadata": {
    "colab": {
     "base_uri": "https://localhost:8080/",
     "height": 206
    },
    "id": "693Xxh9f5-p6",
    "outputId": "a44068d6-d0f5-418a-87bf-337cc68cd56e"
   },
   "outputs": [
    {
     "data": {
      "text/html": [
       "\n",
       "  <div id=\"df-7397abbd-27f4-4850-9088-2b2aa63c41a7\">\n",
       "    <div class=\"colab-df-container\">\n",
       "      <div>\n",
       "<style scoped>\n",
       "    .dataframe tbody tr th:only-of-type {\n",
       "        vertical-align: middle;\n",
       "    }\n",
       "\n",
       "    .dataframe tbody tr th {\n",
       "        vertical-align: top;\n",
       "    }\n",
       "\n",
       "    .dataframe thead th {\n",
       "        text-align: right;\n",
       "    }\n",
       "</style>\n",
       "<table border=\"1\" class=\"dataframe\">\n",
       "  <thead>\n",
       "    <tr style=\"text-align: right;\">\n",
       "      <th></th>\n",
       "      <th>Drug_ID</th>\n",
       "      <th>Drug</th>\n",
       "      <th>Y</th>\n",
       "    </tr>\n",
       "  </thead>\n",
       "  <tbody>\n",
       "    <tr>\n",
       "      <th>0</th>\n",
       "      <td>H 95/71</td>\n",
       "      <td>CC(C)NCC(O)COc1ccc(NC=O)cc1</td>\n",
       "      <td>-5.427984</td>\n",
       "    </tr>\n",
       "    <tr>\n",
       "      <th>1</th>\n",
       "      <td>H 244/45</td>\n",
       "      <td>CCC(=O)Nc1ccc(OCC(O)CNC(C)C)cc1</td>\n",
       "      <td>-5.219842</td>\n",
       "    </tr>\n",
       "    <tr>\n",
       "      <th>2</th>\n",
       "      <td>D-Phe-D-Ala-D-Ser-OH</td>\n",
       "      <td>C[C@H](NC(=O)[C@H](N)Cc1ccccc1)C(=O)N[C@H](CO)...</td>\n",
       "      <td>-6.281999</td>\n",
       "    </tr>\n",
       "    <tr>\n",
       "      <th>3</th>\n",
       "      <td>Dexloxiglumide</td>\n",
       "      <td>CCCCCN(CCCOC)C(=O)[C@@H](CCC(=O)O)NC(=O)c1ccc(...</td>\n",
       "      <td>-5.140131</td>\n",
       "    </tr>\n",
       "    <tr>\n",
       "      <th>4</th>\n",
       "      <td>Ac-D-phe-NH2</td>\n",
       "      <td>CC(=O)N[C@@H](Cc1ccccc1)C(N)=O</td>\n",
       "      <td>-5.100090</td>\n",
       "    </tr>\n",
       "  </tbody>\n",
       "</table>\n",
       "</div>\n",
       "      <button class=\"colab-df-convert\" onclick=\"convertToInteractive('df-7397abbd-27f4-4850-9088-2b2aa63c41a7')\"\n",
       "              title=\"Convert this dataframe to an interactive table.\"\n",
       "              style=\"display:none;\">\n",
       "        \n",
       "  <svg xmlns=\"http://www.w3.org/2000/svg\" height=\"24px\"viewBox=\"0 0 24 24\"\n",
       "       width=\"24px\">\n",
       "    <path d=\"M0 0h24v24H0V0z\" fill=\"none\"/>\n",
       "    <path d=\"M18.56 5.44l.94 2.06.94-2.06 2.06-.94-2.06-.94-.94-2.06-.94 2.06-2.06.94zm-11 1L8.5 8.5l.94-2.06 2.06-.94-2.06-.94L8.5 2.5l-.94 2.06-2.06.94zm10 10l.94 2.06.94-2.06 2.06-.94-2.06-.94-.94-2.06-.94 2.06-2.06.94z\"/><path d=\"M17.41 7.96l-1.37-1.37c-.4-.4-.92-.59-1.43-.59-.52 0-1.04.2-1.43.59L10.3 9.45l-7.72 7.72c-.78.78-.78 2.05 0 2.83L4 21.41c.39.39.9.59 1.41.59.51 0 1.02-.2 1.41-.59l7.78-7.78 2.81-2.81c.8-.78.8-2.07 0-2.86zM5.41 20L4 18.59l7.72-7.72 1.47 1.35L5.41 20z\"/>\n",
       "  </svg>\n",
       "      </button>\n",
       "      \n",
       "  <style>\n",
       "    .colab-df-container {\n",
       "      display:flex;\n",
       "      flex-wrap:wrap;\n",
       "      gap: 12px;\n",
       "    }\n",
       "\n",
       "    .colab-df-convert {\n",
       "      background-color: #E8F0FE;\n",
       "      border: none;\n",
       "      border-radius: 50%;\n",
       "      cursor: pointer;\n",
       "      display: none;\n",
       "      fill: #1967D2;\n",
       "      height: 32px;\n",
       "      padding: 0 0 0 0;\n",
       "      width: 32px;\n",
       "    }\n",
       "\n",
       "    .colab-df-convert:hover {\n",
       "      background-color: #E2EBFA;\n",
       "      box-shadow: 0px 1px 2px rgba(60, 64, 67, 0.3), 0px 1px 3px 1px rgba(60, 64, 67, 0.15);\n",
       "      fill: #174EA6;\n",
       "    }\n",
       "\n",
       "    [theme=dark] .colab-df-convert {\n",
       "      background-color: #3B4455;\n",
       "      fill: #D2E3FC;\n",
       "    }\n",
       "\n",
       "    [theme=dark] .colab-df-convert:hover {\n",
       "      background-color: #434B5C;\n",
       "      box-shadow: 0px 1px 3px 1px rgba(0, 0, 0, 0.15);\n",
       "      filter: drop-shadow(0px 1px 2px rgba(0, 0, 0, 0.3));\n",
       "      fill: #FFFFFF;\n",
       "    }\n",
       "  </style>\n",
       "\n",
       "      <script>\n",
       "        const buttonEl =\n",
       "          document.querySelector('#df-7397abbd-27f4-4850-9088-2b2aa63c41a7 button.colab-df-convert');\n",
       "        buttonEl.style.display =\n",
       "          google.colab.kernel.accessAllowed ? 'block' : 'none';\n",
       "\n",
       "        async function convertToInteractive(key) {\n",
       "          const element = document.querySelector('#df-7397abbd-27f4-4850-9088-2b2aa63c41a7');\n",
       "          const dataTable =\n",
       "            await google.colab.kernel.invokeFunction('convertToInteractive',\n",
       "                                                     [key], {});\n",
       "          if (!dataTable) return;\n",
       "\n",
       "          const docLinkHtml = 'Like what you see? Visit the ' +\n",
       "            '<a target=\"_blank\" href=https://colab.research.google.com/notebooks/data_table.ipynb>data table notebook</a>'\n",
       "            + ' to learn more about interactive tables.';\n",
       "          element.innerHTML = '';\n",
       "          dataTable['output_type'] = 'display_data';\n",
       "          await google.colab.output.renderOutput(dataTable, element);\n",
       "          const docLink = document.createElement('div');\n",
       "          docLink.innerHTML = docLinkHtml;\n",
       "          element.appendChild(docLink);\n",
       "        }\n",
       "      </script>\n",
       "    </div>\n",
       "  </div>\n",
       "  "
      ],
      "text/plain": [
       "                Drug_ID                                               Drug  \\\n",
       "0               H 95/71                        CC(C)NCC(O)COc1ccc(NC=O)cc1   \n",
       "1              H 244/45                    CCC(=O)Nc1ccc(OCC(O)CNC(C)C)cc1   \n",
       "2  D-Phe-D-Ala-D-Ser-OH  C[C@H](NC(=O)[C@H](N)Cc1ccccc1)C(=O)N[C@H](CO)...   \n",
       "3        Dexloxiglumide  CCCCCN(CCCOC)C(=O)[C@@H](CCC(=O)O)NC(=O)c1ccc(...   \n",
       "4          Ac-D-phe-NH2                     CC(=O)N[C@@H](Cc1ccccc1)C(N)=O   \n",
       "\n",
       "          Y  \n",
       "0 -5.427984  \n",
       "1 -5.219842  \n",
       "2 -6.281999  \n",
       "3 -5.140131  \n",
       "4 -5.100090  "
      ]
     },
     "execution_count": 15,
     "metadata": {},
     "output_type": "execute_result"
    }
   ],
   "source": [
    "train.head()"
   ]
  },
  {
   "cell_type": "code",
   "execution_count": 16,
   "metadata": {
    "colab": {
     "base_uri": "https://localhost:8080/"
    },
    "id": "5vPiUzpk7Ftd",
    "outputId": "e872bcde-ddae-4f6a-f579-3f9facc023a5"
   },
   "outputs": [
    {
     "data": {
      "text/plain": [
       "(637, 3)"
      ]
     },
     "execution_count": 16,
     "metadata": {},
     "output_type": "execute_result"
    }
   ],
   "source": [
    "train.shape"
   ]
  },
  {
   "cell_type": "code",
   "execution_count": 17,
   "metadata": {
    "colab": {
     "base_uri": "https://localhost:8080/"
    },
    "id": "48Ptq5z97TYT",
    "outputId": "5d67c9ef-5d0c-462b-cd8d-c62ce5d30dd0"
   },
   "outputs": [
    {
     "data": {
      "text/plain": [
       "0                          CC(C)NCC(O)COc1ccc(NC=O)cc1\n",
       "1                      CCC(=O)Nc1ccc(OCC(O)CNC(C)C)cc1\n",
       "2    C[C@H](NC(=O)[C@H](N)Cc1ccccc1)C(=O)N[C@H](CO)...\n",
       "3    CCCCCN(CCCOC)C(=O)[C@@H](CCC(=O)O)NC(=O)c1ccc(...\n",
       "4                       CC(=O)N[C@@H](Cc1ccccc1)C(N)=O\n",
       "Name: Drug, dtype: object"
      ]
     },
     "execution_count": 17,
     "metadata": {},
     "output_type": "execute_result"
    }
   ],
   "source": [
    "smiles = train.iloc[:,1]\n",
    "smiles.head()"
   ]
  },
  {
   "cell_type": "code",
   "execution_count": 18,
   "metadata": {
    "colab": {
     "base_uri": "https://localhost:8080/",
     "height": 167
    },
    "id": "qxa_yX4C4Nbc",
    "outputId": "9af54ff1-d7fb-4a4e-e8eb-531e18a1aa05"
   },
   "outputs": [
    {
     "data": {
      "image/png": "[encoded data removed]",
      "text/plain": [
       "<rdkit.Chem.rdchem.Mol at 0x7f41a6093b50>"
      ]
     },
     "execution_count": 18,
     "metadata": {},
     "output_type": "execute_result"
    }
   ],
   "source": [
    "mol = Chem.MolFromSmiles(smiles[0])\n",
    "mol"
   ]
  },
  {
   "cell_type": "code",
   "execution_count": 19,
   "metadata": {
    "colab": {
     "base_uri": "https://localhost:8080/",
     "height": 206
    },
    "id": "f1Ifo3GoAcn_",
    "outputId": "8d90c521-7813-4d9e-d848-c18f6d91f98f"
   },
   "outputs": [
    {
     "data": {
      "text/html": [
       "\n",
       "  <div id=\"df-84f2f369-f5f9-412f-a019-402ec0cac0e1\">\n",
       "    <div class=\"colab-df-container\">\n",
       "      <div>\n",
       "<style scoped>\n",
       "    .dataframe tbody tr th:only-of-type {\n",
       "        vertical-align: middle;\n",
       "    }\n",
       "\n",
       "    .dataframe tbody tr th {\n",
       "        vertical-align: top;\n",
       "    }\n",
       "\n",
       "    .dataframe thead th {\n",
       "        text-align: right;\n",
       "    }\n",
       "</style>\n",
       "<table border=\"1\" class=\"dataframe\">\n",
       "  <thead>\n",
       "    <tr style=\"text-align: right;\">\n",
       "      <th></th>\n",
       "      <th>Drug_ID</th>\n",
       "      <th>Drug</th>\n",
       "      <th>Y</th>\n",
       "    </tr>\n",
       "  </thead>\n",
       "  <tbody>\n",
       "    <tr>\n",
       "      <th>0</th>\n",
       "      <td>H 95/71</td>\n",
       "      <td>CC(C)NCC(O)COc1ccc(NC=O)cc1</td>\n",
       "      <td>-5.427984</td>\n",
       "    </tr>\n",
       "    <tr>\n",
       "      <th>1</th>\n",
       "      <td>H 244/45</td>\n",
       "      <td>CCC(=O)Nc1ccc(OCC(O)CNC(C)C)cc1</td>\n",
       "      <td>-5.219842</td>\n",
       "    </tr>\n",
       "    <tr>\n",
       "      <th>2</th>\n",
       "      <td>D-Phe-D-Ala-D-Ser-OH</td>\n",
       "      <td>C[C@H](NC(=O)[C@H](N)Cc1ccccc1)C(=O)N[C@H](CO)...</td>\n",
       "      <td>-6.281999</td>\n",
       "    </tr>\n",
       "    <tr>\n",
       "      <th>3</th>\n",
       "      <td>Dexloxiglumide</td>\n",
       "      <td>CCCCCN(CCCOC)C(=O)[C@@H](CCC(=O)O)NC(=O)c1ccc(...</td>\n",
       "      <td>-5.140131</td>\n",
       "    </tr>\n",
       "    <tr>\n",
       "      <th>4</th>\n",
       "      <td>Ac-D-phe-NH2</td>\n",
       "      <td>CC(=O)N[C@@H](Cc1ccccc1)C(N)=O</td>\n",
       "      <td>-5.100090</td>\n",
       "    </tr>\n",
       "  </tbody>\n",
       "</table>\n",
       "</div>\n",
       "      <button class=\"colab-df-convert\" onclick=\"convertToInteractive('df-84f2f369-f5f9-412f-a019-402ec0cac0e1')\"\n",
       "              title=\"Convert this dataframe to an interactive table.\"\n",
       "              style=\"display:none;\">\n",
       "        \n",
       "  <svg xmlns=\"http://www.w3.org/2000/svg\" height=\"24px\"viewBox=\"0 0 24 24\"\n",
       "       width=\"24px\">\n",
       "    <path d=\"M0 0h24v24H0V0z\" fill=\"none\"/>\n",
       "    <path d=\"M18.56 5.44l.94 2.06.94-2.06 2.06-.94-2.06-.94-.94-2.06-.94 2.06-2.06.94zm-11 1L8.5 8.5l.94-2.06 2.06-.94-2.06-.94L8.5 2.5l-.94 2.06-2.06.94zm10 10l.94 2.06.94-2.06 2.06-.94-2.06-.94-.94-2.06-.94 2.06-2.06.94z\"/><path d=\"M17.41 7.96l-1.37-1.37c-.4-.4-.92-.59-1.43-.59-.52 0-1.04.2-1.43.59L10.3 9.45l-7.72 7.72c-.78.78-.78 2.05 0 2.83L4 21.41c.39.39.9.59 1.41.59.51 0 1.02-.2 1.41-.59l7.78-7.78 2.81-2.81c.8-.78.8-2.07 0-2.86zM5.41 20L4 18.59l7.72-7.72 1.47 1.35L5.41 20z\"/>\n",
       "  </svg>\n",
       "      </button>\n",
       "      \n",
       "  <style>\n",
       "    .colab-df-container {\n",
       "      display:flex;\n",
       "      flex-wrap:wrap;\n",
       "      gap: 12px;\n",
       "    }\n",
       "\n",
       "    .colab-df-convert {\n",
       "      background-color: #E8F0FE;\n",
       "      border: none;\n",
       "      border-radius: 50%;\n",
       "      cursor: pointer;\n",
       "      display: none;\n",
       "      fill: #1967D2;\n",
       "      height: 32px;\n",
       "      padding: 0 0 0 0;\n",
       "      width: 32px;\n",
       "    }\n",
       "\n",
       "    .colab-df-convert:hover {\n",
       "      background-color: #E2EBFA;\n",
       "      box-shadow: 0px 1px 2px rgba(60, 64, 67, 0.3), 0px 1px 3px 1px rgba(60, 64, 67, 0.15);\n",
       "      fill: #174EA6;\n",
       "    }\n",
       "\n",
       "    [theme=dark] .colab-df-convert {\n",
       "      background-color: #3B4455;\n",
       "      fill: #D2E3FC;\n",
       "    }\n",
       "\n",
       "    [theme=dark] .colab-df-convert:hover {\n",
       "      background-color: #434B5C;\n",
       "      box-shadow: 0px 1px 3px 1px rgba(0, 0, 0, 0.15);\n",
       "      filter: drop-shadow(0px 1px 2px rgba(0, 0, 0, 0.3));\n",
       "      fill: #FFFFFF;\n",
       "    }\n",
       "  </style>\n",
       "\n",
       "      <script>\n",
       "        const buttonEl =\n",
       "          document.querySelector('#df-84f2f369-f5f9-412f-a019-402ec0cac0e1 button.colab-df-convert');\n",
       "        buttonEl.style.display =\n",
       "          google.colab.kernel.accessAllowed ? 'block' : 'none';\n",
       "\n",
       "        async function convertToInteractive(key) {\n",
       "          const element = document.querySelector('#df-84f2f369-f5f9-412f-a019-402ec0cac0e1');\n",
       "          const dataTable =\n",
       "            await google.colab.kernel.invokeFunction('convertToInteractive',\n",
       "                                                     [key], {});\n",
       "          if (!dataTable) return;\n",
       "\n",
       "          const docLinkHtml = 'Like what you see? Visit the ' +\n",
       "            '<a target=\"_blank\" href=https://colab.research.google.com/notebooks/data_table.ipynb>data table notebook</a>'\n",
       "            + ' to learn more about interactive tables.';\n",
       "          element.innerHTML = '';\n",
       "          dataTable['output_type'] = 'display_data';\n",
       "          await google.colab.output.renderOutput(dataTable, element);\n",
       "          const docLink = document.createElement('div');\n",
       "          docLink.innerHTML = docLinkHtml;\n",
       "          element.appendChild(docLink);\n",
       "        }\n",
       "      </script>\n",
       "    </div>\n",
       "  </div>\n",
       "  "
      ],
      "text/plain": [
       "                Drug_ID                                               Drug  \\\n",
       "0               H 95/71                        CC(C)NCC(O)COc1ccc(NC=O)cc1   \n",
       "1              H 244/45                    CCC(=O)Nc1ccc(OCC(O)CNC(C)C)cc1   \n",
       "2  D-Phe-D-Ala-D-Ser-OH  C[C@H](NC(=O)[C@H](N)Cc1ccccc1)C(=O)N[C@H](CO)...   \n",
       "3        Dexloxiglumide  CCCCCN(CCCOC)C(=O)[C@@H](CCC(=O)O)NC(=O)c1ccc(...   \n",
       "4          Ac-D-phe-NH2                     CC(=O)N[C@@H](Cc1ccccc1)C(N)=O   \n",
       "\n",
       "          Y  \n",
       "0 -5.427984  \n",
       "1 -5.219842  \n",
       "2 -6.281999  \n",
       "3 -5.140131  \n",
       "4 -5.100090  "
      ]
     },
     "execution_count": 19,
     "metadata": {},
     "output_type": "execute_result"
    }
   ],
   "source": [
    "train.head()"
   ]
  },
  {
   "cell_type": "code",
   "execution_count": 20,
   "metadata": {
    "id": "xsWQ9yQoAgX1"
   },
   "outputs": [],
   "source": [
    "# Function to convert SMILES to molecule\n",
    "def smiles_to_mol(smiles):\n",
    "    mol = Chem.MolFromSmiles(smiles)\n",
    "    return mol\n"
   ]
  },
  {
   "cell_type": "code",
   "execution_count": 21,
   "metadata": {
    "colab": {
     "base_uri": "https://localhost:8080/",
     "height": 206
    },
    "id": "iutjURSNAgJB",
    "outputId": "324af106-cf48-4b18-8d83-744c939347e2"
   },
   "outputs": [
    {
     "data": {
      "text/html": [
       "\n",
       "  <div id=\"df-2ae14785-d637-4913-82e9-411c8b700d68\">\n",
       "    <div class=\"colab-df-container\">\n",
       "      <div>\n",
       "<style scoped>\n",
       "    .dataframe tbody tr th:only-of-type {\n",
       "        vertical-align: middle;\n",
       "    }\n",
       "\n",
       "    .dataframe tbody tr th {\n",
       "        vertical-align: top;\n",
       "    }\n",
       "\n",
       "    .dataframe thead th {\n",
       "        text-align: right;\n",
       "    }\n",
       "</style>\n",
       "<table border=\"1\" class=\"dataframe\">\n",
       "  <thead>\n",
       "    <tr style=\"text-align: right;\">\n",
       "      <th></th>\n",
       "      <th>Drug_ID</th>\n",
       "      <th>Drug</th>\n",
       "      <th>Y</th>\n",
       "      <th>Molecule</th>\n",
       "    </tr>\n",
       "  </thead>\n",
       "  <tbody>\n",
       "    <tr>\n",
       "      <th>0</th>\n",
       "      <td>H 95/71</td>\n",
       "      <td>CC(C)NCC(O)COc1ccc(NC=O)cc1</td>\n",
       "      <td>-5.427984</td>\n",
       "      <td>&lt;rdkit.Chem.rdchem.Mol object at 0x7f41a6093a00&gt;</td>\n",
       "    </tr>\n",
       "    <tr>\n",
       "      <th>1</th>\n",
       "      <td>H 244/45</td>\n",
       "      <td>CCC(=O)Nc1ccc(OCC(O)CNC(C)C)cc1</td>\n",
       "      <td>-5.219842</td>\n",
       "      <td>&lt;rdkit.Chem.rdchem.Mol object at 0x7f41a6093d80&gt;</td>\n",
       "    </tr>\n",
       "    <tr>\n",
       "      <th>2</th>\n",
       "      <td>D-Phe-D-Ala-D-Ser-OH</td>\n",
       "      <td>C[C@H](NC(=O)[C@H](N)Cc1ccccc1)C(=O)N[C@H](CO)...</td>\n",
       "      <td>-6.281999</td>\n",
       "      <td>&lt;rdkit.Chem.rdchem.Mol object at 0x7f41a6093df0&gt;</td>\n",
       "    </tr>\n",
       "    <tr>\n",
       "      <th>3</th>\n",
       "      <td>Dexloxiglumide</td>\n",
       "      <td>CCCCCN(CCCOC)C(=O)[C@@H](CCC(=O)O)NC(=O)c1ccc(...</td>\n",
       "      <td>-5.140131</td>\n",
       "      <td>&lt;rdkit.Chem.rdchem.Mol object at 0x7f41a6093e60&gt;</td>\n",
       "    </tr>\n",
       "    <tr>\n",
       "      <th>4</th>\n",
       "      <td>Ac-D-phe-NH2</td>\n",
       "      <td>CC(=O)N[C@@H](Cc1ccccc1)C(N)=O</td>\n",
       "      <td>-5.100090</td>\n",
       "      <td>&lt;rdkit.Chem.rdchem.Mol object at 0x7f41a3dcc040&gt;</td>\n",
       "    </tr>\n",
       "  </tbody>\n",
       "</table>\n",
       "</div>\n",
       "      <button class=\"colab-df-convert\" onclick=\"convertToInteractive('df-2ae14785-d637-4913-82e9-411c8b700d68')\"\n",
       "              title=\"Convert this dataframe to an interactive table.\"\n",
       "              style=\"display:none;\">\n",
       "        \n",
       "  <svg xmlns=\"http://www.w3.org/2000/svg\" height=\"24px\"viewBox=\"0 0 24 24\"\n",
       "       width=\"24px\">\n",
       "    <path d=\"M0 0h24v24H0V0z\" fill=\"none\"/>\n",
       "    <path d=\"M18.56 5.44l.94 2.06.94-2.06 2.06-.94-2.06-.94-.94-2.06-.94 2.06-2.06.94zm-11 1L8.5 8.5l.94-2.06 2.06-.94-2.06-.94L8.5 2.5l-.94 2.06-2.06.94zm10 10l.94 2.06.94-2.06 2.06-.94-2.06-.94-.94-2.06-.94 2.06-2.06.94z\"/><path d=\"M17.41 7.96l-1.37-1.37c-.4-.4-.92-.59-1.43-.59-.52 0-1.04.2-1.43.59L10.3 9.45l-7.72 7.72c-.78.78-.78 2.05 0 2.83L4 21.41c.39.39.9.59 1.41.59.51 0 1.02-.2 1.41-.59l7.78-7.78 2.81-2.81c.8-.78.8-2.07 0-2.86zM5.41 20L4 18.59l7.72-7.72 1.47 1.35L5.41 20z\"/>\n",
       "  </svg>\n",
       "      </button>\n",
       "      \n",
       "  <style>\n",
       "    .colab-df-container {\n",
       "      display:flex;\n",
       "      flex-wrap:wrap;\n",
       "      gap: 12px;\n",
       "    }\n",
       "\n",
       "    .colab-df-convert {\n",
       "      background-color: #E8F0FE;\n",
       "      border: none;\n",
       "      border-radius: 50%;\n",
       "      cursor: pointer;\n",
       "      display: none;\n",
       "      fill: #1967D2;\n",
       "      height: 32px;\n",
       "      padding: 0 0 0 0;\n",
       "      width: 32px;\n",
       "    }\n",
       "\n",
       "    .colab-df-convert:hover {\n",
       "      background-color: #E2EBFA;\n",
       "      box-shadow: 0px 1px 2px rgba(60, 64, 67, 0.3), 0px 1px 3px 1px rgba(60, 64, 67, 0.15);\n",
       "      fill: #174EA6;\n",
       "    }\n",
       "\n",
       "    [theme=dark] .colab-df-convert {\n",
       "      background-color: #3B4455;\n",
       "      fill: #D2E3FC;\n",
       "    }\n",
       "\n",
       "    [theme=dark] .colab-df-convert:hover {\n",
       "      background-color: #434B5C;\n",
       "      box-shadow: 0px 1px 3px 1px rgba(0, 0, 0, 0.15);\n",
       "      filter: drop-shadow(0px 1px 2px rgba(0, 0, 0, 0.3));\n",
       "      fill: #FFFFFF;\n",
       "    }\n",
       "  </style>\n",
       "\n",
       "      <script>\n",
       "        const buttonEl =\n",
       "          document.querySelector('#df-2ae14785-d637-4913-82e9-411c8b700d68 button.colab-df-convert');\n",
       "        buttonEl.style.display =\n",
       "          google.colab.kernel.accessAllowed ? 'block' : 'none';\n",
       "\n",
       "        async function convertToInteractive(key) {\n",
       "          const element = document.querySelector('#df-2ae14785-d637-4913-82e9-411c8b700d68');\n",
       "          const dataTable =\n",
       "            await google.colab.kernel.invokeFunction('convertToInteractive',\n",
       "                                                     [key], {});\n",
       "          if (!dataTable) return;\n",
       "\n",
       "          const docLinkHtml = 'Like what you see? Visit the ' +\n",
       "            '<a target=\"_blank\" href=https://colab.research.google.com/notebooks/data_table.ipynb>data table notebook</a>'\n",
       "            + ' to learn more about interactive tables.';\n",
       "          element.innerHTML = '';\n",
       "          dataTable['output_type'] = 'display_data';\n",
       "          await google.colab.output.renderOutput(dataTable, element);\n",
       "          const docLink = document.createElement('div');\n",
       "          docLink.innerHTML = docLinkHtml;\n",
       "          element.appendChild(docLink);\n",
       "        }\n",
       "      </script>\n",
       "    </div>\n",
       "  </div>\n",
       "  "
      ],
      "text/plain": [
       "                Drug_ID                                               Drug  \\\n",
       "0               H 95/71                        CC(C)NCC(O)COc1ccc(NC=O)cc1   \n",
       "1              H 244/45                    CCC(=O)Nc1ccc(OCC(O)CNC(C)C)cc1   \n",
       "2  D-Phe-D-Ala-D-Ser-OH  C[C@H](NC(=O)[C@H](N)Cc1ccccc1)C(=O)N[C@H](CO)...   \n",
       "3        Dexloxiglumide  CCCCCN(CCCOC)C(=O)[C@@H](CCC(=O)O)NC(=O)c1ccc(...   \n",
       "4          Ac-D-phe-NH2                     CC(=O)N[C@@H](Cc1ccccc1)C(N)=O   \n",
       "\n",
       "          Y                                          Molecule  \n",
       "0 -5.427984  <rdkit.Chem.rdchem.Mol object at 0x7f41a6093a00>  \n",
       "1 -5.219842  <rdkit.Chem.rdchem.Mol object at 0x7f41a6093d80>  \n",
       "2 -6.281999  <rdkit.Chem.rdchem.Mol object at 0x7f41a6093df0>  \n",
       "3 -5.140131  <rdkit.Chem.rdchem.Mol object at 0x7f41a6093e60>  \n",
       "4 -5.100090  <rdkit.Chem.rdchem.Mol object at 0x7f41a3dcc040>  "
      ]
     },
     "execution_count": 21,
     "metadata": {},
     "output_type": "execute_result"
    }
   ],
   "source": [
    "# Read SMILES from the dataframe and convert to molecules\n",
    "train['Molecule'] = train['Drug'].apply(smiles_to_mol)\n",
    "train.head()"
   ]
  },
  {
   "cell_type": "code",
   "execution_count": 22,
   "metadata": {
    "colab": {
     "base_uri": "https://localhost:8080/",
     "height": 167
    },
    "id": "HRw3JzZYAffu",
    "outputId": "2af9512c-927e-4350-86a3-c7b92b486926"
   },
   "outputs": [
    {
     "data": {
      "image/png": "[encoded data removed]",
      "text/plain": [
       "<rdkit.Chem.rdchem.Mol at 0x7f41a6093e60>"
      ]
     },
     "execution_count": 22,
     "metadata": {},
     "output_type": "execute_result"
    }
   ],
   "source": [
    "train.Molecule[3]"
   ]
  },
  {
   "cell_type": "code",
   "execution_count": 38,
   "metadata": {
    "id": "Xb_RTCRAsR0P"
   },
   "outputs": [],
   "source": [
    "# Let's add the structures to the dataframe\n",
    "# Note: this is another way of adding instead of creating a function like before:\n",
    "from rdkit.Chem import PandasTools, Descriptors, AllChem, rdFingerprintGenerator\n",
    "#PandasTools.AddMoleculeColumnToFrame(train, 'Drug', 'Structure')"
   ]
  },
  {
   "cell_type": "code",
   "execution_count": 23,
   "metadata": {
    "id": "Jz29e7I1cce8"
   },
   "outputs": [],
   "source": [
    "import numpy as np"
   ]
  },
  {
   "cell_type": "code",
   "execution_count": 41,
   "metadata": {
    "id": "z4DdeYQAvdev"
   },
   "outputs": [],
   "source": [
    "# Before we generate fingerprints, we need to add H-atoms. \n",
    "# There are no hydrogens in these structures. \n",
    "for idx, mol in enumerate(train.Molecule):\n",
    "  train.Molecule[idx] = Chem.AddHs(mol)"
   ]
  },
  {
   "cell_type": "code",
   "execution_count": 43,
   "metadata": {
    "colab": {
     "base_uri": "https://localhost:8080/",
     "height": 167
    },
    "id": "1CXCJGlAwb9D",
    "outputId": "f2284140-7009-442b-d565-78f62584328f"
   },
   "outputs": [
    {
     "data": {
      "image/png": "[encoded data removed]",
      "text/plain": [
       "<rdkit.Chem.rdchem.Mol at 0x7f41a6093df0>"
      ]
     },
     "execution_count": 43,
     "metadata": {},
     "output_type": "execute_result"
    }
   ],
   "source": [
    "train.Molecule[3] # Now we have added H-atoms to all molecules"
   ]
  },
  {
   "cell_type": "code",
   "execution_count": 44,
   "metadata": {
    "colab": {
     "base_uri": "https://localhost:8080/"
    },
    "id": "r4sV6ZQ532zn",
    "outputId": "58418698-b952-456b-fe1f-34f332fd7cdf"
   },
   "outputs": [
    {
     "name": "stdout",
     "output_type": "stream",
     "text": [
      "{574529: 1, 574530: 1, 574531: 2, 574532: 1, 574561: 4, 574562: 4, 574563: 2, 689222: 2, 689223: 1, 689225: 1, 689228: 2, 689229: 2, 689251: 2, 689252: 3, 689253: 5, 689254: 5, 689255: 2, 689256: 2, 689257: 3, 689258: 4, 689259: 6, 689260: 6, 689261: 2, 689473: 3, 689474: 3, 689475: 6, 689476: 3, 689477: 3, 689478: 6, 689479: 4, 705605: 1, 705607: 1, 705608: 1, 705609: 1, 705610: 1, 705611: 1, 705614: 1, 705634: 1, 705635: 1, 705636: 3, 705637: 3, 705638: 4, 705639: 5, 705640: 5, 705641: 4, 705642: 3, 705643: 2, 705644: 1, 705645: 2, 705646: 1, 705857: 9, 705858: 14, 705859: 9, 705860: 8, 705861: 7, 705862: 2, 705863: 3, 705864: 4, 705889: 4, 705890: 4, 705891: 4, 705892: 3, 705893: 2, 705894: 2, 705895: 1, 705897: 1, 1590337: 1, 1590339: 1, 1590340: 1, 1590341: 1, 1590351: 1, 1590369: 3, 1590370: 7, 1590371: 5, 1590372: 4, 1590373: 1, 1590380: 1, 1590381: 1, 1590382: 2, 1590383: 1, 1590594: 2, 1590595: 2, 1590597: 2, 1590598: 4, 1590599: 5, 1590600: 4, 1590601: 3, 1590602: 2, 1590603: 2, 1590604: 4, 1590605: 6, 1590606: 4, 1590625: 1, 1590628: 2, 1590629: 2, 1590630: 4, 1590631: 3, 1590632: 5, 1590633: 4, 1590634: 5, 1590635: 3, 1590636: 2, 1590637: 1, 1590638: 1, 1590639: 2, 1592355: 2, 1592356: 2, 1592357: 1, 1592358: 1, 1592366: 1, 1592367: 1, 1592368: 2, 1606722: 1, 1606724: 1, 1606753: 3, 1606754: 3, 1606755: 3, 1606756: 1, 1606978: 2, 1606979: 1, 1606980: 2, 1606981: 2, 1606983: 1, 1606984: 2, 1606985: 2, 1606986: 2, 1606987: 2, 1607009: 1, 1607011: 2, 1607012: 1, 1607013: 2, 1607014: 2, 1607015: 2, 1607016: 1, 1607017: 1, 1607018: 1, 1607020: 1, 1608739: 4, 1608740: 2, 1608741: 2, 1608747: 1, 1608749: 1, 1608770: 1, 1721418: 1, 1721447: 1, 1721448: 1, 1721449: 2, 1721450: 1, 1721667: 2, 1721668: 4, 1721669: 2, 1721697: 1, 1721698: 2, 1721699: 2, 1721701: 1, 1721702: 1, 1723431: 1, 1723433: 1, 1723434: 1, 1723435: 2, 1723462: 1, 1723464: 1, 1737800: 1, 1737829: 1, 1737830: 1, 1737831: 2, 1737832: 1, 1738049: 1, 1738050: 1, 1738051: 1, 1738052: 3, 1738053: 2, 1738081: 1, 1738082: 2, 1738083: 3, 1738086: 1, 1739815: 2, 1739816: 1, 1739817: 2, 1739844: 1, 1739846: 1, 1740068: 1}\n"
     ]
    }
   ],
   "source": [
    "# This is an atom pair fingerprint generator. \n",
    "# They are stored in 'bits'. The key in the dict is the bit.\n",
    "# The value is the count. Read more in the Docs.\n",
    "generator = rdFingerprintGenerator.GetAtomPairGenerator()\n",
    "fingerprint = generator.GetSparseCountFingerprint(mol)\n",
    "non_zero = fingerprint.GetNonzeroElements()\n",
    "\n",
    "print(np.array(non_zero))"
   ]
  },
  {
   "cell_type": "code",
   "execution_count": 45,
   "metadata": {
    "colab": {
     "base_uri": "https://localhost:8080/",
     "height": 167
    },
    "id": "j6nrDw49BMhk",
    "outputId": "99df1c36-c069-4cfc-85c4-16072c06329c"
   },
   "outputs": [
    {
     "data": {
      "image/png": "[encoded data removed]",
      "text/plain": [
       "<rdkit.Chem.rdchem.Mol at 0x7f41a3ddd8c0>"
      ]
     },
     "execution_count": 45,
     "metadata": {},
     "output_type": "execute_result"
    }
   ],
   "source": [
    "mol"
   ]
  },
  {
   "cell_type": "code",
   "execution_count": 46,
   "metadata": {
    "id": "46J-UDPOBRh3"
   },
   "outputs": [],
   "source": [
    "# Molecular fingerprints are molecular descriptors \n",
    "# that encode molecular features/fragments of a molecule\n",
    "# in the form of a binary digit (0 or 1).\n",
    "# A bit is ON or 1 if a certain fragment is found in a molecular structure.\n",
    "# Note: this differs from the 'count' based storing. This is only for your knowledge\n",
    "# and we can decide which method works best for us later."
   ]
  },
  {
   "cell_type": "code",
   "execution_count": 47,
   "metadata": {
    "colab": {
     "base_uri": "https://localhost:8080/"
    },
    "id": "D9c8wgHNa0Fg",
    "outputId": "d9482e14-3bb2-4a2e-a613-c3abda3fcd77"
   },
   "outputs": [
    {
     "name": "stdout",
     "output_type": "stream",
     "text": [
      "[0 0 0 0 0 0 0 0 0 0 0 0 0 0 0 0 0 0 0 0 0 0 0 0 0 0 0 0 0 0 0 0 0 0 0 0 0\n",
      " 0 0 0 0 0 0 0 0 0 0 0 0 0 0 0 0 0 1 0 0 0 0 0 0 0 0 0 0 0 0 0 0 0 0 0 1 0\n",
      " 1 0 0 0 0 0 0 0 1 0 0 0 0 0 0 0 1 0 0 0 0 1 0 1 0 0 1 0 0 0 1 0 0 0 0 1 1\n",
      " 0 1 1 0 0 1 1 0 0 0 0 1 0 0 0 1 1 0 0 0 1 1 1 0 1 0 0 1 1 0 0 1 1 1 0 1 0\n",
      " 1 1 1 1 1 1 1 1 1 1 1 1 1 1 1 1 1 1 0]\n"
     ]
    }
   ],
   "source": [
    "# Generate MACCS (Molecular ACCess System) keys (a type of fingerprinting)\n",
    "Mkeys = MACCSkeys.GenMACCSKeys(train.Molecule[0])\n",
    "print(np.array(Mkeys))"
   ]
  },
  {
   "cell_type": "code",
   "execution_count": 47,
   "metadata": {
    "id": "IZXHfSefjoA-"
   },
   "outputs": [],
   "source": []
  },
  {
   "cell_type": "code",
   "execution_count": 48,
   "metadata": {
    "id": "dP_khRSmdoYt"
   },
   "outputs": [],
   "source": [
    "# Lipinski's rule of 5:\n",
    "# Poor absorption is likely if the molecule violates more than one of the following conditions:\n",
    "# Molecular Weight <= 500 Da\n",
    "# No. Hydrogen Bond Donors <= 10\n",
    "# No. Hydrogen Bond Acceptors <= 5\n",
    "# LogP <= 5"
   ]
  },
  {
   "cell_type": "code",
   "execution_count": 49,
   "metadata": {
    "colab": {
     "base_uri": "https://localhost:8080/",
     "height": 167
    },
    "id": "DJM91H3Ejg_q",
    "outputId": "bda9675e-675b-4902-ac98-8147b14959b3"
   },
   "outputs": [
    {
     "data": {
      "image/png": "[encoded data removed]",
      "text/plain": [
       "<rdkit.Chem.rdchem.Mol at 0x7f41a3ddd8c0>"
      ]
     },
     "execution_count": 49,
     "metadata": {},
     "output_type": "execute_result"
    }
   ],
   "source": [
    "mol"
   ]
  },
  {
   "cell_type": "code",
   "execution_count": 50,
   "metadata": {
    "colab": {
     "base_uri": "https://localhost:8080/"
    },
    "id": "eqtjM7-xjawm",
    "outputId": "7eb54ca9-d40e-4b40-839d-5e980ba1e784"
   },
   "outputs": [
    {
     "name": "stdout",
     "output_type": "stream",
     "text": [
      "True\n"
     ]
    }
   ],
   "source": [
    "# This chunk checks for Lipinski's rule of 5\n",
    "MW = Descriptors.MolWt(mol)\n",
    "HBA = Descriptors.NOCount(mol)\n",
    "HBD = Descriptors.NHOHCount(mol)\n",
    "LogP = Descriptors.MolLogP(mol)\n",
    "conditions = [MW <= 500, HBA <= 10, HBD <= 5, LogP <= 5]\n",
    "pass_ro5 = conditions.count(True) >= 3\n",
    "print(pass_ro5)"
   ]
  },
  {
   "cell_type": "code",
   "execution_count": 51,
   "metadata": {
    "colab": {
     "base_uri": "https://localhost:8080/"
    },
    "id": "43-3NKQSjmaV",
    "outputId": "d8afa851-917a-42ae-9a4e-8702b4cd4301"
   },
   "outputs": [
    {
     "name": "stdout",
     "output_type": "stream",
     "text": [
      "{'MaxAbsEStateIndex': 12.811491797310701, 'MaxEStateIndex': 12.811491797310701, 'MinAbsEStateIndex': 0.08232491724517099, 'MinEStateIndex': -1.562818797244893, 'qed': 0.40574763367710653, 'MolWt': 416.38200000000006, 'HeavyAtomMolWt': 396.2220000000002, 'ExactMolWt': 416.11073221999993, 'NumValenceElectrons': 158, 'NumRadicalElectrons': 0, 'MaxPartialCharge': 0.22872410536661011, 'MinPartialCharge': -0.507966244667516, 'MaxAbsPartialCharge': 0.507966244667516, 'MinAbsPartialCharge': 0.22872410536661011, 'FpDensityMorgan1': 0.9666666666666667, 'FpDensityMorgan2': 1.7, 'FpDensityMorgan3': 2.4, 'BCUT2D_MWHI': 16.705490312282418, 'BCUT2D_MWLOW': 9.992342525545373, 'BCUT2D_CHGHI': 2.4426322425823574, 'BCUT2D_CHGLO': -2.39046186250377, 'BCUT2D_LOGPHI': 2.2742150985590635, 'BCUT2D_LOGPLOW': -2.595694859970497, 'BCUT2D_MRHI': 5.82215087747986, 'BCUT2D_MRLOW': -0.27704531688135053, 'AvgIpc': 2.7499986174505677, 'BalabanJ': 1.6182381879820489, 'BertzCT': 1089.822503007, 'Chi0': 21.413484604514085, 'Chi0n': 15.58172142000693, 'Chi0v': 15.58172142000693, 'Chi1': 14.384249150759295, 'Chi1n': 9.209270545436672, 'Chi1v': 9.209270545436672, 'Chi2n': 6.998469099064398, 'Chi2v': 6.998469099064398, 'Chi3n': 5.025067919565462, 'Chi3v': 5.025067919565462, 'Chi4n': 3.321052851052292, 'Chi4v': 3.321052851052292, 'HallKierAlpha': -2.9499999999999997, 'Ipc': 6365696.799674574, 'Kappa1': 20.327958809637845, 'Kappa2': 8.05440748410017, 'Kappa3': 3.644749707726645, 'LabuteASA': 169.5185815341932, 'PEOE_VSA1': 39.42351381885697, 'PEOE_VSA10': 47.76107235484231, 'PEOE_VSA11': 5.428790391900541, 'PEOE_VSA12': 6.290026729335213, 'PEOE_VSA13': 0.0, 'PEOE_VSA14': 0.0, 'PEOE_VSA2': 4.794537184071822, 'PEOE_VSA3': 0.0, 'PEOE_VSA4': 0.0, 'PEOE_VSA5': 0.0, 'PEOE_VSA6': 12.13273413692322, 'PEOE_VSA7': 29.828919765543436, 'PEOE_VSA8': 6.06636706846161, 'PEOE_VSA9': 17.55655767067471, 'SMR_VSA1': 39.42351381885697, 'SMR_VSA10': 10.969244356107037, 'SMR_VSA2': 0.0, 'SMR_VSA3': 0.0, 'SMR_VSA4': 0.0, 'SMR_VSA5': 30.70589228032842, 'SMR_VSA6': 6.606881964512918, 'SMR_VSA7': 58.951060050842685, 'SMR_VSA8': 0.0, 'SMR_VSA9': 22.6259266499618, 'SlogP_VSA1': 10.16565334570059, 'SlogP_VSA10': 0.0, 'SlogP_VSA11': 11.49902366656781, 'SlogP_VSA12': 0.0, 'SlogP_VSA2': 62.84541121904486, 'SlogP_VSA3': 4.736862953800049, 'SlogP_VSA4': 0.0, 'SlogP_VSA5': 0.0, 'SlogP_VSA6': 57.93942059599549, 'SlogP_VSA7': 0.0, 'SlogP_VSA8': 22.09614733950103, 'SlogP_VSA9': 0.0, 'TPSA': 149.82, 'EState_VSA1': 37.312774244841336, 'EState_VSA10': 30.327174158275348, 'EState_VSA11': 0.0, 'EState_VSA2': 22.510834200110594, 'EState_VSA3': 16.513127197858786, 'EState_VSA4': 0.0, 'EState_VSA5': 36.5949983379471, 'EState_VSA6': 12.13273413692322, 'EState_VSA7': 0.0, 'EState_VSA8': 0.0, 'EState_VSA9': 13.890876844653445, 'VSA_EState1': 16.432227033971227, 'VSA_EState10': 0.0, 'VSA_EState2': 12.811491797310701, 'VSA_EState3': 48.744557506759676, 'VSA_EState4': 0.8621721791883243, 'VSA_EState5': 0.2696980811316829, 'VSA_EState6': 10.533057283554875, 'VSA_EState7': -5.747885984473775, 'VSA_EState8': -0.5719845641093753, 'VSA_EState9': 0.0, 'FractionCSP3': 0.2857142857142857, 'HeavyAtomCount': 30, 'NHOHCount': 5, 'NOCount': 9, 'NumAliphaticCarbocycles': 0, 'NumAliphaticHeterocycles': 1, 'NumAliphaticRings': 1, 'NumAromaticCarbocycles': 2, 'NumAromaticHeterocycles': 1, 'NumAromaticRings': 3, 'NumHAcceptors': 9, 'NumHDonors': 5, 'NumHeteroatoms': 9, 'NumRotatableBonds': 4, 'NumSaturatedCarbocycles': 0, 'NumSaturatedHeterocycles': 1, 'NumSaturatedRings': 1, 'RingCount': 4, 'MolLogP': 0.34429999999999994, 'MolMR': 103.98000000000002, 'fr_Al_COO': 0, 'fr_Al_OH': 4, 'fr_Al_OH_noTert': 4, 'fr_ArN': 0, 'fr_Ar_COO': 0, 'fr_Ar_N': 0, 'fr_Ar_NH': 0, 'fr_Ar_OH': 1, 'fr_COO': 0, 'fr_COO2': 0, 'fr_C_O': 0, 'fr_C_O_noCOO': 0, 'fr_C_S': 0, 'fr_HOCCN': 0, 'fr_Imine': 0, 'fr_NH0': 0, 'fr_NH1': 0, 'fr_NH2': 0, 'fr_N_O': 0, 'fr_Ndealkylation1': 0, 'fr_Ndealkylation2': 0, 'fr_Nhpyrrole': 0, 'fr_SH': 0, 'fr_aldehyde': 0, 'fr_alkyl_carbamate': 0, 'fr_alkyl_halide': 0, 'fr_allylic_oxid': 0, 'fr_amide': 0, 'fr_amidine': 0, 'fr_aniline': 0, 'fr_aryl_methyl': 0, 'fr_azide': 0, 'fr_azo': 0, 'fr_barbitur': 0, 'fr_benzene': 2, 'fr_benzodiazepine': 0, 'fr_bicyclic': 1, 'fr_diazo': 0, 'fr_dihydropyridine': 0, 'fr_epoxide': 0, 'fr_ester': 0, 'fr_ether': 2, 'fr_furan': 0, 'fr_guanido': 0, 'fr_halogen': 0, 'fr_hdrzine': 0, 'fr_hdrzone': 0, 'fr_imidazole': 0, 'fr_imide': 0, 'fr_isocyan': 0, 'fr_isothiocyan': 0, 'fr_ketone': 0, 'fr_ketone_Topliss': 0, 'fr_lactam': 0, 'fr_lactone': 0, 'fr_methoxy': 0, 'fr_morpholine': 0, 'fr_nitrile': 0, 'fr_nitro': 0, 'fr_nitro_arom': 0, 'fr_nitro_arom_nonortho': 0, 'fr_nitroso': 0, 'fr_oxazole': 0, 'fr_oxime': 0, 'fr_para_hydroxylation': 0, 'fr_phenol': 1, 'fr_phenol_noOrthoHbond': 1, 'fr_phos_acid': 0, 'fr_phos_ester': 0, 'fr_piperdine': 0, 'fr_piperzine': 0, 'fr_priamide': 0, 'fr_prisulfonamd': 0, 'fr_pyridine': 0, 'fr_quatN': 0, 'fr_sulfide': 0, 'fr_sulfonamd': 0, 'fr_sulfone': 0, 'fr_term_acetylene': 0, 'fr_tetrazole': 0, 'fr_thiazole': 0, 'fr_thiocyan': 0, 'fr_thiophene': 0, 'fr_unbrch_alkane': 0, 'fr_urea': 0}\n"
     ]
    }
   ],
   "source": [
    "# If you want other descriptors:\n",
    "# See RDkit for full description of these descriptors\n",
    "vals = Descriptors.CalcMolDescriptors(mol)\n",
    "print(vals)"
   ]
  },
  {
   "cell_type": "code",
   "execution_count": 52,
   "metadata": {
    "id": "7_YpPpZ4kj0T"
   },
   "outputs": [],
   "source": [
    "# This demonstrates Morgan fingerprints for a molecule\n",
    "fpgen = rdFingerprintGenerator.GetMorganGenerator(radius=2)\n",
    "ao = AllChem.AdditionalOutput()\n",
    "ao.CollectBitInfoMap()\n",
    "fp = fpgen.GetSparseCountFingerprint(mol,additionalOutput=ao)"
   ]
  },
  {
   "cell_type": "code",
   "execution_count": 53,
   "metadata": {
    "colab": {
     "base_uri": "https://localhost:8080/"
    },
    "id": "OntG7sg-liic",
    "outputId": "90d4ae27-a06e-48bb-e49f-c15f74c7fd24"
   },
   "outputs": [
    {
     "data": {
      "text/plain": [
       "51"
      ]
     },
     "execution_count": 53,
     "metadata": {},
     "output_type": "execute_result"
    }
   ],
   "source": [
    "len(fp.GetNonzeroElements())"
   ]
  },
  {
   "cell_type": "code",
   "execution_count": 54,
   "metadata": {
    "colab": {
     "base_uri": "https://localhost:8080/"
    },
    "id": "qIvfvcpDpfi3",
    "outputId": "ed66a934-f6aa-4a33-ca42-091b08770c96"
   },
   "outputs": [
    {
     "data": {
      "text/plain": [
       "<rdkit.DataStructs.cDataStructs.ULongSparseIntVect at 0x7f41a0c37530>"
      ]
     },
     "execution_count": 54,
     "metadata": {},
     "output_type": "execute_result"
    }
   ],
   "source": [
    "fp"
   ]
  },
  {
   "cell_type": "code",
   "execution_count": 55,
   "metadata": {
    "colab": {
     "base_uri": "https://localhost:8080/",
     "height": 206
    },
    "id": "jJTVtIo5pisx",
    "outputId": "e0c1f595-9c87-4230-cdaf-946bb10cb5ca"
   },
   "outputs": [
    {
     "data": {
      "text/html": [
       "\n",
       "  <div id=\"df-6b937f20-79da-4762-ab18-69e5c0a9a0e7\">\n",
       "    <div class=\"colab-df-container\">\n",
       "      <div>\n",
       "<style scoped>\n",
       "    .dataframe tbody tr th:only-of-type {\n",
       "        vertical-align: middle;\n",
       "    }\n",
       "\n",
       "    .dataframe tbody tr th {\n",
       "        vertical-align: top;\n",
       "    }\n",
       "\n",
       "    .dataframe thead th {\n",
       "        text-align: right;\n",
       "    }\n",
       "</style>\n",
       "<table border=\"1\" class=\"dataframe\">\n",
       "  <thead>\n",
       "    <tr style=\"text-align: right;\">\n",
       "      <th></th>\n",
       "      <th>Drug_ID</th>\n",
       "      <th>Drug</th>\n",
       "      <th>Y</th>\n",
       "      <th>Molecule</th>\n",
       "    </tr>\n",
       "  </thead>\n",
       "  <tbody>\n",
       "    <tr>\n",
       "      <th>0</th>\n",
       "      <td>H 95/71</td>\n",
       "      <td>CC(C)NCC(O)COc1ccc(NC=O)cc1</td>\n",
       "      <td>-5.427984</td>\n",
       "      <td>&lt;rdkit.Chem.rdchem.Mol object at 0x7f41a0c36ff0&gt;</td>\n",
       "    </tr>\n",
       "    <tr>\n",
       "      <th>1</th>\n",
       "      <td>H 244/45</td>\n",
       "      <td>CCC(=O)Nc1ccc(OCC(O)CNC(C)C)cc1</td>\n",
       "      <td>-5.219842</td>\n",
       "      <td>&lt;rdkit.Chem.rdchem.Mol object at 0x7f41a0c37060&gt;</td>\n",
       "    </tr>\n",
       "    <tr>\n",
       "      <th>2</th>\n",
       "      <td>D-Phe-D-Ala-D-Ser-OH</td>\n",
       "      <td>C[C@H](NC(=O)[C@H](N)Cc1ccccc1)C(=O)N[C@H](CO)...</td>\n",
       "      <td>-6.281999</td>\n",
       "      <td>&lt;rdkit.Chem.rdchem.Mol object at 0x7f41a6093d80&gt;</td>\n",
       "    </tr>\n",
       "    <tr>\n",
       "      <th>3</th>\n",
       "      <td>Dexloxiglumide</td>\n",
       "      <td>CCCCCN(CCCOC)C(=O)[C@@H](CCC(=O)O)NC(=O)c1ccc(...</td>\n",
       "      <td>-5.140131</td>\n",
       "      <td>&lt;rdkit.Chem.rdchem.Mol object at 0x7f41a6093df0&gt;</td>\n",
       "    </tr>\n",
       "    <tr>\n",
       "      <th>4</th>\n",
       "      <td>Ac-D-phe-NH2</td>\n",
       "      <td>CC(=O)N[C@@H](Cc1ccccc1)C(N)=O</td>\n",
       "      <td>-5.100090</td>\n",
       "      <td>&lt;rdkit.Chem.rdchem.Mol object at 0x7f41a0c370d0&gt;</td>\n",
       "    </tr>\n",
       "  </tbody>\n",
       "</table>\n",
       "</div>\n",
       "      <button class=\"colab-df-convert\" onclick=\"convertToInteractive('df-6b937f20-79da-4762-ab18-69e5c0a9a0e7')\"\n",
       "              title=\"Convert this dataframe to an interactive table.\"\n",
       "              style=\"display:none;\">\n",
       "        \n",
       "  <svg xmlns=\"http://www.w3.org/2000/svg\" height=\"24px\"viewBox=\"0 0 24 24\"\n",
       "       width=\"24px\">\n",
       "    <path d=\"M0 0h24v24H0V0z\" fill=\"none\"/>\n",
       "    <path d=\"M18.56 5.44l.94 2.06.94-2.06 2.06-.94-2.06-.94-.94-2.06-.94 2.06-2.06.94zm-11 1L8.5 8.5l.94-2.06 2.06-.94-2.06-.94L8.5 2.5l-.94 2.06-2.06.94zm10 10l.94 2.06.94-2.06 2.06-.94-2.06-.94-.94-2.06-.94 2.06-2.06.94z\"/><path d=\"M17.41 7.96l-1.37-1.37c-.4-.4-.92-.59-1.43-.59-.52 0-1.04.2-1.43.59L10.3 9.45l-7.72 7.72c-.78.78-.78 2.05 0 2.83L4 21.41c.39.39.9.59 1.41.59.51 0 1.02-.2 1.41-.59l7.78-7.78 2.81-2.81c.8-.78.8-2.07 0-2.86zM5.41 20L4 18.59l7.72-7.72 1.47 1.35L5.41 20z\"/>\n",
       "  </svg>\n",
       "      </button>\n",
       "      \n",
       "  <style>\n",
       "    .colab-df-container {\n",
       "      display:flex;\n",
       "      flex-wrap:wrap;\n",
       "      gap: 12px;\n",
       "    }\n",
       "\n",
       "    .colab-df-convert {\n",
       "      background-color: #E8F0FE;\n",
       "      border: none;\n",
       "      border-radius: 50%;\n",
       "      cursor: pointer;\n",
       "      display: none;\n",
       "      fill: #1967D2;\n",
       "      height: 32px;\n",
       "      padding: 0 0 0 0;\n",
       "      width: 32px;\n",
       "    }\n",
       "\n",
       "    .colab-df-convert:hover {\n",
       "      background-color: #E2EBFA;\n",
       "      box-shadow: 0px 1px 2px rgba(60, 64, 67, 0.3), 0px 1px 3px 1px rgba(60, 64, 67, 0.15);\n",
       "      fill: #174EA6;\n",
       "    }\n",
       "\n",
       "    [theme=dark] .colab-df-convert {\n",
       "      background-color: #3B4455;\n",
       "      fill: #D2E3FC;\n",
       "    }\n",
       "\n",
       "    [theme=dark] .colab-df-convert:hover {\n",
       "      background-color: #434B5C;\n",
       "      box-shadow: 0px 1px 3px 1px rgba(0, 0, 0, 0.15);\n",
       "      filter: drop-shadow(0px 1px 2px rgba(0, 0, 0, 0.3));\n",
       "      fill: #FFFFFF;\n",
       "    }\n",
       "  </style>\n",
       "\n",
       "      <script>\n",
       "        const buttonEl =\n",
       "          document.querySelector('#df-6b937f20-79da-4762-ab18-69e5c0a9a0e7 button.colab-df-convert');\n",
       "        buttonEl.style.display =\n",
       "          google.colab.kernel.accessAllowed ? 'block' : 'none';\n",
       "\n",
       "        async function convertToInteractive(key) {\n",
       "          const element = document.querySelector('#df-6b937f20-79da-4762-ab18-69e5c0a9a0e7');\n",
       "          const dataTable =\n",
       "            await google.colab.kernel.invokeFunction('convertToInteractive',\n",
       "                                                     [key], {});\n",
       "          if (!dataTable) return;\n",
       "\n",
       "          const docLinkHtml = 'Like what you see? Visit the ' +\n",
       "            '<a target=\"_blank\" href=https://colab.research.google.com/notebooks/data_table.ipynb>data table notebook</a>'\n",
       "            + ' to learn more about interactive tables.';\n",
       "          element.innerHTML = '';\n",
       "          dataTable['output_type'] = 'display_data';\n",
       "          await google.colab.output.renderOutput(dataTable, element);\n",
       "          const docLink = document.createElement('div');\n",
       "          docLink.innerHTML = docLinkHtml;\n",
       "          element.appendChild(docLink);\n",
       "        }\n",
       "      </script>\n",
       "    </div>\n",
       "  </div>\n",
       "  "
      ],
      "text/plain": [
       "                Drug_ID                                               Drug  \\\n",
       "0               H 95/71                        CC(C)NCC(O)COc1ccc(NC=O)cc1   \n",
       "1              H 244/45                    CCC(=O)Nc1ccc(OCC(O)CNC(C)C)cc1   \n",
       "2  D-Phe-D-Ala-D-Ser-OH  C[C@H](NC(=O)[C@H](N)Cc1ccccc1)C(=O)N[C@H](CO)...   \n",
       "3        Dexloxiglumide  CCCCCN(CCCOC)C(=O)[C@@H](CCC(=O)O)NC(=O)c1ccc(...   \n",
       "4          Ac-D-phe-NH2                     CC(=O)N[C@@H](Cc1ccccc1)C(N)=O   \n",
       "\n",
       "          Y                                          Molecule  \n",
       "0 -5.427984  <rdkit.Chem.rdchem.Mol object at 0x7f41a0c36ff0>  \n",
       "1 -5.219842  <rdkit.Chem.rdchem.Mol object at 0x7f41a0c37060>  \n",
       "2 -6.281999  <rdkit.Chem.rdchem.Mol object at 0x7f41a6093d80>  \n",
       "3 -5.140131  <rdkit.Chem.rdchem.Mol object at 0x7f41a6093df0>  \n",
       "4 -5.100090  <rdkit.Chem.rdchem.Mol object at 0x7f41a0c370d0>  "
      ]
     },
     "execution_count": 55,
     "metadata": {},
     "output_type": "execute_result"
    }
   ],
   "source": [
    "train.head()"
   ]
  },
  {
   "cell_type": "code",
   "execution_count": 56,
   "metadata": {
    "colab": {
     "base_uri": "https://localhost:8080/"
    },
    "id": "GLb03ikzx_uy",
    "outputId": "539ba1bd-258c-483c-d7d1-81101b8a7b58"
   },
   "outputs": [
    {
     "data": {
      "text/plain": [
       "416.38200000000006"
      ]
     },
     "execution_count": 56,
     "metadata": {},
     "output_type": "execute_result"
    }
   ],
   "source": [
    "MW"
   ]
  },
  {
   "cell_type": "code",
   "execution_count": 68,
   "metadata": {
    "id": "KZwsnaPVyFhx"
   },
   "outputs": [],
   "source": [
    "# Adding a column to the dataframe for molecular wt.\n",
    "# Maybe there's an inbuilt function for this too. \n",
    "for idx, mol in enumerate(train.Molecule):\n",
    "  mw = Descriptors.MolWt(mol)\n",
    "  train.MolecularWt[idx] = mw"
   ]
  },
  {
   "cell_type": "code",
   "execution_count": 69,
   "metadata": {
    "colab": {
     "base_uri": "https://localhost:8080/",
     "height": 206
    },
    "id": "EHZtwY-wyTSO",
    "outputId": "256f0470-c76d-4373-9a75-c9378c26e3cc"
   },
   "outputs": [
    {
     "data": {
      "text/html": [
       "\n",
       "  <div id=\"df-695ecb20-f530-47e3-ad77-3623a8ccf384\">\n",
       "    <div class=\"colab-df-container\">\n",
       "      <div>\n",
       "<style scoped>\n",
       "    .dataframe tbody tr th:only-of-type {\n",
       "        vertical-align: middle;\n",
       "    }\n",
       "\n",
       "    .dataframe tbody tr th {\n",
       "        vertical-align: top;\n",
       "    }\n",
       "\n",
       "    .dataframe thead th {\n",
       "        text-align: right;\n",
       "    }\n",
       "</style>\n",
       "<table border=\"1\" class=\"dataframe\">\n",
       "  <thead>\n",
       "    <tr style=\"text-align: right;\">\n",
       "      <th></th>\n",
       "      <th>Drug_ID</th>\n",
       "      <th>Drug</th>\n",
       "      <th>Y</th>\n",
       "      <th>Molecule</th>\n",
       "      <th>MolecularWt</th>\n",
       "    </tr>\n",
       "  </thead>\n",
       "  <tbody>\n",
       "    <tr>\n",
       "      <th>0</th>\n",
       "      <td>H 95/71</td>\n",
       "      <td>CC(C)NCC(O)COc1ccc(NC=O)cc1</td>\n",
       "      <td>-5.427984</td>\n",
       "      <td>&lt;rdkit.Chem.rdchem.Mol object at 0x7f41a0c36ff0&gt;</td>\n",
       "      <td>252.314</td>\n",
       "    </tr>\n",
       "    <tr>\n",
       "      <th>1</th>\n",
       "      <td>H 244/45</td>\n",
       "      <td>CCC(=O)Nc1ccc(OCC(O)CNC(C)C)cc1</td>\n",
       "      <td>-5.219842</td>\n",
       "      <td>&lt;rdkit.Chem.rdchem.Mol object at 0x7f41a0c37060&gt;</td>\n",
       "      <td>280.368</td>\n",
       "    </tr>\n",
       "    <tr>\n",
       "      <th>2</th>\n",
       "      <td>D-Phe-D-Ala-D-Ser-OH</td>\n",
       "      <td>C[C@H](NC(=O)[C@H](N)Cc1ccccc1)C(=O)N[C@H](CO)...</td>\n",
       "      <td>-6.281999</td>\n",
       "      <td>&lt;rdkit.Chem.rdchem.Mol object at 0x7f41a6093d80&gt;</td>\n",
       "      <td>323.349</td>\n",
       "    </tr>\n",
       "    <tr>\n",
       "      <th>3</th>\n",
       "      <td>Dexloxiglumide</td>\n",
       "      <td>CCCCCN(CCCOC)C(=O)[C@@H](CCC(=O)O)NC(=O)c1ccc(...</td>\n",
       "      <td>-5.140131</td>\n",
       "      <td>&lt;rdkit.Chem.rdchem.Mol object at 0x7f41a6093df0&gt;</td>\n",
       "      <td>461.386</td>\n",
       "    </tr>\n",
       "    <tr>\n",
       "      <th>4</th>\n",
       "      <td>Ac-D-phe-NH2</td>\n",
       "      <td>CC(=O)N[C@@H](Cc1ccccc1)C(N)=O</td>\n",
       "      <td>-5.100090</td>\n",
       "      <td>&lt;rdkit.Chem.rdchem.Mol object at 0x7f41a0c370d0&gt;</td>\n",
       "      <td>206.245</td>\n",
       "    </tr>\n",
       "  </tbody>\n",
       "</table>\n",
       "</div>\n",
       "      <button class=\"colab-df-convert\" onclick=\"convertToInteractive('df-695ecb20-f530-47e3-ad77-3623a8ccf384')\"\n",
       "              title=\"Convert this dataframe to an interactive table.\"\n",
       "              style=\"display:none;\">\n",
       "        \n",
       "  <svg xmlns=\"http://www.w3.org/2000/svg\" height=\"24px\"viewBox=\"0 0 24 24\"\n",
       "       width=\"24px\">\n",
       "    <path d=\"M0 0h24v24H0V0z\" fill=\"none\"/>\n",
       "    <path d=\"M18.56 5.44l.94 2.06.94-2.06 2.06-.94-2.06-.94-.94-2.06-.94 2.06-2.06.94zm-11 1L8.5 8.5l.94-2.06 2.06-.94-2.06-.94L8.5 2.5l-.94 2.06-2.06.94zm10 10l.94 2.06.94-2.06 2.06-.94-2.06-.94-.94-2.06-.94 2.06-2.06.94z\"/><path d=\"M17.41 7.96l-1.37-1.37c-.4-.4-.92-.59-1.43-.59-.52 0-1.04.2-1.43.59L10.3 9.45l-7.72 7.72c-.78.78-.78 2.05 0 2.83L4 21.41c.39.39.9.59 1.41.59.51 0 1.02-.2 1.41-.59l7.78-7.78 2.81-2.81c.8-.78.8-2.07 0-2.86zM5.41 20L4 18.59l7.72-7.72 1.47 1.35L5.41 20z\"/>\n",
       "  </svg>\n",
       "      </button>\n",
       "      \n",
       "  <style>\n",
       "    .colab-df-container {\n",
       "      display:flex;\n",
       "      flex-wrap:wrap;\n",
       "      gap: 12px;\n",
       "    }\n",
       "\n",
       "    .colab-df-convert {\n",
       "      background-color: #E8F0FE;\n",
       "      border: none;\n",
       "      border-radius: 50%;\n",
       "      cursor: pointer;\n",
       "      display: none;\n",
       "      fill: #1967D2;\n",
       "      height: 32px;\n",
       "      padding: 0 0 0 0;\n",
       "      width: 32px;\n",
       "    }\n",
       "\n",
       "    .colab-df-convert:hover {\n",
       "      background-color: #E2EBFA;\n",
       "      box-shadow: 0px 1px 2px rgba(60, 64, 67, 0.3), 0px 1px 3px 1px rgba(60, 64, 67, 0.15);\n",
       "      fill: #174EA6;\n",
       "    }\n",
       "\n",
       "    [theme=dark] .colab-df-convert {\n",
       "      background-color: #3B4455;\n",
       "      fill: #D2E3FC;\n",
       "    }\n",
       "\n",
       "    [theme=dark] .colab-df-convert:hover {\n",
       "      background-color: #434B5C;\n",
       "      box-shadow: 0px 1px 3px 1px rgba(0, 0, 0, 0.15);\n",
       "      filter: drop-shadow(0px 1px 2px rgba(0, 0, 0, 0.3));\n",
       "      fill: #FFFFFF;\n",
       "    }\n",
       "  </style>\n",
       "\n",
       "      <script>\n",
       "        const buttonEl =\n",
       "          document.querySelector('#df-695ecb20-f530-47e3-ad77-3623a8ccf384 button.colab-df-convert');\n",
       "        buttonEl.style.display =\n",
       "          google.colab.kernel.accessAllowed ? 'block' : 'none';\n",
       "\n",
       "        async function convertToInteractive(key) {\n",
       "          const element = document.querySelector('#df-695ecb20-f530-47e3-ad77-3623a8ccf384');\n",
       "          const dataTable =\n",
       "            await google.colab.kernel.invokeFunction('convertToInteractive',\n",
       "                                                     [key], {});\n",
       "          if (!dataTable) return;\n",
       "\n",
       "          const docLinkHtml = 'Like what you see? Visit the ' +\n",
       "            '<a target=\"_blank\" href=https://colab.research.google.com/notebooks/data_table.ipynb>data table notebook</a>'\n",
       "            + ' to learn more about interactive tables.';\n",
       "          element.innerHTML = '';\n",
       "          dataTable['output_type'] = 'display_data';\n",
       "          await google.colab.output.renderOutput(dataTable, element);\n",
       "          const docLink = document.createElement('div');\n",
       "          docLink.innerHTML = docLinkHtml;\n",
       "          element.appendChild(docLink);\n",
       "        }\n",
       "      </script>\n",
       "    </div>\n",
       "  </div>\n",
       "  "
      ],
      "text/plain": [
       "                Drug_ID                                               Drug  \\\n",
       "0               H 95/71                        CC(C)NCC(O)COc1ccc(NC=O)cc1   \n",
       "1              H 244/45                    CCC(=O)Nc1ccc(OCC(O)CNC(C)C)cc1   \n",
       "2  D-Phe-D-Ala-D-Ser-OH  C[C@H](NC(=O)[C@H](N)Cc1ccccc1)C(=O)N[C@H](CO)...   \n",
       "3        Dexloxiglumide  CCCCCN(CCCOC)C(=O)[C@@H](CCC(=O)O)NC(=O)c1ccc(...   \n",
       "4          Ac-D-phe-NH2                     CC(=O)N[C@@H](Cc1ccccc1)C(N)=O   \n",
       "\n",
       "          Y                                          Molecule  MolecularWt  \n",
       "0 -5.427984  <rdkit.Chem.rdchem.Mol object at 0x7f41a0c36ff0>      252.314  \n",
       "1 -5.219842  <rdkit.Chem.rdchem.Mol object at 0x7f41a0c37060>      280.368  \n",
       "2 -6.281999  <rdkit.Chem.rdchem.Mol object at 0x7f41a6093d80>      323.349  \n",
       "3 -5.140131  <rdkit.Chem.rdchem.Mol object at 0x7f41a6093df0>      461.386  \n",
       "4 -5.100090  <rdkit.Chem.rdchem.Mol object at 0x7f41a0c370d0>      206.245  "
      ]
     },
     "execution_count": 69,
     "metadata": {},
     "output_type": "execute_result"
    }
   ],
   "source": [
    "train.head()"
   ]
  },
  {
   "cell_type": "code",
   "execution_count": 73,
   "metadata": {
    "colab": {
     "base_uri": "https://localhost:8080/",
     "height": 696
    },
    "id": "xXFf3Qq70MJP",
    "outputId": "a235b4b5-e8fc-4ed7-8db4-d17cccdaa27d"
   },
   "outputs": [
    {
     "data": {
      "image/png": "[encoded data removed]",
      "text/plain": [
       "<Figure size 600x800 with 1 Axes>"
      ]
     },
     "metadata": {},
     "output_type": "display_data"
    }
   ],
   "source": [
    "import matplotlib.pyplot as plt\n",
    "\n",
    "plt.figure(figsize=(6,8))\n",
    "plt.scatter(train.MolecularWt,train.Y)\n",
    "plt.xlabel('Mol Wt')\n",
    "plt.ylabel('Y')\n",
    "plt.show()"
   ]
  },
  {
   "cell_type": "code",
   "execution_count": null,
   "metadata": {
    "id": "OY8_9Q5H1JDd"
   },
   "outputs": [],
   "source": []
  }
 ],
 "metadata": {
  "colab": {
   "authorship_tag": "ABX9TyPzkD5KP8nyaKE6yXa9qHNS",
   "include_colab_link": true,
   "provenance": []
  },
  "kernelspec": {
   "display_name": "Python 3 (ipykernel)",
   "language": "python",
   "name": "python3"
  },
  "language_info": {
   "codemirror_mode": {
    "name": "ipython",
    "version": 3
   },
   "file_extension": ".py",
   "mimetype": "text/x-python",
   "name": "python",
   "nbconvert_exporter": "python",
   "pygments_lexer": "ipython3",
   "version": "3.9.12"
  }
 },
 "nbformat": 4,
 "nbformat_minor": 1
}
