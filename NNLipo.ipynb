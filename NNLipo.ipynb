{
  "nbformat": 4,
  "nbformat_minor": 0,
  "metadata": {
    "colab": {
      "provenance": [],
      "authorship_tag": "ABX9TyOZcoHlssA2sPuX1lVrEYki",
      "include_colab_link": true
    },
    "kernelspec": {
      "name": "python3",
      "display_name": "Python 3"
    },
    "language_info": {
      "name": "python"
    }
  },
  "cells": [
    {
      "cell_type": "markdown",
      "metadata": {
        "id": "view-in-github",
        "colab_type": "text"
      },
      "source": [
        "<a href=\"https://colab.research.google.com/github/kra268/ChemCoder/blob/main/NNLipo.ipynb\" target=\"_parent\"><img src=\"https://colab.research.google.com/assets/colab-badge.svg\" alt=\"Open In Colab\"/></a>"
      ]
    },
    {
      "cell_type": "code",
      "execution_count": 1,
      "metadata": {
        "colab": {
          "base_uri": "https://localhost:8080/"
        },
        "id": "jpDrzd2sdSEX",
        "outputId": "14400ae2-dbc4-4311-bb54-308da645160a"
      },
      "outputs": [
        {
          "output_type": "stream",
          "name": "stdout",
          "text": [
            "Looking in indexes: https://pypi.org/simple, https://us-python.pkg.dev/colab-wheels/public/simple/\n",
            "Requirement already satisfied: PyTDC in /usr/local/lib/python3.10/dist-packages (0.4.0)\n",
            "Requirement already satisfied: deepchem in /usr/local/lib/python3.10/dist-packages (2.7.1)\n",
            "Requirement already satisfied: rdkit==2023.03.1 in /usr/local/lib/python3.10/dist-packages (2023.3.1)\n",
            "Requirement already satisfied: numpy in /usr/local/lib/python3.10/dist-packages (from rdkit==2023.03.1) (1.22.4)\n",
            "Requirement already satisfied: Pillow in /usr/local/lib/python3.10/dist-packages (from rdkit==2023.03.1) (8.4.0)\n",
            "Requirement already satisfied: rdkit-pypi in /usr/local/lib/python3.10/dist-packages (from PyTDC) (2022.9.5)\n",
            "Requirement already satisfied: fuzzywuzzy in /usr/local/lib/python3.10/dist-packages (from PyTDC) (0.18.0)\n",
            "Requirement already satisfied: pandas in /usr/local/lib/python3.10/dist-packages (from PyTDC) (1.5.3)\n",
            "Requirement already satisfied: tqdm in /usr/local/lib/python3.10/dist-packages (from PyTDC) (4.65.0)\n",
            "Requirement already satisfied: scikit-learn in /usr/local/lib/python3.10/dist-packages (from PyTDC) (1.2.2)\n",
            "Requirement already satisfied: seaborn in /usr/local/lib/python3.10/dist-packages (from PyTDC) (0.12.2)\n",
            "Requirement already satisfied: requests in /usr/local/lib/python3.10/dist-packages (from PyTDC) (2.27.1)\n",
            "Requirement already satisfied: huggingface-hub in /usr/local/lib/python3.10/dist-packages (from PyTDC) (0.15.1)\n",
            "Requirement already satisfied: dataclasses in /usr/local/lib/python3.10/dist-packages (from PyTDC) (0.6)\n",
            "Requirement already satisfied: joblib in /usr/local/lib/python3.10/dist-packages (from deepchem) (1.2.0)\n",
            "Requirement already satisfied: scipy<1.9 in /usr/local/lib/python3.10/dist-packages (from deepchem) (1.8.1)\n",
            "Requirement already satisfied: filelock in /usr/local/lib/python3.10/dist-packages (from huggingface-hub->PyTDC) (3.12.0)\n",
            "Requirement already satisfied: fsspec in /usr/local/lib/python3.10/dist-packages (from huggingface-hub->PyTDC) (2023.4.0)\n",
            "Requirement already satisfied: pyyaml>=5.1 in /usr/local/lib/python3.10/dist-packages (from huggingface-hub->PyTDC) (6.0)\n",
            "Requirement already satisfied: typing-extensions>=3.7.4.3 in /usr/local/lib/python3.10/dist-packages (from huggingface-hub->PyTDC) (4.5.0)\n",
            "Requirement already satisfied: packaging>=20.9 in /usr/local/lib/python3.10/dist-packages (from huggingface-hub->PyTDC) (23.1)\n",
            "Requirement already satisfied: python-dateutil>=2.8.1 in /usr/local/lib/python3.10/dist-packages (from pandas->PyTDC) (2.8.2)\n",
            "Requirement already satisfied: pytz>=2020.1 in /usr/local/lib/python3.10/dist-packages (from pandas->PyTDC) (2022.7.1)\n",
            "Requirement already satisfied: urllib3<1.27,>=1.21.1 in /usr/local/lib/python3.10/dist-packages (from requests->PyTDC) (1.26.15)\n",
            "Requirement already satisfied: certifi>=2017.4.17 in /usr/local/lib/python3.10/dist-packages (from requests->PyTDC) (2022.12.7)\n",
            "Requirement already satisfied: charset-normalizer~=2.0.0 in /usr/local/lib/python3.10/dist-packages (from requests->PyTDC) (2.0.12)\n",
            "Requirement already satisfied: idna<4,>=2.5 in /usr/local/lib/python3.10/dist-packages (from requests->PyTDC) (3.4)\n",
            "Requirement already satisfied: threadpoolctl>=2.0.0 in /usr/local/lib/python3.10/dist-packages (from scikit-learn->PyTDC) (3.1.0)\n",
            "Requirement already satisfied: matplotlib!=3.6.1,>=3.1 in /usr/local/lib/python3.10/dist-packages (from seaborn->PyTDC) (3.7.1)\n",
            "Requirement already satisfied: contourpy>=1.0.1 in /usr/local/lib/python3.10/dist-packages (from matplotlib!=3.6.1,>=3.1->seaborn->PyTDC) (1.0.7)\n",
            "Requirement already satisfied: cycler>=0.10 in /usr/local/lib/python3.10/dist-packages (from matplotlib!=3.6.1,>=3.1->seaborn->PyTDC) (0.11.0)\n",
            "Requirement already satisfied: fonttools>=4.22.0 in /usr/local/lib/python3.10/dist-packages (from matplotlib!=3.6.1,>=3.1->seaborn->PyTDC) (4.39.3)\n",
            "Requirement already satisfied: kiwisolver>=1.0.1 in /usr/local/lib/python3.10/dist-packages (from matplotlib!=3.6.1,>=3.1->seaborn->PyTDC) (1.4.4)\n",
            "Requirement already satisfied: pyparsing>=2.3.1 in /usr/local/lib/python3.10/dist-packages (from matplotlib!=3.6.1,>=3.1->seaborn->PyTDC) (3.0.9)\n",
            "Requirement already satisfied: six>=1.5 in /usr/local/lib/python3.10/dist-packages (from python-dateutil>=2.8.1->pandas->PyTDC) (1.16.0)\n"
          ]
        }
      ],
      "source": [
        "pip install PyTDC deepchem rdkit==2023.03.1"
      ]
    },
    {
      "cell_type": "code",
      "source": [
        "import rdkit\n",
        "rdkit.__version__"
      ],
      "metadata": {
        "colab": {
          "base_uri": "https://localhost:8080/",
          "height": 35
        },
        "id": "82Pk-laWzhif",
        "outputId": "07918190-695f-43a1-b1cf-19711d50f85b"
      },
      "execution_count": 2,
      "outputs": [
        {
          "output_type": "execute_result",
          "data": {
            "text/plain": [
              "'2023.03.1'"
            ],
            "application/vnd.google.colaboratory.intrinsic+json": {
              "type": "string"
            }
          },
          "metadata": {},
          "execution_count": 2
        }
      ]
    },
    {
      "cell_type": "code",
      "source": [
        "import numpy as np\n",
        "import pandas as pd\n",
        "import deepchem as dc  # Featurization\n",
        "from sklearn.model_selection import train_test_split\n",
        "from sklearn.linear_model import LinearRegression\n",
        "from sklearn.metrics import mean_squared_error\n",
        "from tdc.single_pred import ADME\n",
        "from rdkit.Chem import PandasTools, AllChem, Descriptors, AddHs"
      ],
      "metadata": {
        "colab": {
          "base_uri": "https://localhost:8080/"
        },
        "id": "J6La2CI8zxo2",
        "outputId": "f5be7f44-e257-40db-e1d4-5be154401ed7"
      },
      "execution_count": 3,
      "outputs": [
        {
          "output_type": "stream",
          "name": "stderr",
          "text": [
            "WARNING:deepchem.models.torch_models:Skipped loading modules with pytorch-geometric dependency, missing a dependency. No module named 'torch_geometric'\n",
            "WARNING:deepchem.models:Skipped loading modules with pytorch-geometric dependency, missing a dependency. cannot import name 'DMPNN' from 'deepchem.models.torch_models' (/usr/local/lib/python3.10/dist-packages/deepchem/models/torch_models/__init__.py)\n",
            "WARNING:deepchem.models:Skipped loading modules with pytorch-lightning dependency, missing a dependency. No module named 'pytorch_lightning'\n",
            "WARNING:deepchem.models:Skipped loading some Jax models, missing a dependency. No module named 'haiku'\n"
          ]
        }
      ]
    },
    {
      "cell_type": "code",
      "source": [
        "data = ADME(name = 'Lipophilicity_AstraZeneca')\n",
        "split = data.get_split('scaffold')"
      ],
      "metadata": {
        "colab": {
          "base_uri": "https://localhost:8080/"
        },
        "id": "LnFhBXyl0XSn",
        "outputId": "24238c33-13e6-468e-93a9-b3f444e53482"
      },
      "execution_count": 4,
      "outputs": [
        {
          "output_type": "stream",
          "name": "stderr",
          "text": [
            "Downloading...\n",
            "100%|██████████| 298k/298k [00:00<00:00, 1.15MiB/s]\n",
            "Loading...\n",
            "Done!\n",
            "100%|██████████| 4200/4200 [00:01<00:00, 2185.28it/s]\n"
          ]
        }
      ]
    },
    {
      "cell_type": "code",
      "source": [
        "split['train']"
      ],
      "metadata": {
        "colab": {
          "base_uri": "https://localhost:8080/",
          "height": 424
        },
        "id": "f3e4-P9m087G",
        "outputId": "2ef59e3c-d80c-4e48-be89-6583011ba82d"
      },
      "execution_count": 5,
      "outputs": [
        {
          "output_type": "execute_result",
          "data": {
            "text/plain": [
              "            Drug_ID                                               Drug     Y\n",
              "0     CHEMBL1951894  CCN(C(=O)Cc1ccc(S(C)(=O)=O)cc1)C1CCN(CCC(c2ccc...  3.21\n",
              "1     CHEMBL1951893  CCN(C(=O)Cc1ccc(S(C)(=O)=O)cc1)C1CCN(CCC(c2ccc...  2.67\n",
              "2      CHEMBL197536                      O=c1cc(N2CCOCC2)oc2cc(O)ccc12  1.00\n",
              "3     CHEMBL1807852  C[C@H]1O[C@@H](n2cnc3c(N)nc(OC4CC5CC5C4)nc32)[...  1.66\n",
              "4          CHEMBL23  COc1ccc([C@@H]2Sc3ccccc3N(CCN(C)C)C(=O)[C@@H]2...  1.99\n",
              "...             ...                                                ...   ...\n",
              "2935   CHEMBL181326     O=C(NCC(=O)N(CCO)c1ccccc1)c1cc2cc(Cl)ccc2[nH]1  3.37\n",
              "2936  CHEMBL1688458            O=C(O)CCc1ccc(OCc2cccc(Oc3ccccc3)c2)cc1  2.47\n",
              "2937  CHEMBL1682949  CC[C@H](NC(=O)c1c([S+](C)[O-])c(-c2cccs2)nc2cc...  3.56\n",
              "2938   CHEMBL366947  CC(C)(C)OC(=O)c1ncn2c1[C@@H]1CCCN1C(=O)c1c(Br)...  2.48\n",
              "2939  CHEMBL1405928                       c1ccc(CSc2nc3cccnc3[nH]2)cc1  3.22\n",
              "\n",
              "[2940 rows x 3 columns]"
            ],
            "text/html": [
              "\n",
              "  <div id=\"df-fabfabac-af43-435c-95d0-5cfd2c628cf5\">\n",
              "    <div class=\"colab-df-container\">\n",
              "      <div>\n",
              "<style scoped>\n",
              "    .dataframe tbody tr th:only-of-type {\n",
              "        vertical-align: middle;\n",
              "    }\n",
              "\n",
              "    .dataframe tbody tr th {\n",
              "        vertical-align: top;\n",
              "    }\n",
              "\n",
              "    .dataframe thead th {\n",
              "        text-align: right;\n",
              "    }\n",
              "</style>\n",
              "<table border=\"1\" class=\"dataframe\">\n",
              "  <thead>\n",
              "    <tr style=\"text-align: right;\">\n",
              "      <th></th>\n",
              "      <th>Drug_ID</th>\n",
              "      <th>Drug</th>\n",
              "      <th>Y</th>\n",
              "    </tr>\n",
              "  </thead>\n",
              "  <tbody>\n",
              "    <tr>\n",
              "      <th>0</th>\n",
              "      <td>CHEMBL1951894</td>\n",
              "      <td>CCN(C(=O)Cc1ccc(S(C)(=O)=O)cc1)C1CCN(CCC(c2ccc...</td>\n",
              "      <td>3.21</td>\n",
              "    </tr>\n",
              "    <tr>\n",
              "      <th>1</th>\n",
              "      <td>CHEMBL1951893</td>\n",
              "      <td>CCN(C(=O)Cc1ccc(S(C)(=O)=O)cc1)C1CCN(CCC(c2ccc...</td>\n",
              "      <td>2.67</td>\n",
              "    </tr>\n",
              "    <tr>\n",
              "      <th>2</th>\n",
              "      <td>CHEMBL197536</td>\n",
              "      <td>O=c1cc(N2CCOCC2)oc2cc(O)ccc12</td>\n",
              "      <td>1.00</td>\n",
              "    </tr>\n",
              "    <tr>\n",
              "      <th>3</th>\n",
              "      <td>CHEMBL1807852</td>\n",
              "      <td>C[C@H]1O[C@@H](n2cnc3c(N)nc(OC4CC5CC5C4)nc32)[...</td>\n",
              "      <td>1.66</td>\n",
              "    </tr>\n",
              "    <tr>\n",
              "      <th>4</th>\n",
              "      <td>CHEMBL23</td>\n",
              "      <td>COc1ccc([C@@H]2Sc3ccccc3N(CCN(C)C)C(=O)[C@@H]2...</td>\n",
              "      <td>1.99</td>\n",
              "    </tr>\n",
              "    <tr>\n",
              "      <th>...</th>\n",
              "      <td>...</td>\n",
              "      <td>...</td>\n",
              "      <td>...</td>\n",
              "    </tr>\n",
              "    <tr>\n",
              "      <th>2935</th>\n",
              "      <td>CHEMBL181326</td>\n",
              "      <td>O=C(NCC(=O)N(CCO)c1ccccc1)c1cc2cc(Cl)ccc2[nH]1</td>\n",
              "      <td>3.37</td>\n",
              "    </tr>\n",
              "    <tr>\n",
              "      <th>2936</th>\n",
              "      <td>CHEMBL1688458</td>\n",
              "      <td>O=C(O)CCc1ccc(OCc2cccc(Oc3ccccc3)c2)cc1</td>\n",
              "      <td>2.47</td>\n",
              "    </tr>\n",
              "    <tr>\n",
              "      <th>2937</th>\n",
              "      <td>CHEMBL1682949</td>\n",
              "      <td>CC[C@H](NC(=O)c1c([S+](C)[O-])c(-c2cccs2)nc2cc...</td>\n",
              "      <td>3.56</td>\n",
              "    </tr>\n",
              "    <tr>\n",
              "      <th>2938</th>\n",
              "      <td>CHEMBL366947</td>\n",
              "      <td>CC(C)(C)OC(=O)c1ncn2c1[C@@H]1CCCN1C(=O)c1c(Br)...</td>\n",
              "      <td>2.48</td>\n",
              "    </tr>\n",
              "    <tr>\n",
              "      <th>2939</th>\n",
              "      <td>CHEMBL1405928</td>\n",
              "      <td>c1ccc(CSc2nc3cccnc3[nH]2)cc1</td>\n",
              "      <td>3.22</td>\n",
              "    </tr>\n",
              "  </tbody>\n",
              "</table>\n",
              "<p>2940 rows × 3 columns</p>\n",
              "</div>\n",
              "      <button class=\"colab-df-convert\" onclick=\"convertToInteractive('df-fabfabac-af43-435c-95d0-5cfd2c628cf5')\"\n",
              "              title=\"Convert this dataframe to an interactive table.\"\n",
              "              style=\"display:none;\">\n",
              "        \n",
              "  <svg xmlns=\"http://www.w3.org/2000/svg\" height=\"24px\"viewBox=\"0 0 24 24\"\n",
              "       width=\"24px\">\n",
              "    <path d=\"M0 0h24v24H0V0z\" fill=\"none\"/>\n",
              "    <path d=\"M18.56 5.44l.94 2.06.94-2.06 2.06-.94-2.06-.94-.94-2.06-.94 2.06-2.06.94zm-11 1L8.5 8.5l.94-2.06 2.06-.94-2.06-.94L8.5 2.5l-.94 2.06-2.06.94zm10 10l.94 2.06.94-2.06 2.06-.94-2.06-.94-.94-2.06-.94 2.06-2.06.94z\"/><path d=\"M17.41 7.96l-1.37-1.37c-.4-.4-.92-.59-1.43-.59-.52 0-1.04.2-1.43.59L10.3 9.45l-7.72 7.72c-.78.78-.78 2.05 0 2.83L4 21.41c.39.39.9.59 1.41.59.51 0 1.02-.2 1.41-.59l7.78-7.78 2.81-2.81c.8-.78.8-2.07 0-2.86zM5.41 20L4 18.59l7.72-7.72 1.47 1.35L5.41 20z\"/>\n",
              "  </svg>\n",
              "      </button>\n",
              "      \n",
              "  <style>\n",
              "    .colab-df-container {\n",
              "      display:flex;\n",
              "      flex-wrap:wrap;\n",
              "      gap: 12px;\n",
              "    }\n",
              "\n",
              "    .colab-df-convert {\n",
              "      background-color: #E8F0FE;\n",
              "      border: none;\n",
              "      border-radius: 50%;\n",
              "      cursor: pointer;\n",
              "      display: none;\n",
              "      fill: #1967D2;\n",
              "      height: 32px;\n",
              "      padding: 0 0 0 0;\n",
              "      width: 32px;\n",
              "    }\n",
              "\n",
              "    .colab-df-convert:hover {\n",
              "      background-color: #E2EBFA;\n",
              "      box-shadow: 0px 1px 2px rgba(60, 64, 67, 0.3), 0px 1px 3px 1px rgba(60, 64, 67, 0.15);\n",
              "      fill: #174EA6;\n",
              "    }\n",
              "\n",
              "    [theme=dark] .colab-df-convert {\n",
              "      background-color: #3B4455;\n",
              "      fill: #D2E3FC;\n",
              "    }\n",
              "\n",
              "    [theme=dark] .colab-df-convert:hover {\n",
              "      background-color: #434B5C;\n",
              "      box-shadow: 0px 1px 3px 1px rgba(0, 0, 0, 0.15);\n",
              "      filter: drop-shadow(0px 1px 2px rgba(0, 0, 0, 0.3));\n",
              "      fill: #FFFFFF;\n",
              "    }\n",
              "  </style>\n",
              "\n",
              "      <script>\n",
              "        const buttonEl =\n",
              "          document.querySelector('#df-fabfabac-af43-435c-95d0-5cfd2c628cf5 button.colab-df-convert');\n",
              "        buttonEl.style.display =\n",
              "          google.colab.kernel.accessAllowed ? 'block' : 'none';\n",
              "\n",
              "        async function convertToInteractive(key) {\n",
              "          const element = document.querySelector('#df-fabfabac-af43-435c-95d0-5cfd2c628cf5');\n",
              "          const dataTable =\n",
              "            await google.colab.kernel.invokeFunction('convertToInteractive',\n",
              "                                                     [key], {});\n",
              "          if (!dataTable) return;\n",
              "\n",
              "          const docLinkHtml = 'Like what you see? Visit the ' +\n",
              "            '<a target=\"_blank\" href=https://colab.research.google.com/notebooks/data_table.ipynb>data table notebook</a>'\n",
              "            + ' to learn more about interactive tables.';\n",
              "          element.innerHTML = '';\n",
              "          dataTable['output_type'] = 'display_data';\n",
              "          await google.colab.output.renderOutput(dataTable, element);\n",
              "          const docLink = document.createElement('div');\n",
              "          docLink.innerHTML = docLinkHtml;\n",
              "          element.appendChild(docLink);\n",
              "        }\n",
              "      </script>\n",
              "    </div>\n",
              "  </div>\n",
              "  "
            ]
          },
          "metadata": {},
          "execution_count": 5
        }
      ]
    },
    {
      "cell_type": "code",
      "source": [
        "train = split['train']\n",
        "test = split['test']\n",
        "valid = split['valid']"
      ],
      "metadata": {
        "id": "Kxb7ZeVQ0_l0"
      },
      "execution_count": 6,
      "outputs": []
    },
    {
      "cell_type": "code",
      "source": [
        "train.shape"
      ],
      "metadata": {
        "colab": {
          "base_uri": "https://localhost:8080/"
        },
        "id": "Pmx5s02H1QL5",
        "outputId": "3a10973f-f784-421e-c5fa-64ff5c1741cf"
      },
      "execution_count": 7,
      "outputs": [
        {
          "output_type": "execute_result",
          "data": {
            "text/plain": [
              "(2940, 3)"
            ]
          },
          "metadata": {},
          "execution_count": 7
        }
      ]
    },
    {
      "cell_type": "code",
      "source": [
        "test.shape"
      ],
      "metadata": {
        "colab": {
          "base_uri": "https://localhost:8080/"
        },
        "id": "qY-5R7Wb1SoV",
        "outputId": "a110abae-4686-4c5d-c819-ec6d2658c09d"
      },
      "execution_count": 8,
      "outputs": [
        {
          "output_type": "execute_result",
          "data": {
            "text/plain": [
              "(840, 3)"
            ]
          },
          "metadata": {},
          "execution_count": 8
        }
      ]
    },
    {
      "cell_type": "code",
      "source": [
        "valid.shape"
      ],
      "metadata": {
        "colab": {
          "base_uri": "https://localhost:8080/"
        },
        "id": "q-ZRfly81YRd",
        "outputId": "21d0ea5b-bfa9-4a94-b3d3-4a142dc19ff6"
      },
      "execution_count": 9,
      "outputs": [
        {
          "output_type": "execute_result",
          "data": {
            "text/plain": [
              "(420, 3)"
            ]
          },
          "metadata": {},
          "execution_count": 9
        }
      ]
    },
    {
      "cell_type": "code",
      "source": [
        "PandasTools.AddMoleculeColumnToFrame(train, 'Drug', 'Molecule')"
      ],
      "metadata": {
        "id": "d-o1txGw1g0u"
      },
      "execution_count": 10,
      "outputs": []
    },
    {
      "cell_type": "code",
      "source": [
        "train.sample(3)"
      ],
      "metadata": {
        "colab": {
          "base_uri": "https://localhost:8080/",
          "height": 143
        },
        "id": "q73UeQ432hJl",
        "outputId": "5a457c37-d9ea-40fc-cfa0-951942cc00c5"
      },
      "execution_count": 11,
      "outputs": [
        {
          "output_type": "execute_result",
          "data": {
            "text/plain": [
              "            Drug_ID                                               Drug     Y  \\\n",
              "978   CHEMBL2178372  Cc1nc(C)c(-c2ccc(C34CCC(CC(=O)O)(CC3)CC4)cc2)n...  1.60   \n",
              "2771  CHEMBL1557436             CN(C)c1ccnc2sc(C(=O)NCc3ccccc3)c(N)c12  3.62   \n",
              "1970  CHEMBL1957266  Cc1sc2c(c1C)C(c1ccc(Cl)cc1)=N[C@@H](CC(=O)OC(C...  3.82   \n",
              "\n",
              "                                              Molecule  \n",
              "978   <rdkit.Chem.rdchem.Mol object at 0x7f89ac917220>  \n",
              "2771  <rdkit.Chem.rdchem.Mol object at 0x7f89ac91c900>  \n",
              "1970  <rdkit.Chem.rdchem.Mol object at 0x7f89ac8de730>  "
            ],
            "text/html": [
              "\n",
              "  <div id=\"df-c39abfb4-18e9-4089-b3de-11ec878deb41\">\n",
              "    <div class=\"colab-df-container\">\n",
              "      <div>\n",
              "<style scoped>\n",
              "    .dataframe tbody tr th:only-of-type {\n",
              "        vertical-align: middle;\n",
              "    }\n",
              "\n",
              "    .dataframe tbody tr th {\n",
              "        vertical-align: top;\n",
              "    }\n",
              "\n",
              "    .dataframe thead th {\n",
              "        text-align: right;\n",
              "    }\n",
              "</style>\n",
              "<table border=\"1\" class=\"dataframe\">\n",
              "  <thead>\n",
              "    <tr style=\"text-align: right;\">\n",
              "      <th></th>\n",
              "      <th>Drug_ID</th>\n",
              "      <th>Drug</th>\n",
              "      <th>Y</th>\n",
              "      <th>Molecule</th>\n",
              "    </tr>\n",
              "  </thead>\n",
              "  <tbody>\n",
              "    <tr>\n",
              "      <th>978</th>\n",
              "      <td>CHEMBL2178372</td>\n",
              "      <td>Cc1nc(C)c(-c2ccc(C34CCC(CC(=O)O)(CC3)CC4)cc2)n...</td>\n",
              "      <td>1.60</td>\n",
              "      <td>&lt;rdkit.Chem.rdchem.Mol object at 0x7f89ac917220&gt;</td>\n",
              "    </tr>\n",
              "    <tr>\n",
              "      <th>2771</th>\n",
              "      <td>CHEMBL1557436</td>\n",
              "      <td>CN(C)c1ccnc2sc(C(=O)NCc3ccccc3)c(N)c12</td>\n",
              "      <td>3.62</td>\n",
              "      <td>&lt;rdkit.Chem.rdchem.Mol object at 0x7f89ac91c900&gt;</td>\n",
              "    </tr>\n",
              "    <tr>\n",
              "      <th>1970</th>\n",
              "      <td>CHEMBL1957266</td>\n",
              "      <td>Cc1sc2c(c1C)C(c1ccc(Cl)cc1)=N[C@@H](CC(=O)OC(C...</td>\n",
              "      <td>3.82</td>\n",
              "      <td>&lt;rdkit.Chem.rdchem.Mol object at 0x7f89ac8de730&gt;</td>\n",
              "    </tr>\n",
              "  </tbody>\n",
              "</table>\n",
              "</div>\n",
              "      <button class=\"colab-df-convert\" onclick=\"convertToInteractive('df-c39abfb4-18e9-4089-b3de-11ec878deb41')\"\n",
              "              title=\"Convert this dataframe to an interactive table.\"\n",
              "              style=\"display:none;\">\n",
              "        \n",
              "  <svg xmlns=\"http://www.w3.org/2000/svg\" height=\"24px\"viewBox=\"0 0 24 24\"\n",
              "       width=\"24px\">\n",
              "    <path d=\"M0 0h24v24H0V0z\" fill=\"none\"/>\n",
              "    <path d=\"M18.56 5.44l.94 2.06.94-2.06 2.06-.94-2.06-.94-.94-2.06-.94 2.06-2.06.94zm-11 1L8.5 8.5l.94-2.06 2.06-.94-2.06-.94L8.5 2.5l-.94 2.06-2.06.94zm10 10l.94 2.06.94-2.06 2.06-.94-2.06-.94-.94-2.06-.94 2.06-2.06.94z\"/><path d=\"M17.41 7.96l-1.37-1.37c-.4-.4-.92-.59-1.43-.59-.52 0-1.04.2-1.43.59L10.3 9.45l-7.72 7.72c-.78.78-.78 2.05 0 2.83L4 21.41c.39.39.9.59 1.41.59.51 0 1.02-.2 1.41-.59l7.78-7.78 2.81-2.81c.8-.78.8-2.07 0-2.86zM5.41 20L4 18.59l7.72-7.72 1.47 1.35L5.41 20z\"/>\n",
              "  </svg>\n",
              "      </button>\n",
              "      \n",
              "  <style>\n",
              "    .colab-df-container {\n",
              "      display:flex;\n",
              "      flex-wrap:wrap;\n",
              "      gap: 12px;\n",
              "    }\n",
              "\n",
              "    .colab-df-convert {\n",
              "      background-color: #E8F0FE;\n",
              "      border: none;\n",
              "      border-radius: 50%;\n",
              "      cursor: pointer;\n",
              "      display: none;\n",
              "      fill: #1967D2;\n",
              "      height: 32px;\n",
              "      padding: 0 0 0 0;\n",
              "      width: 32px;\n",
              "    }\n",
              "\n",
              "    .colab-df-convert:hover {\n",
              "      background-color: #E2EBFA;\n",
              "      box-shadow: 0px 1px 2px rgba(60, 64, 67, 0.3), 0px 1px 3px 1px rgba(60, 64, 67, 0.15);\n",
              "      fill: #174EA6;\n",
              "    }\n",
              "\n",
              "    [theme=dark] .colab-df-convert {\n",
              "      background-color: #3B4455;\n",
              "      fill: #D2E3FC;\n",
              "    }\n",
              "\n",
              "    [theme=dark] .colab-df-convert:hover {\n",
              "      background-color: #434B5C;\n",
              "      box-shadow: 0px 1px 3px 1px rgba(0, 0, 0, 0.15);\n",
              "      filter: drop-shadow(0px 1px 2px rgba(0, 0, 0, 0.3));\n",
              "      fill: #FFFFFF;\n",
              "    }\n",
              "  </style>\n",
              "\n",
              "      <script>\n",
              "        const buttonEl =\n",
              "          document.querySelector('#df-c39abfb4-18e9-4089-b3de-11ec878deb41 button.colab-df-convert');\n",
              "        buttonEl.style.display =\n",
              "          google.colab.kernel.accessAllowed ? 'block' : 'none';\n",
              "\n",
              "        async function convertToInteractive(key) {\n",
              "          const element = document.querySelector('#df-c39abfb4-18e9-4089-b3de-11ec878deb41');\n",
              "          const dataTable =\n",
              "            await google.colab.kernel.invokeFunction('convertToInteractive',\n",
              "                                                     [key], {});\n",
              "          if (!dataTable) return;\n",
              "\n",
              "          const docLinkHtml = 'Like what you see? Visit the ' +\n",
              "            '<a target=\"_blank\" href=https://colab.research.google.com/notebooks/data_table.ipynb>data table notebook</a>'\n",
              "            + ' to learn more about interactive tables.';\n",
              "          element.innerHTML = '';\n",
              "          dataTable['output_type'] = 'display_data';\n",
              "          await google.colab.output.renderOutput(dataTable, element);\n",
              "          const docLink = document.createElement('div');\n",
              "          docLink.innerHTML = docLinkHtml;\n",
              "          element.appendChild(docLink);\n",
              "        }\n",
              "      </script>\n",
              "    </div>\n",
              "  </div>\n",
              "  "
            ]
          },
          "metadata": {},
          "execution_count": 11
        }
      ]
    },
    {
      "cell_type": "code",
      "source": [
        "PandasTools.AddMoleculeColumnToFrame(test, 'Drug', 'Molecule')\n",
        "PandasTools.AddMoleculeColumnToFrame(valid, 'Drug', 'Molecule')"
      ],
      "metadata": {
        "id": "jnFUm_9w2pzM"
      },
      "execution_count": 12,
      "outputs": []
    },
    {
      "cell_type": "code",
      "source": [
        "test.sample(3)"
      ],
      "metadata": {
        "colab": {
          "base_uri": "https://localhost:8080/",
          "height": 143
        },
        "id": "5XQrp76H2wZ6",
        "outputId": "3929d6e8-c920-4f19-bfde-d6fce398e37a"
      },
      "execution_count": 13,
      "outputs": [
        {
          "output_type": "execute_result",
          "data": {
            "text/plain": [
              "           Drug_ID                                               Drug     Y  \\\n",
              "118  CHEMBL1934417  COCCC(C)n1nc(C)c(C(=O)N[C@@H](C)C(C)(C)C)c1NS(...  0.78   \n",
              "100  CHEMBL1213085  Cc1ccccc1-n1c(Cn2nc(-c3ccc(O)c(F)c3)c3c(N)ncnc...  3.55   \n",
              "807  CHEMBL2171013  Cc1ccc(S(=O)(=O)N(C)C(=O)N2CCC(N3CCC(Oc4ccc(Cl...  4.49   \n",
              "\n",
              "                                             Molecule  \n",
              "118  <rdkit.Chem.rdchem.Mol object at 0x7f89ac8a8ac0>  \n",
              "100  <rdkit.Chem.rdchem.Mol object at 0x7f89ac8a82e0>  \n",
              "807  <rdkit.Chem.rdchem.Mol object at 0x7f89ac827a70>  "
            ],
            "text/html": [
              "\n",
              "  <div id=\"df-6d59c72f-dfbf-4644-80e5-2dc6a09316ff\">\n",
              "    <div class=\"colab-df-container\">\n",
              "      <div>\n",
              "<style scoped>\n",
              "    .dataframe tbody tr th:only-of-type {\n",
              "        vertical-align: middle;\n",
              "    }\n",
              "\n",
              "    .dataframe tbody tr th {\n",
              "        vertical-align: top;\n",
              "    }\n",
              "\n",
              "    .dataframe thead th {\n",
              "        text-align: right;\n",
              "    }\n",
              "</style>\n",
              "<table border=\"1\" class=\"dataframe\">\n",
              "  <thead>\n",
              "    <tr style=\"text-align: right;\">\n",
              "      <th></th>\n",
              "      <th>Drug_ID</th>\n",
              "      <th>Drug</th>\n",
              "      <th>Y</th>\n",
              "      <th>Molecule</th>\n",
              "    </tr>\n",
              "  </thead>\n",
              "  <tbody>\n",
              "    <tr>\n",
              "      <th>118</th>\n",
              "      <td>CHEMBL1934417</td>\n",
              "      <td>COCCC(C)n1nc(C)c(C(=O)N[C@@H](C)C(C)(C)C)c1NS(...</td>\n",
              "      <td>0.78</td>\n",
              "      <td>&lt;rdkit.Chem.rdchem.Mol object at 0x7f89ac8a8ac0&gt;</td>\n",
              "    </tr>\n",
              "    <tr>\n",
              "      <th>100</th>\n",
              "      <td>CHEMBL1213085</td>\n",
              "      <td>Cc1ccccc1-n1c(Cn2nc(-c3ccc(O)c(F)c3)c3c(N)ncnc...</td>\n",
              "      <td>3.55</td>\n",
              "      <td>&lt;rdkit.Chem.rdchem.Mol object at 0x7f89ac8a82e0&gt;</td>\n",
              "    </tr>\n",
              "    <tr>\n",
              "      <th>807</th>\n",
              "      <td>CHEMBL2171013</td>\n",
              "      <td>Cc1ccc(S(=O)(=O)N(C)C(=O)N2CCC(N3CCC(Oc4ccc(Cl...</td>\n",
              "      <td>4.49</td>\n",
              "      <td>&lt;rdkit.Chem.rdchem.Mol object at 0x7f89ac827a70&gt;</td>\n",
              "    </tr>\n",
              "  </tbody>\n",
              "</table>\n",
              "</div>\n",
              "      <button class=\"colab-df-convert\" onclick=\"convertToInteractive('df-6d59c72f-dfbf-4644-80e5-2dc6a09316ff')\"\n",
              "              title=\"Convert this dataframe to an interactive table.\"\n",
              "              style=\"display:none;\">\n",
              "        \n",
              "  <svg xmlns=\"http://www.w3.org/2000/svg\" height=\"24px\"viewBox=\"0 0 24 24\"\n",
              "       width=\"24px\">\n",
              "    <path d=\"M0 0h24v24H0V0z\" fill=\"none\"/>\n",
              "    <path d=\"M18.56 5.44l.94 2.06.94-2.06 2.06-.94-2.06-.94-.94-2.06-.94 2.06-2.06.94zm-11 1L8.5 8.5l.94-2.06 2.06-.94-2.06-.94L8.5 2.5l-.94 2.06-2.06.94zm10 10l.94 2.06.94-2.06 2.06-.94-2.06-.94-.94-2.06-.94 2.06-2.06.94z\"/><path d=\"M17.41 7.96l-1.37-1.37c-.4-.4-.92-.59-1.43-.59-.52 0-1.04.2-1.43.59L10.3 9.45l-7.72 7.72c-.78.78-.78 2.05 0 2.83L4 21.41c.39.39.9.59 1.41.59.51 0 1.02-.2 1.41-.59l7.78-7.78 2.81-2.81c.8-.78.8-2.07 0-2.86zM5.41 20L4 18.59l7.72-7.72 1.47 1.35L5.41 20z\"/>\n",
              "  </svg>\n",
              "      </button>\n",
              "      \n",
              "  <style>\n",
              "    .colab-df-container {\n",
              "      display:flex;\n",
              "      flex-wrap:wrap;\n",
              "      gap: 12px;\n",
              "    }\n",
              "\n",
              "    .colab-df-convert {\n",
              "      background-color: #E8F0FE;\n",
              "      border: none;\n",
              "      border-radius: 50%;\n",
              "      cursor: pointer;\n",
              "      display: none;\n",
              "      fill: #1967D2;\n",
              "      height: 32px;\n",
              "      padding: 0 0 0 0;\n",
              "      width: 32px;\n",
              "    }\n",
              "\n",
              "    .colab-df-convert:hover {\n",
              "      background-color: #E2EBFA;\n",
              "      box-shadow: 0px 1px 2px rgba(60, 64, 67, 0.3), 0px 1px 3px 1px rgba(60, 64, 67, 0.15);\n",
              "      fill: #174EA6;\n",
              "    }\n",
              "\n",
              "    [theme=dark] .colab-df-convert {\n",
              "      background-color: #3B4455;\n",
              "      fill: #D2E3FC;\n",
              "    }\n",
              "\n",
              "    [theme=dark] .colab-df-convert:hover {\n",
              "      background-color: #434B5C;\n",
              "      box-shadow: 0px 1px 3px 1px rgba(0, 0, 0, 0.15);\n",
              "      filter: drop-shadow(0px 1px 2px rgba(0, 0, 0, 0.3));\n",
              "      fill: #FFFFFF;\n",
              "    }\n",
              "  </style>\n",
              "\n",
              "      <script>\n",
              "        const buttonEl =\n",
              "          document.querySelector('#df-6d59c72f-dfbf-4644-80e5-2dc6a09316ff button.colab-df-convert');\n",
              "        buttonEl.style.display =\n",
              "          google.colab.kernel.accessAllowed ? 'block' : 'none';\n",
              "\n",
              "        async function convertToInteractive(key) {\n",
              "          const element = document.querySelector('#df-6d59c72f-dfbf-4644-80e5-2dc6a09316ff');\n",
              "          const dataTable =\n",
              "            await google.colab.kernel.invokeFunction('convertToInteractive',\n",
              "                                                     [key], {});\n",
              "          if (!dataTable) return;\n",
              "\n",
              "          const docLinkHtml = 'Like what you see? Visit the ' +\n",
              "            '<a target=\"_blank\" href=https://colab.research.google.com/notebooks/data_table.ipynb>data table notebook</a>'\n",
              "            + ' to learn more about interactive tables.';\n",
              "          element.innerHTML = '';\n",
              "          dataTable['output_type'] = 'display_data';\n",
              "          await google.colab.output.renderOutput(dataTable, element);\n",
              "          const docLink = document.createElement('div');\n",
              "          docLink.innerHTML = docLinkHtml;\n",
              "          element.appendChild(docLink);\n",
              "        }\n",
              "      </script>\n",
              "    </div>\n",
              "  </div>\n",
              "  "
            ]
          },
          "metadata": {},
          "execution_count": 13
        }
      ]
    },
    {
      "cell_type": "code",
      "source": [
        "valid.sample(3)"
      ],
      "metadata": {
        "colab": {
          "base_uri": "https://localhost:8080/",
          "height": 143
        },
        "id": "TsEKHY552zgM",
        "outputId": "1c846206-0741-4074-84aa-f96ad15f16b4"
      },
      "execution_count": 14,
      "outputs": [
        {
          "output_type": "execute_result",
          "data": {
            "text/plain": [
              "           Drug_ID                                               Drug     Y  \\\n",
              "264  CHEMBL1904754                 Cc1nc2ncnn2c(O)c1CCOC(=O)c1ccccc1F  0.99   \n",
              "55   CHEMBL2178948  Cc1nc(C)c(-c2ccc3c(c2)CC[C@]32CC[C@H](C(=O)O)C...  1.30   \n",
              "123  CHEMBL2335878  CN(C)CCNC(=O)c1ccc(Nc2ncc3cc(-c4ccncc4)ccc3n2)cc1  2.29   \n",
              "\n",
              "                                             Molecule  \n",
              "264  <rdkit.Chem.rdchem.Mol object at 0x7f89ac8c80b0>  \n",
              "55   <rdkit.Chem.rdchem.Mol object at 0x7f89ac8fa490>  \n",
              "123  <rdkit.Chem.rdchem.Mol object at 0x7f89ac8e8270>  "
            ],
            "text/html": [
              "\n",
              "  <div id=\"df-89fe269a-5509-48bb-b6a2-ae5f10c85652\">\n",
              "    <div class=\"colab-df-container\">\n",
              "      <div>\n",
              "<style scoped>\n",
              "    .dataframe tbody tr th:only-of-type {\n",
              "        vertical-align: middle;\n",
              "    }\n",
              "\n",
              "    .dataframe tbody tr th {\n",
              "        vertical-align: top;\n",
              "    }\n",
              "\n",
              "    .dataframe thead th {\n",
              "        text-align: right;\n",
              "    }\n",
              "</style>\n",
              "<table border=\"1\" class=\"dataframe\">\n",
              "  <thead>\n",
              "    <tr style=\"text-align: right;\">\n",
              "      <th></th>\n",
              "      <th>Drug_ID</th>\n",
              "      <th>Drug</th>\n",
              "      <th>Y</th>\n",
              "      <th>Molecule</th>\n",
              "    </tr>\n",
              "  </thead>\n",
              "  <tbody>\n",
              "    <tr>\n",
              "      <th>264</th>\n",
              "      <td>CHEMBL1904754</td>\n",
              "      <td>Cc1nc2ncnn2c(O)c1CCOC(=O)c1ccccc1F</td>\n",
              "      <td>0.99</td>\n",
              "      <td>&lt;rdkit.Chem.rdchem.Mol object at 0x7f89ac8c80b0&gt;</td>\n",
              "    </tr>\n",
              "    <tr>\n",
              "      <th>55</th>\n",
              "      <td>CHEMBL2178948</td>\n",
              "      <td>Cc1nc(C)c(-c2ccc3c(c2)CC[C@]32CC[C@H](C(=O)O)C...</td>\n",
              "      <td>1.30</td>\n",
              "      <td>&lt;rdkit.Chem.rdchem.Mol object at 0x7f89ac8fa490&gt;</td>\n",
              "    </tr>\n",
              "    <tr>\n",
              "      <th>123</th>\n",
              "      <td>CHEMBL2335878</td>\n",
              "      <td>CN(C)CCNC(=O)c1ccc(Nc2ncc3cc(-c4ccncc4)ccc3n2)cc1</td>\n",
              "      <td>2.29</td>\n",
              "      <td>&lt;rdkit.Chem.rdchem.Mol object at 0x7f89ac8e8270&gt;</td>\n",
              "    </tr>\n",
              "  </tbody>\n",
              "</table>\n",
              "</div>\n",
              "      <button class=\"colab-df-convert\" onclick=\"convertToInteractive('df-89fe269a-5509-48bb-b6a2-ae5f10c85652')\"\n",
              "              title=\"Convert this dataframe to an interactive table.\"\n",
              "              style=\"display:none;\">\n",
              "        \n",
              "  <svg xmlns=\"http://www.w3.org/2000/svg\" height=\"24px\"viewBox=\"0 0 24 24\"\n",
              "       width=\"24px\">\n",
              "    <path d=\"M0 0h24v24H0V0z\" fill=\"none\"/>\n",
              "    <path d=\"M18.56 5.44l.94 2.06.94-2.06 2.06-.94-2.06-.94-.94-2.06-.94 2.06-2.06.94zm-11 1L8.5 8.5l.94-2.06 2.06-.94-2.06-.94L8.5 2.5l-.94 2.06-2.06.94zm10 10l.94 2.06.94-2.06 2.06-.94-2.06-.94-.94-2.06-.94 2.06-2.06.94z\"/><path d=\"M17.41 7.96l-1.37-1.37c-.4-.4-.92-.59-1.43-.59-.52 0-1.04.2-1.43.59L10.3 9.45l-7.72 7.72c-.78.78-.78 2.05 0 2.83L4 21.41c.39.39.9.59 1.41.59.51 0 1.02-.2 1.41-.59l7.78-7.78 2.81-2.81c.8-.78.8-2.07 0-2.86zM5.41 20L4 18.59l7.72-7.72 1.47 1.35L5.41 20z\"/>\n",
              "  </svg>\n",
              "      </button>\n",
              "      \n",
              "  <style>\n",
              "    .colab-df-container {\n",
              "      display:flex;\n",
              "      flex-wrap:wrap;\n",
              "      gap: 12px;\n",
              "    }\n",
              "\n",
              "    .colab-df-convert {\n",
              "      background-color: #E8F0FE;\n",
              "      border: none;\n",
              "      border-radius: 50%;\n",
              "      cursor: pointer;\n",
              "      display: none;\n",
              "      fill: #1967D2;\n",
              "      height: 32px;\n",
              "      padding: 0 0 0 0;\n",
              "      width: 32px;\n",
              "    }\n",
              "\n",
              "    .colab-df-convert:hover {\n",
              "      background-color: #E2EBFA;\n",
              "      box-shadow: 0px 1px 2px rgba(60, 64, 67, 0.3), 0px 1px 3px 1px rgba(60, 64, 67, 0.15);\n",
              "      fill: #174EA6;\n",
              "    }\n",
              "\n",
              "    [theme=dark] .colab-df-convert {\n",
              "      background-color: #3B4455;\n",
              "      fill: #D2E3FC;\n",
              "    }\n",
              "\n",
              "    [theme=dark] .colab-df-convert:hover {\n",
              "      background-color: #434B5C;\n",
              "      box-shadow: 0px 1px 3px 1px rgba(0, 0, 0, 0.15);\n",
              "      filter: drop-shadow(0px 1px 2px rgba(0, 0, 0, 0.3));\n",
              "      fill: #FFFFFF;\n",
              "    }\n",
              "  </style>\n",
              "\n",
              "      <script>\n",
              "        const buttonEl =\n",
              "          document.querySelector('#df-89fe269a-5509-48bb-b6a2-ae5f10c85652 button.colab-df-convert');\n",
              "        buttonEl.style.display =\n",
              "          google.colab.kernel.accessAllowed ? 'block' : 'none';\n",
              "\n",
              "        async function convertToInteractive(key) {\n",
              "          const element = document.querySelector('#df-89fe269a-5509-48bb-b6a2-ae5f10c85652');\n",
              "          const dataTable =\n",
              "            await google.colab.kernel.invokeFunction('convertToInteractive',\n",
              "                                                     [key], {});\n",
              "          if (!dataTable) return;\n",
              "\n",
              "          const docLinkHtml = 'Like what you see? Visit the ' +\n",
              "            '<a target=\"_blank\" href=https://colab.research.google.com/notebooks/data_table.ipynb>data table notebook</a>'\n",
              "            + ' to learn more about interactive tables.';\n",
              "          element.innerHTML = '';\n",
              "          dataTable['output_type'] = 'display_data';\n",
              "          await google.colab.output.renderOutput(dataTable, element);\n",
              "          const docLink = document.createElement('div');\n",
              "          docLink.innerHTML = docLinkHtml;\n",
              "          element.appendChild(docLink);\n",
              "        }\n",
              "      </script>\n",
              "    </div>\n",
              "  </div>\n",
              "  "
            ]
          },
          "metadata": {},
          "execution_count": 14
        }
      ]
    },
    {
      "cell_type": "code",
      "source": [
        "train['Molecule'] = train.Molecule.apply(AddHs)"
      ],
      "metadata": {
        "id": "bho-kPhh22p-"
      },
      "execution_count": 15,
      "outputs": []
    },
    {
      "cell_type": "code",
      "source": [
        "train.Molecule[0]"
      ],
      "metadata": {
        "colab": {
          "base_uri": "https://localhost:8080/",
          "height": 167
        },
        "id": "PHrvGvc53JAe",
        "outputId": "d0aebbd9-bfe5-4b06-d32f-165bd571b510"
      },
      "execution_count": 16,
      "outputs": [
        {
          "output_type": "execute_result",
          "data": {
            "text/plain": [
              "<rdkit.Chem.rdchem.Mol at 0x7f89ac89c970>"
            ],
            "image/png": "[encoded data removed]"
          },
          "metadata": {},
          "execution_count": 16
        }
      ]
    },
    {
      "cell_type": "code",
      "source": [
        "test['Molecule'] = test.Molecule.apply(AddHs)\n",
        "valid['Molecule'] = valid.Molecule.apply(AddHs)"
      ],
      "metadata": {
        "id": "NxKmpgy73L8J"
      },
      "execution_count": 17,
      "outputs": []
    },
    {
      "cell_type": "code",
      "source": [
        "test.Molecule[0]"
      ],
      "metadata": {
        "colab": {
          "base_uri": "https://localhost:8080/",
          "height": 167
        },
        "id": "ezuu_IQG3TGp",
        "outputId": "05b5d281-4285-424f-af0f-440b064eae61"
      },
      "execution_count": 18,
      "outputs": [
        {
          "output_type": "execute_result",
          "data": {
            "text/plain": [
              "<rdkit.Chem.rdchem.Mol at 0x7f89ac89ca50>"
            ],
            "image/png": "[encoded data removed]"
          },
          "metadata": {},
          "execution_count": 18
        }
      ]
    },
    {
      "cell_type": "code",
      "source": [
        "valid.Molecule[0]"
      ],
      "metadata": {
        "colab": {
          "base_uri": "https://localhost:8080/",
          "height": 167
        },
        "id": "u3TRc_-d3VsH",
        "outputId": "4f0d5108-335c-46f5-f3e5-0cdd8e2ca681"
      },
      "execution_count": 19,
      "outputs": [
        {
          "output_type": "execute_result",
          "data": {
            "text/plain": [
              "<rdkit.Chem.rdchem.Mol at 0x7f89ac8f87b0>"
            ],
            "image/png": "[encoded data removed]"
          },
          "metadata": {},
          "execution_count": 19
        }
      ]
    },
    {
      "cell_type": "code",
      "source": [
        "des_keys = Descriptors.CalcMolDescriptors(valid.Molecule[0]).keys()"
      ],
      "metadata": {
        "id": "NLnAAUPQ675M"
      },
      "execution_count": 20,
      "outputs": []
    },
    {
      "cell_type": "code",
      "source": [
        "des_keys"
      ],
      "metadata": {
        "colab": {
          "base_uri": "https://localhost:8080/"
        },
        "id": "qlZngWFb7Gb0",
        "outputId": "2518a996-3823-4742-cb19-754c7aca6cdc"
      },
      "execution_count": 21,
      "outputs": [
        {
          "output_type": "execute_result",
          "data": {
            "text/plain": [
              "dict_keys(['MaxAbsEStateIndex', 'MaxEStateIndex', 'MinAbsEStateIndex', 'MinEStateIndex', 'qed', 'MolWt', 'HeavyAtomMolWt', 'ExactMolWt', 'NumValenceElectrons', 'NumRadicalElectrons', 'MaxPartialCharge', 'MinPartialCharge', 'MaxAbsPartialCharge', 'MinAbsPartialCharge', 'FpDensityMorgan1', 'FpDensityMorgan2', 'FpDensityMorgan3', 'BCUT2D_MWHI', 'BCUT2D_MWLOW', 'BCUT2D_CHGHI', 'BCUT2D_CHGLO', 'BCUT2D_LOGPHI', 'BCUT2D_LOGPLOW', 'BCUT2D_MRHI', 'BCUT2D_MRLOW', 'AvgIpc', 'BalabanJ', 'BertzCT', 'Chi0', 'Chi0n', 'Chi0v', 'Chi1', 'Chi1n', 'Chi1v', 'Chi2n', 'Chi2v', 'Chi3n', 'Chi3v', 'Chi4n', 'Chi4v', 'HallKierAlpha', 'Ipc', 'Kappa1', 'Kappa2', 'Kappa3', 'LabuteASA', 'PEOE_VSA1', 'PEOE_VSA10', 'PEOE_VSA11', 'PEOE_VSA12', 'PEOE_VSA13', 'PEOE_VSA14', 'PEOE_VSA2', 'PEOE_VSA3', 'PEOE_VSA4', 'PEOE_VSA5', 'PEOE_VSA6', 'PEOE_VSA7', 'PEOE_VSA8', 'PEOE_VSA9', 'SMR_VSA1', 'SMR_VSA10', 'SMR_VSA2', 'SMR_VSA3', 'SMR_VSA4', 'SMR_VSA5', 'SMR_VSA6', 'SMR_VSA7', 'SMR_VSA8', 'SMR_VSA9', 'SlogP_VSA1', 'SlogP_VSA10', 'SlogP_VSA11', 'SlogP_VSA12', 'SlogP_VSA2', 'SlogP_VSA3', 'SlogP_VSA4', 'SlogP_VSA5', 'SlogP_VSA6', 'SlogP_VSA7', 'SlogP_VSA8', 'SlogP_VSA9', 'TPSA', 'EState_VSA1', 'EState_VSA10', 'EState_VSA11', 'EState_VSA2', 'EState_VSA3', 'EState_VSA4', 'EState_VSA5', 'EState_VSA6', 'EState_VSA7', 'EState_VSA8', 'EState_VSA9', 'VSA_EState1', 'VSA_EState10', 'VSA_EState2', 'VSA_EState3', 'VSA_EState4', 'VSA_EState5', 'VSA_EState6', 'VSA_EState7', 'VSA_EState8', 'VSA_EState9', 'FractionCSP3', 'HeavyAtomCount', 'NHOHCount', 'NOCount', 'NumAliphaticCarbocycles', 'NumAliphaticHeterocycles', 'NumAliphaticRings', 'NumAromaticCarbocycles', 'NumAromaticHeterocycles', 'NumAromaticRings', 'NumHAcceptors', 'NumHDonors', 'NumHeteroatoms', 'NumRotatableBonds', 'NumSaturatedCarbocycles', 'NumSaturatedHeterocycles', 'NumSaturatedRings', 'RingCount', 'MolLogP', 'MolMR', 'fr_Al_COO', 'fr_Al_OH', 'fr_Al_OH_noTert', 'fr_ArN', 'fr_Ar_COO', 'fr_Ar_N', 'fr_Ar_NH', 'fr_Ar_OH', 'fr_COO', 'fr_COO2', 'fr_C_O', 'fr_C_O_noCOO', 'fr_C_S', 'fr_HOCCN', 'fr_Imine', 'fr_NH0', 'fr_NH1', 'fr_NH2', 'fr_N_O', 'fr_Ndealkylation1', 'fr_Ndealkylation2', 'fr_Nhpyrrole', 'fr_SH', 'fr_aldehyde', 'fr_alkyl_carbamate', 'fr_alkyl_halide', 'fr_allylic_oxid', 'fr_amide', 'fr_amidine', 'fr_aniline', 'fr_aryl_methyl', 'fr_azide', 'fr_azo', 'fr_barbitur', 'fr_benzene', 'fr_benzodiazepine', 'fr_bicyclic', 'fr_diazo', 'fr_dihydropyridine', 'fr_epoxide', 'fr_ester', 'fr_ether', 'fr_furan', 'fr_guanido', 'fr_halogen', 'fr_hdrzine', 'fr_hdrzone', 'fr_imidazole', 'fr_imide', 'fr_isocyan', 'fr_isothiocyan', 'fr_ketone', 'fr_ketone_Topliss', 'fr_lactam', 'fr_lactone', 'fr_methoxy', 'fr_morpholine', 'fr_nitrile', 'fr_nitro', 'fr_nitro_arom', 'fr_nitro_arom_nonortho', 'fr_nitroso', 'fr_oxazole', 'fr_oxime', 'fr_para_hydroxylation', 'fr_phenol', 'fr_phenol_noOrthoHbond', 'fr_phos_acid', 'fr_phos_ester', 'fr_piperdine', 'fr_piperzine', 'fr_priamide', 'fr_prisulfonamd', 'fr_pyridine', 'fr_quatN', 'fr_sulfide', 'fr_sulfonamd', 'fr_sulfone', 'fr_term_acetylene', 'fr_tetrazole', 'fr_thiazole', 'fr_thiocyan', 'fr_thiophene', 'fr_unbrch_alkane', 'fr_urea'])"
            ]
          },
          "metadata": {},
          "execution_count": 21
        }
      ]
    },
    {
      "cell_type": "code",
      "source": [
        "# Create a featurizer object\n",
        "featurizer = dc.feat.RDKitDescriptors()"
      ],
      "metadata": {
        "id": "pmMCQ7jw3Tx6"
      },
      "execution_count": 22,
      "outputs": []
    },
    {
      "cell_type": "code",
      "source": [
        "train['descript'] = train.Molecule.apply(featurizer.featurize)"
      ],
      "metadata": {
        "id": "GEhLWnlN8MmD"
      },
      "execution_count": 23,
      "outputs": []
    },
    {
      "cell_type": "code",
      "source": [
        "train.head()"
      ],
      "metadata": {
        "colab": {
          "base_uri": "https://localhost:8080/",
          "height": 250
        },
        "id": "HKmeS9W-9C_Z",
        "outputId": "32d7270c-18d0-4d7a-9ecc-782d7c954d6c"
      },
      "execution_count": 24,
      "outputs": [
        {
          "output_type": "execute_result",
          "data": {
            "text/plain": [
              "         Drug_ID                                               Drug     Y  \\\n",
              "0  CHEMBL1951894  CCN(C(=O)Cc1ccc(S(C)(=O)=O)cc1)C1CCN(CCC(c2ccc...  3.21   \n",
              "1  CHEMBL1951893  CCN(C(=O)Cc1ccc(S(C)(=O)=O)cc1)C1CCN(CCC(c2ccc...  2.67   \n",
              "2   CHEMBL197536                      O=c1cc(N2CCOCC2)oc2cc(O)ccc12  1.00   \n",
              "3  CHEMBL1807852  C[C@H]1O[C@@H](n2cnc3c(N)nc(OC4CC5CC5C4)nc32)[...  1.66   \n",
              "4       CHEMBL23  COc1ccc([C@@H]2Sc3ccccc3N(CCN(C)C)C(=O)[C@@H]2...  1.99   \n",
              "\n",
              "                                           Molecule  \\\n",
              "0  <rdkit.Chem.rdchem.Mol object at 0x7f89ac89c970>   \n",
              "1  <rdkit.Chem.rdchem.Mol object at 0x7f89ac89cba0>   \n",
              "2  <rdkit.Chem.rdchem.Mol object at 0x7f89ac89ccf0>   \n",
              "3  <rdkit.Chem.rdchem.Mol object at 0x7f89ac89ce40>   \n",
              "4  <rdkit.Chem.rdchem.Mol object at 0x7f89ac89cdd0>   \n",
              "\n",
              "                                            descript  \n",
              "0  [[15.424770250248978, 15.424770250248978, 0.92...  \n",
              "1  [[15.023139174262797, 15.023139174262797, 0.80...  \n",
              "2  [[12.749214143990928, 12.749214143990928, 0.24...  \n",
              "3  [[8.911682991206124, 8.911682991206124, 0.0155...  \n",
              "4  [[14.87330024372773, 14.87330024372773, 0.5636...  "
            ],
            "text/html": [
              "\n",
              "  <div id=\"df-ab07ea9a-da47-4268-8ca4-270c3623fa16\">\n",
              "    <div class=\"colab-df-container\">\n",
              "      <div>\n",
              "<style scoped>\n",
              "    .dataframe tbody tr th:only-of-type {\n",
              "        vertical-align: middle;\n",
              "    }\n",
              "\n",
              "    .dataframe tbody tr th {\n",
              "        vertical-align: top;\n",
              "    }\n",
              "\n",
              "    .dataframe thead th {\n",
              "        text-align: right;\n",
              "    }\n",
              "</style>\n",
              "<table border=\"1\" class=\"dataframe\">\n",
              "  <thead>\n",
              "    <tr style=\"text-align: right;\">\n",
              "      <th></th>\n",
              "      <th>Drug_ID</th>\n",
              "      <th>Drug</th>\n",
              "      <th>Y</th>\n",
              "      <th>Molecule</th>\n",
              "      <th>descript</th>\n",
              "    </tr>\n",
              "  </thead>\n",
              "  <tbody>\n",
              "    <tr>\n",
              "      <th>0</th>\n",
              "      <td>CHEMBL1951894</td>\n",
              "      <td>CCN(C(=O)Cc1ccc(S(C)(=O)=O)cc1)C1CCN(CCC(c2ccc...</td>\n",
              "      <td>3.21</td>\n",
              "      <td>&lt;rdkit.Chem.rdchem.Mol object at 0x7f89ac89c970&gt;</td>\n",
              "      <td>[[15.424770250248978, 15.424770250248978, 0.92...</td>\n",
              "    </tr>\n",
              "    <tr>\n",
              "      <th>1</th>\n",
              "      <td>CHEMBL1951893</td>\n",
              "      <td>CCN(C(=O)Cc1ccc(S(C)(=O)=O)cc1)C1CCN(CCC(c2ccc...</td>\n",
              "      <td>2.67</td>\n",
              "      <td>&lt;rdkit.Chem.rdchem.Mol object at 0x7f89ac89cba0&gt;</td>\n",
              "      <td>[[15.023139174262797, 15.023139174262797, 0.80...</td>\n",
              "    </tr>\n",
              "    <tr>\n",
              "      <th>2</th>\n",
              "      <td>CHEMBL197536</td>\n",
              "      <td>O=c1cc(N2CCOCC2)oc2cc(O)ccc12</td>\n",
              "      <td>1.00</td>\n",
              "      <td>&lt;rdkit.Chem.rdchem.Mol object at 0x7f89ac89ccf0&gt;</td>\n",
              "      <td>[[12.749214143990928, 12.749214143990928, 0.24...</td>\n",
              "    </tr>\n",
              "    <tr>\n",
              "      <th>3</th>\n",
              "      <td>CHEMBL1807852</td>\n",
              "      <td>C[C@H]1O[C@@H](n2cnc3c(N)nc(OC4CC5CC5C4)nc32)[...</td>\n",
              "      <td>1.66</td>\n",
              "      <td>&lt;rdkit.Chem.rdchem.Mol object at 0x7f89ac89ce40&gt;</td>\n",
              "      <td>[[8.911682991206124, 8.911682991206124, 0.0155...</td>\n",
              "    </tr>\n",
              "    <tr>\n",
              "      <th>4</th>\n",
              "      <td>CHEMBL23</td>\n",
              "      <td>COc1ccc([C@@H]2Sc3ccccc3N(CCN(C)C)C(=O)[C@@H]2...</td>\n",
              "      <td>1.99</td>\n",
              "      <td>&lt;rdkit.Chem.rdchem.Mol object at 0x7f89ac89cdd0&gt;</td>\n",
              "      <td>[[14.87330024372773, 14.87330024372773, 0.5636...</td>\n",
              "    </tr>\n",
              "  </tbody>\n",
              "</table>\n",
              "</div>\n",
              "      <button class=\"colab-df-convert\" onclick=\"convertToInteractive('df-ab07ea9a-da47-4268-8ca4-270c3623fa16')\"\n",
              "              title=\"Convert this dataframe to an interactive table.\"\n",
              "              style=\"display:none;\">\n",
              "        \n",
              "  <svg xmlns=\"http://www.w3.org/2000/svg\" height=\"24px\"viewBox=\"0 0 24 24\"\n",
              "       width=\"24px\">\n",
              "    <path d=\"M0 0h24v24H0V0z\" fill=\"none\"/>\n",
              "    <path d=\"M18.56 5.44l.94 2.06.94-2.06 2.06-.94-2.06-.94-.94-2.06-.94 2.06-2.06.94zm-11 1L8.5 8.5l.94-2.06 2.06-.94-2.06-.94L8.5 2.5l-.94 2.06-2.06.94zm10 10l.94 2.06.94-2.06 2.06-.94-2.06-.94-.94-2.06-.94 2.06-2.06.94z\"/><path d=\"M17.41 7.96l-1.37-1.37c-.4-.4-.92-.59-1.43-.59-.52 0-1.04.2-1.43.59L10.3 9.45l-7.72 7.72c-.78.78-.78 2.05 0 2.83L4 21.41c.39.39.9.59 1.41.59.51 0 1.02-.2 1.41-.59l7.78-7.78 2.81-2.81c.8-.78.8-2.07 0-2.86zM5.41 20L4 18.59l7.72-7.72 1.47 1.35L5.41 20z\"/>\n",
              "  </svg>\n",
              "      </button>\n",
              "      \n",
              "  <style>\n",
              "    .colab-df-container {\n",
              "      display:flex;\n",
              "      flex-wrap:wrap;\n",
              "      gap: 12px;\n",
              "    }\n",
              "\n",
              "    .colab-df-convert {\n",
              "      background-color: #E8F0FE;\n",
              "      border: none;\n",
              "      border-radius: 50%;\n",
              "      cursor: pointer;\n",
              "      display: none;\n",
              "      fill: #1967D2;\n",
              "      height: 32px;\n",
              "      padding: 0 0 0 0;\n",
              "      width: 32px;\n",
              "    }\n",
              "\n",
              "    .colab-df-convert:hover {\n",
              "      background-color: #E2EBFA;\n",
              "      box-shadow: 0px 1px 2px rgba(60, 64, 67, 0.3), 0px 1px 3px 1px rgba(60, 64, 67, 0.15);\n",
              "      fill: #174EA6;\n",
              "    }\n",
              "\n",
              "    [theme=dark] .colab-df-convert {\n",
              "      background-color: #3B4455;\n",
              "      fill: #D2E3FC;\n",
              "    }\n",
              "\n",
              "    [theme=dark] .colab-df-convert:hover {\n",
              "      background-color: #434B5C;\n",
              "      box-shadow: 0px 1px 3px 1px rgba(0, 0, 0, 0.15);\n",
              "      filter: drop-shadow(0px 1px 2px rgba(0, 0, 0, 0.3));\n",
              "      fill: #FFFFFF;\n",
              "    }\n",
              "  </style>\n",
              "\n",
              "      <script>\n",
              "        const buttonEl =\n",
              "          document.querySelector('#df-ab07ea9a-da47-4268-8ca4-270c3623fa16 button.colab-df-convert');\n",
              "        buttonEl.style.display =\n",
              "          google.colab.kernel.accessAllowed ? 'block' : 'none';\n",
              "\n",
              "        async function convertToInteractive(key) {\n",
              "          const element = document.querySelector('#df-ab07ea9a-da47-4268-8ca4-270c3623fa16');\n",
              "          const dataTable =\n",
              "            await google.colab.kernel.invokeFunction('convertToInteractive',\n",
              "                                                     [key], {});\n",
              "          if (!dataTable) return;\n",
              "\n",
              "          const docLinkHtml = 'Like what you see? Visit the ' +\n",
              "            '<a target=\"_blank\" href=https://colab.research.google.com/notebooks/data_table.ipynb>data table notebook</a>'\n",
              "            + ' to learn more about interactive tables.';\n",
              "          element.innerHTML = '';\n",
              "          dataTable['output_type'] = 'display_data';\n",
              "          await google.colab.output.renderOutput(dataTable, element);\n",
              "          const docLink = document.createElement('div');\n",
              "          docLink.innerHTML = docLinkHtml;\n",
              "          element.appendChild(docLink);\n",
              "        }\n",
              "      </script>\n",
              "    </div>\n",
              "  </div>\n",
              "  "
            ]
          },
          "metadata": {},
          "execution_count": 24
        }
      ]
    },
    {
      "cell_type": "code",
      "source": [
        "type(train.descript[0])"
      ],
      "metadata": {
        "colab": {
          "base_uri": "https://localhost:8080/"
        },
        "id": "yW43tw84K5au",
        "outputId": "f6c2c693-826b-4dd6-c838-f6f9e7ac90d9"
      },
      "execution_count": 25,
      "outputs": [
        {
          "output_type": "execute_result",
          "data": {
            "text/plain": [
              "numpy.ndarray"
            ]
          },
          "metadata": {},
          "execution_count": 25
        }
      ]
    },
    {
      "cell_type": "code",
      "source": [
        "# Write for test and valid\n",
        "test['descript'] = test.Molecule.apply(featurizer.featurize)\n",
        "valid['descript'] = valid.Molecule.apply(featurizer.featurize)"
      ],
      "metadata": {
        "id": "0A0SXFXs8cS6"
      },
      "execution_count": 26,
      "outputs": []
    },
    {
      "cell_type": "code",
      "source": [
        "train['descript'] = train['descript'].apply(lambda x: list(x[0]))"
      ],
      "metadata": {
        "id": "KXD2Lk8_9Uuo"
      },
      "execution_count": 27,
      "outputs": []
    },
    {
      "cell_type": "code",
      "source": [
        "# Write for test and valid\n",
        "test['descript'] = test['descript'].apply(lambda x: list(x[0]))\n",
        "valid['descript'] = valid['descript'].apply(lambda x: list(x[0]))"
      ],
      "metadata": {
        "id": "dRd-63C7-PVt"
      },
      "execution_count": 28,
      "outputs": []
    },
    {
      "cell_type": "code",
      "source": [
        "test.sample(1)"
      ],
      "metadata": {
        "colab": {
          "base_uri": "https://localhost:8080/",
          "height": 81
        },
        "id": "lU6PWV-G-b0w",
        "outputId": "d22f859d-7a96-4f67-bec8-ae240491f8b6"
      },
      "execution_count": 29,
      "outputs": [
        {
          "output_type": "execute_result",
          "data": {
            "text/plain": [
              "           Drug_ID                                               Drug    Y  \\\n",
              "679  CHEMBL1682972  CC[C@H](NC(=O)c1c([S+](C)[O-])c(-c2ccccc2)nc2c...  2.2   \n",
              "\n",
              "                                             Molecule  \\\n",
              "679  <rdkit.Chem.rdchem.Mol object at 0x7f89ac8c0120>   \n",
              "\n",
              "                                              descript  \n",
              "679  [14.82501831905601, 14.82501831905601, 0.86356...  "
            ],
            "text/html": [
              "\n",
              "  <div id=\"df-9de2faf4-f141-4a8a-8214-17bec01a8105\">\n",
              "    <div class=\"colab-df-container\">\n",
              "      <div>\n",
              "<style scoped>\n",
              "    .dataframe tbody tr th:only-of-type {\n",
              "        vertical-align: middle;\n",
              "    }\n",
              "\n",
              "    .dataframe tbody tr th {\n",
              "        vertical-align: top;\n",
              "    }\n",
              "\n",
              "    .dataframe thead th {\n",
              "        text-align: right;\n",
              "    }\n",
              "</style>\n",
              "<table border=\"1\" class=\"dataframe\">\n",
              "  <thead>\n",
              "    <tr style=\"text-align: right;\">\n",
              "      <th></th>\n",
              "      <th>Drug_ID</th>\n",
              "      <th>Drug</th>\n",
              "      <th>Y</th>\n",
              "      <th>Molecule</th>\n",
              "      <th>descript</th>\n",
              "    </tr>\n",
              "  </thead>\n",
              "  <tbody>\n",
              "    <tr>\n",
              "      <th>679</th>\n",
              "      <td>CHEMBL1682972</td>\n",
              "      <td>CC[C@H](NC(=O)c1c([S+](C)[O-])c(-c2ccccc2)nc2c...</td>\n",
              "      <td>2.2</td>\n",
              "      <td>&lt;rdkit.Chem.rdchem.Mol object at 0x7f89ac8c0120&gt;</td>\n",
              "      <td>[14.82501831905601, 14.82501831905601, 0.86356...</td>\n",
              "    </tr>\n",
              "  </tbody>\n",
              "</table>\n",
              "</div>\n",
              "      <button class=\"colab-df-convert\" onclick=\"convertToInteractive('df-9de2faf4-f141-4a8a-8214-17bec01a8105')\"\n",
              "              title=\"Convert this dataframe to an interactive table.\"\n",
              "              style=\"display:none;\">\n",
              "        \n",
              "  <svg xmlns=\"http://www.w3.org/2000/svg\" height=\"24px\"viewBox=\"0 0 24 24\"\n",
              "       width=\"24px\">\n",
              "    <path d=\"M0 0h24v24H0V0z\" fill=\"none\"/>\n",
              "    <path d=\"M18.56 5.44l.94 2.06.94-2.06 2.06-.94-2.06-.94-.94-2.06-.94 2.06-2.06.94zm-11 1L8.5 8.5l.94-2.06 2.06-.94-2.06-.94L8.5 2.5l-.94 2.06-2.06.94zm10 10l.94 2.06.94-2.06 2.06-.94-2.06-.94-.94-2.06-.94 2.06-2.06.94z\"/><path d=\"M17.41 7.96l-1.37-1.37c-.4-.4-.92-.59-1.43-.59-.52 0-1.04.2-1.43.59L10.3 9.45l-7.72 7.72c-.78.78-.78 2.05 0 2.83L4 21.41c.39.39.9.59 1.41.59.51 0 1.02-.2 1.41-.59l7.78-7.78 2.81-2.81c.8-.78.8-2.07 0-2.86zM5.41 20L4 18.59l7.72-7.72 1.47 1.35L5.41 20z\"/>\n",
              "  </svg>\n",
              "      </button>\n",
              "      \n",
              "  <style>\n",
              "    .colab-df-container {\n",
              "      display:flex;\n",
              "      flex-wrap:wrap;\n",
              "      gap: 12px;\n",
              "    }\n",
              "\n",
              "    .colab-df-convert {\n",
              "      background-color: #E8F0FE;\n",
              "      border: none;\n",
              "      border-radius: 50%;\n",
              "      cursor: pointer;\n",
              "      display: none;\n",
              "      fill: #1967D2;\n",
              "      height: 32px;\n",
              "      padding: 0 0 0 0;\n",
              "      width: 32px;\n",
              "    }\n",
              "\n",
              "    .colab-df-convert:hover {\n",
              "      background-color: #E2EBFA;\n",
              "      box-shadow: 0px 1px 2px rgba(60, 64, 67, 0.3), 0px 1px 3px 1px rgba(60, 64, 67, 0.15);\n",
              "      fill: #174EA6;\n",
              "    }\n",
              "\n",
              "    [theme=dark] .colab-df-convert {\n",
              "      background-color: #3B4455;\n",
              "      fill: #D2E3FC;\n",
              "    }\n",
              "\n",
              "    [theme=dark] .colab-df-convert:hover {\n",
              "      background-color: #434B5C;\n",
              "      box-shadow: 0px 1px 3px 1px rgba(0, 0, 0, 0.15);\n",
              "      filter: drop-shadow(0px 1px 2px rgba(0, 0, 0, 0.3));\n",
              "      fill: #FFFFFF;\n",
              "    }\n",
              "  </style>\n",
              "\n",
              "      <script>\n",
              "        const buttonEl =\n",
              "          document.querySelector('#df-9de2faf4-f141-4a8a-8214-17bec01a8105 button.colab-df-convert');\n",
              "        buttonEl.style.display =\n",
              "          google.colab.kernel.accessAllowed ? 'block' : 'none';\n",
              "\n",
              "        async function convertToInteractive(key) {\n",
              "          const element = document.querySelector('#df-9de2faf4-f141-4a8a-8214-17bec01a8105');\n",
              "          const dataTable =\n",
              "            await google.colab.kernel.invokeFunction('convertToInteractive',\n",
              "                                                     [key], {});\n",
              "          if (!dataTable) return;\n",
              "\n",
              "          const docLinkHtml = 'Like what you see? Visit the ' +\n",
              "            '<a target=\"_blank\" href=https://colab.research.google.com/notebooks/data_table.ipynb>data table notebook</a>'\n",
              "            + ' to learn more about interactive tables.';\n",
              "          element.innerHTML = '';\n",
              "          dataTable['output_type'] = 'display_data';\n",
              "          await google.colab.output.renderOutput(dataTable, element);\n",
              "          const docLink = document.createElement('div');\n",
              "          docLink.innerHTML = docLinkHtml;\n",
              "          element.appendChild(docLink);\n",
              "        }\n",
              "      </script>\n",
              "    </div>\n",
              "  </div>\n",
              "  "
            ]
          },
          "metadata": {},
          "execution_count": 29
        }
      ]
    },
    {
      "cell_type": "code",
      "source": [
        "valid.sample(1)"
      ],
      "metadata": {
        "colab": {
          "base_uri": "https://localhost:8080/",
          "height": 81
        },
        "id": "DSA1SpXI-dbJ",
        "outputId": "e0d27ad7-3255-4fc5-aea9-c97d7f4ccc80"
      },
      "execution_count": 30,
      "outputs": [
        {
          "output_type": "execute_result",
          "data": {
            "text/plain": [
              "          Drug_ID                                             Drug     Y  \\\n",
              "244  CHEMBL408194  COC1=CC(c2cc3ccccc3[nH]2)=N/C1=C\\c1[nH]c(C)cc1C  2.55   \n",
              "\n",
              "                                             Molecule  \\\n",
              "244  <rdkit.Chem.rdchem.Mol object at 0x7f89ac8a9b60>   \n",
              "\n",
              "                                              descript  \n",
              "244  [8.729889560762576, 8.729889560762576, 0.01205...  "
            ],
            "text/html": [
              "\n",
              "  <div id=\"df-bfcf7c34-cfae-46ac-a2dd-ab6f3319db9f\">\n",
              "    <div class=\"colab-df-container\">\n",
              "      <div>\n",
              "<style scoped>\n",
              "    .dataframe tbody tr th:only-of-type {\n",
              "        vertical-align: middle;\n",
              "    }\n",
              "\n",
              "    .dataframe tbody tr th {\n",
              "        vertical-align: top;\n",
              "    }\n",
              "\n",
              "    .dataframe thead th {\n",
              "        text-align: right;\n",
              "    }\n",
              "</style>\n",
              "<table border=\"1\" class=\"dataframe\">\n",
              "  <thead>\n",
              "    <tr style=\"text-align: right;\">\n",
              "      <th></th>\n",
              "      <th>Drug_ID</th>\n",
              "      <th>Drug</th>\n",
              "      <th>Y</th>\n",
              "      <th>Molecule</th>\n",
              "      <th>descript</th>\n",
              "    </tr>\n",
              "  </thead>\n",
              "  <tbody>\n",
              "    <tr>\n",
              "      <th>244</th>\n",
              "      <td>CHEMBL408194</td>\n",
              "      <td>COC1=CC(c2cc3ccccc3[nH]2)=N/C1=C\\c1[nH]c(C)cc1C</td>\n",
              "      <td>2.55</td>\n",
              "      <td>&lt;rdkit.Chem.rdchem.Mol object at 0x7f89ac8a9b60&gt;</td>\n",
              "      <td>[8.729889560762576, 8.729889560762576, 0.01205...</td>\n",
              "    </tr>\n",
              "  </tbody>\n",
              "</table>\n",
              "</div>\n",
              "      <button class=\"colab-df-convert\" onclick=\"convertToInteractive('df-bfcf7c34-cfae-46ac-a2dd-ab6f3319db9f')\"\n",
              "              title=\"Convert this dataframe to an interactive table.\"\n",
              "              style=\"display:none;\">\n",
              "        \n",
              "  <svg xmlns=\"http://www.w3.org/2000/svg\" height=\"24px\"viewBox=\"0 0 24 24\"\n",
              "       width=\"24px\">\n",
              "    <path d=\"M0 0h24v24H0V0z\" fill=\"none\"/>\n",
              "    <path d=\"M18.56 5.44l.94 2.06.94-2.06 2.06-.94-2.06-.94-.94-2.06-.94 2.06-2.06.94zm-11 1L8.5 8.5l.94-2.06 2.06-.94-2.06-.94L8.5 2.5l-.94 2.06-2.06.94zm10 10l.94 2.06.94-2.06 2.06-.94-2.06-.94-.94-2.06-.94 2.06-2.06.94z\"/><path d=\"M17.41 7.96l-1.37-1.37c-.4-.4-.92-.59-1.43-.59-.52 0-1.04.2-1.43.59L10.3 9.45l-7.72 7.72c-.78.78-.78 2.05 0 2.83L4 21.41c.39.39.9.59 1.41.59.51 0 1.02-.2 1.41-.59l7.78-7.78 2.81-2.81c.8-.78.8-2.07 0-2.86zM5.41 20L4 18.59l7.72-7.72 1.47 1.35L5.41 20z\"/>\n",
              "  </svg>\n",
              "      </button>\n",
              "      \n",
              "  <style>\n",
              "    .colab-df-container {\n",
              "      display:flex;\n",
              "      flex-wrap:wrap;\n",
              "      gap: 12px;\n",
              "    }\n",
              "\n",
              "    .colab-df-convert {\n",
              "      background-color: #E8F0FE;\n",
              "      border: none;\n",
              "      border-radius: 50%;\n",
              "      cursor: pointer;\n",
              "      display: none;\n",
              "      fill: #1967D2;\n",
              "      height: 32px;\n",
              "      padding: 0 0 0 0;\n",
              "      width: 32px;\n",
              "    }\n",
              "\n",
              "    .colab-df-convert:hover {\n",
              "      background-color: #E2EBFA;\n",
              "      box-shadow: 0px 1px 2px rgba(60, 64, 67, 0.3), 0px 1px 3px 1px rgba(60, 64, 67, 0.15);\n",
              "      fill: #174EA6;\n",
              "    }\n",
              "\n",
              "    [theme=dark] .colab-df-convert {\n",
              "      background-color: #3B4455;\n",
              "      fill: #D2E3FC;\n",
              "    }\n",
              "\n",
              "    [theme=dark] .colab-df-convert:hover {\n",
              "      background-color: #434B5C;\n",
              "      box-shadow: 0px 1px 3px 1px rgba(0, 0, 0, 0.15);\n",
              "      filter: drop-shadow(0px 1px 2px rgba(0, 0, 0, 0.3));\n",
              "      fill: #FFFFFF;\n",
              "    }\n",
              "  </style>\n",
              "\n",
              "      <script>\n",
              "        const buttonEl =\n",
              "          document.querySelector('#df-bfcf7c34-cfae-46ac-a2dd-ab6f3319db9f button.colab-df-convert');\n",
              "        buttonEl.style.display =\n",
              "          google.colab.kernel.accessAllowed ? 'block' : 'none';\n",
              "\n",
              "        async function convertToInteractive(key) {\n",
              "          const element = document.querySelector('#df-bfcf7c34-cfae-46ac-a2dd-ab6f3319db9f');\n",
              "          const dataTable =\n",
              "            await google.colab.kernel.invokeFunction('convertToInteractive',\n",
              "                                                     [key], {});\n",
              "          if (!dataTable) return;\n",
              "\n",
              "          const docLinkHtml = 'Like what you see? Visit the ' +\n",
              "            '<a target=\"_blank\" href=https://colab.research.google.com/notebooks/data_table.ipynb>data table notebook</a>'\n",
              "            + ' to learn more about interactive tables.';\n",
              "          element.innerHTML = '';\n",
              "          dataTable['output_type'] = 'display_data';\n",
              "          await google.colab.output.renderOutput(dataTable, element);\n",
              "          const docLink = document.createElement('div');\n",
              "          docLink.innerHTML = docLinkHtml;\n",
              "          element.appendChild(docLink);\n",
              "        }\n",
              "      </script>\n",
              "    </div>\n",
              "  </div>\n",
              "  "
            ]
          },
          "metadata": {},
          "execution_count": 30
        }
      ]
    },
    {
      "cell_type": "code",
      "source": [
        "# Write a function that separates out each descriptors into different columns\n",
        "def get_des(data_set):\n",
        "  for idx, mol in enumerate(data_set.Molecule):\n",
        "    all_des = Descriptors.CalcMolDescriptors(mol)\n",
        "    for des in des_keys:\n",
        "      data_set.loc[idx,des] = all_des[des]"
      ],
      "metadata": {
        "id": "_9lQeSh1-eth"
      },
      "execution_count": 31,
      "outputs": []
    },
    {
      "cell_type": "code",
      "source": [
        "get_des(train)\n",
        "get_des(test)\n",
        "get_des(valid)"
      ],
      "metadata": {
        "id": "XWM5jDez-yC0"
      },
      "execution_count": 32,
      "outputs": []
    },
    {
      "cell_type": "code",
      "source": [
        "train.sample(1)"
      ],
      "metadata": {
        "colab": {
          "base_uri": "https://localhost:8080/",
          "height": 209
        },
        "id": "iY0yLeIW-3or",
        "outputId": "9ac57265-f2a7-4ef9-fe2b-412e725b8395"
      },
      "execution_count": 33,
      "outputs": [
        {
          "output_type": "execute_result",
          "data": {
            "text/plain": [
              "            Drug_ID                                             Drug     Y  \\\n",
              "2931  CHEMBL1312643  O=S(=O)(Cc1cc(N2CCOCC2)nc(-c2ccccn2)n1)c1ccccc1  1.34   \n",
              "\n",
              "                                              Molecule  \\\n",
              "2931  <rdkit.Chem.rdchem.Mol object at 0x7f89ac76da10>   \n",
              "\n",
              "                                               descript  MaxAbsEStateIndex  \\\n",
              "2931  [13.854261693109542, 13.854261693109542, 0.431...          13.854262   \n",
              "\n",
              "      MaxEStateIndex  MinAbsEStateIndex  MinEStateIndex       qed  ...  \\\n",
              "2931       13.854262           0.431114       -5.945461  0.654299  ...   \n",
              "\n",
              "      fr_sulfide  fr_sulfonamd  fr_sulfone  fr_term_acetylene  fr_tetrazole  \\\n",
              "2931         0.0           0.0         1.0                0.0           0.0   \n",
              "\n",
              "      fr_thiazole  fr_thiocyan  fr_thiophene  fr_unbrch_alkane  fr_urea  \n",
              "2931          0.0          0.0           0.0               0.0      0.0  \n",
              "\n",
              "[1 rows x 214 columns]"
            ],
            "text/html": [
              "\n",
              "  <div id=\"df-b13ac4cc-b898-4de1-88bc-ac577462532a\">\n",
              "    <div class=\"colab-df-container\">\n",
              "      <div>\n",
              "<style scoped>\n",
              "    .dataframe tbody tr th:only-of-type {\n",
              "        vertical-align: middle;\n",
              "    }\n",
              "\n",
              "    .dataframe tbody tr th {\n",
              "        vertical-align: top;\n",
              "    }\n",
              "\n",
              "    .dataframe thead th {\n",
              "        text-align: right;\n",
              "    }\n",
              "</style>\n",
              "<table border=\"1\" class=\"dataframe\">\n",
              "  <thead>\n",
              "    <tr style=\"text-align: right;\">\n",
              "      <th></th>\n",
              "      <th>Drug_ID</th>\n",
              "      <th>Drug</th>\n",
              "      <th>Y</th>\n",
              "      <th>Molecule</th>\n",
              "      <th>descript</th>\n",
              "      <th>MaxAbsEStateIndex</th>\n",
              "      <th>MaxEStateIndex</th>\n",
              "      <th>MinAbsEStateIndex</th>\n",
              "      <th>MinEStateIndex</th>\n",
              "      <th>qed</th>\n",
              "      <th>...</th>\n",
              "      <th>fr_sulfide</th>\n",
              "      <th>fr_sulfonamd</th>\n",
              "      <th>fr_sulfone</th>\n",
              "      <th>fr_term_acetylene</th>\n",
              "      <th>fr_tetrazole</th>\n",
              "      <th>fr_thiazole</th>\n",
              "      <th>fr_thiocyan</th>\n",
              "      <th>fr_thiophene</th>\n",
              "      <th>fr_unbrch_alkane</th>\n",
              "      <th>fr_urea</th>\n",
              "    </tr>\n",
              "  </thead>\n",
              "  <tbody>\n",
              "    <tr>\n",
              "      <th>2931</th>\n",
              "      <td>CHEMBL1312643</td>\n",
              "      <td>O=S(=O)(Cc1cc(N2CCOCC2)nc(-c2ccccn2)n1)c1ccccc1</td>\n",
              "      <td>1.34</td>\n",
              "      <td>&lt;rdkit.Chem.rdchem.Mol object at 0x7f89ac76da10&gt;</td>\n",
              "      <td>[13.854261693109542, 13.854261693109542, 0.431...</td>\n",
              "      <td>13.854262</td>\n",
              "      <td>13.854262</td>\n",
              "      <td>0.431114</td>\n",
              "      <td>-5.945461</td>\n",
              "      <td>0.654299</td>\n",
              "      <td>...</td>\n",
              "      <td>0.0</td>\n",
              "      <td>0.0</td>\n",
              "      <td>1.0</td>\n",
              "      <td>0.0</td>\n",
              "      <td>0.0</td>\n",
              "      <td>0.0</td>\n",
              "      <td>0.0</td>\n",
              "      <td>0.0</td>\n",
              "      <td>0.0</td>\n",
              "      <td>0.0</td>\n",
              "    </tr>\n",
              "  </tbody>\n",
              "</table>\n",
              "<p>1 rows × 214 columns</p>\n",
              "</div>\n",
              "      <button class=\"colab-df-convert\" onclick=\"convertToInteractive('df-b13ac4cc-b898-4de1-88bc-ac577462532a')\"\n",
              "              title=\"Convert this dataframe to an interactive table.\"\n",
              "              style=\"display:none;\">\n",
              "        \n",
              "  <svg xmlns=\"http://www.w3.org/2000/svg\" height=\"24px\"viewBox=\"0 0 24 24\"\n",
              "       width=\"24px\">\n",
              "    <path d=\"M0 0h24v24H0V0z\" fill=\"none\"/>\n",
              "    <path d=\"M18.56 5.44l.94 2.06.94-2.06 2.06-.94-2.06-.94-.94-2.06-.94 2.06-2.06.94zm-11 1L8.5 8.5l.94-2.06 2.06-.94-2.06-.94L8.5 2.5l-.94 2.06-2.06.94zm10 10l.94 2.06.94-2.06 2.06-.94-2.06-.94-.94-2.06-.94 2.06-2.06.94z\"/><path d=\"M17.41 7.96l-1.37-1.37c-.4-.4-.92-.59-1.43-.59-.52 0-1.04.2-1.43.59L10.3 9.45l-7.72 7.72c-.78.78-.78 2.05 0 2.83L4 21.41c.39.39.9.59 1.41.59.51 0 1.02-.2 1.41-.59l7.78-7.78 2.81-2.81c.8-.78.8-2.07 0-2.86zM5.41 20L4 18.59l7.72-7.72 1.47 1.35L5.41 20z\"/>\n",
              "  </svg>\n",
              "      </button>\n",
              "      \n",
              "  <style>\n",
              "    .colab-df-container {\n",
              "      display:flex;\n",
              "      flex-wrap:wrap;\n",
              "      gap: 12px;\n",
              "    }\n",
              "\n",
              "    .colab-df-convert {\n",
              "      background-color: #E8F0FE;\n",
              "      border: none;\n",
              "      border-radius: 50%;\n",
              "      cursor: pointer;\n",
              "      display: none;\n",
              "      fill: #1967D2;\n",
              "      height: 32px;\n",
              "      padding: 0 0 0 0;\n",
              "      width: 32px;\n",
              "    }\n",
              "\n",
              "    .colab-df-convert:hover {\n",
              "      background-color: #E2EBFA;\n",
              "      box-shadow: 0px 1px 2px rgba(60, 64, 67, 0.3), 0px 1px 3px 1px rgba(60, 64, 67, 0.15);\n",
              "      fill: #174EA6;\n",
              "    }\n",
              "\n",
              "    [theme=dark] .colab-df-convert {\n",
              "      background-color: #3B4455;\n",
              "      fill: #D2E3FC;\n",
              "    }\n",
              "\n",
              "    [theme=dark] .colab-df-convert:hover {\n",
              "      background-color: #434B5C;\n",
              "      box-shadow: 0px 1px 3px 1px rgba(0, 0, 0, 0.15);\n",
              "      filter: drop-shadow(0px 1px 2px rgba(0, 0, 0, 0.3));\n",
              "      fill: #FFFFFF;\n",
              "    }\n",
              "  </style>\n",
              "\n",
              "      <script>\n",
              "        const buttonEl =\n",
              "          document.querySelector('#df-b13ac4cc-b898-4de1-88bc-ac577462532a button.colab-df-convert');\n",
              "        buttonEl.style.display =\n",
              "          google.colab.kernel.accessAllowed ? 'block' : 'none';\n",
              "\n",
              "        async function convertToInteractive(key) {\n",
              "          const element = document.querySelector('#df-b13ac4cc-b898-4de1-88bc-ac577462532a');\n",
              "          const dataTable =\n",
              "            await google.colab.kernel.invokeFunction('convertToInteractive',\n",
              "                                                     [key], {});\n",
              "          if (!dataTable) return;\n",
              "\n",
              "          const docLinkHtml = 'Like what you see? Visit the ' +\n",
              "            '<a target=\"_blank\" href=https://colab.research.google.com/notebooks/data_table.ipynb>data table notebook</a>'\n",
              "            + ' to learn more about interactive tables.';\n",
              "          element.innerHTML = '';\n",
              "          dataTable['output_type'] = 'display_data';\n",
              "          await google.colab.output.renderOutput(dataTable, element);\n",
              "          const docLink = document.createElement('div');\n",
              "          docLink.innerHTML = docLinkHtml;\n",
              "          element.appendChild(docLink);\n",
              "        }\n",
              "      </script>\n",
              "    </div>\n",
              "  </div>\n",
              "  "
            ]
          },
          "metadata": {},
          "execution_count": 33
        }
      ]
    },
    {
      "cell_type": "code",
      "source": [
        "# A function to drop all the NULL values\n",
        "# NOTE: RUN THIS ONLY ONCE! \n",
        "def drop_nulls(df):\n",
        "    null_idxs = df[df.isnull().any(axis=1)].index.tolist()\n",
        "    for idx in null_idxs:\n",
        "        print('Dropping datapoints with NULL data')\n",
        "        df = df.drop([idx])\n",
        "        print(f'Index {idx} was dropped')\n",
        "\n",
        "    return df"
      ],
      "metadata": {
        "id": "cTeecc62-9tA"
      },
      "execution_count": 34,
      "outputs": []
    },
    {
      "cell_type": "code",
      "source": [
        "train = drop_nulls(train)\n",
        "test = drop_nulls(test)\n",
        "valid = drop_nulls(valid)"
      ],
      "metadata": {
        "colab": {
          "base_uri": "https://localhost:8080/"
        },
        "id": "7SIk-7Kg_Q3M",
        "outputId": "04c9ca81-594f-4c36-8f6a-6573380ab49c"
      },
      "execution_count": 35,
      "outputs": [
        {
          "output_type": "stream",
          "name": "stdout",
          "text": [
            "Dropping datapoints with NULL data\n",
            "Index 560 was dropped\n"
          ]
        }
      ]
    },
    {
      "cell_type": "code",
      "source": [
        "train.shape"
      ],
      "metadata": {
        "colab": {
          "base_uri": "https://localhost:8080/"
        },
        "id": "tHbYa22e_YqF",
        "outputId": "fdc7a77c-fc13-441e-8499-7587af6a5604"
      },
      "execution_count": 36,
      "outputs": [
        {
          "output_type": "execute_result",
          "data": {
            "text/plain": [
              "(2939, 214)"
            ]
          },
          "metadata": {},
          "execution_count": 36
        }
      ]
    },
    {
      "cell_type": "code",
      "source": [
        "valid[valid.isnull().any(axis=1)]"
      ],
      "metadata": {
        "colab": {
          "base_uri": "https://localhost:8080/",
          "height": 143
        },
        "id": "9I1ykLKx_fEm",
        "outputId": "9b2eb59c-53ed-4c3d-edde-e35f4b959cfe"
      },
      "execution_count": 37,
      "outputs": [
        {
          "output_type": "execute_result",
          "data": {
            "text/plain": [
              "Empty DataFrame\n",
              "Columns: [Drug_ID, Drug, Y, Molecule, descript, MaxAbsEStateIndex, MaxEStateIndex, MinAbsEStateIndex, MinEStateIndex, qed, MolWt, HeavyAtomMolWt, ExactMolWt, NumValenceElectrons, NumRadicalElectrons, MaxPartialCharge, MinPartialCharge, MaxAbsPartialCharge, MinAbsPartialCharge, FpDensityMorgan1, FpDensityMorgan2, FpDensityMorgan3, BCUT2D_MWHI, BCUT2D_MWLOW, BCUT2D_CHGHI, BCUT2D_CHGLO, BCUT2D_LOGPHI, BCUT2D_LOGPLOW, BCUT2D_MRHI, BCUT2D_MRLOW, AvgIpc, BalabanJ, BertzCT, Chi0, Chi0n, Chi0v, Chi1, Chi1n, Chi1v, Chi2n, Chi2v, Chi3n, Chi3v, Chi4n, Chi4v, HallKierAlpha, Ipc, Kappa1, Kappa2, Kappa3, LabuteASA, PEOE_VSA1, PEOE_VSA10, PEOE_VSA11, PEOE_VSA12, PEOE_VSA13, PEOE_VSA14, PEOE_VSA2, PEOE_VSA3, PEOE_VSA4, PEOE_VSA5, PEOE_VSA6, PEOE_VSA7, PEOE_VSA8, PEOE_VSA9, SMR_VSA1, SMR_VSA10, SMR_VSA2, SMR_VSA3, SMR_VSA4, SMR_VSA5, SMR_VSA6, SMR_VSA7, SMR_VSA8, SMR_VSA9, SlogP_VSA1, SlogP_VSA10, SlogP_VSA11, SlogP_VSA12, SlogP_VSA2, SlogP_VSA3, SlogP_VSA4, SlogP_VSA5, SlogP_VSA6, SlogP_VSA7, SlogP_VSA8, SlogP_VSA9, TPSA, EState_VSA1, EState_VSA10, EState_VSA11, EState_VSA2, EState_VSA3, EState_VSA4, EState_VSA5, EState_VSA6, EState_VSA7, EState_VSA8, EState_VSA9, VSA_EState1, ...]\n",
              "Index: []\n",
              "\n",
              "[0 rows x 214 columns]"
            ],
            "text/html": [
              "\n",
              "  <div id=\"df-db4d569c-7c12-4485-92f9-242fdd17d302\">\n",
              "    <div class=\"colab-df-container\">\n",
              "      <div>\n",
              "<style scoped>\n",
              "    .dataframe tbody tr th:only-of-type {\n",
              "        vertical-align: middle;\n",
              "    }\n",
              "\n",
              "    .dataframe tbody tr th {\n",
              "        vertical-align: top;\n",
              "    }\n",
              "\n",
              "    .dataframe thead th {\n",
              "        text-align: right;\n",
              "    }\n",
              "</style>\n",
              "<table border=\"1\" class=\"dataframe\">\n",
              "  <thead>\n",
              "    <tr style=\"text-align: right;\">\n",
              "      <th></th>\n",
              "      <th>Drug_ID</th>\n",
              "      <th>Drug</th>\n",
              "      <th>Y</th>\n",
              "      <th>Molecule</th>\n",
              "      <th>descript</th>\n",
              "      <th>MaxAbsEStateIndex</th>\n",
              "      <th>MaxEStateIndex</th>\n",
              "      <th>MinAbsEStateIndex</th>\n",
              "      <th>MinEStateIndex</th>\n",
              "      <th>qed</th>\n",
              "      <th>...</th>\n",
              "      <th>fr_sulfide</th>\n",
              "      <th>fr_sulfonamd</th>\n",
              "      <th>fr_sulfone</th>\n",
              "      <th>fr_term_acetylene</th>\n",
              "      <th>fr_tetrazole</th>\n",
              "      <th>fr_thiazole</th>\n",
              "      <th>fr_thiocyan</th>\n",
              "      <th>fr_thiophene</th>\n",
              "      <th>fr_unbrch_alkane</th>\n",
              "      <th>fr_urea</th>\n",
              "    </tr>\n",
              "  </thead>\n",
              "  <tbody>\n",
              "  </tbody>\n",
              "</table>\n",
              "<p>0 rows × 214 columns</p>\n",
              "</div>\n",
              "      <button class=\"colab-df-convert\" onclick=\"convertToInteractive('df-db4d569c-7c12-4485-92f9-242fdd17d302')\"\n",
              "              title=\"Convert this dataframe to an interactive table.\"\n",
              "              style=\"display:none;\">\n",
              "        \n",
              "  <svg xmlns=\"http://www.w3.org/2000/svg\" height=\"24px\"viewBox=\"0 0 24 24\"\n",
              "       width=\"24px\">\n",
              "    <path d=\"M0 0h24v24H0V0z\" fill=\"none\"/>\n",
              "    <path d=\"M18.56 5.44l.94 2.06.94-2.06 2.06-.94-2.06-.94-.94-2.06-.94 2.06-2.06.94zm-11 1L8.5 8.5l.94-2.06 2.06-.94-2.06-.94L8.5 2.5l-.94 2.06-2.06.94zm10 10l.94 2.06.94-2.06 2.06-.94-2.06-.94-.94-2.06-.94 2.06-2.06.94z\"/><path d=\"M17.41 7.96l-1.37-1.37c-.4-.4-.92-.59-1.43-.59-.52 0-1.04.2-1.43.59L10.3 9.45l-7.72 7.72c-.78.78-.78 2.05 0 2.83L4 21.41c.39.39.9.59 1.41.59.51 0 1.02-.2 1.41-.59l7.78-7.78 2.81-2.81c.8-.78.8-2.07 0-2.86zM5.41 20L4 18.59l7.72-7.72 1.47 1.35L5.41 20z\"/>\n",
              "  </svg>\n",
              "      </button>\n",
              "      \n",
              "  <style>\n",
              "    .colab-df-container {\n",
              "      display:flex;\n",
              "      flex-wrap:wrap;\n",
              "      gap: 12px;\n",
              "    }\n",
              "\n",
              "    .colab-df-convert {\n",
              "      background-color: #E8F0FE;\n",
              "      border: none;\n",
              "      border-radius: 50%;\n",
              "      cursor: pointer;\n",
              "      display: none;\n",
              "      fill: #1967D2;\n",
              "      height: 32px;\n",
              "      padding: 0 0 0 0;\n",
              "      width: 32px;\n",
              "    }\n",
              "\n",
              "    .colab-df-convert:hover {\n",
              "      background-color: #E2EBFA;\n",
              "      box-shadow: 0px 1px 2px rgba(60, 64, 67, 0.3), 0px 1px 3px 1px rgba(60, 64, 67, 0.15);\n",
              "      fill: #174EA6;\n",
              "    }\n",
              "\n",
              "    [theme=dark] .colab-df-convert {\n",
              "      background-color: #3B4455;\n",
              "      fill: #D2E3FC;\n",
              "    }\n",
              "\n",
              "    [theme=dark] .colab-df-convert:hover {\n",
              "      background-color: #434B5C;\n",
              "      box-shadow: 0px 1px 3px 1px rgba(0, 0, 0, 0.15);\n",
              "      filter: drop-shadow(0px 1px 2px rgba(0, 0, 0, 0.3));\n",
              "      fill: #FFFFFF;\n",
              "    }\n",
              "  </style>\n",
              "\n",
              "      <script>\n",
              "        const buttonEl =\n",
              "          document.querySelector('#df-db4d569c-7c12-4485-92f9-242fdd17d302 button.colab-df-convert');\n",
              "        buttonEl.style.display =\n",
              "          google.colab.kernel.accessAllowed ? 'block' : 'none';\n",
              "\n",
              "        async function convertToInteractive(key) {\n",
              "          const element = document.querySelector('#df-db4d569c-7c12-4485-92f9-242fdd17d302');\n",
              "          const dataTable =\n",
              "            await google.colab.kernel.invokeFunction('convertToInteractive',\n",
              "                                                     [key], {});\n",
              "          if (!dataTable) return;\n",
              "\n",
              "          const docLinkHtml = 'Like what you see? Visit the ' +\n",
              "            '<a target=\"_blank\" href=https://colab.research.google.com/notebooks/data_table.ipynb>data table notebook</a>'\n",
              "            + ' to learn more about interactive tables.';\n",
              "          element.innerHTML = '';\n",
              "          dataTable['output_type'] = 'display_data';\n",
              "          await google.colab.output.renderOutput(dataTable, element);\n",
              "          const docLink = document.createElement('div');\n",
              "          docLink.innerHTML = docLinkHtml;\n",
              "          element.appendChild(docLink);\n",
              "        }\n",
              "      </script>\n",
              "    </div>\n",
              "  </div>\n",
              "  "
            ]
          },
          "metadata": {},
          "execution_count": 37
        }
      ]
    },
    {
      "cell_type": "code",
      "source": [
        "train[train.isnull().any(axis=1)]"
      ],
      "metadata": {
        "colab": {
          "base_uri": "https://localhost:8080/",
          "height": 143
        },
        "id": "vmMnLioINEvJ",
        "outputId": "c00efa2b-24f5-435f-ef32-50f62a2d6506"
      },
      "execution_count": 38,
      "outputs": [
        {
          "output_type": "execute_result",
          "data": {
            "text/plain": [
              "Empty DataFrame\n",
              "Columns: [Drug_ID, Drug, Y, Molecule, descript, MaxAbsEStateIndex, MaxEStateIndex, MinAbsEStateIndex, MinEStateIndex, qed, MolWt, HeavyAtomMolWt, ExactMolWt, NumValenceElectrons, NumRadicalElectrons, MaxPartialCharge, MinPartialCharge, MaxAbsPartialCharge, MinAbsPartialCharge, FpDensityMorgan1, FpDensityMorgan2, FpDensityMorgan3, BCUT2D_MWHI, BCUT2D_MWLOW, BCUT2D_CHGHI, BCUT2D_CHGLO, BCUT2D_LOGPHI, BCUT2D_LOGPLOW, BCUT2D_MRHI, BCUT2D_MRLOW, AvgIpc, BalabanJ, BertzCT, Chi0, Chi0n, Chi0v, Chi1, Chi1n, Chi1v, Chi2n, Chi2v, Chi3n, Chi3v, Chi4n, Chi4v, HallKierAlpha, Ipc, Kappa1, Kappa2, Kappa3, LabuteASA, PEOE_VSA1, PEOE_VSA10, PEOE_VSA11, PEOE_VSA12, PEOE_VSA13, PEOE_VSA14, PEOE_VSA2, PEOE_VSA3, PEOE_VSA4, PEOE_VSA5, PEOE_VSA6, PEOE_VSA7, PEOE_VSA8, PEOE_VSA9, SMR_VSA1, SMR_VSA10, SMR_VSA2, SMR_VSA3, SMR_VSA4, SMR_VSA5, SMR_VSA6, SMR_VSA7, SMR_VSA8, SMR_VSA9, SlogP_VSA1, SlogP_VSA10, SlogP_VSA11, SlogP_VSA12, SlogP_VSA2, SlogP_VSA3, SlogP_VSA4, SlogP_VSA5, SlogP_VSA6, SlogP_VSA7, SlogP_VSA8, SlogP_VSA9, TPSA, EState_VSA1, EState_VSA10, EState_VSA11, EState_VSA2, EState_VSA3, EState_VSA4, EState_VSA5, EState_VSA6, EState_VSA7, EState_VSA8, EState_VSA9, VSA_EState1, ...]\n",
              "Index: []\n",
              "\n",
              "[0 rows x 214 columns]"
            ],
            "text/html": [
              "\n",
              "  <div id=\"df-1667e318-5f1d-4f12-91c8-3d2ae1fc9efb\">\n",
              "    <div class=\"colab-df-container\">\n",
              "      <div>\n",
              "<style scoped>\n",
              "    .dataframe tbody tr th:only-of-type {\n",
              "        vertical-align: middle;\n",
              "    }\n",
              "\n",
              "    .dataframe tbody tr th {\n",
              "        vertical-align: top;\n",
              "    }\n",
              "\n",
              "    .dataframe thead th {\n",
              "        text-align: right;\n",
              "    }\n",
              "</style>\n",
              "<table border=\"1\" class=\"dataframe\">\n",
              "  <thead>\n",
              "    <tr style=\"text-align: right;\">\n",
              "      <th></th>\n",
              "      <th>Drug_ID</th>\n",
              "      <th>Drug</th>\n",
              "      <th>Y</th>\n",
              "      <th>Molecule</th>\n",
              "      <th>descript</th>\n",
              "      <th>MaxAbsEStateIndex</th>\n",
              "      <th>MaxEStateIndex</th>\n",
              "      <th>MinAbsEStateIndex</th>\n",
              "      <th>MinEStateIndex</th>\n",
              "      <th>qed</th>\n",
              "      <th>...</th>\n",
              "      <th>fr_sulfide</th>\n",
              "      <th>fr_sulfonamd</th>\n",
              "      <th>fr_sulfone</th>\n",
              "      <th>fr_term_acetylene</th>\n",
              "      <th>fr_tetrazole</th>\n",
              "      <th>fr_thiazole</th>\n",
              "      <th>fr_thiocyan</th>\n",
              "      <th>fr_thiophene</th>\n",
              "      <th>fr_unbrch_alkane</th>\n",
              "      <th>fr_urea</th>\n",
              "    </tr>\n",
              "  </thead>\n",
              "  <tbody>\n",
              "  </tbody>\n",
              "</table>\n",
              "<p>0 rows × 214 columns</p>\n",
              "</div>\n",
              "      <button class=\"colab-df-convert\" onclick=\"convertToInteractive('df-1667e318-5f1d-4f12-91c8-3d2ae1fc9efb')\"\n",
              "              title=\"Convert this dataframe to an interactive table.\"\n",
              "              style=\"display:none;\">\n",
              "        \n",
              "  <svg xmlns=\"http://www.w3.org/2000/svg\" height=\"24px\"viewBox=\"0 0 24 24\"\n",
              "       width=\"24px\">\n",
              "    <path d=\"M0 0h24v24H0V0z\" fill=\"none\"/>\n",
              "    <path d=\"M18.56 5.44l.94 2.06.94-2.06 2.06-.94-2.06-.94-.94-2.06-.94 2.06-2.06.94zm-11 1L8.5 8.5l.94-2.06 2.06-.94-2.06-.94L8.5 2.5l-.94 2.06-2.06.94zm10 10l.94 2.06.94-2.06 2.06-.94-2.06-.94-.94-2.06-.94 2.06-2.06.94z\"/><path d=\"M17.41 7.96l-1.37-1.37c-.4-.4-.92-.59-1.43-.59-.52 0-1.04.2-1.43.59L10.3 9.45l-7.72 7.72c-.78.78-.78 2.05 0 2.83L4 21.41c.39.39.9.59 1.41.59.51 0 1.02-.2 1.41-.59l7.78-7.78 2.81-2.81c.8-.78.8-2.07 0-2.86zM5.41 20L4 18.59l7.72-7.72 1.47 1.35L5.41 20z\"/>\n",
              "  </svg>\n",
              "      </button>\n",
              "      \n",
              "  <style>\n",
              "    .colab-df-container {\n",
              "      display:flex;\n",
              "      flex-wrap:wrap;\n",
              "      gap: 12px;\n",
              "    }\n",
              "\n",
              "    .colab-df-convert {\n",
              "      background-color: #E8F0FE;\n",
              "      border: none;\n",
              "      border-radius: 50%;\n",
              "      cursor: pointer;\n",
              "      display: none;\n",
              "      fill: #1967D2;\n",
              "      height: 32px;\n",
              "      padding: 0 0 0 0;\n",
              "      width: 32px;\n",
              "    }\n",
              "\n",
              "    .colab-df-convert:hover {\n",
              "      background-color: #E2EBFA;\n",
              "      box-shadow: 0px 1px 2px rgba(60, 64, 67, 0.3), 0px 1px 3px 1px rgba(60, 64, 67, 0.15);\n",
              "      fill: #174EA6;\n",
              "    }\n",
              "\n",
              "    [theme=dark] .colab-df-convert {\n",
              "      background-color: #3B4455;\n",
              "      fill: #D2E3FC;\n",
              "    }\n",
              "\n",
              "    [theme=dark] .colab-df-convert:hover {\n",
              "      background-color: #434B5C;\n",
              "      box-shadow: 0px 1px 3px 1px rgba(0, 0, 0, 0.15);\n",
              "      filter: drop-shadow(0px 1px 2px rgba(0, 0, 0, 0.3));\n",
              "      fill: #FFFFFF;\n",
              "    }\n",
              "  </style>\n",
              "\n",
              "      <script>\n",
              "        const buttonEl =\n",
              "          document.querySelector('#df-1667e318-5f1d-4f12-91c8-3d2ae1fc9efb button.colab-df-convert');\n",
              "        buttonEl.style.display =\n",
              "          google.colab.kernel.accessAllowed ? 'block' : 'none';\n",
              "\n",
              "        async function convertToInteractive(key) {\n",
              "          const element = document.querySelector('#df-1667e318-5f1d-4f12-91c8-3d2ae1fc9efb');\n",
              "          const dataTable =\n",
              "            await google.colab.kernel.invokeFunction('convertToInteractive',\n",
              "                                                     [key], {});\n",
              "          if (!dataTable) return;\n",
              "\n",
              "          const docLinkHtml = 'Like what you see? Visit the ' +\n",
              "            '<a target=\"_blank\" href=https://colab.research.google.com/notebooks/data_table.ipynb>data table notebook</a>'\n",
              "            + ' to learn more about interactive tables.';\n",
              "          element.innerHTML = '';\n",
              "          dataTable['output_type'] = 'display_data';\n",
              "          await google.colab.output.renderOutput(dataTable, element);\n",
              "          const docLink = document.createElement('div');\n",
              "          docLink.innerHTML = docLinkHtml;\n",
              "          element.appendChild(docLink);\n",
              "        }\n",
              "      </script>\n",
              "    </div>\n",
              "  </div>\n",
              "  "
            ]
          },
          "metadata": {},
          "execution_count": 38
        }
      ]
    },
    {
      "cell_type": "code",
      "source": [
        "fing_featurizer = dc.feat.CircularFingerprint(size=1024, radius=3) "
      ],
      "metadata": {
        "id": "JfHmshFLTKCf"
      },
      "execution_count": 46,
      "outputs": []
    },
    {
      "cell_type": "code",
      "source": [
        "train['FingerP'] = train.Molecule.apply(fing_featurizer.featurize)"
      ],
      "metadata": {
        "id": "IHIXWP5ISfne"
      },
      "execution_count": 47,
      "outputs": []
    },
    {
      "cell_type": "code",
      "source": [
        "train.sample(3)"
      ],
      "metadata": {
        "colab": {
          "base_uri": "https://localhost:8080/",
          "height": 445
        },
        "id": "VN6kWm8xSfXl",
        "outputId": "673b7c9b-47b3-4ac6-c475-d5ea960f18b8"
      },
      "execution_count": 48,
      "outputs": [
        {
          "output_type": "execute_result",
          "data": {
            "text/plain": [
              "            Drug_ID                                               Drug     Y  \\\n",
              "750    CHEMBL437526  CCO[C@@H]1OC(=O)C[C@@H]1NC(=O)[C@@H]1CCCN2C(=O...  1.16   \n",
              "459    CHEMBL467803  Cc1oc(S(C)(=O)=O)cc1-c1c2c(=O)n(C)c(=O)n(CC3CC...  4.48   \n",
              "2858  CHEMBL2023474   CCn1cc(NC(=O)Cc2ccc(Oc3ccnc4cc(F)ccc34)cc2OC)cn1  3.93   \n",
              "\n",
              "                                              Molecule  \\\n",
              "750   <rdkit.Chem.rdchem.Mol object at 0x7f89ac731770>   \n",
              "459   <rdkit.Chem.rdchem.Mol object at 0x7f89ac729700>   \n",
              "2858  <rdkit.Chem.rdchem.Mol object at 0x7f89ac76b990>   \n",
              "\n",
              "                                               descript  MaxAbsEStateIndex  \\\n",
              "750   [15.100688446037019, 15.100688446037019, 1.014...          15.100688   \n",
              "459   [14.544211552127992, 14.544211552127992, 0.048...          14.544212   \n",
              "2858  [14.452242285237906, 14.452242285237906, 0.159...          14.452242   \n",
              "\n",
              "      MaxEStateIndex  MinAbsEStateIndex  MinEStateIndex       qed  ...  \\\n",
              "750        15.100688           1.014278       -5.352895  0.525027  ...   \n",
              "459        14.544212           0.048566       -5.996539  0.316824  ...   \n",
              "2858       14.452242           0.159969       -3.890890  0.473790  ...   \n",
              "\n",
              "      fr_sulfonamd  fr_sulfone  fr_term_acetylene  fr_tetrazole  fr_thiazole  \\\n",
              "750            0.0         0.0                0.0           0.0          0.0   \n",
              "459            0.0         1.0                0.0           0.0          0.0   \n",
              "2858           0.0         0.0                0.0           0.0          0.0   \n",
              "\n",
              "      fr_thiocyan  fr_thiophene  fr_unbrch_alkane  fr_urea  \\\n",
              "750           0.0           0.0               0.0      0.0   \n",
              "459           0.0           0.0               0.0      0.0   \n",
              "2858          0.0           0.0               0.0      0.0   \n",
              "\n",
              "                                                FingerP  \n",
              "750   [[0.0, 0.0, 0.0, 0.0, 0.0, 1.0, 0.0, 0.0, 0.0,...  \n",
              "459   [[0.0, 0.0, 0.0, 0.0, 0.0, 0.0, 0.0, 0.0, 0.0,...  \n",
              "2858  [[0.0, 0.0, 0.0, 0.0, 0.0, 0.0, 0.0, 0.0, 0.0,...  \n",
              "\n",
              "[3 rows x 215 columns]"
            ],
            "text/html": [
              "\n",
              "  <div id=\"df-088f2b11-7e71-49d0-840a-b2270b1d7ff6\">\n",
              "    <div class=\"colab-df-container\">\n",
              "      <div>\n",
              "<style scoped>\n",
              "    .dataframe tbody tr th:only-of-type {\n",
              "        vertical-align: middle;\n",
              "    }\n",
              "\n",
              "    .dataframe tbody tr th {\n",
              "        vertical-align: top;\n",
              "    }\n",
              "\n",
              "    .dataframe thead th {\n",
              "        text-align: right;\n",
              "    }\n",
              "</style>\n",
              "<table border=\"1\" class=\"dataframe\">\n",
              "  <thead>\n",
              "    <tr style=\"text-align: right;\">\n",
              "      <th></th>\n",
              "      <th>Drug_ID</th>\n",
              "      <th>Drug</th>\n",
              "      <th>Y</th>\n",
              "      <th>Molecule</th>\n",
              "      <th>descript</th>\n",
              "      <th>MaxAbsEStateIndex</th>\n",
              "      <th>MaxEStateIndex</th>\n",
              "      <th>MinAbsEStateIndex</th>\n",
              "      <th>MinEStateIndex</th>\n",
              "      <th>qed</th>\n",
              "      <th>...</th>\n",
              "      <th>fr_sulfonamd</th>\n",
              "      <th>fr_sulfone</th>\n",
              "      <th>fr_term_acetylene</th>\n",
              "      <th>fr_tetrazole</th>\n",
              "      <th>fr_thiazole</th>\n",
              "      <th>fr_thiocyan</th>\n",
              "      <th>fr_thiophene</th>\n",
              "      <th>fr_unbrch_alkane</th>\n",
              "      <th>fr_urea</th>\n",
              "      <th>FingerP</th>\n",
              "    </tr>\n",
              "  </thead>\n",
              "  <tbody>\n",
              "    <tr>\n",
              "      <th>750</th>\n",
              "      <td>CHEMBL437526</td>\n",
              "      <td>CCO[C@@H]1OC(=O)C[C@@H]1NC(=O)[C@@H]1CCCN2C(=O...</td>\n",
              "      <td>1.16</td>\n",
              "      <td>&lt;rdkit.Chem.rdchem.Mol object at 0x7f89ac731770&gt;</td>\n",
              "      <td>[15.100688446037019, 15.100688446037019, 1.014...</td>\n",
              "      <td>15.100688</td>\n",
              "      <td>15.100688</td>\n",
              "      <td>1.014278</td>\n",
              "      <td>-5.352895</td>\n",
              "      <td>0.525027</td>\n",
              "      <td>...</td>\n",
              "      <td>0.0</td>\n",
              "      <td>0.0</td>\n",
              "      <td>0.0</td>\n",
              "      <td>0.0</td>\n",
              "      <td>0.0</td>\n",
              "      <td>0.0</td>\n",
              "      <td>0.0</td>\n",
              "      <td>0.0</td>\n",
              "      <td>0.0</td>\n",
              "      <td>[[0.0, 0.0, 0.0, 0.0, 0.0, 1.0, 0.0, 0.0, 0.0,...</td>\n",
              "    </tr>\n",
              "    <tr>\n",
              "      <th>459</th>\n",
              "      <td>CHEMBL467803</td>\n",
              "      <td>Cc1oc(S(C)(=O)=O)cc1-c1c2c(=O)n(C)c(=O)n(CC3CC...</td>\n",
              "      <td>4.48</td>\n",
              "      <td>&lt;rdkit.Chem.rdchem.Mol object at 0x7f89ac729700&gt;</td>\n",
              "      <td>[14.544211552127992, 14.544211552127992, 0.048...</td>\n",
              "      <td>14.544212</td>\n",
              "      <td>14.544212</td>\n",
              "      <td>0.048566</td>\n",
              "      <td>-5.996539</td>\n",
              "      <td>0.316824</td>\n",
              "      <td>...</td>\n",
              "      <td>0.0</td>\n",
              "      <td>1.0</td>\n",
              "      <td>0.0</td>\n",
              "      <td>0.0</td>\n",
              "      <td>0.0</td>\n",
              "      <td>0.0</td>\n",
              "      <td>0.0</td>\n",
              "      <td>0.0</td>\n",
              "      <td>0.0</td>\n",
              "      <td>[[0.0, 0.0, 0.0, 0.0, 0.0, 0.0, 0.0, 0.0, 0.0,...</td>\n",
              "    </tr>\n",
              "    <tr>\n",
              "      <th>2858</th>\n",
              "      <td>CHEMBL2023474</td>\n",
              "      <td>CCn1cc(NC(=O)Cc2ccc(Oc3ccnc4cc(F)ccc34)cc2OC)cn1</td>\n",
              "      <td>3.93</td>\n",
              "      <td>&lt;rdkit.Chem.rdchem.Mol object at 0x7f89ac76b990&gt;</td>\n",
              "      <td>[14.452242285237906, 14.452242285237906, 0.159...</td>\n",
              "      <td>14.452242</td>\n",
              "      <td>14.452242</td>\n",
              "      <td>0.159969</td>\n",
              "      <td>-3.890890</td>\n",
              "      <td>0.473790</td>\n",
              "      <td>...</td>\n",
              "      <td>0.0</td>\n",
              "      <td>0.0</td>\n",
              "      <td>0.0</td>\n",
              "      <td>0.0</td>\n",
              "      <td>0.0</td>\n",
              "      <td>0.0</td>\n",
              "      <td>0.0</td>\n",
              "      <td>0.0</td>\n",
              "      <td>0.0</td>\n",
              "      <td>[[0.0, 0.0, 0.0, 0.0, 0.0, 0.0, 0.0, 0.0, 0.0,...</td>\n",
              "    </tr>\n",
              "  </tbody>\n",
              "</table>\n",
              "<p>3 rows × 215 columns</p>\n",
              "</div>\n",
              "      <button class=\"colab-df-convert\" onclick=\"convertToInteractive('df-088f2b11-7e71-49d0-840a-b2270b1d7ff6')\"\n",
              "              title=\"Convert this dataframe to an interactive table.\"\n",
              "              style=\"display:none;\">\n",
              "        \n",
              "  <svg xmlns=\"http://www.w3.org/2000/svg\" height=\"24px\"viewBox=\"0 0 24 24\"\n",
              "       width=\"24px\">\n",
              "    <path d=\"M0 0h24v24H0V0z\" fill=\"none\"/>\n",
              "    <path d=\"M18.56 5.44l.94 2.06.94-2.06 2.06-.94-2.06-.94-.94-2.06-.94 2.06-2.06.94zm-11 1L8.5 8.5l.94-2.06 2.06-.94-2.06-.94L8.5 2.5l-.94 2.06-2.06.94zm10 10l.94 2.06.94-2.06 2.06-.94-2.06-.94-.94-2.06-.94 2.06-2.06.94z\"/><path d=\"M17.41 7.96l-1.37-1.37c-.4-.4-.92-.59-1.43-.59-.52 0-1.04.2-1.43.59L10.3 9.45l-7.72 7.72c-.78.78-.78 2.05 0 2.83L4 21.41c.39.39.9.59 1.41.59.51 0 1.02-.2 1.41-.59l7.78-7.78 2.81-2.81c.8-.78.8-2.07 0-2.86zM5.41 20L4 18.59l7.72-7.72 1.47 1.35L5.41 20z\"/>\n",
              "  </svg>\n",
              "      </button>\n",
              "      \n",
              "  <style>\n",
              "    .colab-df-container {\n",
              "      display:flex;\n",
              "      flex-wrap:wrap;\n",
              "      gap: 12px;\n",
              "    }\n",
              "\n",
              "    .colab-df-convert {\n",
              "      background-color: #E8F0FE;\n",
              "      border: none;\n",
              "      border-radius: 50%;\n",
              "      cursor: pointer;\n",
              "      display: none;\n",
              "      fill: #1967D2;\n",
              "      height: 32px;\n",
              "      padding: 0 0 0 0;\n",
              "      width: 32px;\n",
              "    }\n",
              "\n",
              "    .colab-df-convert:hover {\n",
              "      background-color: #E2EBFA;\n",
              "      box-shadow: 0px 1px 2px rgba(60, 64, 67, 0.3), 0px 1px 3px 1px rgba(60, 64, 67, 0.15);\n",
              "      fill: #174EA6;\n",
              "    }\n",
              "\n",
              "    [theme=dark] .colab-df-convert {\n",
              "      background-color: #3B4455;\n",
              "      fill: #D2E3FC;\n",
              "    }\n",
              "\n",
              "    [theme=dark] .colab-df-convert:hover {\n",
              "      background-color: #434B5C;\n",
              "      box-shadow: 0px 1px 3px 1px rgba(0, 0, 0, 0.15);\n",
              "      filter: drop-shadow(0px 1px 2px rgba(0, 0, 0, 0.3));\n",
              "      fill: #FFFFFF;\n",
              "    }\n",
              "  </style>\n",
              "\n",
              "      <script>\n",
              "        const buttonEl =\n",
              "          document.querySelector('#df-088f2b11-7e71-49d0-840a-b2270b1d7ff6 button.colab-df-convert');\n",
              "        buttonEl.style.display =\n",
              "          google.colab.kernel.accessAllowed ? 'block' : 'none';\n",
              "\n",
              "        async function convertToInteractive(key) {\n",
              "          const element = document.querySelector('#df-088f2b11-7e71-49d0-840a-b2270b1d7ff6');\n",
              "          const dataTable =\n",
              "            await google.colab.kernel.invokeFunction('convertToInteractive',\n",
              "                                                     [key], {});\n",
              "          if (!dataTable) return;\n",
              "\n",
              "          const docLinkHtml = 'Like what you see? Visit the ' +\n",
              "            '<a target=\"_blank\" href=https://colab.research.google.com/notebooks/data_table.ipynb>data table notebook</a>'\n",
              "            + ' to learn more about interactive tables.';\n",
              "          element.innerHTML = '';\n",
              "          dataTable['output_type'] = 'display_data';\n",
              "          await google.colab.output.renderOutput(dataTable, element);\n",
              "          const docLink = document.createElement('div');\n",
              "          docLink.innerHTML = docLinkHtml;\n",
              "          element.appendChild(docLink);\n",
              "        }\n",
              "      </script>\n",
              "    </div>\n",
              "  </div>\n",
              "  "
            ]
          },
          "metadata": {},
          "execution_count": 48
        }
      ]
    },
    {
      "cell_type": "code",
      "source": [
        "train.FingerP"
      ],
      "metadata": {
        "colab": {
          "base_uri": "https://localhost:8080/"
        },
        "id": "iYWDMxizSfKs",
        "outputId": "0db84103-48a4-4c40-e8c8-a23932c45ee1"
      },
      "execution_count": 49,
      "outputs": [
        {
          "output_type": "execute_result",
          "data": {
            "text/plain": [
              "0       [[0.0, 1.0, 0.0, 0.0, 0.0, 0.0, 0.0, 0.0, 0.0,...\n",
              "1       [[0.0, 1.0, 0.0, 0.0, 0.0, 0.0, 0.0, 0.0, 0.0,...\n",
              "2       [[0.0, 0.0, 0.0, 0.0, 0.0, 0.0, 0.0, 0.0, 0.0,...\n",
              "3       [[0.0, 0.0, 0.0, 0.0, 0.0, 0.0, 0.0, 0.0, 0.0,...\n",
              "4       [[0.0, 0.0, 0.0, 0.0, 0.0, 1.0, 0.0, 0.0, 0.0,...\n",
              "                              ...                        \n",
              "2935    [[0.0, 0.0, 0.0, 0.0, 0.0, 0.0, 0.0, 0.0, 0.0,...\n",
              "2936    [[0.0, 0.0, 0.0, 0.0, 0.0, 0.0, 0.0, 0.0, 0.0,...\n",
              "2937    [[1.0, 1.0, 0.0, 0.0, 0.0, 0.0, 0.0, 0.0, 0.0,...\n",
              "2938    [[0.0, 0.0, 0.0, 0.0, 0.0, 1.0, 0.0, 0.0, 0.0,...\n",
              "2939    [[0.0, 0.0, 0.0, 0.0, 0.0, 0.0, 0.0, 0.0, 0.0,...\n",
              "Name: FingerP, Length: 2939, dtype: object"
            ]
          },
          "metadata": {},
          "execution_count": 49
        }
      ]
    },
    {
      "cell_type": "code",
      "source": [
        "train['FingerP'] = train.FingerP.apply(lambda x: list(x[0]))"
      ],
      "metadata": {
        "id": "5yWqvvbmSe7Y"
      },
      "execution_count": 50,
      "outputs": []
    },
    {
      "cell_type": "code",
      "source": [
        "train.FingerP"
      ],
      "metadata": {
        "colab": {
          "base_uri": "https://localhost:8080/"
        },
        "id": "Ta1AYyZxUz8G",
        "outputId": "ee18ae44-4a79-4130-d338-83f3dd6da600"
      },
      "execution_count": 51,
      "outputs": [
        {
          "output_type": "execute_result",
          "data": {
            "text/plain": [
              "0       [0.0, 1.0, 0.0, 0.0, 0.0, 0.0, 0.0, 0.0, 0.0, ...\n",
              "1       [0.0, 1.0, 0.0, 0.0, 0.0, 0.0, 0.0, 0.0, 0.0, ...\n",
              "2       [0.0, 0.0, 0.0, 0.0, 0.0, 0.0, 0.0, 0.0, 0.0, ...\n",
              "3       [0.0, 0.0, 0.0, 0.0, 0.0, 0.0, 0.0, 0.0, 0.0, ...\n",
              "4       [0.0, 0.0, 0.0, 0.0, 0.0, 1.0, 0.0, 0.0, 0.0, ...\n",
              "                              ...                        \n",
              "2935    [0.0, 0.0, 0.0, 0.0, 0.0, 0.0, 0.0, 0.0, 0.0, ...\n",
              "2936    [0.0, 0.0, 0.0, 0.0, 0.0, 0.0, 0.0, 0.0, 0.0, ...\n",
              "2937    [1.0, 1.0, 0.0, 0.0, 0.0, 0.0, 0.0, 0.0, 0.0, ...\n",
              "2938    [0.0, 0.0, 0.0, 0.0, 0.0, 1.0, 0.0, 0.0, 0.0, ...\n",
              "2939    [0.0, 0.0, 0.0, 0.0, 0.0, 0.0, 0.0, 0.0, 0.0, ...\n",
              "Name: FingerP, Length: 2939, dtype: object"
            ]
          },
          "metadata": {},
          "execution_count": 51
        }
      ]
    },
    {
      "cell_type": "code",
      "source": [
        "test['FingerP'] = test.Molecule.apply(fing_featurizer.featurize)\n",
        "valid['FingerP'] = valid.Molecule.apply(fing_featurizer.featurize)"
      ],
      "metadata": {
        "id": "bWGqZHTpUzt2"
      },
      "execution_count": 52,
      "outputs": []
    },
    {
      "cell_type": "code",
      "source": [
        "test['FingerP'] = test.FingerP.apply(lambda x: list(x[0]))\n",
        "valid['FingerP'] = valid.FingerP.apply(lambda x: list(x[0]))"
      ],
      "metadata": {
        "id": "QAfqDAJiVCmH"
      },
      "execution_count": 53,
      "outputs": []
    },
    {
      "cell_type": "code",
      "source": [
        "fea = train.descript[0] + train.FingerP[0]\n",
        "len(fea)"
      ],
      "metadata": {
        "colab": {
          "base_uri": "https://localhost:8080/"
        },
        "id": "mvlispOFVSgM",
        "outputId": "a578bca1-41b1-4184-a16d-004bf282aa2b"
      },
      "execution_count": 56,
      "outputs": [
        {
          "output_type": "execute_result",
          "data": {
            "text/plain": [
              "1233"
            ]
          },
          "metadata": {},
          "execution_count": 56
        }
      ]
    },
    {
      "cell_type": "code",
      "source": [
        "train['features'] = train['descript'] + train['FingerP']\n",
        "test['features'] = test['descript'] + test['FingerP']\n",
        "valid['features'] = valid['descript'] + valid['FingerP']"
      ],
      "metadata": {
        "id": "iWkNigKvVJ1i"
      },
      "execution_count": 57,
      "outputs": []
    },
    {
      "cell_type": "code",
      "source": [
        "# Now let's set the target values for our data\n",
        "y_train = train.Y\n",
        "y_test = test.Y\n",
        "y_valid = valid.Y"
      ],
      "metadata": {
        "id": "FLVt35WT_hYw"
      },
      "execution_count": 58,
      "outputs": []
    },
    {
      "cell_type": "code",
      "source": [
        "print(y_valid.shape)\n",
        "print(valid.shape)"
      ],
      "metadata": {
        "colab": {
          "base_uri": "https://localhost:8080/"
        },
        "id": "fLih3fps_vrz",
        "outputId": "e8b58d90-51e7-4d94-e5c0-21d1a3baa9a3"
      },
      "execution_count": 59,
      "outputs": [
        {
          "output_type": "stream",
          "name": "stdout",
          "text": [
            "(420,)\n",
            "(420, 216)\n"
          ]
        }
      ]
    },
    {
      "cell_type": "code",
      "source": [
        "# Let's build a Neural Network! "
      ],
      "metadata": {
        "id": "fPJW_qzW_zZu"
      },
      "execution_count": 60,
      "outputs": []
    },
    {
      "cell_type": "code",
      "source": [
        "from sklearn.neural_network import MLPRegressor"
      ],
      "metadata": {
        "id": "CIIc-tL-V2uy"
      },
      "execution_count": 61,
      "outputs": []
    },
    {
      "cell_type": "code",
      "source": [
        "NNmodel = MLPRegressor(hidden_layer_sizes=(500, 500,), max_iter=5000) # Two hidden layers with 500 nodes each"
      ],
      "metadata": {
        "id": "2CPurhBqAKkT"
      },
      "execution_count": 62,
      "outputs": []
    },
    {
      "cell_type": "code",
      "source": [
        "NNmodel.fit(train['features'].values.tolist(), y_train.values.tolist())"
      ],
      "metadata": {
        "colab": {
          "base_uri": "https://localhost:8080/",
          "height": 75
        },
        "id": "1yI_52dhM2fi",
        "outputId": "20a5a77a-af15-4402-e071-41520ddd965c"
      },
      "execution_count": 63,
      "outputs": [
        {
          "output_type": "execute_result",
          "data": {
            "text/plain": [
              "MLPRegressor(hidden_layer_sizes=(500, 500), max_iter=5000)"
            ],
            "text/html": [
              "<style>#sk-container-id-1 {color: black;background-color: white;}#sk-container-id-1 pre{padding: 0;}#sk-container-id-1 div.sk-toggleable {background-color: white;}#sk-container-id-1 label.sk-toggleable__label {cursor: pointer;display: block;width: 100%;margin-bottom: 0;padding: 0.3em;box-sizing: border-box;text-align: center;}#sk-container-id-1 label.sk-toggleable__label-arrow:before {content: \"▸\";float: left;margin-right: 0.25em;color: #696969;}#sk-container-id-1 label.sk-toggleable__label-arrow:hover:before {color: black;}#sk-container-id-1 div.sk-estimator:hover label.sk-toggleable__label-arrow:before {color: black;}#sk-container-id-1 div.sk-toggleable__content {max-height: 0;max-width: 0;overflow: hidden;text-align: left;background-color: #f0f8ff;}#sk-container-id-1 div.sk-toggleable__content pre {margin: 0.2em;color: black;border-radius: 0.25em;background-color: #f0f8ff;}#sk-container-id-1 input.sk-toggleable__control:checked~div.sk-toggleable__content {max-height: 200px;max-width: 100%;overflow: auto;}#sk-container-id-1 input.sk-toggleable__control:checked~label.sk-toggleable__label-arrow:before {content: \"▾\";}#sk-container-id-1 div.sk-estimator input.sk-toggleable__control:checked~label.sk-toggleable__label {background-color: #d4ebff;}#sk-container-id-1 div.sk-label input.sk-toggleable__control:checked~label.sk-toggleable__label {background-color: #d4ebff;}#sk-container-id-1 input.sk-hidden--visually {border: 0;clip: rect(1px 1px 1px 1px);clip: rect(1px, 1px, 1px, 1px);height: 1px;margin: -1px;overflow: hidden;padding: 0;position: absolute;width: 1px;}#sk-container-id-1 div.sk-estimator {font-family: monospace;background-color: #f0f8ff;border: 1px dotted black;border-radius: 0.25em;box-sizing: border-box;margin-bottom: 0.5em;}#sk-container-id-1 div.sk-estimator:hover {background-color: #d4ebff;}#sk-container-id-1 div.sk-parallel-item::after {content: \"\";width: 100%;border-bottom: 1px solid gray;flex-grow: 1;}#sk-container-id-1 div.sk-label:hover label.sk-toggleable__label {background-color: #d4ebff;}#sk-container-id-1 div.sk-serial::before {content: \"\";position: absolute;border-left: 1px solid gray;box-sizing: border-box;top: 0;bottom: 0;left: 50%;z-index: 0;}#sk-container-id-1 div.sk-serial {display: flex;flex-direction: column;align-items: center;background-color: white;padding-right: 0.2em;padding-left: 0.2em;position: relative;}#sk-container-id-1 div.sk-item {position: relative;z-index: 1;}#sk-container-id-1 div.sk-parallel {display: flex;align-items: stretch;justify-content: center;background-color: white;position: relative;}#sk-container-id-1 div.sk-item::before, #sk-container-id-1 div.sk-parallel-item::before {content: \"\";position: absolute;border-left: 1px solid gray;box-sizing: border-box;top: 0;bottom: 0;left: 50%;z-index: -1;}#sk-container-id-1 div.sk-parallel-item {display: flex;flex-direction: column;z-index: 1;position: relative;background-color: white;}#sk-container-id-1 div.sk-parallel-item:first-child::after {align-self: flex-end;width: 50%;}#sk-container-id-1 div.sk-parallel-item:last-child::after {align-self: flex-start;width: 50%;}#sk-container-id-1 div.sk-parallel-item:only-child::after {width: 0;}#sk-container-id-1 div.sk-dashed-wrapped {border: 1px dashed gray;margin: 0 0.4em 0.5em 0.4em;box-sizing: border-box;padding-bottom: 0.4em;background-color: white;}#sk-container-id-1 div.sk-label label {font-family: monospace;font-weight: bold;display: inline-block;line-height: 1.2em;}#sk-container-id-1 div.sk-label-container {text-align: center;}#sk-container-id-1 div.sk-container {/* jupyter's `normalize.less` sets `[hidden] { display: none; }` but bootstrap.min.css set `[hidden] { display: none !important; }` so we also need the `!important` here to be able to override the default hidden behavior on the sphinx rendered scikit-learn.org. See: https://github.com/scikit-learn/scikit-learn/issues/21755 */display: inline-block !important;position: relative;}#sk-container-id-1 div.sk-text-repr-fallback {display: none;}</style><div id=\"sk-container-id-1\" class=\"sk-top-container\"><div class=\"sk-text-repr-fallback\"><pre>MLPRegressor(hidden_layer_sizes=(500, 500), max_iter=5000)</pre><b>In a Jupyter environment, please rerun this cell to show the HTML representation or trust the notebook. <br />On GitHub, the HTML representation is unable to render, please try loading this page with nbviewer.org.</b></div><div class=\"sk-container\" hidden><div class=\"sk-item\"><div class=\"sk-estimator sk-toggleable\"><input class=\"sk-toggleable__control sk-hidden--visually\" id=\"sk-estimator-id-1\" type=\"checkbox\" checked><label for=\"sk-estimator-id-1\" class=\"sk-toggleable__label sk-toggleable__label-arrow\">MLPRegressor</label><div class=\"sk-toggleable__content\"><pre>MLPRegressor(hidden_layer_sizes=(500, 500), max_iter=5000)</pre></div></div></div></div></div>"
            ]
          },
          "metadata": {},
          "execution_count": 63
        }
      ]
    },
    {
      "cell_type": "code",
      "source": [
        "pred_test = NNmodel.predict(test['features'].values.tolist())"
      ],
      "metadata": {
        "id": "piBN931_Nc42"
      },
      "execution_count": 64,
      "outputs": []
    },
    {
      "cell_type": "code",
      "source": [
        "pred_test"
      ],
      "metadata": {
        "colab": {
          "base_uri": "https://localhost:8080/"
        },
        "id": "sxuZ4c1vNriT",
        "outputId": "470ac2b6-a364-4b6f-c0eb-4d6c41b6dba0"
      },
      "execution_count": 65,
      "outputs": [
        {
          "output_type": "execute_result",
          "data": {
            "text/plain": [
              "array([ 3.43633196,  2.57944843,  3.62809152,  1.95400942,  3.84559744,\n",
              "        3.78828414,  3.13524321,  1.80778778,  1.57452122,  1.04461643,\n",
              "        1.35379464,  3.11595493,  2.59550085,  2.86549507,  2.59447388,\n",
              "        2.62092181,  1.05022223,  2.43197857,  2.33522298,  3.91944021,\n",
              "        2.98046652,  4.52743233,  2.627778  ,  2.46315436,  2.73736356,\n",
              "        4.07008755, -0.03083436,  0.19507402,  1.77930576,  1.58167647,\n",
              "       -0.06357676,  2.57587738,  2.18563443,  3.33890085,  2.30323656,\n",
              "        2.15349913,  2.61748647,  3.94047142,  2.04969563,  1.71278093,\n",
              "        3.32527924,  1.74388587,  1.86296491,  1.24256823,  3.24222544,\n",
              "        3.17133199,  4.01386954,  3.28906451,  3.06674739,  2.07419534,\n",
              "        0.55353277,  0.32176619,  0.44682397,  3.68593862,  3.64356621,\n",
              "        3.27702909,  3.68203928,  0.93306376,  4.06541191,  2.00435574,\n",
              "        1.20667103,  1.74868016,  3.1490891 ,  1.80635478,  0.29505926,\n",
              "        2.94185411,  2.52944821,  2.51092195,  3.13563186,  2.52944821,\n",
              "        2.61081236,  2.78607745,  2.52944821,  2.44969641,  2.64383207,\n",
              "        2.52944821,  2.15029188,  2.73404791,  1.63395823,  2.88293711,\n",
              "        1.7128143 ,  2.55242158,  2.17804084,  3.2103294 ,  1.92127296,\n",
              "        2.57737293,  1.31589553,  3.39819102,  2.91299343,  3.57735521,\n",
              "        3.49276466,  3.16023169,  3.06163295,  2.88315829,  1.98392905,\n",
              "        0.9495834 ,  2.54212064,  3.20494213,  1.62036863,  3.63776638,\n",
              "        4.43302095, -0.01739041, -0.01739041,  2.92306116,  2.53640565,\n",
              "        3.12188899,  2.26764181,  2.52312889,  3.07056015,  2.67617654,\n",
              "        1.40202415,  2.0365347 ,  1.72254593,  2.03047365,  1.54197557,\n",
              "        2.07905216,  0.86126419,  2.10700599,  1.55969719,  1.99109609,\n",
              "        1.12125291,  3.18600581,  1.61708117,  4.38327193,  1.37169588,\n",
              "        0.60767796,  0.97469926,  3.35075896,  2.12449767,  1.01217211,\n",
              "        0.89175072,  2.81528012,  3.2434692 ,  3.31309126,  3.24202586,\n",
              "        2.87810358,  4.52370683,  3.43153332,  2.36839844,  2.29180479,\n",
              "        3.55596137,  3.44325945,  2.37083783,  2.22319574,  1.94339656,\n",
              "        2.06762496,  1.87535496,  1.78907443,  2.08747334, -0.32248735,\n",
              "        3.39421045,  2.78833299,  4.49934258,  2.98438232,  2.65552239,\n",
              "        1.69070722,  4.29949518,  2.41669273,  0.47809048,  2.70782324,\n",
              "        2.9847459 ,  2.47840177,  3.13436063,  3.77657809,  2.92016472,\n",
              "        0.22883274,  0.35209296,  2.11758017,  1.66508105,  2.46335979,\n",
              "        2.63774897,  3.20485273,  1.24290326,  2.22131859,  3.41631431,\n",
              "        2.61235398,  2.65822237,  0.81901281,  3.18507661,  1.63486506,\n",
              "        1.30859233,  1.33745961,  3.40930874,  2.78027001,  3.40930874,\n",
              "        1.65950222,  3.06623217,  2.3756096 ,  0.95920603,  1.96910503,\n",
              "        3.1972902 ,  3.52434725,  2.14979725,  2.14979725,  3.3335781 ,\n",
              "        2.79515127,  2.76475304,  2.52533862,  1.05170287,  2.07843056,\n",
              "        2.11607622,  3.55881988,  2.32854561,  1.46809712,  3.35832742,\n",
              "        4.00488171,  2.38603714,  2.11602565,  2.54422233,  2.06269168,\n",
              "        0.67422822,  1.51477831,  1.96562653,  3.5197574 ,  1.44405759,\n",
              "        0.90590255,  2.23005051,  3.32917624,  1.40796136,  2.53878286,\n",
              "        2.63739828,  3.36622764,  3.64336329,  3.18145215,  2.46287692,\n",
              "        4.16033836,  0.27888477,  3.97856615,  4.16694698,  4.12202349,\n",
              "        2.63009523,  2.43383773,  2.50516106,  3.07113493,  2.57762024,\n",
              "        2.71979999,  3.86933864,  4.32545872,  3.58287863,  1.9327963 ,\n",
              "        2.2031556 ,  2.17040443,  1.94367309,  2.37732352,  1.50176837,\n",
              "        3.20612877,  3.29408887,  4.44319741,  4.04095581,  3.47435912,\n",
              "        5.26894985,  3.37986195,  3.8512612 ,  3.52793255,  4.25486475,\n",
              "        3.72258241,  3.37080924,  4.56265289,  3.39718014,  3.62582621,\n",
              "        2.35158007,  3.89764851,  3.87108279,  3.16930662,  3.4145907 ,\n",
              "        3.79672934,  1.83984367,  1.83984367,  3.10773887,  1.83984367,\n",
              "        1.54315073,  4.03756961,  2.81132117,  2.719126  ,  3.40259654,\n",
              "        3.40259654,  2.72200892,  2.34647359,  2.62647804,  1.8642362 ,\n",
              "        2.00947841,  2.50017554,  3.20480696,  2.81932482,  1.04595021,\n",
              "        3.09938809,  4.02626125,  3.25788414,  2.01988537,  3.28840129,\n",
              "        3.71102634,  3.36142323,  3.81190111,  2.36181847,  2.16070984,\n",
              "        1.39988608,  2.69569596,  3.72352988,  2.60618498,  1.35659929,\n",
              "        2.12179079,  2.07379203,  2.50427518,  2.11351137,  2.86462858,\n",
              "        2.86462858,  2.86462858,  3.48569536,  2.39580095,  2.90650325,\n",
              "        2.29899846,  1.67637568,  1.80367137,  1.88288986,  2.037787  ,\n",
              "        1.63366515,  2.117382  ,  3.47825906,  2.74714492,  3.17496175,\n",
              "        1.17827751,  2.58432992,  2.7776011 ,  2.66195153,  2.66055939,\n",
              "        3.29709578,  1.53659538,  1.85989668,  1.82427358,  3.01485259,\n",
              "        2.12515532,  1.6861016 ,  3.19433571,  3.43488053,  1.16181095,\n",
              "        1.43103226,  1.71702362,  0.3852602 ,  1.54535388,  1.38473316,\n",
              "        1.73899512,  1.34576863,  3.51415778,  4.08717838,  3.42651917,\n",
              "        3.01845709,  1.99495859,  1.07542582,  2.42012139,  3.78468143,\n",
              "        2.82689151,  3.00280423,  1.63605682,  1.53646128,  1.6513536 ,\n",
              "        1.64414712,  0.90744118,  0.91684138,  0.91007589,  0.87826949,\n",
              "        0.54188446,  0.7515927 ,  1.18194228,  0.77564469,  0.61598231,\n",
              "        2.21695451,  2.31710209,  2.62321781,  1.19269728,  1.19269728,\n",
              "        2.69135396,  4.67180939,  2.1704662 ,  2.29442989,  1.63251909,\n",
              "        1.95838072,  2.02870458,  2.11340135,  3.06570906,  3.01062622,\n",
              "        1.18331053,  3.64270826,  3.22246243,  3.14489062,  3.53941778,\n",
              "        3.52301763,  3.26679101,  3.14116277,  3.4004146 ,  2.83090509,\n",
              "        0.99692035,  1.96146994,  2.31266235,  2.8981184 ,  3.19219916,\n",
              "        2.19914598,  3.2615244 ,  3.61992927,  2.45899993,  3.18379978,\n",
              "        2.67987373,  2.3694167 ,  2.56817272,  2.8667441 ,  2.33206262,\n",
              "        2.20481447,  2.39782055,  2.1624946 ,  2.17855778,  2.84929508,\n",
              "        1.26287256,  2.65319467,  2.39019631,  2.28533926,  2.18104355,\n",
              "        3.38383628,  3.56769362,  1.59675057,  0.97538137,  3.31879479,\n",
              "        3.58113508,  3.92833194,  3.22573285,  3.20984252,  3.42554221,\n",
              "        3.01940675,  2.99616429,  0.3765643 ,  2.28575296,  0.74406699,\n",
              "        2.86496317,  3.99752018,  3.40854557,  3.53417594,  2.02917295,\n",
              "        2.26207349,  3.05716065,  3.15060427,  0.6878046 ,  2.88321203,\n",
              "        2.83883903,  2.19550326,  0.45711328,  2.86879481,  1.17345037,\n",
              "        3.57562106,  2.93941721,  2.37986784,  1.94651812,  2.77487436,\n",
              "        2.13285329,  2.80694097,  3.05313498,  1.1174691 ,  2.14413292,\n",
              "        3.16591643,  1.67438151,  2.0071105 ,  2.1734097 ,  3.43032582,\n",
              "        3.55227287,  3.38945317,  3.41287505,  3.23173695,  1.96191102,\n",
              "        2.30296858,  1.91069296,  2.2187132 ,  2.11831295,  1.87186982,\n",
              "        3.14490829,  3.74131284,  4.56939936,  2.38790782,  1.84597806,\n",
              "        1.59734092,  1.59015965,  1.59344333,  3.57612122,  1.82860048,\n",
              "        0.56838838,  3.40523356,  1.24202455,  3.61499355,  3.4720418 ,\n",
              "        0.45972087,  1.64820741,  1.04484081,  3.57243824,  2.33940552,\n",
              "        3.16710656,  4.41778067,  3.32263355,  3.12383847,  1.62448187,\n",
              "        3.13972753,  3.48081002,  3.00036149,  2.42018521,  1.00675476,\n",
              "        3.06132746,  0.47865754,  1.64169404,  1.64169404,  1.1495802 ,\n",
              "        1.00675476,  0.44401262,  2.99678587,  1.68680915,  0.97647233,\n",
              "        1.45096272,  3.30774033,  3.33447446,  3.54505133,  3.03931156,\n",
              "        2.56267142,  2.46688001,  2.88712004,  3.98450306,  3.51718183,\n",
              "        1.17688854,  2.78081021,  3.3308287 ,  2.26934994,  2.42595895,\n",
              "        3.36226736,  2.18278395,  3.50110282,  3.79957814,  3.44872194,\n",
              "        4.60319037,  3.64036565,  3.42479393, -0.27904091,  1.41203048,\n",
              "        2.70869732,  3.51718079,  1.56732473,  1.42413639,  2.38027621,\n",
              "        2.264993  ,  2.49460503,  2.02150198,  2.99915803,  0.07217608,\n",
              "        2.21492275,  4.1876074 ,  1.5336786 ,  3.09681042,  1.83067708,\n",
              "        2.91241703,  1.11298838,  1.48948508,  1.41143282,  1.98848286,\n",
              "        2.48636608,  1.60927041,  2.76504597,  2.47594097,  1.93228035,\n",
              "        1.77200895,  1.93228035,  1.93228035,  1.99459878,  1.95996293,\n",
              "        3.11688157,  1.92082849,  3.08800839,  1.80984904,  1.672581  ,\n",
              "        1.84816136,  2.17980257,  2.34046805,  2.09824219,  2.00904233,\n",
              "        2.89342396,  1.79797394,  3.62674449,  4.03001404,  1.82962669,\n",
              "        3.51078099,  1.49498738,  2.51478188,  3.83594159,  2.09244608,\n",
              "        3.35860012,  2.4493785 ,  2.98325123,  2.63494302,  3.57157424,\n",
              "        2.50791006,  3.21575757,  3.46514594,  1.71195509,  3.1121332 ,\n",
              "        3.96494829,  1.94168275,  3.657304  ,  2.7510116 ,  2.7510116 ,\n",
              "        2.82302126,  2.1648748 ,  3.63814849,  2.1403539 ,  3.24978816,\n",
              "        2.81349317,  3.22182847,  1.7607192 , -0.35832567,  5.21141284,\n",
              "        2.2999493 ,  3.56487006,  2.2643701 ,  2.69612954,  2.61417932,\n",
              "        3.01570308,  1.47062907,  3.30921932,  4.19374516,  4.48048367,\n",
              "        1.69959731,  1.0938191 ,  2.31311365,  2.97933513,  1.5422796 ,\n",
              "        3.22753583,  3.77995796,  3.40563577,  3.02543943,  3.3978531 ,\n",
              "        3.61415776,  3.34987034,  2.78382843,  2.91855036,  1.798975  ,\n",
              "        2.52416384,  3.66172645,  1.99791029,  1.29060036,  3.31612221,\n",
              "        3.30342759,  2.02168037,  3.30685597,  1.92346334,  1.88005085,\n",
              "        2.40356329,  2.71115497,  1.9405501 ,  2.74408018,  1.42738969,\n",
              "        4.03300787,  4.85741896,  2.48792848,  1.35572841,  4.49373511,\n",
              "        3.08216107,  3.03501256,  3.52667297,  3.87244279,  2.89760121,\n",
              "        4.07268992,  3.2296685 ,  2.56760026,  2.99220854,  2.98034008,\n",
              "        0.89816694,  1.46132229,  3.43753731,  1.44313801,  1.68280166,\n",
              "        3.0110703 ,  1.95752871,  3.10077038,  3.57011569,  3.03418399,\n",
              "        1.12857044,  1.46358171,  1.80465768,  3.67835644,  2.73783379,\n",
              "        2.69713844,  0.94737296,  2.56944361,  3.39290219,  0.58208455,\n",
              "        3.12617776,  5.64974912,  2.40849866,  2.22489062,  3.76556289,\n",
              "        1.26855248,  3.0732214 ,  2.51295591,  1.54643355,  1.47860228,\n",
              "        2.84627868,  2.30882584,  3.16591695,  2.59070356,  2.49163859,\n",
              "        3.61020945,  2.50970302,  2.77559064,  3.21912223,  2.59224625,\n",
              "        2.58257116,  2.61403074,  2.97213909,  3.58830968,  2.10494717,\n",
              "        2.57644763,  3.16560239,  2.83557758,  2.45915766,  4.07540781,\n",
              "        1.88739918,  2.00341673,  1.37082022,  1.25137196,  2.28729658,\n",
              "        2.76769201,  3.57426783,  2.38692013,  2.52459054,  2.50651674,\n",
              "        3.09650944,  2.61332474,  3.06857341,  0.65464356,  1.03827009,\n",
              "        2.00179828,  1.99871927,  2.30041858,  2.15783015, -0.81725452,\n",
              "        2.78337869,  3.20054146,  1.98242457,  2.3304367 ,  2.19449197,\n",
              "        2.25268081,  2.37245165,  2.11163157,  1.06333254,  2.63565016,\n",
              "        2.64985798,  3.34438062,  3.71200006,  2.93329442,  3.75064664,\n",
              "        3.07225621,  2.41284388,  3.53096424,  3.13818709,  3.24149987,\n",
              "        4.26861503,  2.93329442,  2.37719896,  4.3122273 ,  3.75107639,\n",
              "        3.057702  ,  3.8627942 ,  4.15336717,  2.40692158,  4.51959122,\n",
              "       -0.14222564,  1.58975733,  1.84186292,  1.77173943,  1.14362398,\n",
              "        1.12921801,  1.97356944,  3.1033183 ,  1.97006426,  1.81881951,\n",
              "        2.79068818,  2.09161573,  1.4720842 ,  2.72128671,  2.21412081,\n",
              "        3.33475078,  3.53177917,  3.53177917,  3.57027236,  2.11101804,\n",
              "        1.96403072,  3.79035475,  0.53440487,  1.24850117,  4.04588834,\n",
              "        2.23248425,  2.53457132,  2.44041445,  3.43416756,  3.13873872,\n",
              "        2.77176974,  3.77946095,  2.6394919 ,  3.55758873,  3.34077208,\n",
              "        2.6731187 ,  3.384695  ,  4.12704147,  2.84664871,  3.7973023 ,\n",
              "        2.19041823,  1.81875346,  3.783171  ,  2.86841085,  2.21597409,\n",
              "        1.84173025,  3.46304714,  2.34128467,  2.29296563,  2.80242502,\n",
              "        1.68740995,  2.82354735,  2.19552505,  2.55396438,  2.80829692,\n",
              "        2.43340488,  1.67665432,  3.2570623 ,  3.75304407,  2.34792236,\n",
              "        3.56203355,  3.92368473,  3.92368473,  1.85423633,  1.48305889,\n",
              "        1.57459172,  2.5621008 ,  1.12460379,  3.69779755,  3.10311833,\n",
              "        2.45651849,  2.87801001,  3.32897148,  2.71023631,  3.50127766])"
            ]
          },
          "metadata": {},
          "execution_count": 65
        }
      ]
    },
    {
      "cell_type": "code",
      "source": [
        "import matplotlib.pyplot as plt"
      ],
      "metadata": {
        "id": "00XXSyUINti3"
      },
      "execution_count": 66,
      "outputs": []
    },
    {
      "cell_type": "code",
      "source": [
        " plt.figure(figsize=(6,8))\n",
        " plt.scatter(pred_test, y_test)\n",
        " plt.xlabel('Predicted')\n",
        " plt.ylabel('Actual')\n",
        " plt.show()"
      ],
      "metadata": {
        "colab": {
          "base_uri": "https://localhost:8080/",
          "height": 696
        },
        "id": "jfn2ho-2N4ml",
        "outputId": "27383d9c-e21c-4f56-8b59-efc04805e640"
      },
      "execution_count": 67,
      "outputs": [
        {
          "output_type": "display_data",
          "data": {
            "text/plain": [
              "<Figure size 600x800 with 1 Axes>"
            ],
            "image/png": "[encoded data removed]"
          },
          "metadata": {}
        }
      ]
    },
    {
      "cell_type": "code",
      "source": [
        "mse = mean_squared_error(y_test, pred_test)"
      ],
      "metadata": {
        "id": "8DCdfpH7ONq8"
      },
      "execution_count": 68,
      "outputs": []
    },
    {
      "cell_type": "code",
      "source": [
        "mse"
      ],
      "metadata": {
        "colab": {
          "base_uri": "https://localhost:8080/"
        },
        "id": "ag_uVrt-Olpn",
        "outputId": "13778769-9559-4676-dfb7-988f886b1a07"
      },
      "execution_count": 69,
      "outputs": [
        {
          "output_type": "execute_result",
          "data": {
            "text/plain": [
              "0.6171031275453881"
            ]
          },
          "metadata": {},
          "execution_count": 69
        }
      ]
    },
    {
      "cell_type": "code",
      "source": [
        "from sklearn.metrics import mean_absolute_error\n",
        "mae = mean_absolute_error(y_test, pred_test)\n",
        "mae"
      ],
      "metadata": {
        "colab": {
          "base_uri": "https://localhost:8080/"
        },
        "id": "Js8LKtPTOmXi",
        "outputId": "75936cc5-23f8-446d-b62e-33c335a48935"
      },
      "execution_count": 70,
      "outputs": [
        {
          "output_type": "execute_result",
          "data": {
            "text/plain": [
              "0.6070237179183059"
            ]
          },
          "metadata": {},
          "execution_count": 70
        }
      ]
    },
    {
      "cell_type": "code",
      "source": [],
      "metadata": {
        "id": "hoWcaWLqO4zX"
      },
      "execution_count": null,
      "outputs": []
    }
  ]
}