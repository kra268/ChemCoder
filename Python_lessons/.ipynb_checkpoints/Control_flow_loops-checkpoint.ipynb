{
 "cells": [
  {
   "cell_type": "markdown",
   "id": "f2c4a224",
   "metadata": {},
   "source": [
    "# Control Flow"
   ]
  },
  {
   "cell_type": "markdown",
   "id": "99dc0dda",
   "metadata": {},
   "source": [
    "#### 1) If statement\n",
    "#### 2) Else statement\n",
    "#### 3) Nested if-else statements\n",
    "#### 4) While loops\n",
    "#### 5) For loops"
   ]
  },
  {
   "cell_type": "markdown",
   "id": "5afb2ac2",
   "metadata": {},
   "source": [
    "## Let's begin"
   ]
  },
  {
   "cell_type": "markdown",
   "id": "ba3f3995",
   "metadata": {},
   "source": [
    "#### If statements"
   ]
  },
  {
   "cell_type": "code",
   "execution_count": 1,
   "id": "f054b199",
   "metadata": {},
   "outputs": [],
   "source": [
    "a = 5\n",
    "b = 3"
   ]
  },
  {
   "cell_type": "code",
   "execution_count": 2,
   "id": "4c149397",
   "metadata": {},
   "outputs": [
    {
     "name": "stdout",
     "output_type": "stream",
     "text": [
      "a is greater than b\n"
     ]
    }
   ],
   "source": [
    "if a>b:\n",
    "    print(\"a is greater than b\")"
   ]
  },
  {
   "cell_type": "code",
   "execution_count": 3,
   "id": "f0bad325",
   "metadata": {},
   "outputs": [],
   "source": [
    "if a < b:\n",
    "    print(\"a is less than b\")"
   ]
  },
  {
   "cell_type": "markdown",
   "id": "aca6f06c",
   "metadata": {},
   "source": [
    "#### Else statements"
   ]
  },
  {
   "cell_type": "code",
   "execution_count": 8,
   "id": "387f8612",
   "metadata": {},
   "outputs": [
    {
     "name": "stdout",
     "output_type": "stream",
     "text": [
      "a is greater than b\n"
     ]
    }
   ],
   "source": [
    "if a > b:\n",
    "    print(\"a is greater than b\")\n",
    "else:\n",
    "    print(\"a is less than b\")"
   ]
  },
  {
   "cell_type": "code",
   "execution_count": 9,
   "id": "dac04550",
   "metadata": {},
   "outputs": [],
   "source": [
    "a = 2"
   ]
  },
  {
   "cell_type": "code",
   "execution_count": 10,
   "id": "1b1f32d9",
   "metadata": {},
   "outputs": [
    {
     "name": "stdout",
     "output_type": "stream",
     "text": [
      "a is less than b\n"
     ]
    }
   ],
   "source": [
    "if a > b:\n",
    "    print(\"a is greater than b\")\n",
    "else:\n",
    "    print(\"a is less than b\")"
   ]
  },
  {
   "cell_type": "code",
   "execution_count": null,
   "id": "9ffb0d2e",
   "metadata": {},
   "outputs": [],
   "source": []
  },
  {
   "cell_type": "markdown",
   "id": "5fbbeb4e",
   "metadata": {},
   "source": [
    "#### Nested if-else statements"
   ]
  },
  {
   "cell_type": "code",
   "execution_count": 11,
   "id": "46e58a40",
   "metadata": {},
   "outputs": [],
   "source": [
    "c = 5"
   ]
  },
  {
   "cell_type": "code",
   "execution_count": 12,
   "id": "91af5dae",
   "metadata": {},
   "outputs": [
    {
     "name": "stdout",
     "output_type": "stream",
     "text": [
      "2 3 5\n"
     ]
    }
   ],
   "source": [
    "print(a,b,c)"
   ]
  },
  {
   "cell_type": "code",
   "execution_count": 13,
   "id": "74dda2e1",
   "metadata": {},
   "outputs": [
    {
     "name": "stdout",
     "output_type": "stream",
     "text": [
      "a is the lowest number\n"
     ]
    }
   ],
   "source": [
    "if a < b:\n",
    "    if a < c:\n",
    "        print('a is the lowest number')\n",
    "    else:\n",
    "        print('a is less than b but greater than c')"
   ]
  },
  {
   "cell_type": "code",
   "execution_count": 16,
   "id": "fd0bc51a",
   "metadata": {},
   "outputs": [
    {
     "name": "stdout",
     "output_type": "stream",
     "text": [
      "a is the lowest number\n"
     ]
    }
   ],
   "source": [
    "if (a < b) & (a < c):\n",
    "    print('a is the lowest number')"
   ]
  },
  {
   "cell_type": "code",
   "execution_count": 18,
   "id": "c54ded57",
   "metadata": {},
   "outputs": [
    {
     "name": "stdout",
     "output_type": "stream",
     "text": [
      "b is neither the lowest nor the highest\n"
     ]
    }
   ],
   "source": [
    "if (b < c) or (b < a):\n",
    "    print('b is neither the lowest nor the highest')"
   ]
  },
  {
   "cell_type": "code",
   "execution_count": null,
   "id": "a785d446",
   "metadata": {},
   "outputs": [],
   "source": []
  },
  {
   "cell_type": "markdown",
   "id": "0ec807b1",
   "metadata": {},
   "source": [
    "#### While loops/statements"
   ]
  },
  {
   "cell_type": "code",
   "execution_count": 25,
   "id": "0113dcb9",
   "metadata": {},
   "outputs": [],
   "source": [
    "i = 0"
   ]
  },
  {
   "cell_type": "code",
   "execution_count": 26,
   "id": "dbb4ce1a",
   "metadata": {},
   "outputs": [
    {
     "name": "stdout",
     "output_type": "stream",
     "text": [
      "this is 0\n",
      "this is 1\n",
      "this is 2\n",
      "this is 3\n",
      "this is 4\n",
      "this is 5\n",
      "this is 6\n",
      "this is 7\n",
      "this is 8\n",
      "this is 9\n"
     ]
    }
   ],
   "source": [
    "while i < 10:\n",
    "    print(f\"this is {i}\")\n",
    "    i += 1   ## this is equal to i = i + 1\n",
    "# This is where the loop stops! "
   ]
  },
  {
   "cell_type": "code",
   "execution_count": 29,
   "id": "c9470171",
   "metadata": {},
   "outputs": [
    {
     "name": "stdout",
     "output_type": "stream",
     "text": [
      "0 is still less than 5\n",
      "1 is still less than 5\n",
      "2 is still less than 5\n",
      "3 is still less than 5\n",
      "4 is still less than 5\n",
      "5 is equal to 5\n",
      "6 is now greater than 5\n",
      "7 is now greater than 5\n",
      "8 is now greater than 5\n",
      "9 is now greater than 5\n"
     ]
    }
   ],
   "source": [
    "a = 0\n",
    "while a < 10:\n",
    "    if a < c:\n",
    "        print(f'{a} is still less than {c}')\n",
    "    if a == c:\n",
    "        print(f'{a} is equal to {c}')\n",
    "    elif a > c:\n",
    "        print(f'{a} is now greater than {c}')\n",
    "    a += 1"
   ]
  },
  {
   "cell_type": "markdown",
   "id": "e22b3ac3",
   "metadata": {},
   "source": [
    "#### For loops"
   ]
  },
  {
   "cell_type": "code",
   "execution_count": 30,
   "id": "44d33ae4",
   "metadata": {},
   "outputs": [],
   "source": [
    "a = [1,2,3,4,5]"
   ]
  },
  {
   "cell_type": "code",
   "execution_count": 31,
   "id": "f3ad5396",
   "metadata": {},
   "outputs": [
    {
     "name": "stdout",
     "output_type": "stream",
     "text": [
      "1\n",
      "2\n",
      "3\n",
      "4\n",
      "5\n"
     ]
    }
   ],
   "source": [
    "for num in a:\n",
    "    print(f'{num}')"
   ]
  },
  {
   "cell_type": "code",
   "execution_count": 35,
   "id": "4818e583",
   "metadata": {},
   "outputs": [],
   "source": [
    "b = [[1,2,3],\n",
    "     [4,5,6],\n",
    "     [7,8,9]]"
   ]
  },
  {
   "cell_type": "code",
   "execution_count": 36,
   "id": "48348d3c",
   "metadata": {},
   "outputs": [
    {
     "data": {
      "text/plain": [
       "[[1, 2, 3], [4, 5, 6], [7, 8, 9]]"
      ]
     },
     "execution_count": 36,
     "metadata": {},
     "output_type": "execute_result"
    }
   ],
   "source": [
    "b"
   ]
  },
  {
   "cell_type": "code",
   "execution_count": 38,
   "id": "b3dda183",
   "metadata": {},
   "outputs": [
    {
     "name": "stdout",
     "output_type": "stream",
     "text": [
      "1\n",
      "2\n",
      "3\n",
      "4\n",
      "5\n",
      "6\n",
      "7\n",
      "8\n",
      "9\n"
     ]
    }
   ],
   "source": [
    "for row in b:\n",
    "    for element in row:\n",
    "        print(f'{element}')"
   ]
  },
  {
   "cell_type": "markdown",
   "id": "0977923f",
   "metadata": {},
   "source": [
    "#### Here's a trick! "
   ]
  },
  {
   "cell_type": "code",
   "execution_count": 43,
   "id": "f7edc5f0",
   "metadata": {},
   "outputs": [],
   "source": [
    "d = [i for i in a]"
   ]
  },
  {
   "cell_type": "code",
   "execution_count": 44,
   "id": "5ecb601d",
   "metadata": {},
   "outputs": [
    {
     "data": {
      "text/plain": [
       "[1, 2, 3, 4, 5]"
      ]
     },
     "execution_count": 44,
     "metadata": {},
     "output_type": "execute_result"
    }
   ],
   "source": [
    "d"
   ]
  },
  {
   "cell_type": "code",
   "execution_count": null,
   "id": "996a3095",
   "metadata": {},
   "outputs": [],
   "source": []
  }
 ],
 "metadata": {
  "kernelspec": {
   "display_name": "Python 3 (ipykernel)",
   "language": "python",
   "name": "python3"
  },
  "language_info": {
   "codemirror_mode": {
    "name": "ipython",
    "version": 3
   },
   "file_extension": ".py",
   "mimetype": "text/x-python",
   "name": "python",
   "nbconvert_exporter": "python",
   "pygments_lexer": "ipython3",
   "version": "3.9.12"
  }
 },
 "nbformat": 4,
 "nbformat_minor": 5
}
