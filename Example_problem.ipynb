{
 "cells": [
  {
   "cell_type": "code",
   "execution_count": null,
   "id": "b9118d5e",
   "metadata": {},
   "outputs": [],
   "source": [
    "import numpy as np\n",
    "import matplotlib.pyplot as plt\n",
    "\n",
    "# Simulation parameters\n",
    "L = 1.0  # Length of the rod (m)\n",
    "k = 2.5  # Thermal conductivity (W/mK)\n",
    "A = 1.0  # Cross-sectional area (m^2)\n",
    "T0 = 300.0  # Initial temperature (K)\n",
    "T1 = 400.0  # Temperature at left end (K)\n",
    "t_final = 36.0  # Final simulation time (s)\n",
    "dt = 0.001  # Time step (s)\n",
    "dx = 0.01  # Spatial step (m)\n",
    "\n",
    "# Discretization\n",
    "N = int(L / dx)  # Number of segments\n",
    "nodes = np.linspace(0, L, N+1)  # Node positions\n",
    "\n",
    "# Initialize temperature array\n",
    "T = np.full(N+1, T0)\n",
    "\n",
    "# Apply boundary conditions\n",
    "T[0] = T1\n",
    "\n",
    "print(nodes)\n",
    "print(T)\n"
   ]
  },
  {
   "cell_type": "code",
   "execution_count": null,
   "id": "2589a86f",
   "metadata": {},
   "outputs": [],
   "source": [
    "# Simulation loop\n",
    "t = 0.0\n",
    "while t < t_final:\n",
    "    T_new = np.copy(T)  # Create a copy of temperature array for the new iteration\n",
    "\n",
    "    for i in range(1, N):  # Loop over internal nodes\n",
    "        q = -k * A * (T[i+1] - T[i-1]) / (2 * dx)  # Heat flux using central difference\n",
    "        T_new[i] += (q * dt) / (A * dx)  # Update temperature using finite difference\n",
    "        \n",
    "    T = np.copy(T_new)  # Update temperature array for the next iteration\n",
    "    t += dt\n"
   ]
  },
  {
   "cell_type": "code",
   "execution_count": null,
   "id": "aff9c19f",
   "metadata": {},
   "outputs": [],
   "source": [
    "# Plotting the temperature distribution\n",
    "plt.plot(nodes, T)\n",
    "plt.xlabel('Position (m)')\n",
    "plt.ylabel('Temperature (K)')\n",
    "plt.title('Temperature Distribution in a 1-D Rod')\n",
    "plt.grid(True)\n",
    "plt.show()"
   ]
  },
  {
   "cell_type": "code",
   "execution_count": null,
   "id": "7f10b654",
   "metadata": {},
   "outputs": [],
   "source": []
  }
 ],
 "metadata": {
  "kernelspec": {
   "display_name": "Python 3 (ipykernel)",
   "language": "python",
   "name": "python3"
  },
  "language_info": {
   "codemirror_mode": {
    "name": "ipython",
    "version": 3
   },
   "file_extension": ".py",
   "mimetype": "text/x-python",
   "name": "python",
   "nbconvert_exporter": "python",
   "pygments_lexer": "ipython3",
   "version": "3.9.12"
  }
 },
 "nbformat": 4,
 "nbformat_minor": 5
}
