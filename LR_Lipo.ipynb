{
  "nbformat": 4,
  "nbformat_minor": 0,
  "metadata": {
    "colab": {
      "provenance": [],
      "authorship_tag": "ABX9TyPj352TMyHCVCfYd9TiZn3J",
      "include_colab_link": true
    },
    "kernelspec": {
      "name": "python3",
      "display_name": "Python 3"
    },
    "language_info": {
      "name": "python"
    }
  },
  "cells": [
    {
      "cell_type": "markdown",
      "metadata": {
        "id": "view-in-github",
        "colab_type": "text"
      },
      "source": [
        "<a href=\"https://colab.research.google.com/github/kra268/ChemCoder/blob/main/LR_Lipo.ipynb\" target=\"_parent\"><img src=\"https://colab.research.google.com/assets/colab-badge.svg\" alt=\"Open In Colab\"/></a>"
      ]
    },
    {
      "cell_type": "code",
      "execution_count": 42,
      "metadata": {
        "colab": {
          "base_uri": "https://localhost:8080/"
        },
        "id": "jpDrzd2sdSEX",
        "outputId": "a579bca9-ed93-4308-e5d8-77ad61837ee5"
      },
      "outputs": [
        {
          "output_type": "stream",
          "name": "stdout",
          "text": [
            "Looking in indexes: https://pypi.org/simple, https://us-python.pkg.dev/colab-wheels/public/simple/\n",
            "Requirement already satisfied: PyTDC in /usr/local/lib/python3.10/dist-packages (0.4.0)\n",
            "Requirement already satisfied: deepchem in /usr/local/lib/python3.10/dist-packages (2.7.1)\n",
            "Requirement already satisfied: rdkit==2023.03.1 in /usr/local/lib/python3.10/dist-packages (2023.3.1)\n",
            "Requirement already satisfied: numpy in /usr/local/lib/python3.10/dist-packages (from rdkit==2023.03.1) (1.22.4)\n",
            "Requirement already satisfied: Pillow in /usr/local/lib/python3.10/dist-packages (from rdkit==2023.03.1) (8.4.0)\n",
            "Requirement already satisfied: rdkit-pypi in /usr/local/lib/python3.10/dist-packages (from PyTDC) (2022.9.5)\n",
            "Requirement already satisfied: fuzzywuzzy in /usr/local/lib/python3.10/dist-packages (from PyTDC) (0.18.0)\n",
            "Requirement already satisfied: pandas in /usr/local/lib/python3.10/dist-packages (from PyTDC) (1.5.3)\n",
            "Requirement already satisfied: tqdm in /usr/local/lib/python3.10/dist-packages (from PyTDC) (4.65.0)\n",
            "Requirement already satisfied: scikit-learn in /usr/local/lib/python3.10/dist-packages (from PyTDC) (1.2.2)\n",
            "Requirement already satisfied: seaborn in /usr/local/lib/python3.10/dist-packages (from PyTDC) (0.12.2)\n",
            "Requirement already satisfied: requests in /usr/local/lib/python3.10/dist-packages (from PyTDC) (2.27.1)\n",
            "Requirement already satisfied: huggingface-hub in /usr/local/lib/python3.10/dist-packages (from PyTDC) (0.15.1)\n",
            "Requirement already satisfied: dataclasses in /usr/local/lib/python3.10/dist-packages (from PyTDC) (0.6)\n",
            "Requirement already satisfied: joblib in /usr/local/lib/python3.10/dist-packages (from deepchem) (1.2.0)\n",
            "Requirement already satisfied: scipy<1.9 in /usr/local/lib/python3.10/dist-packages (from deepchem) (1.8.1)\n",
            "Requirement already satisfied: filelock in /usr/local/lib/python3.10/dist-packages (from huggingface-hub->PyTDC) (3.12.0)\n",
            "Requirement already satisfied: fsspec in /usr/local/lib/python3.10/dist-packages (from huggingface-hub->PyTDC) (2023.4.0)\n",
            "Requirement already satisfied: pyyaml>=5.1 in /usr/local/lib/python3.10/dist-packages (from huggingface-hub->PyTDC) (6.0)\n",
            "Requirement already satisfied: typing-extensions>=3.7.4.3 in /usr/local/lib/python3.10/dist-packages (from huggingface-hub->PyTDC) (4.5.0)\n",
            "Requirement already satisfied: packaging>=20.9 in /usr/local/lib/python3.10/dist-packages (from huggingface-hub->PyTDC) (23.1)\n",
            "Requirement already satisfied: python-dateutil>=2.8.1 in /usr/local/lib/python3.10/dist-packages (from pandas->PyTDC) (2.8.2)\n",
            "Requirement already satisfied: pytz>=2020.1 in /usr/local/lib/python3.10/dist-packages (from pandas->PyTDC) (2022.7.1)\n",
            "Requirement already satisfied: urllib3<1.27,>=1.21.1 in /usr/local/lib/python3.10/dist-packages (from requests->PyTDC) (1.26.15)\n",
            "Requirement already satisfied: certifi>=2017.4.17 in /usr/local/lib/python3.10/dist-packages (from requests->PyTDC) (2022.12.7)\n",
            "Requirement already satisfied: charset-normalizer~=2.0.0 in /usr/local/lib/python3.10/dist-packages (from requests->PyTDC) (2.0.12)\n",
            "Requirement already satisfied: idna<4,>=2.5 in /usr/local/lib/python3.10/dist-packages (from requests->PyTDC) (3.4)\n",
            "Requirement already satisfied: threadpoolctl>=2.0.0 in /usr/local/lib/python3.10/dist-packages (from scikit-learn->PyTDC) (3.1.0)\n",
            "Requirement already satisfied: matplotlib!=3.6.1,>=3.1 in /usr/local/lib/python3.10/dist-packages (from seaborn->PyTDC) (3.7.1)\n",
            "Requirement already satisfied: contourpy>=1.0.1 in /usr/local/lib/python3.10/dist-packages (from matplotlib!=3.6.1,>=3.1->seaborn->PyTDC) (1.0.7)\n",
            "Requirement already satisfied: cycler>=0.10 in /usr/local/lib/python3.10/dist-packages (from matplotlib!=3.6.1,>=3.1->seaborn->PyTDC) (0.11.0)\n",
            "Requirement already satisfied: fonttools>=4.22.0 in /usr/local/lib/python3.10/dist-packages (from matplotlib!=3.6.1,>=3.1->seaborn->PyTDC) (4.39.3)\n",
            "Requirement already satisfied: kiwisolver>=1.0.1 in /usr/local/lib/python3.10/dist-packages (from matplotlib!=3.6.1,>=3.1->seaborn->PyTDC) (1.4.4)\n",
            "Requirement already satisfied: pyparsing>=2.3.1 in /usr/local/lib/python3.10/dist-packages (from matplotlib!=3.6.1,>=3.1->seaborn->PyTDC) (3.0.9)\n",
            "Requirement already satisfied: six>=1.5 in /usr/local/lib/python3.10/dist-packages (from python-dateutil>=2.8.1->pandas->PyTDC) (1.16.0)\n"
          ]
        }
      ],
      "source": [
        "pip install PyTDC deepchem rdkit==2023.03.1"
      ]
    },
    {
      "cell_type": "code",
      "source": [
        "import rdkit\n",
        "rdkit.__version__"
      ],
      "metadata": {
        "colab": {
          "base_uri": "https://localhost:8080/",
          "height": 35
        },
        "id": "82Pk-laWzhif",
        "outputId": "80f207b2-32f3-485c-88e3-becbef77b9c3"
      },
      "execution_count": 2,
      "outputs": [
        {
          "output_type": "execute_result",
          "data": {
            "text/plain": [
              "'2023.03.1'"
            ],
            "application/vnd.google.colaboratory.intrinsic+json": {
              "type": "string"
            }
          },
          "metadata": {},
          "execution_count": 2
        }
      ]
    },
    {
      "cell_type": "code",
      "source": [
        "import numpy as np\n",
        "import pandas as pd\n",
        "import deepchem as dc  # Featurization\n",
        "from sklearn.model_selection import train_test_split\n",
        "from sklearn.linear_model import LinearRegression\n",
        "from sklearn.metrics import mean_squared_error\n",
        "from tdc.single_pred import ADME\n",
        "from rdkit.Chem import PandasTools, AllChem, Descriptors, AddHs"
      ],
      "metadata": {
        "colab": {
          "base_uri": "https://localhost:8080/"
        },
        "id": "J6La2CI8zxo2",
        "outputId": "d4b9c772-c6bf-4a99-f30d-95429e9b4ad5"
      },
      "execution_count": 3,
      "outputs": [
        {
          "output_type": "stream",
          "name": "stderr",
          "text": [
            "WARNING:deepchem.models.torch_models:Skipped loading modules with pytorch-geometric dependency, missing a dependency. No module named 'torch_geometric'\n",
            "WARNING:deepchem.models:Skipped loading modules with pytorch-geometric dependency, missing a dependency. cannot import name 'DMPNN' from 'deepchem.models.torch_models' (/usr/local/lib/python3.10/dist-packages/deepchem/models/torch_models/__init__.py)\n",
            "WARNING:deepchem.models:Skipped loading modules with pytorch-lightning dependency, missing a dependency. No module named 'pytorch_lightning'\n",
            "WARNING:deepchem.models:Skipped loading some Jax models, missing a dependency. No module named 'haiku'\n"
          ]
        }
      ]
    },
    {
      "cell_type": "code",
      "source": [
        "data = ADME(name = 'Lipophilicity_AstraZeneca')\n",
        "split = data.get_split()"
      ],
      "metadata": {
        "colab": {
          "base_uri": "https://localhost:8080/"
        },
        "id": "LnFhBXyl0XSn",
        "outputId": "97d63565-7909-4c2d-9258-bb373f60f265"
      },
      "execution_count": 4,
      "outputs": [
        {
          "output_type": "stream",
          "name": "stderr",
          "text": [
            "Downloading...\n",
            "100%|██████████| 298k/298k [00:00<00:00, 3.38MiB/s]\n",
            "Loading...\n",
            "Done!\n"
          ]
        }
      ]
    },
    {
      "cell_type": "code",
      "source": [
        "split['train']"
      ],
      "metadata": {
        "colab": {
          "base_uri": "https://localhost:8080/",
          "height": 424
        },
        "id": "f3e4-P9m087G",
        "outputId": "ec2f1b82-2fa0-4982-a9aa-729fe4f47c96"
      },
      "execution_count": 5,
      "outputs": [
        {
          "output_type": "execute_result",
          "data": {
            "text/plain": [
              "            Drug_ID                                               Drug     Y\n",
              "0      CHEMBL596271            Cn1c(CN2CCN(c3ccc(Cl)cc3)CC2)nc2ccccc21  3.54\n",
              "1     CHEMBL1951080  COc1cc(OC)c(S(=O)(=O)N2c3ccccc3CCC2C)cc1NC(=O)... -1.18\n",
              "2        CHEMBL1771              COC(=O)[C@H](c1ccccc1Cl)N1CCc2sccc2C1  3.69\n",
              "3      CHEMBL317462              OC1(C#Cc2ccc(-c3ccccc3)cc2)CN2CCC1CC2  3.14\n",
              "4     CHEMBL1940306  CS(=O)(=O)c1ccc(Oc2ccc(C#C[C@]3(O)CN4CCC3CC4)c...  1.51\n",
              "...             ...                                                ...   ...\n",
              "2935  CHEMBL1824376   O=C(Nc1cccc(O)c1)c1ccc(OCCCN2CCCC2)cc1OCc1ccccn1  1.78\n",
              "2936  CHEMBL1081772  CC(=O)N(c1ccccc1)C1CC(C)N(S(=O)(=O)c2ccccc2)c2...  3.68\n",
              "2937   CHEMBL199147  CCN(C(=O)Cc1ccc(S(C)(=O)=O)cc1)C1CCN(CCC(c2ccc...  3.21\n",
              "2938    CHEMBL15932                                 COc1cccc2[nH]ncc12  2.10\n",
              "2939   CHEMBL558748                  O=C(NCC1CCCCC1)c1c(Cl)ccc2ncccc12  2.65\n",
              "\n",
              "[2940 rows x 3 columns]"
            ],
            "text/html": [
              "\n",
              "  <div id=\"df-c3dbbf93-7574-457c-b879-a784535441c9\">\n",
              "    <div class=\"colab-df-container\">\n",
              "      <div>\n",
              "<style scoped>\n",
              "    .dataframe tbody tr th:only-of-type {\n",
              "        vertical-align: middle;\n",
              "    }\n",
              "\n",
              "    .dataframe tbody tr th {\n",
              "        vertical-align: top;\n",
              "    }\n",
              "\n",
              "    .dataframe thead th {\n",
              "        text-align: right;\n",
              "    }\n",
              "</style>\n",
              "<table border=\"1\" class=\"dataframe\">\n",
              "  <thead>\n",
              "    <tr style=\"text-align: right;\">\n",
              "      <th></th>\n",
              "      <th>Drug_ID</th>\n",
              "      <th>Drug</th>\n",
              "      <th>Y</th>\n",
              "    </tr>\n",
              "  </thead>\n",
              "  <tbody>\n",
              "    <tr>\n",
              "      <th>0</th>\n",
              "      <td>CHEMBL596271</td>\n",
              "      <td>Cn1c(CN2CCN(c3ccc(Cl)cc3)CC2)nc2ccccc21</td>\n",
              "      <td>3.54</td>\n",
              "    </tr>\n",
              "    <tr>\n",
              "      <th>1</th>\n",
              "      <td>CHEMBL1951080</td>\n",
              "      <td>COc1cc(OC)c(S(=O)(=O)N2c3ccccc3CCC2C)cc1NC(=O)...</td>\n",
              "      <td>-1.18</td>\n",
              "    </tr>\n",
              "    <tr>\n",
              "      <th>2</th>\n",
              "      <td>CHEMBL1771</td>\n",
              "      <td>COC(=O)[C@H](c1ccccc1Cl)N1CCc2sccc2C1</td>\n",
              "      <td>3.69</td>\n",
              "    </tr>\n",
              "    <tr>\n",
              "      <th>3</th>\n",
              "      <td>CHEMBL317462</td>\n",
              "      <td>OC1(C#Cc2ccc(-c3ccccc3)cc2)CN2CCC1CC2</td>\n",
              "      <td>3.14</td>\n",
              "    </tr>\n",
              "    <tr>\n",
              "      <th>4</th>\n",
              "      <td>CHEMBL1940306</td>\n",
              "      <td>CS(=O)(=O)c1ccc(Oc2ccc(C#C[C@]3(O)CN4CCC3CC4)c...</td>\n",
              "      <td>1.51</td>\n",
              "    </tr>\n",
              "    <tr>\n",
              "      <th>...</th>\n",
              "      <td>...</td>\n",
              "      <td>...</td>\n",
              "      <td>...</td>\n",
              "    </tr>\n",
              "    <tr>\n",
              "      <th>2935</th>\n",
              "      <td>CHEMBL1824376</td>\n",
              "      <td>O=C(Nc1cccc(O)c1)c1ccc(OCCCN2CCCC2)cc1OCc1ccccn1</td>\n",
              "      <td>1.78</td>\n",
              "    </tr>\n",
              "    <tr>\n",
              "      <th>2936</th>\n",
              "      <td>CHEMBL1081772</td>\n",
              "      <td>CC(=O)N(c1ccccc1)C1CC(C)N(S(=O)(=O)c2ccccc2)c2...</td>\n",
              "      <td>3.68</td>\n",
              "    </tr>\n",
              "    <tr>\n",
              "      <th>2937</th>\n",
              "      <td>CHEMBL199147</td>\n",
              "      <td>CCN(C(=O)Cc1ccc(S(C)(=O)=O)cc1)C1CCN(CCC(c2ccc...</td>\n",
              "      <td>3.21</td>\n",
              "    </tr>\n",
              "    <tr>\n",
              "      <th>2938</th>\n",
              "      <td>CHEMBL15932</td>\n",
              "      <td>COc1cccc2[nH]ncc12</td>\n",
              "      <td>2.10</td>\n",
              "    </tr>\n",
              "    <tr>\n",
              "      <th>2939</th>\n",
              "      <td>CHEMBL558748</td>\n",
              "      <td>O=C(NCC1CCCCC1)c1c(Cl)ccc2ncccc12</td>\n",
              "      <td>2.65</td>\n",
              "    </tr>\n",
              "  </tbody>\n",
              "</table>\n",
              "<p>2940 rows × 3 columns</p>\n",
              "</div>\n",
              "      <button class=\"colab-df-convert\" onclick=\"convertToInteractive('df-c3dbbf93-7574-457c-b879-a784535441c9')\"\n",
              "              title=\"Convert this dataframe to an interactive table.\"\n",
              "              style=\"display:none;\">\n",
              "        \n",
              "  <svg xmlns=\"http://www.w3.org/2000/svg\" height=\"24px\"viewBox=\"0 0 24 24\"\n",
              "       width=\"24px\">\n",
              "    <path d=\"M0 0h24v24H0V0z\" fill=\"none\"/>\n",
              "    <path d=\"M18.56 5.44l.94 2.06.94-2.06 2.06-.94-2.06-.94-.94-2.06-.94 2.06-2.06.94zm-11 1L8.5 8.5l.94-2.06 2.06-.94-2.06-.94L8.5 2.5l-.94 2.06-2.06.94zm10 10l.94 2.06.94-2.06 2.06-.94-2.06-.94-.94-2.06-.94 2.06-2.06.94z\"/><path d=\"M17.41 7.96l-1.37-1.37c-.4-.4-.92-.59-1.43-.59-.52 0-1.04.2-1.43.59L10.3 9.45l-7.72 7.72c-.78.78-.78 2.05 0 2.83L4 21.41c.39.39.9.59 1.41.59.51 0 1.02-.2 1.41-.59l7.78-7.78 2.81-2.81c.8-.78.8-2.07 0-2.86zM5.41 20L4 18.59l7.72-7.72 1.47 1.35L5.41 20z\"/>\n",
              "  </svg>\n",
              "      </button>\n",
              "      \n",
              "  <style>\n",
              "    .colab-df-container {\n",
              "      display:flex;\n",
              "      flex-wrap:wrap;\n",
              "      gap: 12px;\n",
              "    }\n",
              "\n",
              "    .colab-df-convert {\n",
              "      background-color: #E8F0FE;\n",
              "      border: none;\n",
              "      border-radius: 50%;\n",
              "      cursor: pointer;\n",
              "      display: none;\n",
              "      fill: #1967D2;\n",
              "      height: 32px;\n",
              "      padding: 0 0 0 0;\n",
              "      width: 32px;\n",
              "    }\n",
              "\n",
              "    .colab-df-convert:hover {\n",
              "      background-color: #E2EBFA;\n",
              "      box-shadow: 0px 1px 2px rgba(60, 64, 67, 0.3), 0px 1px 3px 1px rgba(60, 64, 67, 0.15);\n",
              "      fill: #174EA6;\n",
              "    }\n",
              "\n",
              "    [theme=dark] .colab-df-convert {\n",
              "      background-color: #3B4455;\n",
              "      fill: #D2E3FC;\n",
              "    }\n",
              "\n",
              "    [theme=dark] .colab-df-convert:hover {\n",
              "      background-color: #434B5C;\n",
              "      box-shadow: 0px 1px 3px 1px rgba(0, 0, 0, 0.15);\n",
              "      filter: drop-shadow(0px 1px 2px rgba(0, 0, 0, 0.3));\n",
              "      fill: #FFFFFF;\n",
              "    }\n",
              "  </style>\n",
              "\n",
              "      <script>\n",
              "        const buttonEl =\n",
              "          document.querySelector('#df-c3dbbf93-7574-457c-b879-a784535441c9 button.colab-df-convert');\n",
              "        buttonEl.style.display =\n",
              "          google.colab.kernel.accessAllowed ? 'block' : 'none';\n",
              "\n",
              "        async function convertToInteractive(key) {\n",
              "          const element = document.querySelector('#df-c3dbbf93-7574-457c-b879-a784535441c9');\n",
              "          const dataTable =\n",
              "            await google.colab.kernel.invokeFunction('convertToInteractive',\n",
              "                                                     [key], {});\n",
              "          if (!dataTable) return;\n",
              "\n",
              "          const docLinkHtml = 'Like what you see? Visit the ' +\n",
              "            '<a target=\"_blank\" href=https://colab.research.google.com/notebooks/data_table.ipynb>data table notebook</a>'\n",
              "            + ' to learn more about interactive tables.';\n",
              "          element.innerHTML = '';\n",
              "          dataTable['output_type'] = 'display_data';\n",
              "          await google.colab.output.renderOutput(dataTable, element);\n",
              "          const docLink = document.createElement('div');\n",
              "          docLink.innerHTML = docLinkHtml;\n",
              "          element.appendChild(docLink);\n",
              "        }\n",
              "      </script>\n",
              "    </div>\n",
              "  </div>\n",
              "  "
            ]
          },
          "metadata": {},
          "execution_count": 5
        }
      ]
    },
    {
      "cell_type": "code",
      "source": [
        "train = split['train']\n",
        "test = split['test']\n",
        "valid = split['valid']"
      ],
      "metadata": {
        "id": "Kxb7ZeVQ0_l0"
      },
      "execution_count": 6,
      "outputs": []
    },
    {
      "cell_type": "code",
      "source": [
        "train.shape"
      ],
      "metadata": {
        "colab": {
          "base_uri": "https://localhost:8080/"
        },
        "id": "Pmx5s02H1QL5",
        "outputId": "74f288fa-bfda-41a0-ccc5-3de4969f1b21"
      },
      "execution_count": 7,
      "outputs": [
        {
          "output_type": "execute_result",
          "data": {
            "text/plain": [
              "(2940, 3)"
            ]
          },
          "metadata": {},
          "execution_count": 7
        }
      ]
    },
    {
      "cell_type": "code",
      "source": [
        "test.shape"
      ],
      "metadata": {
        "colab": {
          "base_uri": "https://localhost:8080/"
        },
        "id": "qY-5R7Wb1SoV",
        "outputId": "2930e092-7181-4398-fda2-8b9695e0559f"
      },
      "execution_count": 8,
      "outputs": [
        {
          "output_type": "execute_result",
          "data": {
            "text/plain": [
              "(840, 3)"
            ]
          },
          "metadata": {},
          "execution_count": 8
        }
      ]
    },
    {
      "cell_type": "code",
      "source": [
        "valid.shape"
      ],
      "metadata": {
        "colab": {
          "base_uri": "https://localhost:8080/"
        },
        "id": "q-ZRfly81YRd",
        "outputId": "fcf7bfef-08b7-4f37-894b-92148fe5bf16"
      },
      "execution_count": 9,
      "outputs": [
        {
          "output_type": "execute_result",
          "data": {
            "text/plain": [
              "(420, 3)"
            ]
          },
          "metadata": {},
          "execution_count": 9
        }
      ]
    },
    {
      "cell_type": "code",
      "source": [
        "PandasTools.AddMoleculeColumnToFrame(train, 'Drug', 'Molecule')"
      ],
      "metadata": {
        "id": "d-o1txGw1g0u"
      },
      "execution_count": 10,
      "outputs": []
    },
    {
      "cell_type": "code",
      "source": [
        "train.sample(3)"
      ],
      "metadata": {
        "colab": {
          "base_uri": "https://localhost:8080/",
          "height": 143
        },
        "id": "q73UeQ432hJl",
        "outputId": "96e17a1d-cf3c-4607-f15a-32282443683d"
      },
      "execution_count": 11,
      "outputs": [
        {
          "output_type": "execute_result",
          "data": {
            "text/plain": [
              "            Drug_ID                                               Drug     Y  \\\n",
              "2587   CHEMBL528724                       Cc1cc2nc(NC(=N)N)nc(C)c2cc1C  0.70   \n",
              "2170  CHEMBL2036732  O=C(Nc1ccc(N2CCOCC2)nc1)c1nnc(Nc2cccc(OCc3cccn...  3.30   \n",
              "117    CHEMBL174107                   CSc1ccc(N2C(N)=NC(N)=NC2(C)C)cc1 -0.84   \n",
              "\n",
              "                                              Molecule  \n",
              "2587  <rdkit.Chem.rdchem.Mol object at 0x7f9bb1639770>  \n",
              "2170  <rdkit.Chem.rdchem.Mol object at 0x7f9bb162df50>  \n",
              "117   <rdkit.Chem.rdchem.Mol object at 0x7f9bb15f1380>  "
            ],
            "text/html": [
              "\n",
              "  <div id=\"df-956fce8c-dee2-48d3-89a5-8482bce4fcbc\">\n",
              "    <div class=\"colab-df-container\">\n",
              "      <div>\n",
              "<style scoped>\n",
              "    .dataframe tbody tr th:only-of-type {\n",
              "        vertical-align: middle;\n",
              "    }\n",
              "\n",
              "    .dataframe tbody tr th {\n",
              "        vertical-align: top;\n",
              "    }\n",
              "\n",
              "    .dataframe thead th {\n",
              "        text-align: right;\n",
              "    }\n",
              "</style>\n",
              "<table border=\"1\" class=\"dataframe\">\n",
              "  <thead>\n",
              "    <tr style=\"text-align: right;\">\n",
              "      <th></th>\n",
              "      <th>Drug_ID</th>\n",
              "      <th>Drug</th>\n",
              "      <th>Y</th>\n",
              "      <th>Molecule</th>\n",
              "    </tr>\n",
              "  </thead>\n",
              "  <tbody>\n",
              "    <tr>\n",
              "      <th>2587</th>\n",
              "      <td>CHEMBL528724</td>\n",
              "      <td>Cc1cc2nc(NC(=N)N)nc(C)c2cc1C</td>\n",
              "      <td>0.70</td>\n",
              "      <td>&lt;rdkit.Chem.rdchem.Mol object at 0x7f9bb1639770&gt;</td>\n",
              "    </tr>\n",
              "    <tr>\n",
              "      <th>2170</th>\n",
              "      <td>CHEMBL2036732</td>\n",
              "      <td>O=C(Nc1ccc(N2CCOCC2)nc1)c1nnc(Nc2cccc(OCc3cccn...</td>\n",
              "      <td>3.30</td>\n",
              "      <td>&lt;rdkit.Chem.rdchem.Mol object at 0x7f9bb162df50&gt;</td>\n",
              "    </tr>\n",
              "    <tr>\n",
              "      <th>117</th>\n",
              "      <td>CHEMBL174107</td>\n",
              "      <td>CSc1ccc(N2C(N)=NC(N)=NC2(C)C)cc1</td>\n",
              "      <td>-0.84</td>\n",
              "      <td>&lt;rdkit.Chem.rdchem.Mol object at 0x7f9bb15f1380&gt;</td>\n",
              "    </tr>\n",
              "  </tbody>\n",
              "</table>\n",
              "</div>\n",
              "      <button class=\"colab-df-convert\" onclick=\"convertToInteractive('df-956fce8c-dee2-48d3-89a5-8482bce4fcbc')\"\n",
              "              title=\"Convert this dataframe to an interactive table.\"\n",
              "              style=\"display:none;\">\n",
              "        \n",
              "  <svg xmlns=\"http://www.w3.org/2000/svg\" height=\"24px\"viewBox=\"0 0 24 24\"\n",
              "       width=\"24px\">\n",
              "    <path d=\"M0 0h24v24H0V0z\" fill=\"none\"/>\n",
              "    <path d=\"M18.56 5.44l.94 2.06.94-2.06 2.06-.94-2.06-.94-.94-2.06-.94 2.06-2.06.94zm-11 1L8.5 8.5l.94-2.06 2.06-.94-2.06-.94L8.5 2.5l-.94 2.06-2.06.94zm10 10l.94 2.06.94-2.06 2.06-.94-2.06-.94-.94-2.06-.94 2.06-2.06.94z\"/><path d=\"M17.41 7.96l-1.37-1.37c-.4-.4-.92-.59-1.43-.59-.52 0-1.04.2-1.43.59L10.3 9.45l-7.72 7.72c-.78.78-.78 2.05 0 2.83L4 21.41c.39.39.9.59 1.41.59.51 0 1.02-.2 1.41-.59l7.78-7.78 2.81-2.81c.8-.78.8-2.07 0-2.86zM5.41 20L4 18.59l7.72-7.72 1.47 1.35L5.41 20z\"/>\n",
              "  </svg>\n",
              "      </button>\n",
              "      \n",
              "  <style>\n",
              "    .colab-df-container {\n",
              "      display:flex;\n",
              "      flex-wrap:wrap;\n",
              "      gap: 12px;\n",
              "    }\n",
              "\n",
              "    .colab-df-convert {\n",
              "      background-color: #E8F0FE;\n",
              "      border: none;\n",
              "      border-radius: 50%;\n",
              "      cursor: pointer;\n",
              "      display: none;\n",
              "      fill: #1967D2;\n",
              "      height: 32px;\n",
              "      padding: 0 0 0 0;\n",
              "      width: 32px;\n",
              "    }\n",
              "\n",
              "    .colab-df-convert:hover {\n",
              "      background-color: #E2EBFA;\n",
              "      box-shadow: 0px 1px 2px rgba(60, 64, 67, 0.3), 0px 1px 3px 1px rgba(60, 64, 67, 0.15);\n",
              "      fill: #174EA6;\n",
              "    }\n",
              "\n",
              "    [theme=dark] .colab-df-convert {\n",
              "      background-color: #3B4455;\n",
              "      fill: #D2E3FC;\n",
              "    }\n",
              "\n",
              "    [theme=dark] .colab-df-convert:hover {\n",
              "      background-color: #434B5C;\n",
              "      box-shadow: 0px 1px 3px 1px rgba(0, 0, 0, 0.15);\n",
              "      filter: drop-shadow(0px 1px 2px rgba(0, 0, 0, 0.3));\n",
              "      fill: #FFFFFF;\n",
              "    }\n",
              "  </style>\n",
              "\n",
              "      <script>\n",
              "        const buttonEl =\n",
              "          document.querySelector('#df-956fce8c-dee2-48d3-89a5-8482bce4fcbc button.colab-df-convert');\n",
              "        buttonEl.style.display =\n",
              "          google.colab.kernel.accessAllowed ? 'block' : 'none';\n",
              "\n",
              "        async function convertToInteractive(key) {\n",
              "          const element = document.querySelector('#df-956fce8c-dee2-48d3-89a5-8482bce4fcbc');\n",
              "          const dataTable =\n",
              "            await google.colab.kernel.invokeFunction('convertToInteractive',\n",
              "                                                     [key], {});\n",
              "          if (!dataTable) return;\n",
              "\n",
              "          const docLinkHtml = 'Like what you see? Visit the ' +\n",
              "            '<a target=\"_blank\" href=https://colab.research.google.com/notebooks/data_table.ipynb>data table notebook</a>'\n",
              "            + ' to learn more about interactive tables.';\n",
              "          element.innerHTML = '';\n",
              "          dataTable['output_type'] = 'display_data';\n",
              "          await google.colab.output.renderOutput(dataTable, element);\n",
              "          const docLink = document.createElement('div');\n",
              "          docLink.innerHTML = docLinkHtml;\n",
              "          element.appendChild(docLink);\n",
              "        }\n",
              "      </script>\n",
              "    </div>\n",
              "  </div>\n",
              "  "
            ]
          },
          "metadata": {},
          "execution_count": 11
        }
      ]
    },
    {
      "cell_type": "code",
      "source": [
        "PandasTools.AddMoleculeColumnToFrame(test, 'Drug', 'Molecule')\n",
        "PandasTools.AddMoleculeColumnToFrame(valid, 'Drug', 'Molecule')"
      ],
      "metadata": {
        "id": "jnFUm_9w2pzM"
      },
      "execution_count": 12,
      "outputs": []
    },
    {
      "cell_type": "code",
      "source": [
        "test.sample(3)"
      ],
      "metadata": {
        "colab": {
          "base_uri": "https://localhost:8080/",
          "height": 143
        },
        "id": "5XQrp76H2wZ6",
        "outputId": "ff4c4b23-4d0a-4981-f2c8-3bc79fdab653"
      },
      "execution_count": 13,
      "outputs": [
        {
          "output_type": "execute_result",
          "data": {
            "text/plain": [
              "           Drug_ID                                               Drug     Y  \\\n",
              "752  CHEMBL2094541                COc1cc(OC)nc(-n2ncc(Cl)c(Cl)c2=O)n1  1.40   \n",
              "31   CHEMBL2086653  CC(C)(C)OC(=O)N1CCN(c2cnc(OCc3ccc(S(C)(=O)=O)c...  3.40   \n",
              "451   CHEMBL271703       C[C@H](CO)Nc1nc(SCc2cccc(F)c2F)nc2nc(N)cnc12  2.89   \n",
              "\n",
              "                                             Molecule  \n",
              "752  <rdkit.Chem.rdchem.Mol object at 0x7f9bb1663f40>  \n",
              "31   <rdkit.Chem.rdchem.Mol object at 0x7f9bb1608190>  \n",
              "451  <rdkit.Chem.rdchem.Mol object at 0x7f9bb165ba70>  "
            ],
            "text/html": [
              "\n",
              "  <div id=\"df-5a17a9de-ba33-4336-9edb-9a64020a289b\">\n",
              "    <div class=\"colab-df-container\">\n",
              "      <div>\n",
              "<style scoped>\n",
              "    .dataframe tbody tr th:only-of-type {\n",
              "        vertical-align: middle;\n",
              "    }\n",
              "\n",
              "    .dataframe tbody tr th {\n",
              "        vertical-align: top;\n",
              "    }\n",
              "\n",
              "    .dataframe thead th {\n",
              "        text-align: right;\n",
              "    }\n",
              "</style>\n",
              "<table border=\"1\" class=\"dataframe\">\n",
              "  <thead>\n",
              "    <tr style=\"text-align: right;\">\n",
              "      <th></th>\n",
              "      <th>Drug_ID</th>\n",
              "      <th>Drug</th>\n",
              "      <th>Y</th>\n",
              "      <th>Molecule</th>\n",
              "    </tr>\n",
              "  </thead>\n",
              "  <tbody>\n",
              "    <tr>\n",
              "      <th>752</th>\n",
              "      <td>CHEMBL2094541</td>\n",
              "      <td>COc1cc(OC)nc(-n2ncc(Cl)c(Cl)c2=O)n1</td>\n",
              "      <td>1.40</td>\n",
              "      <td>&lt;rdkit.Chem.rdchem.Mol object at 0x7f9bb1663f40&gt;</td>\n",
              "    </tr>\n",
              "    <tr>\n",
              "      <th>31</th>\n",
              "      <td>CHEMBL2086653</td>\n",
              "      <td>CC(C)(C)OC(=O)N1CCN(c2cnc(OCc3ccc(S(C)(=O)=O)c...</td>\n",
              "      <td>3.40</td>\n",
              "      <td>&lt;rdkit.Chem.rdchem.Mol object at 0x7f9bb1608190&gt;</td>\n",
              "    </tr>\n",
              "    <tr>\n",
              "      <th>451</th>\n",
              "      <td>CHEMBL271703</td>\n",
              "      <td>C[C@H](CO)Nc1nc(SCc2cccc(F)c2F)nc2nc(N)cnc12</td>\n",
              "      <td>2.89</td>\n",
              "      <td>&lt;rdkit.Chem.rdchem.Mol object at 0x7f9bb165ba70&gt;</td>\n",
              "    </tr>\n",
              "  </tbody>\n",
              "</table>\n",
              "</div>\n",
              "      <button class=\"colab-df-convert\" onclick=\"convertToInteractive('df-5a17a9de-ba33-4336-9edb-9a64020a289b')\"\n",
              "              title=\"Convert this dataframe to an interactive table.\"\n",
              "              style=\"display:none;\">\n",
              "        \n",
              "  <svg xmlns=\"http://www.w3.org/2000/svg\" height=\"24px\"viewBox=\"0 0 24 24\"\n",
              "       width=\"24px\">\n",
              "    <path d=\"M0 0h24v24H0V0z\" fill=\"none\"/>\n",
              "    <path d=\"M18.56 5.44l.94 2.06.94-2.06 2.06-.94-2.06-.94-.94-2.06-.94 2.06-2.06.94zm-11 1L8.5 8.5l.94-2.06 2.06-.94-2.06-.94L8.5 2.5l-.94 2.06-2.06.94zm10 10l.94 2.06.94-2.06 2.06-.94-2.06-.94-.94-2.06-.94 2.06-2.06.94z\"/><path d=\"M17.41 7.96l-1.37-1.37c-.4-.4-.92-.59-1.43-.59-.52 0-1.04.2-1.43.59L10.3 9.45l-7.72 7.72c-.78.78-.78 2.05 0 2.83L4 21.41c.39.39.9.59 1.41.59.51 0 1.02-.2 1.41-.59l7.78-7.78 2.81-2.81c.8-.78.8-2.07 0-2.86zM5.41 20L4 18.59l7.72-7.72 1.47 1.35L5.41 20z\"/>\n",
              "  </svg>\n",
              "      </button>\n",
              "      \n",
              "  <style>\n",
              "    .colab-df-container {\n",
              "      display:flex;\n",
              "      flex-wrap:wrap;\n",
              "      gap: 12px;\n",
              "    }\n",
              "\n",
              "    .colab-df-convert {\n",
              "      background-color: #E8F0FE;\n",
              "      border: none;\n",
              "      border-radius: 50%;\n",
              "      cursor: pointer;\n",
              "      display: none;\n",
              "      fill: #1967D2;\n",
              "      height: 32px;\n",
              "      padding: 0 0 0 0;\n",
              "      width: 32px;\n",
              "    }\n",
              "\n",
              "    .colab-df-convert:hover {\n",
              "      background-color: #E2EBFA;\n",
              "      box-shadow: 0px 1px 2px rgba(60, 64, 67, 0.3), 0px 1px 3px 1px rgba(60, 64, 67, 0.15);\n",
              "      fill: #174EA6;\n",
              "    }\n",
              "\n",
              "    [theme=dark] .colab-df-convert {\n",
              "      background-color: #3B4455;\n",
              "      fill: #D2E3FC;\n",
              "    }\n",
              "\n",
              "    [theme=dark] .colab-df-convert:hover {\n",
              "      background-color: #434B5C;\n",
              "      box-shadow: 0px 1px 3px 1px rgba(0, 0, 0, 0.15);\n",
              "      filter: drop-shadow(0px 1px 2px rgba(0, 0, 0, 0.3));\n",
              "      fill: #FFFFFF;\n",
              "    }\n",
              "  </style>\n",
              "\n",
              "      <script>\n",
              "        const buttonEl =\n",
              "          document.querySelector('#df-5a17a9de-ba33-4336-9edb-9a64020a289b button.colab-df-convert');\n",
              "        buttonEl.style.display =\n",
              "          google.colab.kernel.accessAllowed ? 'block' : 'none';\n",
              "\n",
              "        async function convertToInteractive(key) {\n",
              "          const element = document.querySelector('#df-5a17a9de-ba33-4336-9edb-9a64020a289b');\n",
              "          const dataTable =\n",
              "            await google.colab.kernel.invokeFunction('convertToInteractive',\n",
              "                                                     [key], {});\n",
              "          if (!dataTable) return;\n",
              "\n",
              "          const docLinkHtml = 'Like what you see? Visit the ' +\n",
              "            '<a target=\"_blank\" href=https://colab.research.google.com/notebooks/data_table.ipynb>data table notebook</a>'\n",
              "            + ' to learn more about interactive tables.';\n",
              "          element.innerHTML = '';\n",
              "          dataTable['output_type'] = 'display_data';\n",
              "          await google.colab.output.renderOutput(dataTable, element);\n",
              "          const docLink = document.createElement('div');\n",
              "          docLink.innerHTML = docLinkHtml;\n",
              "          element.appendChild(docLink);\n",
              "        }\n",
              "      </script>\n",
              "    </div>\n",
              "  </div>\n",
              "  "
            ]
          },
          "metadata": {},
          "execution_count": 13
        }
      ]
    },
    {
      "cell_type": "code",
      "source": [
        "valid.sample(3)"
      ],
      "metadata": {
        "colab": {
          "base_uri": "https://localhost:8080/",
          "height": 143
        },
        "id": "TsEKHY552zgM",
        "outputId": "50e0250a-ed1e-49ef-a073-6ecd5343c80d"
      },
      "execution_count": 14,
      "outputs": [
        {
          "output_type": "execute_result",
          "data": {
            "text/plain": [
              "           Drug_ID                                               Drug     Y  \\\n",
              "359  CHEMBL2036577  CC(=O)N1CCN(c2ccc(NC(=O)c3nnc(Nc4ccccc4F)o3)cc...  2.51   \n",
              "140  CHEMBL2087848  CC#CCn1c(=O)c2c(-c3cncn3C)n(Cc3ccnc4ccc(Cl)cc3...  3.61   \n",
              "89   CHEMBL2153174   O=S(=O)(Cc1c(F)cccc1F)N1CCN(c2ncccc2C(F)(F)F)CC1  3.90   \n",
              "\n",
              "                                             Molecule  \n",
              "359  <rdkit.Chem.rdchem.Mol object at 0x7f9bb1670510>  \n",
              "140  <rdkit.Chem.rdchem.Mol object at 0x7f9bb166a420>  \n",
              "89   <rdkit.Chem.rdchem.Mol object at 0x7f9bb1668dd0>  "
            ],
            "text/html": [
              "\n",
              "  <div id=\"df-29c1d799-01bc-48e6-841c-023877665e5d\">\n",
              "    <div class=\"colab-df-container\">\n",
              "      <div>\n",
              "<style scoped>\n",
              "    .dataframe tbody tr th:only-of-type {\n",
              "        vertical-align: middle;\n",
              "    }\n",
              "\n",
              "    .dataframe tbody tr th {\n",
              "        vertical-align: top;\n",
              "    }\n",
              "\n",
              "    .dataframe thead th {\n",
              "        text-align: right;\n",
              "    }\n",
              "</style>\n",
              "<table border=\"1\" class=\"dataframe\">\n",
              "  <thead>\n",
              "    <tr style=\"text-align: right;\">\n",
              "      <th></th>\n",
              "      <th>Drug_ID</th>\n",
              "      <th>Drug</th>\n",
              "      <th>Y</th>\n",
              "      <th>Molecule</th>\n",
              "    </tr>\n",
              "  </thead>\n",
              "  <tbody>\n",
              "    <tr>\n",
              "      <th>359</th>\n",
              "      <td>CHEMBL2036577</td>\n",
              "      <td>CC(=O)N1CCN(c2ccc(NC(=O)c3nnc(Nc4ccccc4F)o3)cc...</td>\n",
              "      <td>2.51</td>\n",
              "      <td>&lt;rdkit.Chem.rdchem.Mol object at 0x7f9bb1670510&gt;</td>\n",
              "    </tr>\n",
              "    <tr>\n",
              "      <th>140</th>\n",
              "      <td>CHEMBL2087848</td>\n",
              "      <td>CC#CCn1c(=O)c2c(-c3cncn3C)n(Cc3ccnc4ccc(Cl)cc3...</td>\n",
              "      <td>3.61</td>\n",
              "      <td>&lt;rdkit.Chem.rdchem.Mol object at 0x7f9bb166a420&gt;</td>\n",
              "    </tr>\n",
              "    <tr>\n",
              "      <th>89</th>\n",
              "      <td>CHEMBL2153174</td>\n",
              "      <td>O=S(=O)(Cc1c(F)cccc1F)N1CCN(c2ncccc2C(F)(F)F)CC1</td>\n",
              "      <td>3.90</td>\n",
              "      <td>&lt;rdkit.Chem.rdchem.Mol object at 0x7f9bb1668dd0&gt;</td>\n",
              "    </tr>\n",
              "  </tbody>\n",
              "</table>\n",
              "</div>\n",
              "      <button class=\"colab-df-convert\" onclick=\"convertToInteractive('df-29c1d799-01bc-48e6-841c-023877665e5d')\"\n",
              "              title=\"Convert this dataframe to an interactive table.\"\n",
              "              style=\"display:none;\">\n",
              "        \n",
              "  <svg xmlns=\"http://www.w3.org/2000/svg\" height=\"24px\"viewBox=\"0 0 24 24\"\n",
              "       width=\"24px\">\n",
              "    <path d=\"M0 0h24v24H0V0z\" fill=\"none\"/>\n",
              "    <path d=\"M18.56 5.44l.94 2.06.94-2.06 2.06-.94-2.06-.94-.94-2.06-.94 2.06-2.06.94zm-11 1L8.5 8.5l.94-2.06 2.06-.94-2.06-.94L8.5 2.5l-.94 2.06-2.06.94zm10 10l.94 2.06.94-2.06 2.06-.94-2.06-.94-.94-2.06-.94 2.06-2.06.94z\"/><path d=\"M17.41 7.96l-1.37-1.37c-.4-.4-.92-.59-1.43-.59-.52 0-1.04.2-1.43.59L10.3 9.45l-7.72 7.72c-.78.78-.78 2.05 0 2.83L4 21.41c.39.39.9.59 1.41.59.51 0 1.02-.2 1.41-.59l7.78-7.78 2.81-2.81c.8-.78.8-2.07 0-2.86zM5.41 20L4 18.59l7.72-7.72 1.47 1.35L5.41 20z\"/>\n",
              "  </svg>\n",
              "      </button>\n",
              "      \n",
              "  <style>\n",
              "    .colab-df-container {\n",
              "      display:flex;\n",
              "      flex-wrap:wrap;\n",
              "      gap: 12px;\n",
              "    }\n",
              "\n",
              "    .colab-df-convert {\n",
              "      background-color: #E8F0FE;\n",
              "      border: none;\n",
              "      border-radius: 50%;\n",
              "      cursor: pointer;\n",
              "      display: none;\n",
              "      fill: #1967D2;\n",
              "      height: 32px;\n",
              "      padding: 0 0 0 0;\n",
              "      width: 32px;\n",
              "    }\n",
              "\n",
              "    .colab-df-convert:hover {\n",
              "      background-color: #E2EBFA;\n",
              "      box-shadow: 0px 1px 2px rgba(60, 64, 67, 0.3), 0px 1px 3px 1px rgba(60, 64, 67, 0.15);\n",
              "      fill: #174EA6;\n",
              "    }\n",
              "\n",
              "    [theme=dark] .colab-df-convert {\n",
              "      background-color: #3B4455;\n",
              "      fill: #D2E3FC;\n",
              "    }\n",
              "\n",
              "    [theme=dark] .colab-df-convert:hover {\n",
              "      background-color: #434B5C;\n",
              "      box-shadow: 0px 1px 3px 1px rgba(0, 0, 0, 0.15);\n",
              "      filter: drop-shadow(0px 1px 2px rgba(0, 0, 0, 0.3));\n",
              "      fill: #FFFFFF;\n",
              "    }\n",
              "  </style>\n",
              "\n",
              "      <script>\n",
              "        const buttonEl =\n",
              "          document.querySelector('#df-29c1d799-01bc-48e6-841c-023877665e5d button.colab-df-convert');\n",
              "        buttonEl.style.display =\n",
              "          google.colab.kernel.accessAllowed ? 'block' : 'none';\n",
              "\n",
              "        async function convertToInteractive(key) {\n",
              "          const element = document.querySelector('#df-29c1d799-01bc-48e6-841c-023877665e5d');\n",
              "          const dataTable =\n",
              "            await google.colab.kernel.invokeFunction('convertToInteractive',\n",
              "                                                     [key], {});\n",
              "          if (!dataTable) return;\n",
              "\n",
              "          const docLinkHtml = 'Like what you see? Visit the ' +\n",
              "            '<a target=\"_blank\" href=https://colab.research.google.com/notebooks/data_table.ipynb>data table notebook</a>'\n",
              "            + ' to learn more about interactive tables.';\n",
              "          element.innerHTML = '';\n",
              "          dataTable['output_type'] = 'display_data';\n",
              "          await google.colab.output.renderOutput(dataTable, element);\n",
              "          const docLink = document.createElement('div');\n",
              "          docLink.innerHTML = docLinkHtml;\n",
              "          element.appendChild(docLink);\n",
              "        }\n",
              "      </script>\n",
              "    </div>\n",
              "  </div>\n",
              "  "
            ]
          },
          "metadata": {},
          "execution_count": 14
        }
      ]
    },
    {
      "cell_type": "code",
      "source": [
        "train['Molecule'] = train.Molecule.apply(AddHs)"
      ],
      "metadata": {
        "id": "bho-kPhh22p-"
      },
      "execution_count": 15,
      "outputs": []
    },
    {
      "cell_type": "code",
      "source": [
        "train.Molecule[0]"
      ],
      "metadata": {
        "colab": {
          "base_uri": "https://localhost:8080/",
          "height": 167
        },
        "id": "PHrvGvc53JAe",
        "outputId": "ac7d8d09-cad9-4613-c250-1d4cac99b6c9"
      },
      "execution_count": 16,
      "outputs": [
        {
          "output_type": "execute_result",
          "data": {
            "text/plain": [
              "<rdkit.Chem.rdchem.Mol at 0x7f9bb1672110>"
            ],
            "image/png": "[encoded data removed]"
          },
          "metadata": {},
          "execution_count": 16
        }
      ]
    },
    {
      "cell_type": "code",
      "source": [
        "test['Molecule'] = test.Molecule.apply(AddHs)\n",
        "valid['Molecule'] = valid.Molecule.apply(AddHs)"
      ],
      "metadata": {
        "id": "NxKmpgy73L8J"
      },
      "execution_count": 17,
      "outputs": []
    },
    {
      "cell_type": "code",
      "source": [
        "test.Molecule[0]"
      ],
      "metadata": {
        "colab": {
          "base_uri": "https://localhost:8080/",
          "height": 167
        },
        "id": "ezuu_IQG3TGp",
        "outputId": "4c3d4e27-3e7d-4b01-edcc-3a88b1c1ac05"
      },
      "execution_count": 18,
      "outputs": [
        {
          "output_type": "execute_result",
          "data": {
            "text/plain": [
              "<rdkit.Chem.rdchem.Mol at 0x7f9bb1643220>"
            ],
            "image/png": "[encoded data removed]"
          },
          "metadata": {},
          "execution_count": 18
        }
      ]
    },
    {
      "cell_type": "code",
      "source": [
        "valid.Molecule[0]"
      ],
      "metadata": {
        "colab": {
          "base_uri": "https://localhost:8080/",
          "height": 167
        },
        "id": "u3TRc_-d3VsH",
        "outputId": "86e928f2-7356-4192-bb85-b3c290f0b5fb"
      },
      "execution_count": 19,
      "outputs": [
        {
          "output_type": "execute_result",
          "data": {
            "text/plain": [
              "<rdkit.Chem.rdchem.Mol at 0x7f9bb16665e0>"
            ],
            "image/png": "[encoded data removed]"
          },
          "metadata": {},
          "execution_count": 19
        }
      ]
    },
    {
      "cell_type": "code",
      "source": [
        "des_keys = Descriptors.CalcMolDescriptors(valid.Molecule[0]).keys()"
      ],
      "metadata": {
        "id": "NLnAAUPQ675M"
      },
      "execution_count": 22,
      "outputs": []
    },
    {
      "cell_type": "code",
      "source": [
        "des_keys"
      ],
      "metadata": {
        "colab": {
          "base_uri": "https://localhost:8080/"
        },
        "id": "qlZngWFb7Gb0",
        "outputId": "0f373d67-16f8-49c8-b1a5-91051d99e421"
      },
      "execution_count": 23,
      "outputs": [
        {
          "output_type": "execute_result",
          "data": {
            "text/plain": [
              "dict_keys(['MaxAbsEStateIndex', 'MaxEStateIndex', 'MinAbsEStateIndex', 'MinEStateIndex', 'qed', 'MolWt', 'HeavyAtomMolWt', 'ExactMolWt', 'NumValenceElectrons', 'NumRadicalElectrons', 'MaxPartialCharge', 'MinPartialCharge', 'MaxAbsPartialCharge', 'MinAbsPartialCharge', 'FpDensityMorgan1', 'FpDensityMorgan2', 'FpDensityMorgan3', 'BCUT2D_MWHI', 'BCUT2D_MWLOW', 'BCUT2D_CHGHI', 'BCUT2D_CHGLO', 'BCUT2D_LOGPHI', 'BCUT2D_LOGPLOW', 'BCUT2D_MRHI', 'BCUT2D_MRLOW', 'AvgIpc', 'BalabanJ', 'BertzCT', 'Chi0', 'Chi0n', 'Chi0v', 'Chi1', 'Chi1n', 'Chi1v', 'Chi2n', 'Chi2v', 'Chi3n', 'Chi3v', 'Chi4n', 'Chi4v', 'HallKierAlpha', 'Ipc', 'Kappa1', 'Kappa2', 'Kappa3', 'LabuteASA', 'PEOE_VSA1', 'PEOE_VSA10', 'PEOE_VSA11', 'PEOE_VSA12', 'PEOE_VSA13', 'PEOE_VSA14', 'PEOE_VSA2', 'PEOE_VSA3', 'PEOE_VSA4', 'PEOE_VSA5', 'PEOE_VSA6', 'PEOE_VSA7', 'PEOE_VSA8', 'PEOE_VSA9', 'SMR_VSA1', 'SMR_VSA10', 'SMR_VSA2', 'SMR_VSA3', 'SMR_VSA4', 'SMR_VSA5', 'SMR_VSA6', 'SMR_VSA7', 'SMR_VSA8', 'SMR_VSA9', 'SlogP_VSA1', 'SlogP_VSA10', 'SlogP_VSA11', 'SlogP_VSA12', 'SlogP_VSA2', 'SlogP_VSA3', 'SlogP_VSA4', 'SlogP_VSA5', 'SlogP_VSA6', 'SlogP_VSA7', 'SlogP_VSA8', 'SlogP_VSA9', 'TPSA', 'EState_VSA1', 'EState_VSA10', 'EState_VSA11', 'EState_VSA2', 'EState_VSA3', 'EState_VSA4', 'EState_VSA5', 'EState_VSA6', 'EState_VSA7', 'EState_VSA8', 'EState_VSA9', 'VSA_EState1', 'VSA_EState10', 'VSA_EState2', 'VSA_EState3', 'VSA_EState4', 'VSA_EState5', 'VSA_EState6', 'VSA_EState7', 'VSA_EState8', 'VSA_EState9', 'FractionCSP3', 'HeavyAtomCount', 'NHOHCount', 'NOCount', 'NumAliphaticCarbocycles', 'NumAliphaticHeterocycles', 'NumAliphaticRings', 'NumAromaticCarbocycles', 'NumAromaticHeterocycles', 'NumAromaticRings', 'NumHAcceptors', 'NumHDonors', 'NumHeteroatoms', 'NumRotatableBonds', 'NumSaturatedCarbocycles', 'NumSaturatedHeterocycles', 'NumSaturatedRings', 'RingCount', 'MolLogP', 'MolMR', 'fr_Al_COO', 'fr_Al_OH', 'fr_Al_OH_noTert', 'fr_ArN', 'fr_Ar_COO', 'fr_Ar_N', 'fr_Ar_NH', 'fr_Ar_OH', 'fr_COO', 'fr_COO2', 'fr_C_O', 'fr_C_O_noCOO', 'fr_C_S', 'fr_HOCCN', 'fr_Imine', 'fr_NH0', 'fr_NH1', 'fr_NH2', 'fr_N_O', 'fr_Ndealkylation1', 'fr_Ndealkylation2', 'fr_Nhpyrrole', 'fr_SH', 'fr_aldehyde', 'fr_alkyl_carbamate', 'fr_alkyl_halide', 'fr_allylic_oxid', 'fr_amide', 'fr_amidine', 'fr_aniline', 'fr_aryl_methyl', 'fr_azide', 'fr_azo', 'fr_barbitur', 'fr_benzene', 'fr_benzodiazepine', 'fr_bicyclic', 'fr_diazo', 'fr_dihydropyridine', 'fr_epoxide', 'fr_ester', 'fr_ether', 'fr_furan', 'fr_guanido', 'fr_halogen', 'fr_hdrzine', 'fr_hdrzone', 'fr_imidazole', 'fr_imide', 'fr_isocyan', 'fr_isothiocyan', 'fr_ketone', 'fr_ketone_Topliss', 'fr_lactam', 'fr_lactone', 'fr_methoxy', 'fr_morpholine', 'fr_nitrile', 'fr_nitro', 'fr_nitro_arom', 'fr_nitro_arom_nonortho', 'fr_nitroso', 'fr_oxazole', 'fr_oxime', 'fr_para_hydroxylation', 'fr_phenol', 'fr_phenol_noOrthoHbond', 'fr_phos_acid', 'fr_phos_ester', 'fr_piperdine', 'fr_piperzine', 'fr_priamide', 'fr_prisulfonamd', 'fr_pyridine', 'fr_quatN', 'fr_sulfide', 'fr_sulfonamd', 'fr_sulfone', 'fr_term_acetylene', 'fr_tetrazole', 'fr_thiazole', 'fr_thiocyan', 'fr_thiophene', 'fr_unbrch_alkane', 'fr_urea'])"
            ]
          },
          "metadata": {},
          "execution_count": 23
        }
      ]
    },
    {
      "cell_type": "code",
      "source": [
        "# Create a featurizer object\n",
        "featurizer = dc.feat.RDKitDescriptors()"
      ],
      "metadata": {
        "id": "pmMCQ7jw3Tx6"
      },
      "execution_count": 24,
      "outputs": []
    },
    {
      "cell_type": "code",
      "source": [
        "train['descript'] = train.Molecule.apply(featurizer.featurize)"
      ],
      "metadata": {
        "id": "GEhLWnlN8MmD"
      },
      "execution_count": 25,
      "outputs": []
    },
    {
      "cell_type": "code",
      "source": [
        "train.head()"
      ],
      "metadata": {
        "colab": {
          "base_uri": "https://localhost:8080/",
          "height": 206
        },
        "id": "HKmeS9W-9C_Z",
        "outputId": "018f1ecd-495d-46f4-d7f3-b76c0e710c94"
      },
      "execution_count": 26,
      "outputs": [
        {
          "output_type": "execute_result",
          "data": {
            "text/plain": [
              "         Drug_ID                                               Drug     Y  \\\n",
              "0   CHEMBL596271            Cn1c(CN2CCN(c3ccc(Cl)cc3)CC2)nc2ccccc21  3.54   \n",
              "1  CHEMBL1951080  COc1cc(OC)c(S(=O)(=O)N2c3ccccc3CCC2C)cc1NC(=O)... -1.18   \n",
              "2     CHEMBL1771              COC(=O)[C@H](c1ccccc1Cl)N1CCc2sccc2C1  3.69   \n",
              "3   CHEMBL317462              OC1(C#Cc2ccc(-c3ccccc3)cc2)CN2CCC1CC2  3.14   \n",
              "4  CHEMBL1940306  CS(=O)(=O)c1ccc(Oc2ccc(C#C[C@]3(O)CN4CCC3CC4)c...  1.51   \n",
              "\n",
              "                                           Molecule  \\\n",
              "0  <rdkit.Chem.rdchem.Mol object at 0x7f9bb1672110>   \n",
              "1  <rdkit.Chem.rdchem.Mol object at 0x7f9bb1672180>   \n",
              "2  <rdkit.Chem.rdchem.Mol object at 0x7f9bb16722d0>   \n",
              "3  <rdkit.Chem.rdchem.Mol object at 0x7f9bb16720a0>   \n",
              "4  <rdkit.Chem.rdchem.Mol object at 0x7f9bb16721f0>   \n",
              "\n",
              "                                            descript  \n",
              "0  [[8.838871237455292, 8.838871237455292, 0.0083...  \n",
              "1  [[15.117957899646866, 15.117957899646866, 0.92...  \n",
              "2  [[13.32122724552784, 13.32122724552784, 0.2505...  \n",
              "3  [[8.889040858642577, 8.889040858642577, 0.4830...  \n",
              "4  [[12.491907359623278, 12.491907359623278, 0.53...  "
            ],
            "text/html": [
              "\n",
              "  <div id=\"df-e7dd5857-304e-46da-9184-6d7950316ff9\">\n",
              "    <div class=\"colab-df-container\">\n",
              "      <div>\n",
              "<style scoped>\n",
              "    .dataframe tbody tr th:only-of-type {\n",
              "        vertical-align: middle;\n",
              "    }\n",
              "\n",
              "    .dataframe tbody tr th {\n",
              "        vertical-align: top;\n",
              "    }\n",
              "\n",
              "    .dataframe thead th {\n",
              "        text-align: right;\n",
              "    }\n",
              "</style>\n",
              "<table border=\"1\" class=\"dataframe\">\n",
              "  <thead>\n",
              "    <tr style=\"text-align: right;\">\n",
              "      <th></th>\n",
              "      <th>Drug_ID</th>\n",
              "      <th>Drug</th>\n",
              "      <th>Y</th>\n",
              "      <th>Molecule</th>\n",
              "      <th>descript</th>\n",
              "    </tr>\n",
              "  </thead>\n",
              "  <tbody>\n",
              "    <tr>\n",
              "      <th>0</th>\n",
              "      <td>CHEMBL596271</td>\n",
              "      <td>Cn1c(CN2CCN(c3ccc(Cl)cc3)CC2)nc2ccccc21</td>\n",
              "      <td>3.54</td>\n",
              "      <td>&lt;rdkit.Chem.rdchem.Mol object at 0x7f9bb1672110&gt;</td>\n",
              "      <td>[[8.838871237455292, 8.838871237455292, 0.0083...</td>\n",
              "    </tr>\n",
              "    <tr>\n",
              "      <th>1</th>\n",
              "      <td>CHEMBL1951080</td>\n",
              "      <td>COc1cc(OC)c(S(=O)(=O)N2c3ccccc3CCC2C)cc1NC(=O)...</td>\n",
              "      <td>-1.18</td>\n",
              "      <td>&lt;rdkit.Chem.rdchem.Mol object at 0x7f9bb1672180&gt;</td>\n",
              "      <td>[[15.117957899646866, 15.117957899646866, 0.92...</td>\n",
              "    </tr>\n",
              "    <tr>\n",
              "      <th>2</th>\n",
              "      <td>CHEMBL1771</td>\n",
              "      <td>COC(=O)[C@H](c1ccccc1Cl)N1CCc2sccc2C1</td>\n",
              "      <td>3.69</td>\n",
              "      <td>&lt;rdkit.Chem.rdchem.Mol object at 0x7f9bb16722d0&gt;</td>\n",
              "      <td>[[13.32122724552784, 13.32122724552784, 0.2505...</td>\n",
              "    </tr>\n",
              "    <tr>\n",
              "      <th>3</th>\n",
              "      <td>CHEMBL317462</td>\n",
              "      <td>OC1(C#Cc2ccc(-c3ccccc3)cc2)CN2CCC1CC2</td>\n",
              "      <td>3.14</td>\n",
              "      <td>&lt;rdkit.Chem.rdchem.Mol object at 0x7f9bb16720a0&gt;</td>\n",
              "      <td>[[8.889040858642577, 8.889040858642577, 0.4830...</td>\n",
              "    </tr>\n",
              "    <tr>\n",
              "      <th>4</th>\n",
              "      <td>CHEMBL1940306</td>\n",
              "      <td>CS(=O)(=O)c1ccc(Oc2ccc(C#C[C@]3(O)CN4CCC3CC4)c...</td>\n",
              "      <td>1.51</td>\n",
              "      <td>&lt;rdkit.Chem.rdchem.Mol object at 0x7f9bb16721f0&gt;</td>\n",
              "      <td>[[12.491907359623278, 12.491907359623278, 0.53...</td>\n",
              "    </tr>\n",
              "  </tbody>\n",
              "</table>\n",
              "</div>\n",
              "      <button class=\"colab-df-convert\" onclick=\"convertToInteractive('df-e7dd5857-304e-46da-9184-6d7950316ff9')\"\n",
              "              title=\"Convert this dataframe to an interactive table.\"\n",
              "              style=\"display:none;\">\n",
              "        \n",
              "  <svg xmlns=\"http://www.w3.org/2000/svg\" height=\"24px\"viewBox=\"0 0 24 24\"\n",
              "       width=\"24px\">\n",
              "    <path d=\"M0 0h24v24H0V0z\" fill=\"none\"/>\n",
              "    <path d=\"M18.56 5.44l.94 2.06.94-2.06 2.06-.94-2.06-.94-.94-2.06-.94 2.06-2.06.94zm-11 1L8.5 8.5l.94-2.06 2.06-.94-2.06-.94L8.5 2.5l-.94 2.06-2.06.94zm10 10l.94 2.06.94-2.06 2.06-.94-2.06-.94-.94-2.06-.94 2.06-2.06.94z\"/><path d=\"M17.41 7.96l-1.37-1.37c-.4-.4-.92-.59-1.43-.59-.52 0-1.04.2-1.43.59L10.3 9.45l-7.72 7.72c-.78.78-.78 2.05 0 2.83L4 21.41c.39.39.9.59 1.41.59.51 0 1.02-.2 1.41-.59l7.78-7.78 2.81-2.81c.8-.78.8-2.07 0-2.86zM5.41 20L4 18.59l7.72-7.72 1.47 1.35L5.41 20z\"/>\n",
              "  </svg>\n",
              "      </button>\n",
              "      \n",
              "  <style>\n",
              "    .colab-df-container {\n",
              "      display:flex;\n",
              "      flex-wrap:wrap;\n",
              "      gap: 12px;\n",
              "    }\n",
              "\n",
              "    .colab-df-convert {\n",
              "      background-color: #E8F0FE;\n",
              "      border: none;\n",
              "      border-radius: 50%;\n",
              "      cursor: pointer;\n",
              "      display: none;\n",
              "      fill: #1967D2;\n",
              "      height: 32px;\n",
              "      padding: 0 0 0 0;\n",
              "      width: 32px;\n",
              "    }\n",
              "\n",
              "    .colab-df-convert:hover {\n",
              "      background-color: #E2EBFA;\n",
              "      box-shadow: 0px 1px 2px rgba(60, 64, 67, 0.3), 0px 1px 3px 1px rgba(60, 64, 67, 0.15);\n",
              "      fill: #174EA6;\n",
              "    }\n",
              "\n",
              "    [theme=dark] .colab-df-convert {\n",
              "      background-color: #3B4455;\n",
              "      fill: #D2E3FC;\n",
              "    }\n",
              "\n",
              "    [theme=dark] .colab-df-convert:hover {\n",
              "      background-color: #434B5C;\n",
              "      box-shadow: 0px 1px 3px 1px rgba(0, 0, 0, 0.15);\n",
              "      filter: drop-shadow(0px 1px 2px rgba(0, 0, 0, 0.3));\n",
              "      fill: #FFFFFF;\n",
              "    }\n",
              "  </style>\n",
              "\n",
              "      <script>\n",
              "        const buttonEl =\n",
              "          document.querySelector('#df-e7dd5857-304e-46da-9184-6d7950316ff9 button.colab-df-convert');\n",
              "        buttonEl.style.display =\n",
              "          google.colab.kernel.accessAllowed ? 'block' : 'none';\n",
              "\n",
              "        async function convertToInteractive(key) {\n",
              "          const element = document.querySelector('#df-e7dd5857-304e-46da-9184-6d7950316ff9');\n",
              "          const dataTable =\n",
              "            await google.colab.kernel.invokeFunction('convertToInteractive',\n",
              "                                                     [key], {});\n",
              "          if (!dataTable) return;\n",
              "\n",
              "          const docLinkHtml = 'Like what you see? Visit the ' +\n",
              "            '<a target=\"_blank\" href=https://colab.research.google.com/notebooks/data_table.ipynb>data table notebook</a>'\n",
              "            + ' to learn more about interactive tables.';\n",
              "          element.innerHTML = '';\n",
              "          dataTable['output_type'] = 'display_data';\n",
              "          await google.colab.output.renderOutput(dataTable, element);\n",
              "          const docLink = document.createElement('div');\n",
              "          docLink.innerHTML = docLinkHtml;\n",
              "          element.appendChild(docLink);\n",
              "        }\n",
              "      </script>\n",
              "    </div>\n",
              "  </div>\n",
              "  "
            ]
          },
          "metadata": {},
          "execution_count": 26
        }
      ]
    },
    {
      "cell_type": "code",
      "source": [
        "# Write for test and valid\n",
        "test['descript'] = test.Molecule.apply(featurizer.featurize)\n",
        "valid['descript'] = valid.Molecule.apply(featurizer.featurize)"
      ],
      "metadata": {
        "id": "0A0SXFXs8cS6"
      },
      "execution_count": 27,
      "outputs": []
    },
    {
      "cell_type": "code",
      "source": [
        "train['descript'] = train['descript'].apply(lambda x: list(x[0]))"
      ],
      "metadata": {
        "id": "KXD2Lk8_9Uuo"
      },
      "execution_count": 28,
      "outputs": []
    },
    {
      "cell_type": "code",
      "source": [
        "# Write for test and valid\n",
        "test['descript'] = test['descript'].apply(lambda x: list(x[0]))\n",
        "valid['descript'] = valid['descript'].apply(lambda x: list(x[0]))"
      ],
      "metadata": {
        "id": "dRd-63C7-PVt"
      },
      "execution_count": 29,
      "outputs": []
    },
    {
      "cell_type": "code",
      "source": [
        "test.sample(1)"
      ],
      "metadata": {
        "colab": {
          "base_uri": "https://localhost:8080/",
          "height": 81
        },
        "id": "lU6PWV-G-b0w",
        "outputId": "7f579ba9-45e6-4b27-8990-967c097dff34"
      },
      "execution_count": 30,
      "outputs": [
        {
          "output_type": "execute_result",
          "data": {
            "text/plain": [
              "          Drug_ID                                               Drug     Y  \\\n",
              "110  CHEMBL140453  CC(O)(C(=O)Nc1ccc(S(=O)(=O)c2ccc(O)cc2)cc1)C(F...  2.78   \n",
              "\n",
              "                                             Molecule  \\\n",
              "110  <rdkit.Chem.rdchem.Mol object at 0x7f9bb1640270>   \n",
              "\n",
              "                                              descript  \n",
              "110  [13.690915423800892, 13.690915423800892, 1.008...  "
            ],
            "text/html": [
              "\n",
              "  <div id=\"df-f844f4ff-81d1-4489-b22b-5e9cc498453e\">\n",
              "    <div class=\"colab-df-container\">\n",
              "      <div>\n",
              "<style scoped>\n",
              "    .dataframe tbody tr th:only-of-type {\n",
              "        vertical-align: middle;\n",
              "    }\n",
              "\n",
              "    .dataframe tbody tr th {\n",
              "        vertical-align: top;\n",
              "    }\n",
              "\n",
              "    .dataframe thead th {\n",
              "        text-align: right;\n",
              "    }\n",
              "</style>\n",
              "<table border=\"1\" class=\"dataframe\">\n",
              "  <thead>\n",
              "    <tr style=\"text-align: right;\">\n",
              "      <th></th>\n",
              "      <th>Drug_ID</th>\n",
              "      <th>Drug</th>\n",
              "      <th>Y</th>\n",
              "      <th>Molecule</th>\n",
              "      <th>descript</th>\n",
              "    </tr>\n",
              "  </thead>\n",
              "  <tbody>\n",
              "    <tr>\n",
              "      <th>110</th>\n",
              "      <td>CHEMBL140453</td>\n",
              "      <td>CC(O)(C(=O)Nc1ccc(S(=O)(=O)c2ccc(O)cc2)cc1)C(F...</td>\n",
              "      <td>2.78</td>\n",
              "      <td>&lt;rdkit.Chem.rdchem.Mol object at 0x7f9bb1640270&gt;</td>\n",
              "      <td>[13.690915423800892, 13.690915423800892, 1.008...</td>\n",
              "    </tr>\n",
              "  </tbody>\n",
              "</table>\n",
              "</div>\n",
              "      <button class=\"colab-df-convert\" onclick=\"convertToInteractive('df-f844f4ff-81d1-4489-b22b-5e9cc498453e')\"\n",
              "              title=\"Convert this dataframe to an interactive table.\"\n",
              "              style=\"display:none;\">\n",
              "        \n",
              "  <svg xmlns=\"http://www.w3.org/2000/svg\" height=\"24px\"viewBox=\"0 0 24 24\"\n",
              "       width=\"24px\">\n",
              "    <path d=\"M0 0h24v24H0V0z\" fill=\"none\"/>\n",
              "    <path d=\"M18.56 5.44l.94 2.06.94-2.06 2.06-.94-2.06-.94-.94-2.06-.94 2.06-2.06.94zm-11 1L8.5 8.5l.94-2.06 2.06-.94-2.06-.94L8.5 2.5l-.94 2.06-2.06.94zm10 10l.94 2.06.94-2.06 2.06-.94-2.06-.94-.94-2.06-.94 2.06-2.06.94z\"/><path d=\"M17.41 7.96l-1.37-1.37c-.4-.4-.92-.59-1.43-.59-.52 0-1.04.2-1.43.59L10.3 9.45l-7.72 7.72c-.78.78-.78 2.05 0 2.83L4 21.41c.39.39.9.59 1.41.59.51 0 1.02-.2 1.41-.59l7.78-7.78 2.81-2.81c.8-.78.8-2.07 0-2.86zM5.41 20L4 18.59l7.72-7.72 1.47 1.35L5.41 20z\"/>\n",
              "  </svg>\n",
              "      </button>\n",
              "      \n",
              "  <style>\n",
              "    .colab-df-container {\n",
              "      display:flex;\n",
              "      flex-wrap:wrap;\n",
              "      gap: 12px;\n",
              "    }\n",
              "\n",
              "    .colab-df-convert {\n",
              "      background-color: #E8F0FE;\n",
              "      border: none;\n",
              "      border-radius: 50%;\n",
              "      cursor: pointer;\n",
              "      display: none;\n",
              "      fill: #1967D2;\n",
              "      height: 32px;\n",
              "      padding: 0 0 0 0;\n",
              "      width: 32px;\n",
              "    }\n",
              "\n",
              "    .colab-df-convert:hover {\n",
              "      background-color: #E2EBFA;\n",
              "      box-shadow: 0px 1px 2px rgba(60, 64, 67, 0.3), 0px 1px 3px 1px rgba(60, 64, 67, 0.15);\n",
              "      fill: #174EA6;\n",
              "    }\n",
              "\n",
              "    [theme=dark] .colab-df-convert {\n",
              "      background-color: #3B4455;\n",
              "      fill: #D2E3FC;\n",
              "    }\n",
              "\n",
              "    [theme=dark] .colab-df-convert:hover {\n",
              "      background-color: #434B5C;\n",
              "      box-shadow: 0px 1px 3px 1px rgba(0, 0, 0, 0.15);\n",
              "      filter: drop-shadow(0px 1px 2px rgba(0, 0, 0, 0.3));\n",
              "      fill: #FFFFFF;\n",
              "    }\n",
              "  </style>\n",
              "\n",
              "      <script>\n",
              "        const buttonEl =\n",
              "          document.querySelector('#df-f844f4ff-81d1-4489-b22b-5e9cc498453e button.colab-df-convert');\n",
              "        buttonEl.style.display =\n",
              "          google.colab.kernel.accessAllowed ? 'block' : 'none';\n",
              "\n",
              "        async function convertToInteractive(key) {\n",
              "          const element = document.querySelector('#df-f844f4ff-81d1-4489-b22b-5e9cc498453e');\n",
              "          const dataTable =\n",
              "            await google.colab.kernel.invokeFunction('convertToInteractive',\n",
              "                                                     [key], {});\n",
              "          if (!dataTable) return;\n",
              "\n",
              "          const docLinkHtml = 'Like what you see? Visit the ' +\n",
              "            '<a target=\"_blank\" href=https://colab.research.google.com/notebooks/data_table.ipynb>data table notebook</a>'\n",
              "            + ' to learn more about interactive tables.';\n",
              "          element.innerHTML = '';\n",
              "          dataTable['output_type'] = 'display_data';\n",
              "          await google.colab.output.renderOutput(dataTable, element);\n",
              "          const docLink = document.createElement('div');\n",
              "          docLink.innerHTML = docLinkHtml;\n",
              "          element.appendChild(docLink);\n",
              "        }\n",
              "      </script>\n",
              "    </div>\n",
              "  </div>\n",
              "  "
            ]
          },
          "metadata": {},
          "execution_count": 30
        }
      ]
    },
    {
      "cell_type": "code",
      "source": [
        "valid.sample(1)"
      ],
      "metadata": {
        "colab": {
          "base_uri": "https://localhost:8080/",
          "height": 81
        },
        "id": "DSA1SpXI-dbJ",
        "outputId": "5f75af8c-ccfa-46b9-a615-239e0722152d"
      },
      "execution_count": 31,
      "outputs": [
        {
          "output_type": "execute_result",
          "data": {
            "text/plain": [
              "         Drug_ID                                             Drug     Y  \\\n",
              "59  CHEMBL253741  COc1cc(Nc2cc(Nc3c(Cl)ccc4c3OCO4)ncn2)cc(OC)c1OC  3.07   \n",
              "\n",
              "                                            Molecule  \\\n",
              "59  <rdkit.Chem.rdchem.Mol object at 0x7f9bb1664c10>   \n",
              "\n",
              "                                             descript  \n",
              "59  [8.70098030132835, 8.70098030132835, 0.0604891...  "
            ],
            "text/html": [
              "\n",
              "  <div id=\"df-a550163d-6185-48eb-a0fa-977757faace2\">\n",
              "    <div class=\"colab-df-container\">\n",
              "      <div>\n",
              "<style scoped>\n",
              "    .dataframe tbody tr th:only-of-type {\n",
              "        vertical-align: middle;\n",
              "    }\n",
              "\n",
              "    .dataframe tbody tr th {\n",
              "        vertical-align: top;\n",
              "    }\n",
              "\n",
              "    .dataframe thead th {\n",
              "        text-align: right;\n",
              "    }\n",
              "</style>\n",
              "<table border=\"1\" class=\"dataframe\">\n",
              "  <thead>\n",
              "    <tr style=\"text-align: right;\">\n",
              "      <th></th>\n",
              "      <th>Drug_ID</th>\n",
              "      <th>Drug</th>\n",
              "      <th>Y</th>\n",
              "      <th>Molecule</th>\n",
              "      <th>descript</th>\n",
              "    </tr>\n",
              "  </thead>\n",
              "  <tbody>\n",
              "    <tr>\n",
              "      <th>59</th>\n",
              "      <td>CHEMBL253741</td>\n",
              "      <td>COc1cc(Nc2cc(Nc3c(Cl)ccc4c3OCO4)ncn2)cc(OC)c1OC</td>\n",
              "      <td>3.07</td>\n",
              "      <td>&lt;rdkit.Chem.rdchem.Mol object at 0x7f9bb1664c10&gt;</td>\n",
              "      <td>[8.70098030132835, 8.70098030132835, 0.0604891...</td>\n",
              "    </tr>\n",
              "  </tbody>\n",
              "</table>\n",
              "</div>\n",
              "      <button class=\"colab-df-convert\" onclick=\"convertToInteractive('df-a550163d-6185-48eb-a0fa-977757faace2')\"\n",
              "              title=\"Convert this dataframe to an interactive table.\"\n",
              "              style=\"display:none;\">\n",
              "        \n",
              "  <svg xmlns=\"http://www.w3.org/2000/svg\" height=\"24px\"viewBox=\"0 0 24 24\"\n",
              "       width=\"24px\">\n",
              "    <path d=\"M0 0h24v24H0V0z\" fill=\"none\"/>\n",
              "    <path d=\"M18.56 5.44l.94 2.06.94-2.06 2.06-.94-2.06-.94-.94-2.06-.94 2.06-2.06.94zm-11 1L8.5 8.5l.94-2.06 2.06-.94-2.06-.94L8.5 2.5l-.94 2.06-2.06.94zm10 10l.94 2.06.94-2.06 2.06-.94-2.06-.94-.94-2.06-.94 2.06-2.06.94z\"/><path d=\"M17.41 7.96l-1.37-1.37c-.4-.4-.92-.59-1.43-.59-.52 0-1.04.2-1.43.59L10.3 9.45l-7.72 7.72c-.78.78-.78 2.05 0 2.83L4 21.41c.39.39.9.59 1.41.59.51 0 1.02-.2 1.41-.59l7.78-7.78 2.81-2.81c.8-.78.8-2.07 0-2.86zM5.41 20L4 18.59l7.72-7.72 1.47 1.35L5.41 20z\"/>\n",
              "  </svg>\n",
              "      </button>\n",
              "      \n",
              "  <style>\n",
              "    .colab-df-container {\n",
              "      display:flex;\n",
              "      flex-wrap:wrap;\n",
              "      gap: 12px;\n",
              "    }\n",
              "\n",
              "    .colab-df-convert {\n",
              "      background-color: #E8F0FE;\n",
              "      border: none;\n",
              "      border-radius: 50%;\n",
              "      cursor: pointer;\n",
              "      display: none;\n",
              "      fill: #1967D2;\n",
              "      height: 32px;\n",
              "      padding: 0 0 0 0;\n",
              "      width: 32px;\n",
              "    }\n",
              "\n",
              "    .colab-df-convert:hover {\n",
              "      background-color: #E2EBFA;\n",
              "      box-shadow: 0px 1px 2px rgba(60, 64, 67, 0.3), 0px 1px 3px 1px rgba(60, 64, 67, 0.15);\n",
              "      fill: #174EA6;\n",
              "    }\n",
              "\n",
              "    [theme=dark] .colab-df-convert {\n",
              "      background-color: #3B4455;\n",
              "      fill: #D2E3FC;\n",
              "    }\n",
              "\n",
              "    [theme=dark] .colab-df-convert:hover {\n",
              "      background-color: #434B5C;\n",
              "      box-shadow: 0px 1px 3px 1px rgba(0, 0, 0, 0.15);\n",
              "      filter: drop-shadow(0px 1px 2px rgba(0, 0, 0, 0.3));\n",
              "      fill: #FFFFFF;\n",
              "    }\n",
              "  </style>\n",
              "\n",
              "      <script>\n",
              "        const buttonEl =\n",
              "          document.querySelector('#df-a550163d-6185-48eb-a0fa-977757faace2 button.colab-df-convert');\n",
              "        buttonEl.style.display =\n",
              "          google.colab.kernel.accessAllowed ? 'block' : 'none';\n",
              "\n",
              "        async function convertToInteractive(key) {\n",
              "          const element = document.querySelector('#df-a550163d-6185-48eb-a0fa-977757faace2');\n",
              "          const dataTable =\n",
              "            await google.colab.kernel.invokeFunction('convertToInteractive',\n",
              "                                                     [key], {});\n",
              "          if (!dataTable) return;\n",
              "\n",
              "          const docLinkHtml = 'Like what you see? Visit the ' +\n",
              "            '<a target=\"_blank\" href=https://colab.research.google.com/notebooks/data_table.ipynb>data table notebook</a>'\n",
              "            + ' to learn more about interactive tables.';\n",
              "          element.innerHTML = '';\n",
              "          dataTable['output_type'] = 'display_data';\n",
              "          await google.colab.output.renderOutput(dataTable, element);\n",
              "          const docLink = document.createElement('div');\n",
              "          docLink.innerHTML = docLinkHtml;\n",
              "          element.appendChild(docLink);\n",
              "        }\n",
              "      </script>\n",
              "    </div>\n",
              "  </div>\n",
              "  "
            ]
          },
          "metadata": {},
          "execution_count": 31
        }
      ]
    },
    {
      "cell_type": "code",
      "source": [
        "# Write a function that separates out each descriptors into different columns\n",
        "def get_des(data_set):\n",
        "  for idx, mol in enumerate(data_set.Molecule):\n",
        "    all_des = Descriptors.CalcMolDescriptors(mol)\n",
        "    for des in des_keys:\n",
        "      data_set.loc[idx,des] = all_des[des]"
      ],
      "metadata": {
        "id": "_9lQeSh1-eth"
      },
      "execution_count": 32,
      "outputs": []
    },
    {
      "cell_type": "code",
      "source": [
        "get_des(train)\n",
        "get_des(test)\n",
        "get_des(valid)"
      ],
      "metadata": {
        "id": "XWM5jDez-yC0"
      },
      "execution_count": 33,
      "outputs": []
    },
    {
      "cell_type": "code",
      "source": [
        "train.sample(1)"
      ],
      "metadata": {
        "colab": {
          "base_uri": "https://localhost:8080/",
          "height": 209
        },
        "id": "iY0yLeIW-3or",
        "outputId": "c557c44e-f276-4b0c-b1f7-1c7dda4ecd03"
      },
      "execution_count": 34,
      "outputs": [
        {
          "output_type": "execute_result",
          "data": {
            "text/plain": [
              "            Drug_ID                                               Drug     Y  \\\n",
              "1686  CHEMBL2181928  C[C@@H]1CN(c2ccc3c(n2)NC(=O)CO3)[C@H](c2ccccc2...  2.75   \n",
              "\n",
              "                                              Molecule  \\\n",
              "1686  <rdkit.Chem.rdchem.Mol object at 0x7f9bb14ac9e0>   \n",
              "\n",
              "                                               descript  MaxAbsEStateIndex  \\\n",
              "1686  [12.37563662420781, 12.37563662420781, 0.25164...          12.375637   \n",
              "\n",
              "      MaxEStateIndex  MinAbsEStateIndex  MinEStateIndex       qed  ...  \\\n",
              "1686       12.375637           0.251647       -4.042691  0.918312  ...   \n",
              "\n",
              "      fr_sulfide  fr_sulfonamd  fr_sulfone  fr_term_acetylene  fr_tetrazole  \\\n",
              "1686         0.0           0.0         0.0                0.0           0.0   \n",
              "\n",
              "      fr_thiazole  fr_thiocyan  fr_thiophene  fr_unbrch_alkane  fr_urea  \n",
              "1686          0.0          0.0           0.0               0.0      0.0  \n",
              "\n",
              "[1 rows x 214 columns]"
            ],
            "text/html": [
              "\n",
              "  <div id=\"df-2c024b7e-3a2b-4e18-a206-2d4233b3d9be\">\n",
              "    <div class=\"colab-df-container\">\n",
              "      <div>\n",
              "<style scoped>\n",
              "    .dataframe tbody tr th:only-of-type {\n",
              "        vertical-align: middle;\n",
              "    }\n",
              "\n",
              "    .dataframe tbody tr th {\n",
              "        vertical-align: top;\n",
              "    }\n",
              "\n",
              "    .dataframe thead th {\n",
              "        text-align: right;\n",
              "    }\n",
              "</style>\n",
              "<table border=\"1\" class=\"dataframe\">\n",
              "  <thead>\n",
              "    <tr style=\"text-align: right;\">\n",
              "      <th></th>\n",
              "      <th>Drug_ID</th>\n",
              "      <th>Drug</th>\n",
              "      <th>Y</th>\n",
              "      <th>Molecule</th>\n",
              "      <th>descript</th>\n",
              "      <th>MaxAbsEStateIndex</th>\n",
              "      <th>MaxEStateIndex</th>\n",
              "      <th>MinAbsEStateIndex</th>\n",
              "      <th>MinEStateIndex</th>\n",
              "      <th>qed</th>\n",
              "      <th>...</th>\n",
              "      <th>fr_sulfide</th>\n",
              "      <th>fr_sulfonamd</th>\n",
              "      <th>fr_sulfone</th>\n",
              "      <th>fr_term_acetylene</th>\n",
              "      <th>fr_tetrazole</th>\n",
              "      <th>fr_thiazole</th>\n",
              "      <th>fr_thiocyan</th>\n",
              "      <th>fr_thiophene</th>\n",
              "      <th>fr_unbrch_alkane</th>\n",
              "      <th>fr_urea</th>\n",
              "    </tr>\n",
              "  </thead>\n",
              "  <tbody>\n",
              "    <tr>\n",
              "      <th>1686</th>\n",
              "      <td>CHEMBL2181928</td>\n",
              "      <td>C[C@@H]1CN(c2ccc3c(n2)NC(=O)CO3)[C@H](c2ccccc2...</td>\n",
              "      <td>2.75</td>\n",
              "      <td>&lt;rdkit.Chem.rdchem.Mol object at 0x7f9bb14ac9e0&gt;</td>\n",
              "      <td>[12.37563662420781, 12.37563662420781, 0.25164...</td>\n",
              "      <td>12.375637</td>\n",
              "      <td>12.375637</td>\n",
              "      <td>0.251647</td>\n",
              "      <td>-4.042691</td>\n",
              "      <td>0.918312</td>\n",
              "      <td>...</td>\n",
              "      <td>0.0</td>\n",
              "      <td>0.0</td>\n",
              "      <td>0.0</td>\n",
              "      <td>0.0</td>\n",
              "      <td>0.0</td>\n",
              "      <td>0.0</td>\n",
              "      <td>0.0</td>\n",
              "      <td>0.0</td>\n",
              "      <td>0.0</td>\n",
              "      <td>0.0</td>\n",
              "    </tr>\n",
              "  </tbody>\n",
              "</table>\n",
              "<p>1 rows × 214 columns</p>\n",
              "</div>\n",
              "      <button class=\"colab-df-convert\" onclick=\"convertToInteractive('df-2c024b7e-3a2b-4e18-a206-2d4233b3d9be')\"\n",
              "              title=\"Convert this dataframe to an interactive table.\"\n",
              "              style=\"display:none;\">\n",
              "        \n",
              "  <svg xmlns=\"http://www.w3.org/2000/svg\" height=\"24px\"viewBox=\"0 0 24 24\"\n",
              "       width=\"24px\">\n",
              "    <path d=\"M0 0h24v24H0V0z\" fill=\"none\"/>\n",
              "    <path d=\"M18.56 5.44l.94 2.06.94-2.06 2.06-.94-2.06-.94-.94-2.06-.94 2.06-2.06.94zm-11 1L8.5 8.5l.94-2.06 2.06-.94-2.06-.94L8.5 2.5l-.94 2.06-2.06.94zm10 10l.94 2.06.94-2.06 2.06-.94-2.06-.94-.94-2.06-.94 2.06-2.06.94z\"/><path d=\"M17.41 7.96l-1.37-1.37c-.4-.4-.92-.59-1.43-.59-.52 0-1.04.2-1.43.59L10.3 9.45l-7.72 7.72c-.78.78-.78 2.05 0 2.83L4 21.41c.39.39.9.59 1.41.59.51 0 1.02-.2 1.41-.59l7.78-7.78 2.81-2.81c.8-.78.8-2.07 0-2.86zM5.41 20L4 18.59l7.72-7.72 1.47 1.35L5.41 20z\"/>\n",
              "  </svg>\n",
              "      </button>\n",
              "      \n",
              "  <style>\n",
              "    .colab-df-container {\n",
              "      display:flex;\n",
              "      flex-wrap:wrap;\n",
              "      gap: 12px;\n",
              "    }\n",
              "\n",
              "    .colab-df-convert {\n",
              "      background-color: #E8F0FE;\n",
              "      border: none;\n",
              "      border-radius: 50%;\n",
              "      cursor: pointer;\n",
              "      display: none;\n",
              "      fill: #1967D2;\n",
              "      height: 32px;\n",
              "      padding: 0 0 0 0;\n",
              "      width: 32px;\n",
              "    }\n",
              "\n",
              "    .colab-df-convert:hover {\n",
              "      background-color: #E2EBFA;\n",
              "      box-shadow: 0px 1px 2px rgba(60, 64, 67, 0.3), 0px 1px 3px 1px rgba(60, 64, 67, 0.15);\n",
              "      fill: #174EA6;\n",
              "    }\n",
              "\n",
              "    [theme=dark] .colab-df-convert {\n",
              "      background-color: #3B4455;\n",
              "      fill: #D2E3FC;\n",
              "    }\n",
              "\n",
              "    [theme=dark] .colab-df-convert:hover {\n",
              "      background-color: #434B5C;\n",
              "      box-shadow: 0px 1px 3px 1px rgba(0, 0, 0, 0.15);\n",
              "      filter: drop-shadow(0px 1px 2px rgba(0, 0, 0, 0.3));\n",
              "      fill: #FFFFFF;\n",
              "    }\n",
              "  </style>\n",
              "\n",
              "      <script>\n",
              "        const buttonEl =\n",
              "          document.querySelector('#df-2c024b7e-3a2b-4e18-a206-2d4233b3d9be button.colab-df-convert');\n",
              "        buttonEl.style.display =\n",
              "          google.colab.kernel.accessAllowed ? 'block' : 'none';\n",
              "\n",
              "        async function convertToInteractive(key) {\n",
              "          const element = document.querySelector('#df-2c024b7e-3a2b-4e18-a206-2d4233b3d9be');\n",
              "          const dataTable =\n",
              "            await google.colab.kernel.invokeFunction('convertToInteractive',\n",
              "                                                     [key], {});\n",
              "          if (!dataTable) return;\n",
              "\n",
              "          const docLinkHtml = 'Like what you see? Visit the ' +\n",
              "            '<a target=\"_blank\" href=https://colab.research.google.com/notebooks/data_table.ipynb>data table notebook</a>'\n",
              "            + ' to learn more about interactive tables.';\n",
              "          element.innerHTML = '';\n",
              "          dataTable['output_type'] = 'display_data';\n",
              "          await google.colab.output.renderOutput(dataTable, element);\n",
              "          const docLink = document.createElement('div');\n",
              "          docLink.innerHTML = docLinkHtml;\n",
              "          element.appendChild(docLink);\n",
              "        }\n",
              "      </script>\n",
              "    </div>\n",
              "  </div>\n",
              "  "
            ]
          },
          "metadata": {},
          "execution_count": 34
        }
      ]
    },
    {
      "cell_type": "code",
      "source": [
        "# A function to drop all the NULL values\n",
        "# NOTE: RUN THIS ONLY ONCE! \n",
        "def drop_nulls(df):\n",
        "    null_idxs = df[df.isnull().any(axis=1)].index.tolist()\n",
        "    for idx in null_idxs:\n",
        "        print('Dropping datapoints with NULL data')\n",
        "        df = df.drop([idx])\n",
        "        print(f'Index {idx} was dropped')\n",
        "\n",
        "    return df"
      ],
      "metadata": {
        "id": "cTeecc62-9tA"
      },
      "execution_count": 35,
      "outputs": []
    },
    {
      "cell_type": "code",
      "source": [
        "train = drop_nulls(train)\n",
        "test = drop_nulls(test)\n",
        "valid = drop_nulls(valid)"
      ],
      "metadata": {
        "colab": {
          "base_uri": "https://localhost:8080/"
        },
        "id": "7SIk-7Kg_Q3M",
        "outputId": "5ab3f61a-dd30-46f7-f6d5-b2bb4a7438fa"
      },
      "execution_count": 36,
      "outputs": [
        {
          "output_type": "stream",
          "name": "stdout",
          "text": [
            "Dropping datapoints with NULL data\n",
            "Index 1070 was dropped\n"
          ]
        }
      ]
    },
    {
      "cell_type": "code",
      "source": [
        "train.shape"
      ],
      "metadata": {
        "colab": {
          "base_uri": "https://localhost:8080/"
        },
        "id": "tHbYa22e_YqF",
        "outputId": "10f01968-17e1-4065-cbf1-ef4e8d6c1d6c"
      },
      "execution_count": 37,
      "outputs": [
        {
          "output_type": "execute_result",
          "data": {
            "text/plain": [
              "(2939, 214)"
            ]
          },
          "metadata": {},
          "execution_count": 37
        }
      ]
    },
    {
      "cell_type": "code",
      "source": [
        "valid[valid.isnull().any(axis=1)]"
      ],
      "metadata": {
        "colab": {
          "base_uri": "https://localhost:8080/",
          "height": 143
        },
        "id": "9I1ykLKx_fEm",
        "outputId": "0c621ba5-78c5-4263-f905-c1e257d0b117"
      },
      "execution_count": 38,
      "outputs": [
        {
          "output_type": "execute_result",
          "data": {
            "text/plain": [
              "Empty DataFrame\n",
              "Columns: [Drug_ID, Drug, Y, Molecule, descript, MaxAbsEStateIndex, MaxEStateIndex, MinAbsEStateIndex, MinEStateIndex, qed, MolWt, HeavyAtomMolWt, ExactMolWt, NumValenceElectrons, NumRadicalElectrons, MaxPartialCharge, MinPartialCharge, MaxAbsPartialCharge, MinAbsPartialCharge, FpDensityMorgan1, FpDensityMorgan2, FpDensityMorgan3, BCUT2D_MWHI, BCUT2D_MWLOW, BCUT2D_CHGHI, BCUT2D_CHGLO, BCUT2D_LOGPHI, BCUT2D_LOGPLOW, BCUT2D_MRHI, BCUT2D_MRLOW, AvgIpc, BalabanJ, BertzCT, Chi0, Chi0n, Chi0v, Chi1, Chi1n, Chi1v, Chi2n, Chi2v, Chi3n, Chi3v, Chi4n, Chi4v, HallKierAlpha, Ipc, Kappa1, Kappa2, Kappa3, LabuteASA, PEOE_VSA1, PEOE_VSA10, PEOE_VSA11, PEOE_VSA12, PEOE_VSA13, PEOE_VSA14, PEOE_VSA2, PEOE_VSA3, PEOE_VSA4, PEOE_VSA5, PEOE_VSA6, PEOE_VSA7, PEOE_VSA8, PEOE_VSA9, SMR_VSA1, SMR_VSA10, SMR_VSA2, SMR_VSA3, SMR_VSA4, SMR_VSA5, SMR_VSA6, SMR_VSA7, SMR_VSA8, SMR_VSA9, SlogP_VSA1, SlogP_VSA10, SlogP_VSA11, SlogP_VSA12, SlogP_VSA2, SlogP_VSA3, SlogP_VSA4, SlogP_VSA5, SlogP_VSA6, SlogP_VSA7, SlogP_VSA8, SlogP_VSA9, TPSA, EState_VSA1, EState_VSA10, EState_VSA11, EState_VSA2, EState_VSA3, EState_VSA4, EState_VSA5, EState_VSA6, EState_VSA7, EState_VSA8, EState_VSA9, VSA_EState1, ...]\n",
              "Index: []\n",
              "\n",
              "[0 rows x 214 columns]"
            ],
            "text/html": [
              "\n",
              "  <div id=\"df-a49b303d-91fb-4c90-9f93-62cf94c31041\">\n",
              "    <div class=\"colab-df-container\">\n",
              "      <div>\n",
              "<style scoped>\n",
              "    .dataframe tbody tr th:only-of-type {\n",
              "        vertical-align: middle;\n",
              "    }\n",
              "\n",
              "    .dataframe tbody tr th {\n",
              "        vertical-align: top;\n",
              "    }\n",
              "\n",
              "    .dataframe thead th {\n",
              "        text-align: right;\n",
              "    }\n",
              "</style>\n",
              "<table border=\"1\" class=\"dataframe\">\n",
              "  <thead>\n",
              "    <tr style=\"text-align: right;\">\n",
              "      <th></th>\n",
              "      <th>Drug_ID</th>\n",
              "      <th>Drug</th>\n",
              "      <th>Y</th>\n",
              "      <th>Molecule</th>\n",
              "      <th>descript</th>\n",
              "      <th>MaxAbsEStateIndex</th>\n",
              "      <th>MaxEStateIndex</th>\n",
              "      <th>MinAbsEStateIndex</th>\n",
              "      <th>MinEStateIndex</th>\n",
              "      <th>qed</th>\n",
              "      <th>...</th>\n",
              "      <th>fr_sulfide</th>\n",
              "      <th>fr_sulfonamd</th>\n",
              "      <th>fr_sulfone</th>\n",
              "      <th>fr_term_acetylene</th>\n",
              "      <th>fr_tetrazole</th>\n",
              "      <th>fr_thiazole</th>\n",
              "      <th>fr_thiocyan</th>\n",
              "      <th>fr_thiophene</th>\n",
              "      <th>fr_unbrch_alkane</th>\n",
              "      <th>fr_urea</th>\n",
              "    </tr>\n",
              "  </thead>\n",
              "  <tbody>\n",
              "  </tbody>\n",
              "</table>\n",
              "<p>0 rows × 214 columns</p>\n",
              "</div>\n",
              "      <button class=\"colab-df-convert\" onclick=\"convertToInteractive('df-a49b303d-91fb-4c90-9f93-62cf94c31041')\"\n",
              "              title=\"Convert this dataframe to an interactive table.\"\n",
              "              style=\"display:none;\">\n",
              "        \n",
              "  <svg xmlns=\"http://www.w3.org/2000/svg\" height=\"24px\"viewBox=\"0 0 24 24\"\n",
              "       width=\"24px\">\n",
              "    <path d=\"M0 0h24v24H0V0z\" fill=\"none\"/>\n",
              "    <path d=\"M18.56 5.44l.94 2.06.94-2.06 2.06-.94-2.06-.94-.94-2.06-.94 2.06-2.06.94zm-11 1L8.5 8.5l.94-2.06 2.06-.94-2.06-.94L8.5 2.5l-.94 2.06-2.06.94zm10 10l.94 2.06.94-2.06 2.06-.94-2.06-.94-.94-2.06-.94 2.06-2.06.94z\"/><path d=\"M17.41 7.96l-1.37-1.37c-.4-.4-.92-.59-1.43-.59-.52 0-1.04.2-1.43.59L10.3 9.45l-7.72 7.72c-.78.78-.78 2.05 0 2.83L4 21.41c.39.39.9.59 1.41.59.51 0 1.02-.2 1.41-.59l7.78-7.78 2.81-2.81c.8-.78.8-2.07 0-2.86zM5.41 20L4 18.59l7.72-7.72 1.47 1.35L5.41 20z\"/>\n",
              "  </svg>\n",
              "      </button>\n",
              "      \n",
              "  <style>\n",
              "    .colab-df-container {\n",
              "      display:flex;\n",
              "      flex-wrap:wrap;\n",
              "      gap: 12px;\n",
              "    }\n",
              "\n",
              "    .colab-df-convert {\n",
              "      background-color: #E8F0FE;\n",
              "      border: none;\n",
              "      border-radius: 50%;\n",
              "      cursor: pointer;\n",
              "      display: none;\n",
              "      fill: #1967D2;\n",
              "      height: 32px;\n",
              "      padding: 0 0 0 0;\n",
              "      width: 32px;\n",
              "    }\n",
              "\n",
              "    .colab-df-convert:hover {\n",
              "      background-color: #E2EBFA;\n",
              "      box-shadow: 0px 1px 2px rgba(60, 64, 67, 0.3), 0px 1px 3px 1px rgba(60, 64, 67, 0.15);\n",
              "      fill: #174EA6;\n",
              "    }\n",
              "\n",
              "    [theme=dark] .colab-df-convert {\n",
              "      background-color: #3B4455;\n",
              "      fill: #D2E3FC;\n",
              "    }\n",
              "\n",
              "    [theme=dark] .colab-df-convert:hover {\n",
              "      background-color: #434B5C;\n",
              "      box-shadow: 0px 1px 3px 1px rgba(0, 0, 0, 0.15);\n",
              "      filter: drop-shadow(0px 1px 2px rgba(0, 0, 0, 0.3));\n",
              "      fill: #FFFFFF;\n",
              "    }\n",
              "  </style>\n",
              "\n",
              "      <script>\n",
              "        const buttonEl =\n",
              "          document.querySelector('#df-a49b303d-91fb-4c90-9f93-62cf94c31041 button.colab-df-convert');\n",
              "        buttonEl.style.display =\n",
              "          google.colab.kernel.accessAllowed ? 'block' : 'none';\n",
              "\n",
              "        async function convertToInteractive(key) {\n",
              "          const element = document.querySelector('#df-a49b303d-91fb-4c90-9f93-62cf94c31041');\n",
              "          const dataTable =\n",
              "            await google.colab.kernel.invokeFunction('convertToInteractive',\n",
              "                                                     [key], {});\n",
              "          if (!dataTable) return;\n",
              "\n",
              "          const docLinkHtml = 'Like what you see? Visit the ' +\n",
              "            '<a target=\"_blank\" href=https://colab.research.google.com/notebooks/data_table.ipynb>data table notebook</a>'\n",
              "            + ' to learn more about interactive tables.';\n",
              "          element.innerHTML = '';\n",
              "          dataTable['output_type'] = 'display_data';\n",
              "          await google.colab.output.renderOutput(dataTable, element);\n",
              "          const docLink = document.createElement('div');\n",
              "          docLink.innerHTML = docLinkHtml;\n",
              "          element.appendChild(docLink);\n",
              "        }\n",
              "      </script>\n",
              "    </div>\n",
              "  </div>\n",
              "  "
            ]
          },
          "metadata": {},
          "execution_count": 38
        }
      ]
    },
    {
      "cell_type": "code",
      "source": [
        "# Now let's set the target values for our data\n",
        "y_train = train.Y\n",
        "y_test = test.Y\n",
        "y_valid = valid.Y"
      ],
      "metadata": {
        "id": "FLVt35WT_hYw"
      },
      "execution_count": 39,
      "outputs": []
    },
    {
      "cell_type": "code",
      "source": [
        "print(y_valid.shape)\n",
        "print(valid.shape)"
      ],
      "metadata": {
        "colab": {
          "base_uri": "https://localhost:8080/"
        },
        "id": "fLih3fps_vrz",
        "outputId": "75120c90-235e-4f71-9502-d8c14f06d0c3"
      },
      "execution_count": 40,
      "outputs": [
        {
          "output_type": "stream",
          "name": "stdout",
          "text": [
            "(420,)\n",
            "(420, 214)\n"
          ]
        }
      ]
    },
    {
      "cell_type": "code",
      "source": [
        "# Let's build our LinearRegression model! "
      ],
      "metadata": {
        "id": "fPJW_qzW_zZu"
      },
      "execution_count": 41,
      "outputs": []
    },
    {
      "cell_type": "code",
      "source": [
        "lr = LinearRegression(copy_X=True)"
      ],
      "metadata": {
        "id": "2CPurhBqAKkT"
      },
      "execution_count": 43,
      "outputs": []
    },
    {
      "cell_type": "code",
      "source": [
        "lr.fit(train['descript'].values.tolist(), y_train.values.tolist())"
      ],
      "metadata": {
        "colab": {
          "base_uri": "https://localhost:8080/",
          "height": 75
        },
        "id": "1yI_52dhM2fi",
        "outputId": "a11c3807-335d-4d2e-de48-0ad857197d1a"
      },
      "execution_count": 44,
      "outputs": [
        {
          "output_type": "execute_result",
          "data": {
            "text/plain": [
              "LinearRegression()"
            ],
            "text/html": [
              "<style>#sk-container-id-1 {color: black;background-color: white;}#sk-container-id-1 pre{padding: 0;}#sk-container-id-1 div.sk-toggleable {background-color: white;}#sk-container-id-1 label.sk-toggleable__label {cursor: pointer;display: block;width: 100%;margin-bottom: 0;padding: 0.3em;box-sizing: border-box;text-align: center;}#sk-container-id-1 label.sk-toggleable__label-arrow:before {content: \"▸\";float: left;margin-right: 0.25em;color: #696969;}#sk-container-id-1 label.sk-toggleable__label-arrow:hover:before {color: black;}#sk-container-id-1 div.sk-estimator:hover label.sk-toggleable__label-arrow:before {color: black;}#sk-container-id-1 div.sk-toggleable__content {max-height: 0;max-width: 0;overflow: hidden;text-align: left;background-color: #f0f8ff;}#sk-container-id-1 div.sk-toggleable__content pre {margin: 0.2em;color: black;border-radius: 0.25em;background-color: #f0f8ff;}#sk-container-id-1 input.sk-toggleable__control:checked~div.sk-toggleable__content {max-height: 200px;max-width: 100%;overflow: auto;}#sk-container-id-1 input.sk-toggleable__control:checked~label.sk-toggleable__label-arrow:before {content: \"▾\";}#sk-container-id-1 div.sk-estimator input.sk-toggleable__control:checked~label.sk-toggleable__label {background-color: #d4ebff;}#sk-container-id-1 div.sk-label input.sk-toggleable__control:checked~label.sk-toggleable__label {background-color: #d4ebff;}#sk-container-id-1 input.sk-hidden--visually {border: 0;clip: rect(1px 1px 1px 1px);clip: rect(1px, 1px, 1px, 1px);height: 1px;margin: -1px;overflow: hidden;padding: 0;position: absolute;width: 1px;}#sk-container-id-1 div.sk-estimator {font-family: monospace;background-color: #f0f8ff;border: 1px dotted black;border-radius: 0.25em;box-sizing: border-box;margin-bottom: 0.5em;}#sk-container-id-1 div.sk-estimator:hover {background-color: #d4ebff;}#sk-container-id-1 div.sk-parallel-item::after {content: \"\";width: 100%;border-bottom: 1px solid gray;flex-grow: 1;}#sk-container-id-1 div.sk-label:hover label.sk-toggleable__label {background-color: #d4ebff;}#sk-container-id-1 div.sk-serial::before {content: \"\";position: absolute;border-left: 1px solid gray;box-sizing: border-box;top: 0;bottom: 0;left: 50%;z-index: 0;}#sk-container-id-1 div.sk-serial {display: flex;flex-direction: column;align-items: center;background-color: white;padding-right: 0.2em;padding-left: 0.2em;position: relative;}#sk-container-id-1 div.sk-item {position: relative;z-index: 1;}#sk-container-id-1 div.sk-parallel {display: flex;align-items: stretch;justify-content: center;background-color: white;position: relative;}#sk-container-id-1 div.sk-item::before, #sk-container-id-1 div.sk-parallel-item::before {content: \"\";position: absolute;border-left: 1px solid gray;box-sizing: border-box;top: 0;bottom: 0;left: 50%;z-index: -1;}#sk-container-id-1 div.sk-parallel-item {display: flex;flex-direction: column;z-index: 1;position: relative;background-color: white;}#sk-container-id-1 div.sk-parallel-item:first-child::after {align-self: flex-end;width: 50%;}#sk-container-id-1 div.sk-parallel-item:last-child::after {align-self: flex-start;width: 50%;}#sk-container-id-1 div.sk-parallel-item:only-child::after {width: 0;}#sk-container-id-1 div.sk-dashed-wrapped {border: 1px dashed gray;margin: 0 0.4em 0.5em 0.4em;box-sizing: border-box;padding-bottom: 0.4em;background-color: white;}#sk-container-id-1 div.sk-label label {font-family: monospace;font-weight: bold;display: inline-block;line-height: 1.2em;}#sk-container-id-1 div.sk-label-container {text-align: center;}#sk-container-id-1 div.sk-container {/* jupyter's `normalize.less` sets `[hidden] { display: none; }` but bootstrap.min.css set `[hidden] { display: none !important; }` so we also need the `!important` here to be able to override the default hidden behavior on the sphinx rendered scikit-learn.org. See: https://github.com/scikit-learn/scikit-learn/issues/21755 */display: inline-block !important;position: relative;}#sk-container-id-1 div.sk-text-repr-fallback {display: none;}</style><div id=\"sk-container-id-1\" class=\"sk-top-container\"><div class=\"sk-text-repr-fallback\"><pre>LinearRegression()</pre><b>In a Jupyter environment, please rerun this cell to show the HTML representation or trust the notebook. <br />On GitHub, the HTML representation is unable to render, please try loading this page with nbviewer.org.</b></div><div class=\"sk-container\" hidden><div class=\"sk-item\"><div class=\"sk-estimator sk-toggleable\"><input class=\"sk-toggleable__control sk-hidden--visually\" id=\"sk-estimator-id-1\" type=\"checkbox\" checked><label for=\"sk-estimator-id-1\" class=\"sk-toggleable__label sk-toggleable__label-arrow\">LinearRegression</label><div class=\"sk-toggleable__content\"><pre>LinearRegression()</pre></div></div></div></div></div>"
            ]
          },
          "metadata": {},
          "execution_count": 44
        }
      ]
    },
    {
      "cell_type": "code",
      "source": [
        "pred_test = lr.predict(test['descript'].values.tolist())"
      ],
      "metadata": {
        "id": "piBN931_Nc42"
      },
      "execution_count": 45,
      "outputs": []
    },
    {
      "cell_type": "code",
      "source": [
        "pred_test"
      ],
      "metadata": {
        "colab": {
          "base_uri": "https://localhost:8080/"
        },
        "id": "sxuZ4c1vNriT",
        "outputId": "37ebda7d-3388-4d71-98e2-caa5304b6a5a"
      },
      "execution_count": 46,
      "outputs": [
        {
          "output_type": "execute_result",
          "data": {
            "text/plain": [
              "array([ 2.59587920e+00,  2.19333184e+00,  1.71852720e+00,  1.44295204e+00,\n",
              "        1.77989608e+00,  3.11013127e+00,  1.10875251e-01,  1.23470390e+00,\n",
              "        1.81550384e+00,  2.23653186e+00,  1.88197904e+00,  7.20693709e-01,\n",
              "        2.49866605e+00,  5.45851173e-01,  1.27173102e+00,  2.01084459e+00,\n",
              "        1.22933883e+00,  2.83375597e+00,  2.95271045e+00,  2.17099679e+00,\n",
              "        1.90127385e+00,  1.84581840e+00, -1.56897305e-01,  1.05840063e+00,\n",
              "        1.16973561e+00,  2.35003345e+00,  3.20274396e+00, -6.52695876e-02,\n",
              "        1.56675804e+00,  2.48028648e+00,  3.43066788e+00,  2.94907934e+00,\n",
              "        2.38309121e+00,  3.29119480e+00,  1.87715733e+00,  2.52582085e+00,\n",
              "        3.25030720e+00,  1.03133810e+00,  2.07940567e+00,  2.39610255e+00,\n",
              "        7.18513745e-02,  3.04049671e+00,  2.11112094e+00,  4.83145015e+00,\n",
              "        4.58165290e-01,  2.45464826e+00,  2.97809172e+00,  2.14964831e+00,\n",
              "        2.94260132e+00,  2.96879208e+00,  2.55229604e+00,  2.73043852e+00,\n",
              "        2.35262297e+00,  1.85051835e+00,  2.89733076e+00,  2.01910389e+00,\n",
              "        2.96467203e+00, -2.82474874e-01,  3.00701398e+00,  1.82415307e+00,\n",
              "        1.65940297e+00,  6.23097660e-01,  1.96377266e+00,  3.01085466e+00,\n",
              "        2.39565337e+00,  7.60010602e-01,  2.94015594e+00,  3.33237326e+00,\n",
              "        3.04700315e+00,  2.31742275e+00,  2.07072842e+00,  3.17702872e+00,\n",
              "        3.41542852e+00,  2.05188552e+00,  1.47827918e+00,  1.46220380e+00,\n",
              "        3.52745032e+00,  1.86546725e+00,  2.32960904e+00,  3.19008780e+00,\n",
              "        3.29110921e+00,  1.45424283e+00,  6.68632390e-01,  2.74432624e+00,\n",
              "        2.72796667e+00,  1.68264449e+00,  3.10038018e+00,  2.27847469e+00,\n",
              "        1.62109327e+00,  2.06297696e+00,  1.34079474e-02,  2.64380372e+00,\n",
              "        2.38784111e+00,  3.37817586e+00,  2.62497556e+00,  6.71814842e-01,\n",
              "        2.13970423e+00,  2.25933290e+00,  1.15501905e+00,  8.07505252e-01,\n",
              "        2.60190250e-01,  2.97516644e+00,  2.62274325e+00,  2.92944205e+00,\n",
              "        1.90491355e+00,  3.05234254e+00,  1.87259686e+00,  2.43474949e+00,\n",
              "        2.42451096e+00,  3.31295178e+00,  1.55635464e+00,  2.68552780e+00,\n",
              "        1.50713742e+00,  1.79274285e+00,  2.54808581e+00,  8.87269618e-01,\n",
              "        2.75230992e+00,  1.54453623e+00,  2.42860234e+00,  1.55095661e+00,\n",
              "        1.11489403e+00,  3.76365292e+00,  2.31968677e+00,  1.33772290e+00,\n",
              "        2.74914849e+00,  2.36075556e+00,  2.76126218e+00,  2.92409527e+00,\n",
              "        3.61207128e+00,  2.23329187e+00,  2.70192284e+00,  2.27243436e+00,\n",
              "        3.45789230e+00,  2.01263058e+00,  1.04204714e+00,  2.22982955e+00,\n",
              "        2.26650715e+00,  2.88343728e+00,  1.88426757e+00,  2.45215285e+00,\n",
              "        2.47215307e+00,  8.70354773e-01,  2.41792792e+00,  1.27015650e+00,\n",
              "        2.95398510e+00,  2.79241921e-01,  1.79398835e+00,  1.68908096e+00,\n",
              "        2.72846747e+00,  2.87574065e+00,  2.66609228e+00,  2.14614169e+00,\n",
              "        2.33965481e+00,  2.55282748e+00,  3.07602060e+00,  2.03276611e+00,\n",
              "        3.01243973e+00,  1.73660857e+00,  6.61098720e-01,  3.07039207e+00,\n",
              "        1.89588934e+00,  3.15675542e+00,  2.26717878e+00,  2.36588061e+00,\n",
              "        3.14984858e+00,  2.35403753e+00,  1.29738867e+00,  1.14887667e+00,\n",
              "        3.72826445e+00,  3.99423945e+00,  1.97147858e+00,  2.66790784e+00,\n",
              "        3.09295178e+00,  1.74362338e+00,  1.72309117e+00,  1.59901349e+00,\n",
              "        2.13739169e+00,  2.01918972e+00,  2.42033065e+00,  3.26200152e+00,\n",
              "        2.61463857e+00,  2.96602786e+00,  2.04231560e+00,  3.30741529e+00,\n",
              "        2.43452990e+00,  2.65776241e+00,  1.23079741e+00,  1.99182546e+00,\n",
              "        3.06607807e+00,  7.54787804e-01,  1.17577483e+00,  1.50901205e+00,\n",
              "        3.03913576e+00,  2.10199130e+00,  2.16891754e+00,  1.32995165e+00,\n",
              "        2.22407980e+00,  3.19657628e+00,  8.46490862e-01,  2.33468831e+00,\n",
              "        4.43234599e+00,  2.17759741e+00,  1.92205823e+00,  1.84257877e+00,\n",
              "        1.34831727e+00,  3.08156049e+00,  3.15697491e+00,  2.20728934e+00,\n",
              "        2.40540612e+00,  3.16368020e+00,  3.10934711e+00,  1.77552974e+00,\n",
              "        2.36228377e+00,  1.68267119e+00,  1.06380952e+00,  3.47418583e+00,\n",
              "       -3.11238645e-01,  1.75412715e+00,  3.15009797e+00,  2.71337426e+00,\n",
              "        2.62325442e+00,  1.73060477e+00,  2.68031327e+00,  2.13920510e+00,\n",
              "        2.36629474e+00,  2.98784483e+00,  2.57283700e+00,  2.11249316e+00,\n",
              "        2.30073059e+00,  2.89958275e+00,  1.38152611e+00,  3.39609301e+00,\n",
              "        2.57662082e+00,  3.31976764e+00,  1.25912297e+00,  2.27174866e+00,\n",
              "        3.00511432e+00,  2.13902295e+00, -6.09951733e-01,  2.76877177e+00,\n",
              "        2.42629576e+00,  2.24088955e+00,  6.83287742e-01,  2.68059170e+00,\n",
              "        1.29139292e+00,  1.97713447e+00,  1.14681724e+00,  2.10369933e+00,\n",
              "        2.40391267e+00,  1.54450190e+00,  1.52799958e+00,  2.77530265e+00,\n",
              "        2.57069242e+00,  2.64221025e+00,  2.22971738e+00,  2.33749134e+00,\n",
              "        1.88689959e+00,  1.81986571e+00,  3.11157608e+00,  2.39814604e+00,\n",
              "        1.82052529e+00,  2.29782093e+00,  1.43036625e+00,  8.94279243e-01,\n",
              "        3.00865805e+00,  1.71956334e+00,  1.87484086e+00,  2.85954297e+00,\n",
              "        4.88381864e-01,  9.00703432e-01,  1.42607562e+00,  2.85363645e+00,\n",
              "        2.68454921e+00,  2.54301083e+00,  2.96905768e+00,  2.54392684e+00,\n",
              "        1.70040935e+00,  3.16536653e+00,  1.27586916e+00,  2.96298707e+00,\n",
              "       -4.39365385e-01,  2.99499017e+00,  2.16714132e+00,  2.62102401e+00,\n",
              "        2.65610302e+00,  1.45355189e+00,  2.52849591e+00,  1.03005779e+00,\n",
              "        2.78689997e+00,  2.84994406e+00,  2.52134872e+00,  1.96411121e+00,\n",
              "        1.71659100e+00,  1.36322940e+00,  2.87323606e+00,  2.97468651e+00,\n",
              "        5.37567319e-01,  3.26806748e+00,  3.84515166e+00, -4.77056485e-02,\n",
              "        3.94574177e+00,  2.99580205e+00,  2.32240069e+00,  2.82618326e+00,\n",
              "        2.22065127e+00,  3.77922179e-01,  8.26490046e-01,  1.69908834e+00,\n",
              "        2.46633017e+00,  1.90855479e+00,  1.96061146e+00,  2.60136712e+00,\n",
              "        2.60273093e+00,  1.28291309e+00,  1.81547439e+00,  9.10594864e-01,\n",
              "        1.17147565e+00,  3.15067375e+00,  2.27895546e+00,  1.41351974e+00,\n",
              "        7.92585017e-01, -1.67103170e-01,  1.39286035e+00, -6.70081971e-01,\n",
              "        1.81600583e+00,  2.51763141e+00,  2.71233416e+00,  3.14258731e+00,\n",
              "        2.65952218e+00, -1.02152252e+00,  2.42297924e+00,  3.11804325e+00,\n",
              "        1.85787799e-01,  2.16994345e+00,  1.35124362e+00,  2.50189150e+00,\n",
              "        1.85461915e+00,  3.50056976e+00,  5.37374038e-02,  1.87675137e+00,\n",
              "        2.34389055e+00,  2.30038750e+00,  2.24216390e+00,  8.95712586e-01,\n",
              "        2.04821968e+00,  1.76695717e+00,  2.65232891e+00,  2.25252068e+00,\n",
              "        3.38838613e+00,  2.57661236e+00,  2.82529080e+00,  3.14439190e+00,\n",
              "        2.24351120e+00,  2.25309181e+00,  4.08129537e+00,  2.53002203e+00,\n",
              "        2.95044083e+00,  2.29540193e+00,  1.49235833e+00,  1.91129029e+00,\n",
              "        2.53236497e+00,  2.68756187e+00,  2.00903298e-01,  3.80066467e+00,\n",
              "        2.02491915e+00,  3.01215732e+00,  1.98910743e+00,  1.78209889e+00,\n",
              "        1.87553686e+00,  5.70228936e-01,  3.36232162e+00,  2.32965350e+00,\n",
              "        2.94361896e+00,  2.30073059e+00,  2.20286036e+00,  7.18513745e-02,\n",
              "        1.44139189e+00,  3.03933752e+00,  2.64658515e+00,  2.56252456e+00,\n",
              "        3.51683881e+00,  3.07039207e+00,  1.33691895e+00,  3.05520308e+00,\n",
              "        1.98872853e+00,  2.10429168e+00,  1.45585227e+00,  2.58812797e+00,\n",
              "        1.54639188e+00,  2.01855028e+00,  2.73157180e+00,  2.33555472e+00,\n",
              "        1.36684475e+00,  3.13428378e+00,  1.29426468e+00,  8.16307219e-01,\n",
              "        2.56110895e+00,  2.14890713e+00, -1.67965710e-03,  1.81293173e-01,\n",
              "        1.63591445e+00,  2.57756984e+00,  3.31181157e+00,  2.09206368e+00,\n",
              "        2.47299159e+00,  2.43870199e+00,  2.60092379e-01,  2.90200913e+00,\n",
              "        3.33964846e+00,  1.98978222e+00,  2.25195038e+00,  4.68339956e+00,\n",
              "       -1.45518184e+00,  1.61231929e+00,  3.09370840e+00,  2.87319988e+00,\n",
              "        1.43654333e+00,  3.05381072e+00,  2.23203051e+00,  2.24104724e+00,\n",
              "        1.42357087e+00,  2.04560316e+00,  3.26162064e+00,  2.80386889e+00,\n",
              "        3.55413091e+00,  2.70295298e+00,  1.99756181e+00,  2.53809536e+00,\n",
              "        2.27852959e+00,  1.14906568e+00,  1.79458213e+00,  2.15860093e+00,\n",
              "        1.46049053e+00, -2.00038296e+00,  2.84590161e+00,  4.80932238e-01,\n",
              "        3.37690604e+00,  1.38776314e+00,  2.54898155e+00,  1.11489403e+00,\n",
              "        1.96412051e+00, -8.15975487e-03,  3.42864001e+00, -3.04766393e+00,\n",
              "        2.04261172e+00,  2.92128885e+00, -1.08790992e-01,  1.35708964e+00,\n",
              "        3.14208734e+00,  9.60736157e-01,  2.41507721e+00,  2.80169070e+00,\n",
              "        2.22662890e+00,  2.25686115e+00,  4.25727299e+00,  1.69651330e+00,\n",
              "        2.17400515e+00,  2.06625617e+00,  3.08827651e+00,  3.47276366e+00,\n",
              "        9.74123599e-01,  2.59865189e+00,  1.50564496e+00,  2.39039099e+00,\n",
              "        3.74344796e+00,  1.82735992e+00,  9.33158936e-01,  2.78428292e+00,\n",
              "        3.13154614e+00,  1.89372885e+00,  1.93979562e+00,  2.04986012e+00,\n",
              "        1.70345307e+00,  1.74735773e+00,  3.11354649e+00,  2.84226215e+00,\n",
              "        1.40911567e+00,  1.59838665e+00,  2.96074403e+00,  3.47984755e+00,\n",
              "        1.15092409e+00,  3.04928196e+00,  4.36702907e+00,  1.61236060e+00,\n",
              "        2.31442511e+00,  6.09226586e-01,  2.44541013e+00,  2.12470687e+00,\n",
              "        1.94693196e+00,  2.62894845e+00,  4.03305368e+00,  1.39375615e+00,\n",
              "        3.37081897e+00,  2.15593898e+00,  2.52779476e+00,  2.48722851e+00,\n",
              "        3.16377938e+00,  1.71718061e+00,  2.94994521e+00,  2.04419005e+00,\n",
              "        3.31745064e+00, -9.45668696e-01,  1.25202775e+00,  2.42249860e+00,\n",
              "        1.07949841e+00,  2.75567854e+00,  2.92889524e+00,  3.40854311e+00,\n",
              "        3.11962259e+00,  2.66588712e+00,  3.05652213e+00,  1.72747529e+00,\n",
              "        2.69074524e+00,  3.07716954e+00,  3.25223217e+00,  1.12595117e+00,\n",
              "        1.58256710e+00,  3.03763831e+00,  2.64172065e+00,  9.87436416e-01,\n",
              "        3.77117789e+00,  1.55362192e+00,  3.22114083e+00,  2.22565236e-01,\n",
              "        6.51303651e-01,  2.57758105e+00,  2.95650113e+00,  1.81155950e+00,\n",
              "        2.33025289e+00,  1.20033802e-01,  2.60239089e+00,  3.13604784e+00,\n",
              "        2.15460789e+00,  4.05636406e+00,  2.75458801e+00,  2.23700679e+00,\n",
              "        1.68900693e+00,  3.32575691e+00,  2.50313151e+00,  2.89016044e+00,\n",
              "        2.17518819e+00,  1.91544962e+00,  2.29875577e+00,  3.50102426e-01,\n",
              "        9.10165669e-01,  8.75967445e-01,  4.14222799e+00,  1.80291861e+00,\n",
              "        1.44679415e+00,  1.95947516e+00,  3.10416019e+00,  3.39192314e-01,\n",
              "        2.15304005e+00,  3.00907727e+00,  2.72594106e+00,  4.85250585e+00,\n",
              "        1.63220692e+00,  2.84890473e+00,  2.64764905e+00,  7.09530594e-01,\n",
              "        9.47179796e-01,  2.45715994e+00,  2.96937812e+00,  1.98361457e+00,\n",
              "        3.30190265e+00,  2.25756836e+00,  2.57393116e+00,  3.33793914e+00,\n",
              "        2.40066999e+00,  1.39980567e+00, -2.62558578e-01,  2.91658199e+00,\n",
              "        3.13673318e+00,  2.25178731e+00,  3.67454016e+00,  3.08779204e+00,\n",
              "        3.98617590e+00,  2.77608514e+00,  2.55881226e+00,  1.11202109e+00,\n",
              "        1.94755280e+00,  1.16609013e+00,  1.15762276e+00,  3.29434759e+00,\n",
              "        3.14796052e+00,  1.64549673e+00,  1.98157299e+00,  9.18217303e-01,\n",
              "        4.55967786e-01,  3.13481128e+00,  3.22544229e+00,  3.04294321e+00,\n",
              "        1.08324605e+00,  1.15936639e-01,  2.14102678e+00,  2.74156809e+00,\n",
              "        1.13851679e+00,  2.70709062e+00,  3.12440741e+00,  2.38841117e+00,\n",
              "        1.91750801e+00,  1.33906714e+00,  3.56706536e+00,  1.51866758e+00,\n",
              "        2.87352753e+00,  3.34039809e-01,  2.02382577e+00,  2.30952084e+00,\n",
              "        1.18555236e+00,  2.36820471e+00,  1.43982348e+00,  2.89771903e+00,\n",
              "        2.42817104e+00,  7.88847687e-01,  1.97586048e+00,  1.32150519e+00,\n",
              "        2.44622946e+00,  2.32135737e+00,  1.98233229e+00,  3.73750659e-01,\n",
              "        2.50700200e+00,  2.31546855e+00,  2.87951505e+00,  4.48326604e+00,\n",
              "        1.77462650e+00,  2.60836351e+00,  2.97890026e+00,  3.30020821e+00,\n",
              "        1.06271994e+00,  3.19132781e+00,  2.94472659e+00,  2.50247252e+00,\n",
              "        1.47504151e+00,  1.99143613e+00,  1.64693467e+00,  3.15192968e+00,\n",
              "        2.16745091e+00,  3.02177310e+00,  2.13285506e+00, -1.68864339e+00,\n",
              "        3.42553914e+00,  1.88232649e+00,  1.17156711e+00,  3.45474255e+00,\n",
              "        3.07659793e+00,  2.41442625e+00,  2.20615161e+00,  2.59253991e+00,\n",
              "        2.12503112e+00,  1.02983562e+00,  2.25635788e+00,  1.84493554e+00,\n",
              "        2.55353773e+00,  3.59014394e-01,  3.13092661e+00,  7.27583188e-02,\n",
              "        2.12278784e+00,  3.16029000e+00,  2.30825103e+00,  2.70904935e+00,\n",
              "        7.24875929e-01, -9.07571596e-02,  7.96820046e-01,  2.19585014e+00,\n",
              "        1.49031544e+00,  1.30170167e+00,  2.52024901e+00,  1.36984533e+00,\n",
              "        3.01582110e+00,  1.28955850e+00,  1.92344862e+00,  2.82414586e+00,\n",
              "        2.78557623e+00,  1.85111749e+00,  3.44142401e+00,  1.14681724e+00,\n",
              "        3.30665636e+00,  2.90721977e+00,  2.49225372e+00, -8.12529204e-01,\n",
              "        1.36863041e+00,  2.29248560e+00,  7.15620400e-01,  3.52608574e+00,\n",
              "        1.72199595e+00,  3.22638381e+00,  1.88824034e+00,  3.26364863e+00,\n",
              "        2.05593670e+00,  2.38749951e+00,  3.66773004e+00,  3.02284789e+00,\n",
              "        9.75597622e-01,  3.18001700e+00,  3.39550770e+00,  1.23608834e+00,\n",
              "        3.58836286e+00,  1.31681490e+00,  2.84406340e+00,  2.98635316e+00,\n",
              "        2.51871407e+00,  2.36640847e+00,  2.68400514e+00,  2.67116106e+00,\n",
              "        3.38012588e+00,  3.07042992e+00,  1.47530854e+00,  1.74744225e+00,\n",
              "        6.90309169e-01,  1.90235806e+00,  3.54023421e+00,  2.62659323e+00,\n",
              "        3.60431224e+00,  1.63164513e+00,  2.32166779e+00,  8.96172406e-01,\n",
              "        2.59667003e+00,  3.23364031e+00,  1.71652663e+00,  3.41697538e+00,\n",
              "        2.57655442e+00,  1.62900126e+00,  3.12007302e+00,  2.58609170e+00,\n",
              "        3.10531464e+00,  2.73514682e+00,  3.30872572e+00,  3.16501725e+00,\n",
              "        2.10251677e+00,  2.62282810e+00,  3.19218660e+00,  1.01938212e+00,\n",
              "        2.97444523e+00,  2.22855580e+00,  2.87806857e+00,  1.60698533e+00,\n",
              "        3.32455075e+00, -8.37217138e-02, -2.39517568e-01,  2.81199289e+00,\n",
              "        2.68634820e+00,  3.31592858e+00,  2.04498756e+00,  2.87037432e+00,\n",
              "        2.96138120e+00,  2.36820126e+00,  3.05849779e+00,  1.63045579e+00,\n",
              "        2.82015675e+00,  2.98196221e+00,  9.89113511e-01,  1.11904490e+00,\n",
              "        1.93157011e+00,  7.72578734e-02,  1.23123229e+00,  7.48654725e-01,\n",
              "        3.94683552e+00,  1.30224478e+00,  2.49916136e+00,  2.39551878e+00,\n",
              "        1.37787700e+00,  2.17878878e+00,  1.64501822e+00,  2.18128133e+00,\n",
              "        3.33605147e+00,  2.38910711e+00,  2.16924501e+00,  1.10501266e+00,\n",
              "        1.72157490e+00,  1.43400952e+00,  3.55620889e+00,  2.43180499e+00,\n",
              "        3.64455001e+00,  3.05475342e+00,  1.71523392e+00,  3.71916425e+00,\n",
              "        2.23695672e+00,  1.73788488e+00,  1.75936258e+00,  3.07453573e+00,\n",
              "        3.09777987e+00,  1.14357341e+00,  3.69746411e+00,  2.55177021e+00,\n",
              "        2.63441765e+00,  2.29315210e+00,  1.27341454e+00,  2.17511904e+00,\n",
              "        2.10275901e+00,  3.33014524e+00,  2.73357713e+00,  1.38403070e+00,\n",
              "        3.87335956e+00,  2.75541917e+00,  1.87022996e+00,  3.45993680e+00,\n",
              "        1.29817295e+00,  2.30422366e+00,  2.80280078e+00,  1.09335166e+00,\n",
              "       -1.21508954e-01,  1.29303633e+00,  1.12231767e+00,  7.13876011e-01,\n",
              "        1.16377127e+00,  1.80651289e+00,  1.97973788e+00,  3.05095768e+00,\n",
              "        2.67195618e+00,  3.34072101e+00,  2.73237676e+00,  3.18281245e+00,\n",
              "        2.25539947e+00,  2.93328583e+00,  2.94759482e+00,  2.14084375e+00,\n",
              "        2.18225781e+00,  4.62126376e-01,  2.07037485e+00,  3.12958014e+00,\n",
              "        2.92738354e+00,  1.03133810e+00,  1.27046377e+00,  2.92466486e+00,\n",
              "        2.98957698e+00,  2.92889524e+00,  3.70750535e+00,  1.36621905e+00,\n",
              "        2.08517367e+00,  3.17602503e+00,  1.65437591e+00,  2.59620536e+00,\n",
              "        8.36659076e-01,  3.82387483e+00,  6.23689951e-01,  2.89343631e+00,\n",
              "        9.24204947e-01,  2.36352235e+00,  2.58197582e+00, -3.67464421e-01])"
            ]
          },
          "metadata": {},
          "execution_count": 46
        }
      ]
    },
    {
      "cell_type": "code",
      "source": [
        "import matplotlib.pyplot as plt"
      ],
      "metadata": {
        "id": "00XXSyUINti3"
      },
      "execution_count": 47,
      "outputs": []
    },
    {
      "cell_type": "code",
      "source": [
        " plt.figure(figsize=(6,8))\n",
        " plt.scatter(pred_test, y_test)\n",
        " plt.xlabel('Predicted')\n",
        " plt.ylabel('Actual')\n",
        " plt.show()"
      ],
      "metadata": {
        "colab": {
          "base_uri": "https://localhost:8080/",
          "height": 696
        },
        "id": "jfn2ho-2N4ml",
        "outputId": "6a576a70-3f98-4968-ffce-22c7806d0178"
      },
      "execution_count": 48,
      "outputs": [
        {
          "output_type": "display_data",
          "data": {
            "text/plain": [
              "<Figure size 600x800 with 1 Axes>"
            ],
            "image/png": "[encoded data removed]"
          },
          "metadata": {}
        }
      ]
    },
    {
      "cell_type": "code",
      "source": [
        "mse = mean_squared_error(y_test, pred_test)"
      ],
      "metadata": {
        "id": "8DCdfpH7ONq8"
      },
      "execution_count": 49,
      "outputs": []
    },
    {
      "cell_type": "code",
      "source": [
        "mse"
      ],
      "metadata": {
        "colab": {
          "base_uri": "https://localhost:8080/"
        },
        "id": "ag_uVrt-Olpn",
        "outputId": "8d555b17-cdf2-4c34-d7c0-d98c29095993"
      },
      "execution_count": 50,
      "outputs": [
        {
          "output_type": "execute_result",
          "data": {
            "text/plain": [
              "0.6556795668886204"
            ]
          },
          "metadata": {},
          "execution_count": 50
        }
      ]
    },
    {
      "cell_type": "code",
      "source": [
        "from sklearn.metrics import mean_absolute_error\n",
        "mae = mean_absolute_error(y_test, pred_test)\n",
        "mae"
      ],
      "metadata": {
        "colab": {
          "base_uri": "https://localhost:8080/"
        },
        "id": "Js8LKtPTOmXi",
        "outputId": "0183f6cc-b060-4355-ca42-db0128710eaa"
      },
      "execution_count": 51,
      "outputs": [
        {
          "output_type": "execute_result",
          "data": {
            "text/plain": [
              "0.636239071573667"
            ]
          },
          "metadata": {},
          "execution_count": 51
        }
      ]
    },
    {
      "cell_type": "code",
      "source": [],
      "metadata": {
        "id": "hoWcaWLqO4zX"
      },
      "execution_count": null,
      "outputs": []
    }
  ]
}